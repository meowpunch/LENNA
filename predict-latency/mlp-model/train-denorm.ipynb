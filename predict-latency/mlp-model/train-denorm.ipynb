{
 "cells": [
  {
   "cell_type": "code",
   "execution_count": 14,
   "metadata": {},
   "outputs": [],
   "source": [
    "import numpy as np # linear algebra\n",
    "import matplotlib.pyplot as plt\n",
    "\n",
    "from sklearn.model_selection import train_test_split\n",
    "%matplotlib inline"
   ]
  },
  {
   "cell_type": "code",
   "execution_count": 15,
   "metadata": {},
   "outputs": [],
   "source": [
    "import torch\n",
    "import torch.nn as nn\n",
    "import torch.nn.functional as F\n",
    "from torch.autograd import Variable\n",
    "\n",
    "import torchvision"
   ]
  },
  {
   "cell_type": "code",
   "execution_count": 16,
   "metadata": {},
   "outputs": [
    {
     "name": "stdout",
     "output_type": "stream",
     "text": [
      "[124957.793   125332.39    132447.77625 ... 209714.78025 261742.30675\n",
      " 292399.655  ]\n",
      "[-1.13230866 -1.12507744 -0.98772211 ...  0.50383923  1.50817799\n",
      "  2.09998707]\n",
      "torch.Size([265449, 28])\n",
      "tensor([[-0.2896,  0.0843, -1.2990,  ...,  0.8849, -1.2998, -0.6544],\n",
      "        [ 1.4671,  0.6977,  1.1269,  ...,  1.4760, -1.2998, -0.6544],\n",
      "        [ 1.4671,  0.5159, -1.2990,  ..., -0.4904, -0.6064,  1.5278],\n",
      "        ...,\n",
      "        [-1.4607, -0.8017, -1.2990,  ...,  1.0554, -0.2596, -0.2180],\n",
      "        [-0.2896, -1.3242, -1.2990,  ..., -0.2631, -1.4732, -0.2180],\n",
      "        [ 0.8816, -0.6426,  0.7803,  ...,  1.3055,  0.2604,  1.5278]],\n",
      "       dtype=torch.float64) tensor([[-1.1323],\n",
      "        [-1.1251],\n",
      "        [-0.9877],\n",
      "        ...,\n",
      "        [ 0.4079],\n",
      "        [-2.2698],\n",
      "        [-0.2207]], dtype=torch.float64)\n",
      "tensor([-1.1323], dtype=torch.float64)\n"
     ]
    }
   ],
   "source": [
    "import set_data as sd\n",
    "\n",
    "# load train set, test set\n",
    "\n",
    "X_train, Y_train, X_test, Y_test, y_min, y_max, y_mean, y_std = sd.set_data(\"data/combined_total_data_3\")\n",
    "\n",
    "print(X_train.shape)\n",
    "print(X_train, Y_train)\n",
    "print(Y_train[0])\n",
    "\n",
    "\n",
    "x_train = Variable(X_train)\n",
    "y_train = Variable(Y_train)\n"
   ]
  },
  {
   "cell_type": "code",
   "execution_count": 17,
   "metadata": {},
   "outputs": [],
   "source": [
    "# regression model\n",
    "\n",
    "class RegressionModel(nn.Module):\n",
    "    def __init__(self):\n",
    "        super(RegressionModel, self).__init__()\n",
    "        self.fc1 = nn.Linear(28, 128) #input dim = 28, hidden = 128\n",
    "        self.drop1 = nn.Dropout(0.5)\n",
    "        self.fc2 = nn.Linear(128, 64)\n",
    "        self.drop2 = nn.Dropout(0.2)\n",
    "        self.fc3 = nn.Linear(64,10)\n",
    "        self.drop3 = nn.Dropout(0.1)\n",
    "        self.fc4 = nn.Linear(10, 1)\n",
    "        \n",
    "\n",
    "    def forward(self, x):\n",
    "        a = F.relu(self.fc1(x))\n",
    "        a = self.drop1(a)\n",
    "        a = F.relu(self.fc2(a))\n",
    "        a = self.drop2(a)\n",
    "        a = F.relu(self.fc3(a))\n",
    "        a = self.drop3(a)\n",
    "        a = self.fc4(a)\n",
    "        \n",
    "        return a"
   ]
  },
  {
   "cell_type": "code",
   "execution_count": 18,
   "metadata": {},
   "outputs": [],
   "source": [
    "# train\n",
    "\n",
    "\n",
    "\n",
    "loss_graph = []"
   ]
  },
  {
   "cell_type": "code",
   "execution_count": null,
   "metadata": {},
   "outputs": [
    {
     "name": "stderr",
     "output_type": "stream",
     "text": [
      "/nfs/home/meowpunch/.local/lib/python3.6/site-packages/torch/nn/_reduction.py:43: UserWarning: size_average and reduce args will be deprecated, please use reduction='mean' instead.\n",
      "  warnings.warn(warning.format(ret))\n"
     ]
    },
    {
     "name": "stdout",
     "output_type": "stream",
     "text": [
      "\n",
      "Start Training...\n",
      "\n",
      "epoch [0/300], loss 0.11512054778359955\n",
      "epoch [10/300], loss 0.12005181259973226\n",
      "epoch [20/300], loss 0.11640847556005601\n",
      "epoch [30/300], loss 0.11414825694478344\n",
      "epoch [40/300], loss 0.1122312375810523\n",
      "epoch [50/300], loss 0.11115776799597755\n",
      "epoch [60/300], loss 0.11085334883729103\n",
      "epoch [70/300], loss 0.10990944390618924\n",
      "epoch [80/300], loss 0.10935046119333097\n",
      "epoch [90/300], loss 0.10824091594802514\n",
      "epoch [100/300], loss 0.1075859322848086\n",
      "epoch [110/300], loss 0.1070629240109791\n",
      "epoch [120/300], loss 0.10625146224997889\n",
      "epoch [130/300], loss 0.10559119074374827\n",
      "epoch [140/300], loss 0.10521012610996312\n",
      "epoch [150/300], loss 0.10502643296031956\n",
      "epoch [160/300], loss 0.10459803411380167\n",
      "epoch [170/300], loss 0.10457420324456927\n",
      "epoch [180/300], loss 0.10427457973783254\n",
      "epoch [190/300], loss 0.10436796672317096\n",
      "epoch [200/300], loss 0.10346956061880651\n"
     ]
    }
   ],
   "source": [
    "epochs = 300\n",
    "learningrate = 0.01\n",
    "\n",
    "model = RegressionModel()\n",
    "model.load_state_dict(torch.load('./lenna_m.pth'))\n",
    "criterion = nn.SmoothL1Loss(size_average = True) \n",
    "optimizer = torch.optim.Adam(model.parameters(), lr=learningrate)\n",
    "\n",
    "print('\\nStart Training...\\n')\n",
    "\n",
    "for epoch in range(epochs+1):\n",
    "    # forward pass\n",
    "    pred_y = model(x_train.float())\n",
    "    \n",
    "\n",
    "    # compute and print loss\n",
    "    loss = criterion(pred_y.double(), y_train)\n",
    "\n",
    "    optimizer.zero_grad()\n",
    "    loss.backward()\n",
    "    optimizer.step()\n",
    "    \n",
    "    loss_graph.append(loss.item())\n",
    "    \n",
    "    if epoch % 10 == 0:\n",
    "        print ('epoch [{}/{}], loss {}'.format(epoch, epochs, loss.item())) # or loss item\n",
    "    "
   ]
  },
  {
   "cell_type": "code",
   "execution_count": 20,
   "metadata": {},
   "outputs": [],
   "source": [
    "torch.save(model.state_dict(), \"./lenna_m.pth\")"
   ]
  },
  {
   "cell_type": "code",
   "execution_count": 21,
   "metadata": {},
   "outputs": [
    {
     "data": {
      "image/png": "[encoded data removed]",
      "text/plain": [
       "<Figure size 432x288 with 1 Axes>"
      ]
     },
     "metadata": {
      "needs_background": "light"
     },
     "output_type": "display_data"
    }
   ],
   "source": [
    "fig = plt.figure()\n",
    "plt.plot(range(epochs+1), loss_graph, label = 'loss', color = 'black')\n",
    "plt.xlabel('epochs')\n",
    "plt.ylabel('loss')\n",
    "plt.grid(linestyle = '--', color = 'lavender')\n",
    "plt.show()"
   ]
  },
  {
   "cell_type": "code",
   "execution_count": 10,
   "metadata": {},
   "outputs": [
    {
     "name": "stdout",
     "output_type": "stream",
     "text": [
      "Test loss after Training 0.39574193042050365\n"
     ]
    }
   ],
   "source": [
    "x_test = Variable(X_test)\n",
    "y_test = Variable(Y_test)\n",
    "\n",
    "model.eval()\n",
    "y_pred = model(x_test.float())\n",
    "after_train = criterion(y_pred.double(), y_test) \n",
    "print('Test loss after Training' , after_train.item())"
   ]
  },
  {
   "cell_type": "code",
   "execution_count": 11,
   "metadata": {},
   "outputs": [
    {
     "name": "stdout",
     "output_type": "stream",
     "text": [
      "tensor([[-0.0682],\n",
      "        [-0.0268],\n",
      "        [ 1.6481],\n",
      "        ...,\n",
      "        [ 0.4937],\n",
      "        [ 1.4850],\n",
      "        [ 2.0692]], dtype=torch.float64)\n",
      "Test loss after Training 0.39574193042050365\n"
     ]
    },
    {
     "name": "stderr",
     "output_type": "stream",
     "text": [
      "/nfs/home/meowpunch/.local/lib/python3.6/site-packages/torch/nn/_reduction.py:43: UserWarning: size_average and reduce args will be deprecated, please use reduction='mean' instead.\n",
      "  warnings.warn(warning.format(ret))\n"
     ]
    }
   ],
   "source": [
    "x_test = Variable(X_test)\n",
    "y_test = Variable(Y_test)\n",
    "print(y_test)\n",
    "criterion = nn.SmoothL1Loss(size_average = True) \n",
    "\n",
    "new_model= RegressionModel()\n",
    "new_model.load_state_dict(torch.load('./lenna_m.pth'))\n",
    "    \n",
    "new_model.eval()\n",
    "\n",
    "y_pred = new_model(x_test.float())\n",
    "after_train = criterion(y_pred.double(), y_test) \n",
    "print('Test loss after Training' , after_train.item())"
   ]
  },
  {
   "cell_type": "code",
   "execution_count": 13,
   "metadata": {},
   "outputs": [
    {
     "name": "stdout",
     "output_type": "stream",
     "text": [
      "tensor([[-0.0682],\n",
      "        [-0.0268],\n",
      "        [ 1.6481],\n",
      "        ...,\n",
      "        [ 0.4937],\n",
      "        [ 1.4850],\n",
      "        [ 2.0692]], dtype=torch.float64)\n",
      "tensor([[-0.2246],\n",
      "        [ 0.2648],\n",
      "        [ 1.3205],\n",
      "        ...,\n",
      "        [-0.8458],\n",
      "        [-0.1367],\n",
      "        [ 0.0344]], grad_fn=<AddmmBackward>)\n",
      "-0.22463800013065338\n",
      "tensor([[180228.8594],\n",
      "        [182403.0312],\n",
      "        [270300.9375],\n",
      "        ...,\n",
      "        [209714.7812],\n",
      "        [261742.3125],\n",
      "        [292399.6562]])\n",
      "tensor([[172018.5781],\n",
      "        [197702.6562],\n",
      "        [253107.8906],\n",
      "        ...,\n",
      "        [139420.5156],\n",
      "        [176632.7812],\n",
      "        [185611.2188]])\n"
     ]
    }
   ],
   "source": [
    "def denormalize(data, d_min, d_max, d_mean, d_std):\n",
    "    \n",
    "    tmp_data = torch.empty([data.shape[0], data.shape[1]])\n",
    "    \n",
    "    for i in range(data.shape[0]):\n",
    "        e = float(data[i])\n",
    "        \n",
    "        tmp_data[i] = (e*d_std + d_mean)\n",
    "\n",
    "    return tmp_data\n",
    "\n",
    "print(y_test)\n",
    "print(y_pred)\n",
    "print(float(y_pred[0]))\n",
    "# print(y_test.float())\n",
    "# print(y_pred[0])\n",
    "\n",
    "dy_test = denormalize(y_test, y_min, y_max, y_mean, y_std)\n",
    "dy_pred = denormalize(y_pred, y_min, y_max, y_mean, y_std)\n",
    "\n",
    "print(dy_test)\n",
    "print(dy_pred)\n",
    "\n"
   ]
  },
  {
   "cell_type": "code",
   "execution_count": null,
   "metadata": {},
   "outputs": [],
   "source": []
  }
 ],
 "metadata": {
  "kernelspec": {
   "display_name": "LENNA!",
   "language": "python",
   "name": "lenna"
  },
  "language_info": {
   "codemirror_mode": {
    "name": "ipython",
    "version": 3
   },
   "file_extension": ".py",
   "mimetype": "text/x-python",
   "name": "python",
   "nbconvert_exporter": "python",
   "pygments_lexer": "ipython3",
   "version": "3.6.10"
  }
 },
 "nbformat": 4,
 "nbformat_minor": 4
}
