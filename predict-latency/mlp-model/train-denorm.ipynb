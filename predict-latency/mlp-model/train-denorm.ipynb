{
 "cells": [
  {
   "cell_type": "code",
   "execution_count": 3,
   "metadata": {},
   "outputs": [],
   "source": [
    "import numpy as np # linear algebra\n",
    "import matplotlib.pyplot as plt\n",
    "\n",
    "from sklearn.model_selection import train_test_split\n",
    "%matplotlib inline"
   ]
  },
  {
   "cell_type": "code",
   "execution_count": 4,
   "metadata": {},
   "outputs": [],
   "source": [
    "import torch\n",
    "import torch.nn as nn\n",
    "import torch.nn.functional as F\n",
    "from torch.autograd import Variable\n",
    "\n",
    "import torchvision"
   ]
  },
  {
   "cell_type": "code",
   "execution_count": 5,
   "metadata": {},
   "outputs": [
    {
     "name": "stdout",
     "output_type": "stream",
     "text": [
      "----------normalize--------------\n",
      " X_Data:  [[0.4        0.52302632 0.10526316 ... 0.75657895 0.10526316 0.28571429]\n",
      " [1.         0.70065789 0.84210526 ... 0.92763158 0.10526316 0.28571429]\n",
      " [1.         0.64802632 0.10526316 ... 0.35855263 0.31578947 1.        ]\n",
      " ...\n",
      " [0.2        0.25986842 0.73684211 ... 0.34868421 0.15789474 0.71428571]\n",
      " [0.4        0.89473684 0.57894737 ... 0.10855263 0.26315789 0.28571429]\n",
      " [1.         0.01315789 0.36842105 ... 0.11184211 0.42105263 0.85714286]]\n",
      "[-1.13230866 -1.12507744 -0.98772211 ...  0.50383923  1.50817799\n",
      "  2.09998707]\n"
     ]
    }
   ],
   "source": [
    "import set_data as sd\n",
    "\n",
    "# load train set, test set\n",
    "\n",
    "X_train, Y_train, X_test, Y_test, y_min, y_max, y_mean, y_std = sd.set_data(\"data/combined_total_data_3\")\n",
    "\n",
    "# print(X_train.shape)\n",
    "# print(X_train, Y_train)\n",
    "# print(Y_train[0])\n",
    "\n",
    "# y_test = Variable(Y_test)\n",
    "# for i in range(20):\n",
    "#     print(y_test)\n",
    "\n",
    "x_train = Variable(X_train)\n",
    "y_train = Variable(Y_train)\n"
   ]
  },
  {
   "cell_type": "code",
   "execution_count": 9,
   "metadata": {},
   "outputs": [],
   "source": [
    "# regression model\n",
    "\n",
    "class RegressionModel(nn.Module):\n",
    "    def __init__(self):\n",
    "        super(RegressionModel, self).__init__()\n",
    "        self.fc1 = nn.Linear(28, 64) #input dim = 28, hidden = 128\n",
    "        self.drop1 = nn.Dropout(0.5)\n",
    "        self.fc2 = nn.Linear(64, 10)\n",
    "        self.drop2 = nn.Dropout(0.2)\n",
    "        self.fc3 = nn.Linear(10,5)\n",
    "        self.drop3 = nn.Dropout(0.1)\n",
    "        self.fc4 = nn.Linear(5, 1)\n",
    "        \n",
    "\n",
    "    def forward(self, x):\n",
    "        a = F.relu(self.fc1(x))\n",
    "        a = self.drop1(a)\n",
    "        a = F.relu(self.fc2(a))\n",
    "        a = self.drop2(a)\n",
    "        a = F.relu(self.fc3(a))\n",
    "        a = self.drop3(a)\n",
    "        a = self.fc4(a)\n",
    "        \n",
    "        return a"
   ]
  },
  {
   "cell_type": "code",
   "execution_count": 12,
   "metadata": {},
   "outputs": [],
   "source": [
    "# train\n",
    "\n",
    "\n",
    "\n",
    "loss_graph = []"
   ]
  },
  {
   "cell_type": "code",
   "execution_count": 24,
   "metadata": {},
   "outputs": [
    {
     "name": "stdout",
     "output_type": "stream",
     "text": [
      "\n",
      "Start Training...\n",
      "\n",
      "epoch [0/1000], loss 0.13995100773763808\n",
      "epoch [10/1000], loss 0.1362400060218599\n",
      "epoch [20/1000], loss 0.13358147174520288\n",
      "epoch [30/1000], loss 0.13222548755242616\n",
      "epoch [40/1000], loss 0.13065902637749507\n",
      "epoch [50/1000], loss 0.1291801018142287\n",
      "epoch [60/1000], loss 0.1278709227412643\n",
      "epoch [70/1000], loss 0.12695937392654155\n",
      "epoch [80/1000], loss 0.1261952611650045\n",
      "epoch [90/1000], loss 0.1248123437003774\n",
      "epoch [100/1000], loss 0.1236742959542715\n",
      "epoch [110/1000], loss 0.12284101533840543\n",
      "epoch [120/1000], loss 0.12266116312966589\n",
      "epoch [130/1000], loss 0.1218202143080206\n",
      "epoch [140/1000], loss 0.1217040526391194\n",
      "epoch [150/1000], loss 0.12130125612189778\n",
      "epoch [160/1000], loss 0.12100875280669579\n",
      "epoch [170/1000], loss 0.12091911800673878\n",
      "epoch [180/1000], loss 0.1205693170075592\n",
      "epoch [190/1000], loss 0.12033643079578978\n",
      "epoch [200/1000], loss 0.12040619647799411\n",
      "epoch [210/1000], loss 0.12050850258727153\n",
      "epoch [220/1000], loss 0.12033094555868669\n",
      "epoch [230/1000], loss 0.12010887022877154\n",
      "epoch [240/1000], loss 0.119447300221757\n",
      "epoch [250/1000], loss 0.11996147455779539\n",
      "epoch [260/1000], loss 0.11943847021880452\n",
      "epoch [270/1000], loss 0.11953701435619922\n",
      "epoch [280/1000], loss 0.12009867118891436\n",
      "epoch [290/1000], loss 0.1199536531109306\n",
      "epoch [300/1000], loss 0.11954588214455611\n",
      "epoch [310/1000], loss 0.11929055302616055\n",
      "epoch [320/1000], loss 0.11957824148335762\n",
      "epoch [330/1000], loss 0.12002849238946951\n",
      "epoch [340/1000], loss 0.11961593582928264\n",
      "epoch [350/1000], loss 0.11985134349771279\n",
      "epoch [360/1000], loss 0.11969051036598502\n",
      "epoch [370/1000], loss 0.11943076549357917\n",
      "epoch [380/1000], loss 0.11979470799297547\n",
      "epoch [390/1000], loss 0.11949648123383173\n",
      "epoch [400/1000], loss 0.12010335999249545\n",
      "epoch [410/1000], loss 0.11965866592976444\n",
      "epoch [420/1000], loss 0.11958713284753582\n",
      "epoch [430/1000], loss 0.11906240462598276\n",
      "epoch [440/1000], loss 0.1192296704001109\n",
      "epoch [450/1000], loss 0.11955151000840002\n",
      "epoch [460/1000], loss 0.118742018567424\n",
      "epoch [470/1000], loss 0.1191242922106767\n",
      "epoch [480/1000], loss 0.11867606502403208\n",
      "epoch [490/1000], loss 0.11946020277390365\n",
      "epoch [500/1000], loss 0.11940188384807573\n",
      "epoch [510/1000], loss 0.11888438622949178\n",
      "epoch [520/1000], loss 0.11894926081842828\n",
      "epoch [530/1000], loss 0.11873516409931645\n",
      "epoch [540/1000], loss 0.11908708758704549\n",
      "epoch [550/1000], loss 0.11905685849166123\n",
      "epoch [560/1000], loss 0.11882576429344234\n",
      "epoch [570/1000], loss 0.11867443501948316\n",
      "epoch [580/1000], loss 0.1192588457079028\n",
      "epoch [590/1000], loss 0.11926632996135111\n",
      "epoch [600/1000], loss 0.1188827657780257\n",
      "epoch [610/1000], loss 0.11938417242905099\n",
      "epoch [620/1000], loss 0.11883668854747588\n",
      "epoch [630/1000], loss 0.11855028119882227\n",
      "epoch [640/1000], loss 0.11908040210009294\n",
      "epoch [650/1000], loss 0.11871771584978458\n",
      "epoch [660/1000], loss 0.11867285106265213\n",
      "epoch [670/1000], loss 0.11910876792957988\n",
      "epoch [680/1000], loss 0.11901197956888422\n",
      "epoch [690/1000], loss 0.11899167365939836\n",
      "epoch [700/1000], loss 0.11924976794825394\n",
      "epoch [710/1000], loss 0.1186196882407871\n",
      "epoch [720/1000], loss 0.11871170898543246\n",
      "epoch [730/1000], loss 0.11918968986156711\n",
      "epoch [740/1000], loss 0.11875694565105566\n",
      "epoch [750/1000], loss 0.11884234552461115\n",
      "epoch [760/1000], loss 0.11903358266931181\n",
      "epoch [770/1000], loss 0.1185819679553901\n",
      "epoch [780/1000], loss 0.1186546496652485\n",
      "epoch [790/1000], loss 0.11939986761934356\n",
      "epoch [800/1000], loss 0.1185883083358551\n",
      "epoch [810/1000], loss 0.11869881252034847\n",
      "epoch [820/1000], loss 0.1190007360694603\n",
      "epoch [830/1000], loss 0.11830115048677194\n",
      "epoch [840/1000], loss 0.11898120642778817\n",
      "epoch [850/1000], loss 0.11895958538311865\n",
      "epoch [860/1000], loss 0.1189240090744597\n",
      "epoch [870/1000], loss 0.11878825299790317\n",
      "epoch [880/1000], loss 0.1189335028629082\n",
      "epoch [890/1000], loss 0.11837884648996219\n",
      "epoch [900/1000], loss 0.11918926462318334\n",
      "epoch [910/1000], loss 0.11892842689849667\n",
      "epoch [920/1000], loss 0.11857005273809845\n",
      "epoch [930/1000], loss 0.11849367618987533\n",
      "epoch [940/1000], loss 0.11856261486553388\n",
      "epoch [950/1000], loss 0.11885546165807517\n",
      "epoch [960/1000], loss 0.11877022089298889\n",
      "epoch [970/1000], loss 0.11820693619846549\n",
      "epoch [980/1000], loss 0.11850454932555196\n",
      "epoch [990/1000], loss 0.11851784780570063\n",
      "epoch [1000/1000], loss 0.11849189166038404\n"
     ]
    }
   ],
   "source": [
    "epochs = 1000\n",
    "learningrate = 0.01\n",
    "\n",
    "model = RegressionModel()\n",
    "model.load_state_dict(torch.load('./lenna_d.pth'))\n",
    "criterion = nn.SmoothL1Loss(size_average = True) \n",
    "optimizer = torch.optim.Adam(model.parameters(), lr=learningrate)\n",
    "\n",
    "print('\\nStart Training...\\n')\n",
    "\n",
    "for epoch in range(epochs+1):\n",
    "    # forward pass\n",
    "    pred_y = model(x_train.float())\n",
    "    \n",
    "\n",
    "    # compute and print loss\n",
    "    loss = criterion(pred_y.double(), y_train)\n",
    "\n",
    "    optimizer.zero_grad()\n",
    "    loss.backward()\n",
    "    optimizer.step()\n",
    "    \n",
    "    loss_graph.append(loss.item())\n",
    "    \n",
    "    if epoch % 10 == 0:\n",
    "        print ('epoch [{}/{}], loss {}'.format(epoch, epochs, loss.item())) # or loss item\n",
    "    "
   ]
  },
  {
   "cell_type": "code",
   "execution_count": 25,
   "metadata": {},
   "outputs": [],
   "source": [
    "torch.save(model.state_dict(), \"./lenna_d.pth\")"
   ]
  },
  {
   "cell_type": "code",
   "execution_count": 31,
   "metadata": {},
   "outputs": [
    {
     "data": {
      "image/png": "[encoded data removed]",
      "text/plain": [
       "<Figure size 432x288 with 1 Axes>"
      ]
     },
     "metadata": {
      "needs_background": "light"
     },
     "output_type": "display_data"
    }
   ],
   "source": [
    "fig = plt.figure()\n",
    "plt.plot(range(epochs+102), loss_graph, label = 'loss', color = 'black')\n",
    "plt.xlabel('epochs')\n",
    "plt.ylabel('loss')\n",
    "plt.grid(linestyle = '--', color = 'lavender')\n",
    "plt.show()"
   ]
  },
  {
   "cell_type": "code",
   "execution_count": 32,
   "metadata": {},
   "outputs": [
    {
     "name": "stdout",
     "output_type": "stream",
     "text": [
      "Test loss after Training 0.2493415259671085\n"
     ]
    }
   ],
   "source": [
    "x_test = Variable(X_test)\n",
    "y_test = Variable(Y_test)\n",
    "\n",
    "model.eval()\n",
    "y_pred = model(x_test.float())\n",
    "after_train = criterion(y_pred.double(), y_test) \n",
    "print('Test loss after Training' , after_train.item())"
   ]
  },
  {
   "cell_type": "code",
   "execution_count": 33,
   "metadata": {},
   "outputs": [
    {
     "name": "stdout",
     "output_type": "stream",
     "text": [
      "tensor([[-0.1933],\n",
      "        [ 0.5295],\n",
      "        [-0.2456],\n",
      "        ...,\n",
      "        [ 0.5038],\n",
      "        [ 1.5082],\n",
      "        [ 2.1000]], dtype=torch.float64)\n",
      "Test loss after Training 0.2493415259671085\n"
     ]
    },
    {
     "name": "stderr",
     "output_type": "stream",
     "text": [
      "/nfs/home/meowpunch/.local/lib/python3.6/site-packages/torch/nn/_reduction.py:43: UserWarning: size_average and reduce args will be deprecated, please use reduction='mean' instead.\n",
      "  warnings.warn(warning.format(ret))\n"
     ]
    }
   ],
   "source": [
    "x_test = Variable(X_test)\n",
    "y_test = Variable(Y_test)\n",
    "print(y_test)\n",
    "criterion = nn.SmoothL1Loss(size_average = True) \n",
    "\n",
    "new_model= RegressionModel()\n",
    "new_model.load_state_dict(torch.load('./lenna_d.pth'))\n",
    "    \n",
    "new_model.eval()\n",
    "\n",
    "y_pred = new_model(x_test.float())\n",
    "after_train = criterion(y_pred.double(), y_test) \n",
    "print('Test loss after Training' , after_train.item())"
   ]
  },
  {
   "cell_type": "code",
   "execution_count": 34,
   "metadata": {},
   "outputs": [
    {
     "name": "stdout",
     "output_type": "stream",
     "text": [
      "tensor([-0.1933], dtype=torch.float64) tensor([0.1130], grad_fn=<SelectBackward>)\n",
      "tensor([0.5295], dtype=torch.float64) tensor([0.7504], grad_fn=<SelectBackward>)\n",
      "tensor([-0.2456], dtype=torch.float64) tensor([0.1610], grad_fn=<SelectBackward>)\n",
      "tensor([0.0414], dtype=torch.float64) tensor([0.4066], grad_fn=<SelectBackward>)\n",
      "tensor([-0.9015], dtype=torch.float64) tensor([-0.4868], grad_fn=<SelectBackward>)\n",
      "tensor([-0.4572], dtype=torch.float64) tensor([-0.1539], grad_fn=<SelectBackward>)\n",
      "tensor([-0.1019], dtype=torch.float64) tensor([0.0220], grad_fn=<SelectBackward>)\n",
      "tensor([1.5011], dtype=torch.float64) tensor([0.7785], grad_fn=<SelectBackward>)\n",
      "tensor([-0.4985], dtype=torch.float64) tensor([-0.2176], grad_fn=<SelectBackward>)\n",
      "tensor([0.8036], dtype=torch.float64) tensor([0.9932], grad_fn=<SelectBackward>)\n",
      "tensor([1.1582], dtype=torch.float64) tensor([1.2911], grad_fn=<SelectBackward>)\n",
      "tensor([-0.1585], dtype=torch.float64) tensor([-0.2244], grad_fn=<SelectBackward>)\n",
      "tensor([-0.5299], dtype=torch.float64) tensor([-0.4061], grad_fn=<SelectBackward>)\n",
      "tensor([-0.3164], dtype=torch.float64) tensor([-0.4030], grad_fn=<SelectBackward>)\n",
      "tensor([0.1469], dtype=torch.float64) tensor([-0.0681], grad_fn=<SelectBackward>)\n",
      "tensor([0.6266], dtype=torch.float64) tensor([0.5761], grad_fn=<SelectBackward>)\n",
      "tensor([-0.3047], dtype=torch.float64) tensor([-0.3495], grad_fn=<SelectBackward>)\n",
      "tensor([-0.8124], dtype=torch.float64) tensor([-0.3725], grad_fn=<SelectBackward>)\n",
      "tensor([-2.2230], dtype=torch.float64) tensor([-1.3405], grad_fn=<SelectBackward>)\n",
      "tensor([-1.4274], dtype=torch.float64) tensor([-0.8944], grad_fn=<SelectBackward>)\n",
      "tensor([173599.0938]) tensor([189468.0469])\n",
      "tensor([211044.1406]) tensor([222484.9844])\n",
      "tensor([170892.2031]) tensor([191953.1406])\n",
      "tensor([185761.7188]) tensor([204677.1094])\n",
      "tensor([136916.3906]) tensor([158396.9844])\n",
      "tensor([159931.5781]) tensor([175641.1875])\n",
      "tensor([178334.2500]) tensor([184753.9844])\n",
      "tensor([261374.8281]) tensor([223941.7188])\n",
      "tensor([157791.0938]) tensor([172339.9219])\n",
      "tensor([225242.0938]) tensor([235063.0625])\n",
      "tensor([243611.4062]) tensor([250497.5156])\n",
      "tensor([175406.0938]) tensor([171990.5312])\n",
      "tensor([156165.0938]) tensor([162578.6875])\n",
      "tensor([167223.8438]) tensor([162735.5938])\n",
      "tensor([191224.5469]) tensor([180085.0625])\n",
      "tensor([216072.8125]) tensor([213457.2500])\n",
      "tensor([167831.0781]) tensor([165508.8906])\n",
      "tensor([141528.6562]) tensor([164315.8438])\n",
      "tensor([68457.1328]) tensor([114173.2266])\n",
      "tensor([109672.3281]) tensor([137284.4062])\n"
     ]
    }
   ],
   "source": [
    "def denormalize(data, d_min, d_max, d_mean, d_std):\n",
    "    \n",
    "    tmp_data = torch.empty([data.shape[0], data.shape[1]])\n",
    "    \n",
    "    for i in range(data.shape[0]):\n",
    "        e = float(data[i])\n",
    "        \n",
    "        #tmp_data[i] = (e*d_std + d_mean)\n",
    "        tmp_data[i] = (e*d_std + d_mean)*(d_max - d_min) + d_min\n",
    "\n",
    "    return tmp_data\n",
    "\n",
    "for i in range(20):\n",
    "    print(y_test[i], y_pred[i])\n",
    "# print(float(y_pred[0]))\n",
    "# print(y_test.float())\n",
    "# print(y_pred[0])\n",
    "\n",
    "dy_test = denormalize(y_test, y_min, y_max, y_mean, y_std)\n",
    "dy_pred = denormalize(y_pred, y_min, y_max, y_mean, y_std)\n",
    "\n",
    "for i in range(20):\n",
    "    print(dy_test[i], dy_pred[i])\n",
    "# print(dy_test)\n",
    "# print(dy_pred)\n",
    "\n"
   ]
  },
  {
   "cell_type": "code",
   "execution_count": null,
   "metadata": {},
   "outputs": [],
   "source": []
  }
 ],
 "metadata": {
  "kernelspec": {
   "display_name": "LENNA!",
   "language": "python",
   "name": "lenna"
  }
 },
 "nbformat": 4,
 "nbformat_minor": 4
}
