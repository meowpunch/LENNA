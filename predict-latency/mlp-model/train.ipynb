{
 "cells": [
  {
   "cell_type": "code",
   "execution_count": 1,
   "metadata": {},
   "outputs": [],
   "source": [
    "import numpy as np # linear algebra\n",
    "import matplotlib.pyplot as plt\n",
    "\n",
    "from sklearn.model_selection import train_test_split\n",
    "%matplotlib inline"
   ]
  },
  {
   "cell_type": "code",
   "execution_count": 2,
   "metadata": {},
   "outputs": [],
   "source": [
    "import torch\n",
    "import torch.nn as nn\n",
    "import torch.nn.functional as F\n",
    "from torch.autograd import Variable\n",
    "\n",
    "import torchvision"
   ]
  },
  {
   "cell_type": "code",
   "execution_count": 3,
   "metadata": {},
   "outputs": [],
   "source": [
    "# TODO\n",
    "\n",
    "class RegressionModel(nn.Module):\n",
    "    def __init__(self):\n",
    "        super(RegressionModel, self).__init__()\n",
    "        self.fc1 = nn.Linear(28, 128) #input dim = 28, hidden = 300\n",
    "        self.fc2 = nn.Linear(128, 64)\n",
    "        self.fc3 = nn.Linear(64, 32)\n",
    "        self.fc4 = nn.Linear(32, 1)\n",
    "        \n",
    "\n",
    "    def forward(self, x):\n",
    "        a = F.relu(self.fc1(x))\n",
    "        a = F.relu(self.fc2(a))\n",
    "        a = F.relu(self.fc3(a))\n",
    "        a = F.relu(self.fc4(a))\n",
    "        \n",
    "        return a"
   ]
  },
  {
   "cell_type": "code",
   "execution_count": 4,
   "metadata": {},
   "outputs": [],
   "source": [
    "import set_data as sd\n",
    "\n",
    "# load train set, test set\n",
    "\n",
    "X_train, Y_train, X_test, Y_test = sd.set_data(\"training_data\")\n",
    "\n",
    "x_train = Variable(X_train)\n",
    "y_train = Variable(Y_train)\n"
   ]
  },
  {
   "cell_type": "code",
   "execution_count": 5,
   "metadata": {},
   "outputs": [
    {
     "name": "stderr",
     "output_type": "stream",
     "text": [
      "/nfs/home/kit7777777t/anaconda3/envs/LENNA/lib/python3.6/site-packages/torch/nn/_reduction.py:43: UserWarning: size_average and reduce args will be deprecated, please use reduction='mean' instead.\n",
      "  warnings.warn(warning.format(ret))\n"
     ]
    },
    {
     "name": "stdout",
     "output_type": "stream",
     "text": [
      "\n",
      "Start Training...\n",
      "\n",
      "epoch [0/5000], loss 230033.6895\n",
      "epoch [100/5000], loss 229762.5752\n",
      "epoch [200/5000], loss 223097.4322\n",
      "epoch [300/5000], loss 186664.3298\n",
      "epoch [400/5000], loss 109266.846\n",
      "epoch [500/5000], loss 75781.9369\n",
      "epoch [600/5000], loss 74239.0869\n",
      "epoch [700/5000], loss 73813.5772\n",
      "epoch [800/5000], loss 73457.8888\n",
      "epoch [900/5000], loss 73120.2305\n",
      "epoch [1000/5000], loss 72800.7779\n",
      "epoch [1100/5000], loss 72498.8848\n",
      "epoch [1200/5000], loss 72218.9104\n",
      "epoch [1300/5000], loss 71958.7558\n",
      "epoch [1400/5000], loss 71719.8149\n",
      "epoch [1500/5000], loss 71496.039\n",
      "epoch [1600/5000], loss 71287.2941\n",
      "epoch [1700/5000], loss 71092.3028\n",
      "epoch [1800/5000], loss 70898.7503\n",
      "epoch [1900/5000], loss 70713.4005\n",
      "epoch [2000/5000], loss 70537.8115\n",
      "epoch [2100/5000], loss 70371.9144\n",
      "epoch [2200/5000], loss 70212.8553\n",
      "epoch [2300/5000], loss 70061.5787\n",
      "epoch [2400/5000], loss 69912.8085\n",
      "epoch [2500/5000], loss 69765.9314\n",
      "epoch [2600/5000], loss 69623.252\n",
      "epoch [2700/5000], loss 69482.9071\n",
      "epoch [2800/5000], loss 69343.5083\n",
      "epoch [2900/5000], loss 69203.1902\n",
      "epoch [3000/5000], loss 69060.5362\n",
      "epoch [3100/5000], loss 68916.487\n",
      "epoch [3200/5000], loss 68769.4116\n",
      "epoch [3300/5000], loss 68621.1608\n",
      "epoch [3400/5000], loss 68470.3305\n",
      "epoch [3500/5000], loss 68316.9\n",
      "epoch [3600/5000], loss 68161.5199\n",
      "epoch [3700/5000], loss 68003.4388\n",
      "epoch [3800/5000], loss 67841.4749\n",
      "epoch [3900/5000], loss 67675.673\n",
      "epoch [4000/5000], loss 67507.0223\n",
      "epoch [4100/5000], loss 67333.6996\n",
      "epoch [4200/5000], loss 67156.3287\n",
      "epoch [4300/5000], loss 66971.7121\n",
      "epoch [4400/5000], loss 66778.3347\n",
      "epoch [4500/5000], loss 66570.4991\n",
      "epoch [4600/5000], loss 66347.6757\n",
      "epoch [4700/5000], loss 66111.6672\n",
      "epoch [4800/5000], loss 65861.287\n",
      "epoch [4900/5000], loss 65597.5394\n",
      "epoch [5000/5000], loss 65318.9229\n"
     ]
    }
   ],
   "source": [
    "# train\n",
    "# hyperparameter\n",
    "\n",
    "epochs = 5000\n",
    "learningrate = 1e-3\n",
    "# batch_size\n",
    "# hidden_layer_size = 128\n",
    "\n",
    "model = RegressionModel()\n",
    "criterion = nn.MSELoss(size_average = True, reduction='mean') \n",
    "optimizer = torch.optim.Adam(model.parameters(), lr=learningrate)\n",
    "\n",
    "print('\\nStart Training...\\n')\n",
    "\n",
    "for epoch in range(epochs+1):\n",
    "    # forward pass\n",
    "    pred_y = model(x_train.float()) # 임의로 type convert \n",
    "    \n",
    "\n",
    "    # compute and print loss\n",
    "    loss = criterion(pred_y.double(), y_train) # 임의로 type convert\n",
    "\n",
    "    optimizer.zero_grad()\n",
    "    loss.backward()\n",
    "    optimizer.step()\n",
    "    \n",
    "    tmp_loss = []\n",
    "    tmp_loss.append(loss.item())\n",
    "    \n",
    "    mbl = np.mean(np.sqrt(tmp_loss)).round(4)\n",
    "    \n",
    "    if epoch % 100 == 0:\n",
    "        print ('epoch [{}/{}], loss {}'.format(epoch, epochs, mbl)) # or loss item\n",
    "    "
   ]
  },
  {
   "cell_type": "code",
   "execution_count": 6,
   "metadata": {},
   "outputs": [],
   "source": [
    "torch.save(model.state_dict(), \"model.pt\")"
   ]
  },
  {
   "cell_type": "code",
   "execution_count": 7,
   "metadata": {},
   "outputs": [
    {
     "name": "stdout",
     "output_type": "stream",
     "text": [
      "\n",
      "Start Testing...\n",
      "\n"
     ]
    },
    {
     "data": {
      "text/plain": [
       "RegressionModel(\n",
       "  (fc1): Linear(in_features=28, out_features=128, bias=True)\n",
       "  (fc2): Linear(in_features=128, out_features=64, bias=True)\n",
       "  (fc3): Linear(in_features=64, out_features=32, bias=True)\n",
       "  (fc4): Linear(in_features=32, out_features=1, bias=True)\n",
       ")"
      ]
     },
     "execution_count": 7,
     "metadata": {},
     "output_type": "execute_result"
    }
   ],
   "source": [
    "# test\n",
    "\n",
    "print ('\\nStart Testing...\\n')\n",
    "\n",
    "model.eval()\n",
    "\n",
    "# calculate R squared\n",
    "# TODO"
   ]
  },
  {
   "cell_type": "code",
   "execution_count": 9,
   "metadata": {},
   "outputs": [],
   "source": [
    "# visualize : TODO"
   ]
  },
  {
   "cell_type": "code",
   "execution_count": null,
   "metadata": {},
   "outputs": [],
   "source": []
  }
 ],
 "metadata": {
  "kernelspec": {
   "display_name": "LENNA!",
   "language": "python",
   "name": "lenna"
  },
  "language_info": {
   "codemirror_mode": {
    "name": "ipython",
    "version": 3
   },
   "file_extension": ".py",
   "mimetype": "text/x-python",
   "name": "python",
   "nbconvert_exporter": "python",
   "pygments_lexer": "ipython3",
   "version": "3.6.10"
  }
 },
 "nbformat": 4,
 "nbformat_minor": 4
}
