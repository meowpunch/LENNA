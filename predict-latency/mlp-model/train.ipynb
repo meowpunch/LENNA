{
 "cells": [
  {
   "cell_type": "code",
   "execution_count": 1,
   "metadata": {},
   "outputs": [],
   "source": [
    "import numpy as np # linear algebra\n",
    "import matplotlib.pyplot as plt\n",
    "\n",
    "from sklearn.model_selection import train_test_split\n",
    "%matplotlib inline"
   ]
  },
  {
   "cell_type": "code",
   "execution_count": 2,
   "metadata": {},
   "outputs": [],
   "source": [
    "import torch\n",
    "import torch.nn as nn\n",
    "import torch.nn.functional as F\n",
    "from torch.autograd import Variable\n",
    "\n",
    "import torchvision"
   ]
  },
  {
   "cell_type": "code",
   "execution_count": 3,
   "metadata": {},
   "outputs": [],
   "source": [
    "class RegressionModel(nn.Module):\n",
    "    def __init__(self):\n",
    "        super(RegressionModel, self).__init__()\n",
    "        self.fc1 = nn.Linear(28, 128) #input dim = 28, hidden = 128\n",
    "        self.fc2 = nn.Linear(128, 64)\n",
    "        self.fc3 = nn.Linear(64, 32)\n",
    "        self.fc4 = nn.Linear(32, 1)\n",
    "        \n",
    "\n",
    "    def forward(self, x):\n",
    "        a = F.relu(self.fc1(x))\n",
    "        a = F.relu(self.fc2(a))\n",
    "        a = F.relu(self.fc3(a))\n",
    "        a = self.fc4(a)\n",
    "        \n",
    "        return a"
   ]
  },
  {
   "cell_type": "code",
   "execution_count": null,
   "metadata": {},
   "outputs": [],
   "source": [
    "import set_data as sd\n",
    "\n",
    "# load train set, test set\n",
    "\n",
    "X_train, Y_train, X_test, Y_test = sd.set_data(\"data/combined_total_data_1\")\n",
    "print(X_train[0], Y_train[0])\n",
    "\n",
    "x_train = Variable(X_train)\n",
    "y_train = Variable(Y_train)\n"
   ]
  },
  {
   "cell_type": "code",
   "execution_count": null,
   "metadata": {},
   "outputs": [],
   "source": [
    "epochs = 100\n",
    "learningrate = 0.01\n",
    "# batch_size\n",
    "# hidden_layer_size = 128\n",
    "\n",
    "model = RegressionModel()\n",
    "criterion = nn.MSELoss(size_average = True, reduction='mean') \n",
    "optimizer = torch.optim.Adam(model.parameters(), lr=learningrate)\n",
    "\n",
    "print('\\nStart Training...\\n')\n",
    "\n",
    "loss_graph = []\n",
    "for epoch in range(epochs+1):\n",
    "    # forward pass\n",
    "    pred_y = model(x_train.float()) # 임의로 type convert \n",
    "    \n",
    "\n",
    "    # compute and print loss\n",
    "    loss = criterion(pred_y.double(), y_train) # 임의로 type convert\n",
    "\n",
    "    optimizer.zero_grad()\n",
    "    loss.backward()\n",
    "    optimizer.step()\n",
    "    \n",
    "    loss_graph.append(loss.item())\n",
    "    \n",
    "    if epoch % 10 == 0:\n",
    "        print ('epoch [{}/{}], loss {}'.format(epoch, epochs, loss.item())) # or loss item\n",
    "    "
   ]
  },
  {
   "cell_type": "code",
   "execution_count": null,
   "metadata": {},
   "outputs": [],
   "source": [
    "torch.save(model.state_dict(), \"./lenna0.pth\")"
   ]
  },
  {
   "cell_type": "code",
   "execution_count": null,
   "metadata": {},
   "outputs": [],
   "source": [
    "fig = plt.figure()\n",
    "plt.plot(range(epochs+1), loss_graph, label = 'loss', color = 'black')\n",
    "plt.xlabel('epochs')\n",
    "plt.ylabel('loss')\n",
    "plt.grid(linestyle = '--', color = 'lavender')\n",
    "plt.show()"
   ]
  },
  {
   "cell_type": "code",
   "execution_count": null,
   "metadata": {},
   "outputs": [],
   "source": [
    "x_test = Variable(X_test)\n",
    "y_test = Variable(Y_test)\n",
    "\n",
    "model.eval()\n",
    "y_pred = model(x_test.float())\n",
    "after_train = criterion(y_pred.double(), y_test) \n",
    "print('Test loss after Training' , after_train.item())"
   ]
  },
  {
   "cell_type": "code",
   "execution_count": null,
   "metadata": {},
   "outputs": [],
   "source": [
    "new_model= RegressionModel()\n",
    "new_model.load_state_dict(torch.load('./lenna0.pth'))\n",
    "    \n",
    "new_model.eval()"
   ]
  }
 ],
 "metadata": {
  "kernelspec": {
   "display_name": "LENNA!",
   "language": "python",
   "name": "lenna"
  },
  "language_info": {
   "codemirror_mode": {
    "name": "ipython",
    "version": 3
   },
   "file_extension": ".py",
   "mimetype": "text/x-python",
   "name": "python",
   "nbconvert_exporter": "python",
   "pygments_lexer": "ipython3",
   "version": "3.6.10"
  }
 },
 "nbformat": 4,
 "nbformat_minor": 4
}
