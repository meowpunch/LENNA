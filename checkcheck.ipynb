{
 "cells": [
  {
   "cell_type": "code",
   "execution_count": 1,
   "metadata": {},
   "outputs": [],
   "source": [
    "import numpy as np\n",
    "import torch\n",
    "import torch.nn as nn\n",
    "from torch.autograd import Variable\n",
    "import torchprof"
   ]
  },
  {
   "cell_type": "code",
   "execution_count": 2,
   "metadata": {},
   "outputs": [],
   "source": [
    "class myModel1(nn.Module):\n",
    "    def __init__(self):\n",
    "        super(myModel1, self).__init__()\n",
    "        self.choices = nn.ModuleDict({\n",
    "                '3x3 conv': nn.Conv2d(1, 1, 3),\n",
    "                '5x5 conv': nn.Conv2d(1, 1, 5),\n",
    "                '7x7 conv': nn.Conv2d(1, 1, 7)\n",
    "        })\n",
    "        \n",
    "    def forward(self, x):\n",
    "        x = self.choices['5x5 conv'](x)\n",
    "        x = self.choices['3x3 conv'](x)\n",
    "        x = self.choices['7x7 conv'](x)\n",
    "        return x"
   ]
  },
  {
   "cell_type": "code",
   "execution_count": 3,
   "metadata": {},
   "outputs": [],
   "source": [
    "class myModel2(nn.Module):\n",
    "    def __init__(self):\n",
    "        super(myModel2, self).__init__()\n",
    "        self.choices = nn.ModuleDict({\n",
    "                '3x3 conv': nn.Conv2d(1, 1, 3),\n",
    "                '5x5 conv': nn.Conv2d(1, 1, 5),\n",
    "                '7x7 conv': nn.Conv2d(1, 1, 7)\n",
    "        })\n",
    "        \n",
    "    def forward(self, x):\n",
    "        x = self.choices['3x3 conv'](x)\n",
    "        x = self.choices['3x3 conv'](x)\n",
    "        x = self.choices['3x3 conv'](x)\n",
    "        x = self.choices['3x3 conv'](x)\n",
    "        x = self.choices['3x3 conv'](x)\n",
    "        return x"
   ]
  },
  {
   "cell_type": "code",
   "execution_count": 4,
   "metadata": {},
   "outputs": [],
   "source": [
    "class myModel3(nn.Module):\n",
    "    def __init__(self):\n",
    "        super(myModel3, self).__init__()\n",
    "        self.choices = nn.ModuleDict({\n",
    "                '3x3 conv': nn.Conv2d(1, 1, 3),\n",
    "                '5x5 conv': nn.Conv2d(1, 1, 5),\n",
    "                '7x7 conv': nn.Conv2d(1, 1, 7)\n",
    "        })\n",
    "        \n",
    "    def forward(self, x):\n",
    "        x = self.choices['7x7 conv'](x)\n",
    "        x = self.choices['3x3 conv'](x)\n",
    "        x = self.choices['5x5 conv'](x)\n",
    "        return x"
   ]
  },
  {
   "cell_type": "code",
   "execution_count": 5,
   "metadata": {},
   "outputs": [],
   "source": [
    "x = torch.Tensor(np.array([[[ \n",
    "    [1,1,1,0,0,0,1,1,1,1,1,1,1,0,0,0,1,1,1,1], \n",
    "    [0,1,1,1,0,0,1,1,1,1,1,1,1,0,0,0,1,1,1,1], \n",
    "    [0,0,1,1,1,0,1,1,1,1,1,1,1,0,0,0,1,1,1,1], \n",
    "    [0,0,1,1,0,0,1,1,1,1,1,1,1,0,0,0,1,1,1,1], \n",
    "    [0,1,1,0,0,0,1,1,1,1,1,1,1,0,0,0,1,1,1,1],\n",
    "    [0,0,1,1,1,0,1,1,1,1,1,1,1,0,0,0,1,1,1,1],\n",
    "    [1,1,1,0,0,0,1,1,1,1,1,1,1,0,0,0,1,1,1,1], \n",
    "    [0,1,1,1,0,0,1,1,1,1,1,1,1,0,0,0,1,1,1,1], \n",
    "    [0,0,1,1,1,0,1,1,1,1,1,1,1,0,0,0,1,1,1,1], \n",
    "    [0,0,1,1,0,0,1,1,1,1,1,1,1,0,0,0,1,1,1,1],\n",
    "    [1,1,1,0,0,0,1,1,1,1,1,1,1,0,0,0,1,1,1,1], \n",
    "    [0,1,1,1,0,0,1,1,1,1,1,1,1,0,0,0,1,1,1,1], \n",
    "    [0,0,1,1,1,0,1,1,1,1,1,1,1,0,0,0,1,1,1,1], \n",
    "    [0,0,1,1,0,0,1,1,1,1,1,1,1,0,0,0,1,1,1,1], \n",
    "    [0,1,1,0,0,0,1,1,1,1,1,1,1,0,0,0,1,1,1,1],\n",
    "    [0,0,1,1,1,0,1,1,1,1,1,1,1,0,0,0,1,1,1,1],\n",
    "    [1,1,1,0,0,0,1,1,1,1,1,1,1,0,0,0,1,1,1,1], \n",
    "    [0,1,1,1,0,0,1,1,1,1,1,1,1,0,0,0,1,1,1,1], \n",
    "    [0,0,1,1,1,0,1,1,1,1,1,1,1,0,0,0,1,1,1,1], \n",
    "    [0,0,1,1,0,0,1,1,1,1,1,1,1,0,0,0,1,1,1,1]    \n",
    "]]]))\n",
    "\n",
    "x = Variable(x, requires_grad=True)"
   ]
  },
  {
   "cell_type": "code",
   "execution_count": 12,
   "metadata": {},
   "outputs": [
    {
     "name": "stdout",
     "output_type": "stream",
     "text": [
      "5 -> 3 -> 7\n",
      "Module        | Self CPU total | CPU total | CUDA total\n",
      "--------------|----------------|-----------|-----------\n",
      "myModel1      |                |           |           \n",
      "└── choices   |                |           |           \n",
      " ├── 3x3 conv |      130.917us | 469.464us |  467.680us\n",
      " ├── 5x5 conv |      244.521us | 894.497us |  893.472us\n",
      " └── 7x7 conv |      113.825us | 404.723us |  403.520us\n",
      "\n",
      "-----------------------------------------------------------\n",
      "five 3\n",
      "Module        | Self CPU total | CPU total | CUDA total\n",
      "--------------|----------------|-----------|-----------\n",
      "myModel2      |                |           |           \n",
      "└── choices   |                |           |           \n",
      " ├── 3x3 conv |      545.246us |   1.928ms |    1.921ms\n",
      " ├── 5x5 conv |        0.000us |   0.000us |    0.000us\n",
      " └── 7x7 conv |        0.000us |   0.000us |    0.000us\n",
      "\n",
      "-----------------------------------------------------------\n",
      "7 -> 3 -> 5\n",
      "Module        | Self CPU total | CPU total | CUDA total\n",
      "--------------|----------------|-----------|-----------\n",
      "myModel3      |                |           |           \n",
      "└── choices   |                |           |           \n",
      " ├── 3x3 conv |      107.603us | 380.378us |  380.064us\n",
      " ├── 5x5 conv |      109.376us | 388.542us |  387.840us\n",
      " └── 7x7 conv |      134.152us | 482.267us |  481.632us\n",
      "\n"
     ]
    }
   ],
   "source": [
    "model1 = myModel1()\n",
    "model2 = myModel2()\n",
    "model3 = myModel3()\n",
    "\n",
    "print(\"5 -> 3 -> 7\")\n",
    "with torchprof.Profile(model1, use_cuda=True) as prof:\n",
    "    model1(x)\n",
    "print(prof.display(show_events = False))\n",
    "print(\"-----------------------------------------------------------\")\n",
    "\n",
    "\n",
    "print(\"3x3 five times\")\n",
    "with torchprof.Profile(model2, use_cuda=True) as prof:\n",
    "    model2(x)\n",
    "print(prof.display(show_events = False))\n",
    "print(\"-----------------------------------------------------------\")\n",
    "\n",
    "print(\"7 -> 3 -> 5\")\n",
    "with torchprof.Profile(model3, use_cuda=True) as prof:\n",
    "    model3(x)\n",
    "print(prof.display(show_events = False))"
   ]
  },
  {
   "cell_type": "code",
   "execution_count": null,
   "metadata": {},
   "outputs": [],
   "source": []
  }
 ],
 "metadata": {
  "kernelspec": {
   "display_name": "myLENNA",
   "language": "python",
   "name": "lenna"
  },
  "language_info": {
   "codemirror_mode": {
    "name": "ipython",
    "version": 3
   },
   "file_extension": ".py",
   "mimetype": "text/x-python",
   "name": "python",
   "nbconvert_exporter": "python",
   "pygments_lexer": "ipython3",
   "version": "3.6.10"
  },
  "pycharm": {
   "stem_cell": {
    "cell_type": "raw",
    "source": [],
    "metadata": {
     "collapsed": false
    }
   }
  }
 },
 "nbformat": 4,
 "nbformat_minor": 4
}