{
 "cells": [
  {
   "cell_type": "code",
   "execution_count": null,
   "metadata": {},
   "outputs": [],
   "source": [
    "import numpy as np # linear algebra\n",
    "import matplotlib.pyplot as plt\n",
    "\n",
    "from sklearn.model_selection import train_test_split\n",
    "%matplotlib inline"
   ]
  },
  {
   "cell_type": "code",
   "execution_count": null,
   "metadata": {},
   "outputs": [],
   "source": [
    "import torch\n",
    "import torch.nn as nn\n",
    "import torch.nn.functional as F\n",
    "from torch.autograd import Variable\n",
    "\n",
    "import torchvision"
   ]
  },
  {
   "cell_type": "code",
   "execution_count": null,
   "metadata": {},
   "outputs": [],
   "source": [
    "import set_data as sd\n",
    "\n",
    "# load train set, test set\n",
    "\n",
    "X_train, Y_train, X_test, Y_test, y_min, y_max, y_mean, y_std = sd.set_data(\"data/combined_total_data_3\")\n",
    "\n",
    "# print(X_train.shape)\n",
    "# print(X_train, Y_train)\n",
    "# print(Y_train[0])\n",
    "\n",
    "# y_test = Variable(Y_test)\n",
    "# for i in range(20):\n",
    "#     print(y_test)\n",
    "\n",
    "x_train = Variable(X_train)\n",
    "y_train = Variable(Y_train)\n"
   ]
  },
  {
   "cell_type": "code",
   "execution_count": null,
   "metadata": {},
   "outputs": [],
   "source": [
    "# regression model\n",
    "\n",
    "class RegressionModel(nn.Module):\n",
    "    def __init__(self):\n",
    "        super(RegressionModel, self).__init__()\n",
    "        self.fc1 = nn.Linear(28, 128) #input dim = 28, hidden = 128\n",
    "        self.drop1 = nn.Dropout(0.5)\n",
    "        self.fc2 = nn.Linear(128, 64)\n",
    "        self.drop2 = nn.Dropout(0.2)\n",
    "        self.fc3 = nn.Linear(64, 16)\n",
    "        self.drop3 = nn.Dropout(0.1)\n",
    "        self.fc4 = nn.Linear(16, 1)\n",
    "        \n",
    "\n",
    "    def forward(self, x):\n",
    "        a = F.relu(self.fc1(x))\n",
    "        a = self.drop1(a)\n",
    "        a = F.relu(self.fc2(a))\n",
    "        a = self.drop2(a)\n",
    "        a = F.relu(self.fc3(a))\n",
    "        a = self.drop3(a)\n",
    "        a = self.fc4(a)\n",
    "        \n",
    "        return a"
   ]
  },
  {
   "cell_type": "code",
   "execution_count": null,
   "metadata": {},
   "outputs": [],
   "source": [
    "# train\n",
    "\n",
    "loss_graph = []"
   ]
  },
  {
   "cell_type": "code",
   "execution_count": null,
   "metadata": {},
   "outputs": [],
   "source": [
    "epochs = 50\n",
    "learningrate = 0.01\n",
    "\n",
    "model = RegressionModel()\n",
    "# model.load_state_dict(torch.load('./lenna_d.pth'))\n",
    "criterion = nn.SmoothL1Loss(size_average = True) \n",
    "optimizer = torch.optim.Adam(model.parameters(), lr=learningrate)\n",
    "\n",
    "print('\\nStart Training...\\n')\n",
    "\n",
    "for epoch in range(epochs+1):\n",
    "    # forward pass\n",
    "    pred_y = model(x_train.float())\n",
    "    \n",
    "\n",
    "    # compute and print loss\n",
    "    loss = criterion(pred_y.double(), y_train)\n",
    "\n",
    "    optimizer.zero_grad()\n",
    "    loss.backward()\n",
    "    optimizer.step()\n",
    "    \n",
    "    loss_graph.append(loss.item())\n",
    "    \n",
    "    if epoch % 10 == 0:\n",
    "        print ('epoch [{}/{}], loss {}'.format(epoch, epochs, loss.item())) # or loss item\n",
    "    "
   ]
  },
  {
   "cell_type": "code",
   "execution_count": null,
   "metadata": {},
   "outputs": [],
   "source": [
    "torch.save(model.state_dict(), \"./lenna_d.pth\")"
   ]
  },
  {
   "cell_type": "code",
   "execution_count": null,
   "metadata": {},
   "outputs": [],
   "source": [
    "fig = plt.figure()\n",
    "plt.plot(range(epochs+1), loss_graph, label = 'loss', color = 'black')\n",
    "plt.xlabel('epochs')\n",
    "plt.ylabel('loss')\n",
    "plt.grid(linestyle = '--', color = 'lavender')\n",
    "plt.show()"
   ]
  },
  {
   "cell_type": "code",
   "execution_count": null,
   "metadata": {},
   "outputs": [],
   "source": [
    "x_test = Variable(X_test)\n",
    "y_test = Variable(Y_test)\n",
    "\n",
    "model.eval()\n",
    "y_pred = model(x_test.float())\n",
    "after_train = criterion(y_pred.double(), y_test) \n",
    "print('Test loss after Training' , after_train.item())"
   ]
  },
  {
   "cell_type": "code",
   "execution_count": null,
   "metadata": {},
   "outputs": [],
   "source": [
    "x_test = Variable(X_test)\n",
    "y_test = Variable(Y_test)\n",
    "print(y_test)\n",
    "criterion = nn.SmoothL1Loss(size_average = True) \n",
    "\n",
    "new_model= RegressionModel()\n",
    "new_model.load_state_dict(torch.load('./lenna_d.pth'))\n",
    "    \n",
    "new_model.eval()\n",
    "\n",
    "y_pred = new_model(x_test.float())\n",
    "after_train = criterion(y_pred.double(), y_test) \n",
    "print('Test loss after Training' , after_train.item())"
   ]
  },
  {
   "cell_type": "code",
   "execution_count": null,
   "metadata": {},
   "outputs": [],
   "source": [
    "def denormalize(data, d_min, d_max, d_mean, d_std):\n",
    "    \n",
    "    tmp_data = torch.empty([data.shape[0], data.shape[1]])\n",
    "    \n",
    "    for i in range(data.shape[0]):\n",
    "        e = float(data[i])\n",
    "        \n",
    "        #tmp_data[i] = (e*d_std + d_mean)\n",
    "        tmp_data[i] = (e*d_std + d_mean)*(d_max - d_min) + d_min\n",
    "\n",
    "    return tmp_data\n",
    "\n",
    "for i in range(20):\n",
    "    print(y_test[i], y_pred[i])\n",
    "# print(float(y_pred[0]))\n",
    "# print(y_test.float())\n",
    "# print(y_pred[0])\n",
    "\n",
    "dy_test = denormalize(y_test, y_min, y_max, y_mean, y_std)\n",
    "dy_pred = denormalize(y_pred, y_min, y_max, y_mean, y_std)\n",
    "\n",
    "for i in range(20):\n",
    "    print(dy_test[i], dy_pred[i])\n",
    "# print(dy_test)\n",
    "# print(dy_pred)\n",
    "\n"
   ]
  }
 ],
 "metadata": {
  "kernelspec": {
   "display_name": "LENNA",
   "language": "python",
   "name": "lenna"
  },
  "language_info": {
   "codemirror_mode": {
    "name": "ipython",
    "version": 3
   },
   "file_extension": ".py",
   "mimetype": "text/x-python",
   "name": "python",
   "nbconvert_exporter": "python",
   "pygments_lexer": "ipython3",
   "version": "3.8.3"
  }
 },
 "nbformat": 4,
 "nbformat_minor": 4
}
