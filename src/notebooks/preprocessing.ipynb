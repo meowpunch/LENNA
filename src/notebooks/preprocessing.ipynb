{
 "cells": [
  {
   "cell_type": "markdown",
   "metadata": {
    "colab_type": "text",
    "id": "view-in-github"
   },
   "source": [
    "<a href=\"https://colab.research.google.com/github/meowpunch/LENNA/blob/master/NASR/preprocessing.ipynb\" target=\"_parent\"><img src=\"https://colab.research.google.com/assets/colab-badge.svg\" alt=\"Open In Colab\"/></a>"
   ]
  },
  {
   "cell_type": "markdown",
   "metadata": {
    "colab_type": "text",
    "id": "zBLHTSKU_MYW"
   },
   "source": [
    "learning algorithm에 쓰이는 objective funciton의 많은 원소들은 모든 feature가 centered around zero, variance in the same order임을 가정하는 경우가 많다."
   ]
  },
  {
   "cell_type": "code",
   "execution_count": null,
   "metadata": {
    "colab": {
     "base_uri": "https://localhost:8080/",
     "height": 592
    },
    "colab_type": "code",
    "id": "JJeXCNEa8PHC",
    "outputId": "e2d212ad-122b-468b-c28b-6f918994ebf0"
   },
   "outputs": [],
   "source": [
    "import pandas as pd\n",
    "import matplotlib.pyplot as plt\n",
    "df = pd.get_dummies(pd.read_csv(\"/content/data0520\"), columns=[\"b_type\"])\n",
    "df"
   ]
  },
  {
   "cell_type": "code",
   "execution_count": null,
   "metadata": {
    "colab": {},
    "colab_type": "code",
    "id": "oqPF9ove8aGg"
   },
   "outputs": [],
   "source": [
    "from sklearn.compose import ColumnTransformer, make_column_transformer\n",
    "from sklearn.pipeline import make_pipeline\n",
    "from sklearn.preprocessing import StandardScaler, MinMaxScaler, MaxAbsScaler, RobustScaler, PowerTransformer, QuantileTransformer"
   ]
  },
  {
   "cell_type": "code",
   "execution_count": null,
   "metadata": {
    "colab": {
     "base_uri": "https://localhost:8080/",
     "height": 156
    },
    "colab_type": "code",
    "id": "mESm6u4F8eOr",
    "outputId": "39404815-37fc-408e-b032-9d04a73da031"
   },
   "outputs": [],
   "source": [
    "prob = df.columns.difference(['b_type_0', 'b_type_1','latency', 'in_ch'], sort = False)\n",
    "prob"
   ]
  },
  {
   "cell_type": "code",
   "execution_count": null,
   "metadata": {
    "colab": {},
    "colab_type": "code",
    "id": "FaDBDT73jvTY"
   },
   "outputs": [],
   "source": [
    "in_ch_lin = make_pipeline(StandardScaler(), \\\n",
    "                          QuantileTransformer(n_quantiles = 100, output_distribution = 'normal'))\n",
    "prob_lin = make_pipeline(MaxAbsScaler(), \\\n",
    "                         QuantileTransformer(n_quantiles = 1000, output_distribution = 'normal'))\n",
    "latency_lin = make_pipeline(RobustScaler(), \\\n",
    "                            QuantileTransformer(n_quantiles = 1000, output_distribution = 'normal'))"
   ]
  },
  {
   "cell_type": "code",
   "execution_count": null,
   "metadata": {
    "colab": {},
    "colab_type": "code",
    "id": "BybJfRn48f5P"
   },
   "outputs": [],
   "source": [
    "preprocess = make_column_transformer(\n",
    "    (in_ch_lin, ['in_ch']),\n",
    "    (prob_lin, prob),\n",
    "    (latency_lin, ['latency'])\n",
    ")"
   ]
  },
  {
   "cell_type": "code",
   "execution_count": null,
   "metadata": {
    "colab": {
     "base_uri": "https://localhost:8080/",
     "height": 424
    },
    "colab_type": "code",
    "id": "uZ6bMsUF8jCq",
    "outputId": "fd9d30d6-e0c2-41d2-eca5-6772a9492b8c"
   },
   "outputs": [],
   "source": [
    "fitted = pd.DataFrame(preprocess.fit_transform(df), columns = df.columns[0:167])\n",
    "fitted"
   ]
  },
  {
   "cell_type": "code",
   "execution_count": null,
   "metadata": {
    "colab": {
     "base_uri": "https://localhost:8080/",
     "height": 424
    },
    "colab_type": "code",
    "id": "P7lg1THOHX1A",
    "outputId": "e13eb2a1-d653-4c26-92ef-f972311b3f2a"
   },
   "outputs": [],
   "source": [
    "fitted = pd.concat([df.iloc[:,167:], fitted], axis=1)\n",
    "fitted"
   ]
  },
  {
   "cell_type": "code",
   "execution_count": null,
   "metadata": {
    "colab": {
     "base_uri": "https://localhost:8080/",
     "height": 335
    },
    "colab_type": "code",
    "id": "kW4N3VSEBCcF",
    "outputId": "ddcfde0d-ed1c-4aba-881e-fae3ca7338b8"
   },
   "outputs": [],
   "source": [
    "fitted.describe()"
   ]
  },
  {
   "cell_type": "code",
   "execution_count": null,
   "metadata": {
    "colab": {
     "base_uri": "https://localhost:8080/",
     "height": 1000
    },
    "colab_type": "code",
    "id": "4zANHpMC8cqh",
    "outputId": "30215d66-6995-4a87-cfd3-773bc5ed460f"
   },
   "outputs": [],
   "source": [
    "for col in fitted.columns:\n",
    "  plt.hist(fitted[col], bins = 100)\n",
    "  plt.xlabel(col)\n",
    "  plt.show()"
   ]
  },
  {
   "cell_type": "code",
   "execution_count": null,
   "metadata": {
    "colab": {
     "base_uri": "https://localhost:8080/",
     "height": 1000
    },
    "colab_type": "code",
    "id": "cJx8VhihENSj",
    "outputId": "f370baf5-ef3d-4a64-fe12-7b4ed6a18c81"
   },
   "outputs": [],
   "source": [
    "for col in df.columns:\n",
    "  plt.hist(df[col], bins = 100)\n",
    "  plt.show()"
   ]
  },
  {
   "cell_type": "code",
   "execution_count": null,
   "metadata": {
    "colab": {
     "base_uri": "https://localhost:8080/",
     "height": 1000
    },
    "colab_type": "code",
    "id": "QAi4OJFZPBcr",
    "outputId": "0403bfa3-1011-41f2-c067-7db193ab507f"
   },
   "outputs": [],
   "source": [
    "for i in range(len(df.columns)):\n",
    "    plt.scatter(df[df.columns[i]], df['latency'])\n",
    "    plt.xlabel(df.columns[i])\n",
    "    plt.ylabel('latency')\n",
    "    plt.show()"
   ]
  },
  {
   "cell_type": "code",
   "execution_count": null,
   "metadata": {
    "colab": {
     "base_uri": "https://localhost:8080/",
     "height": 1000
    },
    "colab_type": "code",
    "id": "-kVRWJhueaNg",
    "outputId": "e946c5a1-e741-4d3a-e816-d1a2331dd4c8"
   },
   "outputs": [],
   "source": [
    "for i in range(len(df.columns)):\n",
    "  if i <= len(df.columns) - 2:\n",
    "    plt.scatter(df[df.columns[i]], df[df.columns[i+1]])\n",
    "    plt.xlabel(df.columns[i])\n",
    "    plt.ylabel(df.columns[i+1])\n",
    "    plt.show()"
   ]
  }
 ],
 "metadata": {
  "colab": {
   "authorship_tag": "ABX9TyOwGyMKblk3iJm9JiLIIIPW",
   "collapsed_sections": [],
   "include_colab_link": true,
   "name": "preprocessing.ipynb",
   "provenance": []
  },
  "kernelspec": {
   "display_name": "Python 3",
   "language": "python",
   "name": "python3"
  },
  "language_info": {
   "codemirror_mode": {
    "name": "ipython",
    "version": 3
   },
   "file_extension": ".py",
   "mimetype": "text/x-python",
   "name": "python",
   "nbconvert_exporter": "python",
   "pygments_lexer": "ipython3",
   "version": "3.8.3"
  }
 },
 "nbformat": 4,
 "nbformat_minor": 4
}
