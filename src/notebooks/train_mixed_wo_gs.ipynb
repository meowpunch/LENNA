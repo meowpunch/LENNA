{
 "cells": [
  {
   "cell_type": "code",
   "execution_count": null,
   "metadata": {},
   "outputs": [],
   "source": [
    "import numpy as np # linear algebra\n",
    "import matplotlib.pyplot as plt\n",
    "import math\n",
    "%matplotlib inline"
   ]
  },
  {
   "cell_type": "code",
   "execution_count": null,
   "metadata": {},
   "outputs": [],
   "source": [
    "import pandas as pd\n",
    "import torch\n",
    "import torch.nn as nn\n",
    "import torch.nn.functional as F\n",
    "from torch.autograd import Variable"
   ]
  },
  {
   "cell_type": "code",
   "execution_count": null,
   "metadata": {},
   "outputs": [],
   "source": [
    "from sklearn.linear_model import ElasticNet, Lasso, BayesianRidge, LassoLarsIC\n",
    "from sklearn.ensemble import RandomForestRegressor, GradientBoostingRegressor\n",
    "from sklearn.kernel_ridge import KernelRidge\n",
    "from sklearn.pipeline import make_pipeline\n",
    "from sklearn.preprocessing import RobustScaler\n",
    "from sklearn.base import BaseEstimator, TransformerMixin, RegressorMixin, clone\n",
    "from sklearn.model_selection import KFold, cross_val_score, train_test_split\n",
    "from sklearn.metrics import mean_squared_error\n",
    "from xgboost import XGBRegressor\n",
    "import xgboost as xgb\n",
    "import lightgbm as lgb\n",
    "from sklearn.svm import SVR\n",
    "from sklearn.ensemble import RandomForestRegressor\n",
    "from sklearn.datasets import make_regression"
   ]
  },
  {
   "cell_type": "code",
   "execution_count": null,
   "metadata": {},
   "outputs": [],
   "source": [
    "def rmse(model, x, y):\n",
    "    y_pred = model.predict(x)\n",
    "    mse = mean_squared_error(y_pred, y)\n",
    "    rmse = np.sqrt(mse)\n",
    "    return(rmse)"
   ]
  },
  {
   "cell_type": "code",
   "execution_count": null,
   "metadata": {},
   "outputs": [],
   "source": [
    "import data_pipeline as dp\n",
    "from data_pipeline.data_preprocessor import PreProcessor as PP\n",
    "# load train set, test set\n",
    "\n",
    "pp = PP(\"total_data.csv\")\n",
    "\n",
    "x_train, y_train, x_test, y_test = pp.process()\n",
    "\n",
    "pp_d = PP(\"final_data.csv\")\n",
    "# for conti / discrete comparing\n",
    "x_train_d, y_train_d, x_test_d, y_test_d = pp_d.process()\n",
    "\n",
    "y_train"
   ]
  },
  {
   "cell_type": "code",
   "execution_count": null,
   "metadata": {},
   "outputs": [],
   "source": [
    "# -----------------------------------------------------------------"
   ]
  },
  {
   "cell_type": "code",
   "execution_count": null,
   "metadata": {},
   "outputs": [],
   "source": [
    "# kernel Ridge regression\n",
    "\n",
    "# KRR = KernelRidge(alpha=0.6, kernel='polynomial', degree=2, coef0=2.5) #kernel = 'rbf' , 'sigmoid' "
   ]
  },
  {
   "cell_type": "code",
   "execution_count": null,
   "metadata": {},
   "outputs": [],
   "source": [
    "# Gradient Boosting Regression\n",
    "\n",
    "GBoost = GradientBoostingRegressor(n_estimators=1000, learning_rate=0.1,\n",
    "                                   max_depth=3, max_features='sqrt',\n",
    "                                   min_samples_leaf=15, min_samples_split=10, \n",
    "                                   loss='huber', random_state =5)"
   ]
  },
  {
   "cell_type": "code",
   "execution_count": null,
   "metadata": {},
   "outputs": [],
   "source": [
    "# LGB Regressor\n",
    "\n",
    "model_lgb = lgb.LGBMRegressor(objective='regression',num_leaves=5,\n",
    "                              learning_rate=0.05, n_estimators=500,\n",
    "                              max_bin = 55, bagging_fraction = 0.8,\n",
    "                              bagging_freq = 5, feature_fraction = 0.2319,\n",
    "                              feature_fraction_seed=9, bagging_seed=9,\n",
    "                              min_data_in_leaf =6, min_sum_hessian_in_leaf = 11)"
   ]
  },
  {
   "cell_type": "code",
   "execution_count": null,
   "metadata": {},
   "outputs": [],
   "source": [
    "import os\n",
    "os.environ[\"CUDA_VISIBLE_DEVICES\"] = \"0, 1\"\n"
   ]
  },
  {
   "cell_type": "code",
   "execution_count": null,
   "metadata": {},
   "outputs": [],
   "source": [
    "# XGBoost Algorithm (without GridSearch)\n",
    "\n",
    "model_xgb = xgb.XGBRegressor(colsample_bytree=0.4, gamma=0.05, \n",
    "                             learning_rate=0.12, max_depth=4, \n",
    "                             min_child_weight=1.5, n_estimators=500,\n",
    "                             reg_alpha=0.5, reg_lambda=0.7, tree_method=\"gpu_hist\",\n",
    "                             subsample=0.5, random_state =3, nthread = -1)"
   ]
  },
  {
   "cell_type": "code",
   "execution_count": null,
   "metadata": {},
   "outputs": [],
   "source": [
    "# Random Forest Regressor with GridSearch\n",
    "\n",
    "\n",
    "regr = RandomForestRegressor(bootstrap=True, criterion='mse', max_depth=None,\n",
    "           max_features=150, max_leaf_nodes=None,\n",
    "           min_impurity_decrease=0.0, min_impurity_split=None,\n",
    "           min_samples_leaf=1, min_samples_split=2,\n",
    "           min_weight_fraction_leaf=0.0, n_estimators=90, n_jobs=1,\n",
    "           oob_score=False, random_state=None, verbose=0, warm_start=False)\n",
    "\n",
    "#grid_search.best_estimator_"
   ]
  },
  {
   "cell_type": "code",
   "execution_count": null,
   "metadata": {},
   "outputs": [],
   "source": [
    "# -----------------------------------------------------"
   ]
  },
  {
   "cell_type": "code",
   "execution_count": null,
   "metadata": {},
   "outputs": [],
   "source": [
    "model_xgb.fit(x_train, y_train)\n",
    "model_lgb.fit(x_train, y_train)\n",
    "GBoost.fit(x_train,y_train)"
   ]
  },
  {
   "cell_type": "code",
   "execution_count": null,
   "metadata": {},
   "outputs": [],
   "source": [
    "# Gradient Boosting score\n",
    "score = rmse(GBoost, x_train, y_train)\n",
    "print(\"Gradient Boosting score: {:.4f} ({:.4f})\\n\".format(score.mean(), score.std()))"
   ]
  },
  {
   "cell_type": "code",
   "execution_count": null,
   "metadata": {},
   "outputs": [],
   "source": [
    "# Light GBM score\n",
    "score = rmse(model_lgb, x_train, y_train)\n",
    "print(\"LGBM score: {:.4f} ({:.4f})\\n\" .format(score.mean(), score.std()))"
   ]
  },
  {
   "cell_type": "code",
   "execution_count": null,
   "metadata": {},
   "outputs": [],
   "source": [
    "# XGBoost score\n",
    "score = rmse(model_xgb, x_train, y_train)\n",
    "print(\"Xgboost score: {:.4f} ({:.4f})\\n\".format(score.mean(), score.std()))"
   ]
  },
  {
   "cell_type": "code",
   "execution_count": null,
   "metadata": {},
   "outputs": [],
   "source": [
    "from joblib import load\n",
    "def inverse_latency(X):\n",
    "    robust, quantile = load(\"robust.pkl\"), load(\"quantile.pkl\")\n",
    "    if isinstance(X, pd.Series):\n",
    "        X = X.values.reshape(-1, 1)\n",
    "    else:\n",
    "        X = X.reshape(-1, 1)\n",
    "    return robust.inverse_transform(quantile.inverse_transform(X)).reshape(-1)"
   ]
  },
  {
   "cell_type": "code",
   "execution_count": null,
   "metadata": {},
   "outputs": [],
   "source": [
    "#define a rmsle evaluation function\n",
    "\n",
    "# def rmsle(y, y_pred): \n",
    "#    return np.sqrt(mean_squared_error(y, y_pred))\n",
    "\n",
    "def rmse_with_inverse(model, x_test, y_test):\n",
    "    y_pred = model.predict(x_test)\n",
    "    y_test, y_pred = inverse_latency(y_test), inverse_latency(y_pred)\n",
    "    return np.sqrt(mean_squared_error(y_test, y_pred))"
   ]
  },
  {
   "cell_type": "code",
   "execution_count": null,
   "metadata": {},
   "outputs": [],
   "source": [
    "print(\"Gradient Boosting rmse: {}\".format(rmse_with_inverse(GBoost, x_test, y_test)))\n",
    "print(\"LGBM rmse : {}\".format(rmse_with_inverse(model_lgb, x_test, y_test)))\n",
    "print(\"Xgboost rmse : {}\".format(rmse_with_inverse(model_xgb, x_test, y_test)))"
   ]
  },
  {
   "cell_type": "code",
   "execution_count": null,
   "metadata": {},
   "outputs": [],
   "source": [
    "print(\"Gradient Boosting rmse: {}\".format(rmse_with_inverse(GBoost, x_test_d, y_test_d)))\n",
    "print(\"LGBM rmse : {}\".format(rmse_with_inverse(model_lgb, x_test_d, y_test_d)))\n",
    "print(\"Xgboost rmse : {}\".format(rmse_with_inverse(model_xgb, x_test_d, y_test_d)))"
   ]
  },
  {
   "cell_type": "code",
   "execution_count": null,
   "metadata": {},
   "outputs": [],
   "source": [
    "def erratio_winverse(model, x_test, y_test):\n",
    "    y_pred = model.predict(x_test)\n",
    "    y_test, y_pred = np.array(inverse_latency(y_test)), np.array(inverse_latency(y_pred))\n",
    "    err = y_pred - y_test\n",
    "    ratio = err / y_test * 100\n",
    "    return ratio.mean()"
   ]
  },
  {
   "cell_type": "code",
   "execution_count": null,
   "metadata": {},
   "outputs": [],
   "source": [
    "print(\"Gradient Boosting error ratio : {}\".format(erratio_winverse(GBoost, x_test, y_test)))\n",
    "print(\"LGBM rmse error ratio : {}\".format(erratio_winverse(model_lgb, x_test, y_test)))\n",
    "print(\"Xgboost error ratio : {}\".format(erratio_winverse(model_xgb, x_test, y_test)))"
   ]
  },
  {
   "cell_type": "code",
   "execution_count": null,
   "metadata": {},
   "outputs": [],
   "source": [
    "print(\"Gradient Boosting error ratio : {}\".format(erratio_winverse(GBoost, x_test_d, y_test_d)))\n",
    "print(\"LGBM rmse error ratio : {}\".format(erratio_winverse(model_lgb, x_test_d, y_test_d)))\n",
    "print(\"Xgboost error ratio : {}\".format(erratio_winverse(model_xgb, x_test_d, y_test_d)))"
   ]
  },
  {
   "cell_type": "markdown",
   "metadata": {},
   "source": [
    "# XGBoost"
   ]
  },
  {
   "cell_type": "code",
   "execution_count": null,
   "metadata": {},
   "outputs": [],
   "source": [
    "# XGBoost score with discrete\n",
    "score = rmse(model_xgb, x_test_d, y_test_d)\n",
    "print(\"Xgboost score: {:.4f} ({:.4f})\\n\".format(score.mean(), score.std()))"
   ]
  },
  {
   "cell_type": "code",
   "execution_count": null,
   "metadata": {},
   "outputs": [],
   "source": [
    "xgb_train_pred = model_xgb.predict(x_train)\n",
    "\n",
    "x = np.arange(-4,4) \n",
    "y = x\n",
    "\n",
    "plt.plot(x, y, color = 'gray')\n",
    "plt.scatter(y_train, xgb_train_pred, s=0.01, color='black')\n",
    "plt.xlabel('predicted latency')\n",
    "plt.ylabel('real latency')\n",
    "plt.title('XGBoost Result with Continuous Data')\n",
    "plt.show()\n",
    "plt.savefig('xgboost_result.pdf')"
   ]
  },
  {
   "cell_type": "code",
   "execution_count": null,
   "metadata": {},
   "outputs": [],
   "source": [
    "xgb_pred = model_xgb.predict(x_test)\n",
    "\n",
    "plt.plot(x, y, color = 'gray')\n",
    "plt.scatter(y_test, xgb_pred, s=0.01, color='black')\n",
    "plt.xlabel('input vector')\n",
    "plt.ylabel('latency')\n",
    "plt.title('XGBoost Result')\n",
    "plt.show()"
   ]
  },
  {
   "cell_type": "code",
   "execution_count": null,
   "metadata": {},
   "outputs": [],
   "source": [
    "xgb_pred_d = model_xgb.predict(x_train_d)\n",
    "\n",
    "plt.plot(x, y, color = 'gray')\n",
    "plt.scatter(y_train_d, xgb_pred_d, s=0.01, color='black')\n",
    "plt.xlabel('predicted latency')\n",
    "plt.ylabel('real latency')\n",
    "plt.title('XGBoost Result with Discrete Data')\n",
    "plt.show()\n",
    "plt.savefig('xgboost_result_with_d.pdf', format='pdf')"
   ]
  },
  {
   "cell_type": "code",
   "execution_count": null,
   "metadata": {},
   "outputs": [],
   "source": [
    "# comparing discrete\n",
    "\n",
    "xgb_pred_d = model_xgb.predict(x_test_d)\n",
    "\n",
    "plt.plot(x, y, color = 'gray')\n",
    "plt.scatter(y_test_d, xgb_pred_d, s=0.01, color='black')\n",
    "plt.xlabel('input vector')\n",
    "plt.ylabel('latency')\n",
    "plt.title('XGBoost Result with Discrete (TEST)')\n",
    "plt.show()"
   ]
  },
  {
   "cell_type": "code",
   "execution_count": null,
   "metadata": {},
   "outputs": [],
   "source": [
    "print(model_xgb.feature_importances_)"
   ]
  },
  {
   "cell_type": "code",
   "execution_count": null,
   "metadata": {
    "scrolled": true
   },
   "outputs": [],
   "source": [
    "plt.bar(range(len(model_xgb.feature_importances_)), model_xgb.feature_importances_, color='black')\n",
    "plt.savefig('feature_importance_graph.pdf', format='pdf')\n",
    "plt.show()\n"
   ]
  },
  {
   "cell_type": "code",
   "execution_count": null,
   "metadata": {},
   "outputs": [],
   "source": [
    "from xgboost import plot_importance\n",
    "plot_importance(model_xgb, color='black')\n",
    "plt.show()\n",
    "plt.savefig('feature_importance_all.pdf', format='pdf')"
   ]
  },
  {
   "cell_type": "code",
   "execution_count": null,
   "metadata": {},
   "outputs": [],
   "source": [
    "plot_importance(model_xgb, max_num_features=10, color='black')\n",
    "plt.show()\n",
    "plt.savefig('feature_importance_top10.pdf', format='pdf')"
   ]
  },
  {
   "cell_type": "markdown",
   "metadata": {},
   "source": [
    "# Gradient Boost"
   ]
  },
  {
   "cell_type": "code",
   "execution_count": null,
   "metadata": {},
   "outputs": [],
   "source": [
    "# Gradient Boosting score\n",
    "score = rmse(GBoost, x_test_d, y_test_d)\n",
    "print(\"Gradient Boosting score: {:.4f} ({:.4f})\\n\".format(score.mean(), score.std()))"
   ]
  },
  {
   "cell_type": "code",
   "execution_count": null,
   "metadata": {},
   "outputs": [],
   "source": [
    "gb_pred = GBoost.predict(x_train)\n",
    "\n",
    "plt.plot(x, y, color = 'gray')\n",
    "plt.scatter(y_train, gb_pred, s=0.01, color='black')\n",
    "plt.xlabel('predicted latency')\n",
    "plt.ylabel('real latency')\n",
    "plt.title('Gradient Boosting Result with Continuous Data')\n",
    "plt.show()\n",
    "plt.savefig('gb_result.pdf', format='pdf')"
   ]
  },
  {
   "cell_type": "code",
   "execution_count": null,
   "metadata": {},
   "outputs": [],
   "source": [
    "gb_pred = GBoost.predict(x_test)\n",
    "\n",
    "plt.plot(x, y, color = 'gray')\n",
    "plt.scatter(y_test, gb_pred, s=0.01, color='black')\n",
    "plt.xlabel('input vector')\n",
    "plt.ylabel('latency')\n",
    "plt.title('Gradient Boost Result (TEST)')\n",
    "plt.show()"
   ]
  },
  {
   "cell_type": "code",
   "execution_count": null,
   "metadata": {},
   "outputs": [],
   "source": [
    "gb_pred = GBoost.predict(x_train_d)\n",
    "\n",
    "plt.plot(x, y, color = 'gray')\n",
    "plt.scatter(y_train_d, gb_pred, s=0.01, color='black')\n",
    "plt.xlabel('predicted latency')\n",
    "plt.ylabel('real latency')\n",
    "plt.title('Gradient Boosting Result with Discrete Data')\n",
    "plt.show()\n",
    "plt.savefig('gb_result.pdf', format='pdf')"
   ]
  },
  {
   "cell_type": "code",
   "execution_count": null,
   "metadata": {},
   "outputs": [],
   "source": [
    "gb_pred = GBoost.predict(x_test_d)\n",
    "\n",
    "plt.plot(x, y, color = 'gray')\n",
    "plt.scatter(y_test_d, gb_pred, s=0.01, color='black')\n",
    "plt.xlabel('input vector')\n",
    "plt.ylabel('latency')\n",
    "plt.title('Gradient Boost Result with Discrete (TEST)')\n",
    "plt.show()"
   ]
  },
  {
   "cell_type": "markdown",
   "metadata": {},
   "source": [
    "# Light GBM"
   ]
  },
  {
   "cell_type": "code",
   "execution_count": null,
   "metadata": {},
   "outputs": [],
   "source": [
    "# Light GBM score with discrete\n",
    "score = rmse(model_lgb, x_test_d, y_test_d)\n",
    "print(\"LGBM score: {:.4f} ({:.4f})\\n\" .format(score.mean(), score.std()))"
   ]
  },
  {
   "cell_type": "code",
   "execution_count": null,
   "metadata": {},
   "outputs": [],
   "source": [
    "lgb_pred = model_lgb.predict(x_train)\n",
    "\n",
    "plt.plot(x, y, color = 'gray')\n",
    "plt.scatter(y_train, lgb_pred, s=0.01, color='black')\n",
    "plt.xlabel('predicted latency')\n",
    "plt.ylabel('real latency')\n",
    "plt.title('LGBM Result with Continuous Data')\n",
    "plt.show()\n",
    "plt.savefig('lgbm_result.pdf', format='pdf')"
   ]
  },
  {
   "cell_type": "code",
   "execution_count": null,
   "metadata": {},
   "outputs": [],
   "source": [
    "lgb_pred = model_lgb.predict(x_test)\n",
    "\n",
    "plt.plot(x, y, color = 'gray')\n",
    "plt.scatter(y_test, lgb_pred, s=0.01, color='black')\n",
    "plt.xlabel('input vector')\n",
    "plt.ylabel('latency')\n",
    "plt.title('LGBM Result (TEST)')\n",
    "plt.show()"
   ]
  },
  {
   "cell_type": "code",
   "execution_count": null,
   "metadata": {},
   "outputs": [],
   "source": [
    "lgb_pred = model_lgb.predict(x_train_d)\n",
    "\n",
    "plt.plot(x, y, color = 'gray')\n",
    "plt.scatter(y_train_d, lgb_pred, s=0.01, color='black')\n",
    "plt.xlabel('predicted latency')\n",
    "plt.ylabel('real latency')\n",
    "plt.title('LGBM Result with Discrete Data')\n",
    "plt.show()\n",
    "plt.savefig('lgbm_result_with_d.pdf', format='pdf')"
   ]
  },
  {
   "cell_type": "code",
   "execution_count": null,
   "metadata": {},
   "outputs": [],
   "source": [
    "lgb_pred = model_lgb.predict(x_test_d)\n",
    "\n",
    "plt.plot(x, y, color = 'gray')\n",
    "plt.scatter(y_test_d, lgb_pred, s=0.01, color='black')\n",
    "plt.xlabel('input vector')\n",
    "plt.ylabel('latency')\n",
    "plt.title('LGBM Result with Discrete (TEST)')\n",
    "plt.show()"
   ]
  },
  {
   "cell_type": "code",
   "execution_count": null,
   "metadata": {},
   "outputs": [],
   "source": [
    "# ISSUE : 시사하는 바?\n",
    "# 일단은 30%니까 ㄱㅊ지 않을까?"
   ]
  }
 ],
 "metadata": {
  "kernelspec": {
   "display_name": "LENNA",
   "language": "python",
   "name": "lenna"
  },
  "language_info": {
   "codemirror_mode": {
    "name": "ipython",
    "version": 3
   },
   "file_extension": ".py",
   "mimetype": "text/x-python",
   "name": "python",
   "nbconvert_exporter": "python",
   "pygments_lexer": "ipython3",
   "version": "3.8.3"
  }
 },
 "nbformat": 4,
 "nbformat_minor": 4
}
