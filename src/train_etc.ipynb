{
 "cells": [
  {
   "cell_type": "code",
   "execution_count": 1,
   "metadata": {},
   "outputs": [],
   "source": [
    "import numpy as np # linear algebra\n",
    "import matplotlib.pyplot as plt\n",
    "import math\n",
    "%matplotlib inline"
   ]
  },
  {
   "cell_type": "code",
   "execution_count": 2,
   "metadata": {},
   "outputs": [],
   "source": [
    "import pandas as pd\n",
    "import torch\n",
    "import torch.nn as nn\n",
    "import torch.nn.functional as F\n",
    "from torch.autograd import Variable"
   ]
  },
  {
   "cell_type": "code",
   "execution_count": 3,
   "metadata": {},
   "outputs": [],
   "source": [
    "from sklearn.linear_model import ElasticNet, Lasso, BayesianRidge, LassoLarsIC\n",
    "from sklearn.ensemble import RandomForestRegressor, GradientBoostingRegressor\n",
    "from sklearn.kernel_ridge import KernelRidge\n",
    "from sklearn.pipeline import make_pipeline\n",
    "from sklearn.preprocessing import RobustScaler\n",
    "from sklearn.base import BaseEstimator, TransformerMixin, RegressorMixin, clone\n",
    "from sklearn.model_selection import KFold, cross_val_score, train_test_split\n",
    "from sklearn.metrics import mean_squared_error\n",
    "from xgboost import XGBRegressor\n",
    "import xgboost as xgb\n",
    "import lightgbm as lgb\n",
    "from sklearn.svm import SVR\n",
    "from sklearn.ensemble import RandomForestRegressor\n",
    "from sklearn.datasets import make_regression"
   ]
  },
  {
   "cell_type": "code",
   "execution_count": 4,
   "metadata": {},
   "outputs": [],
   "source": [
    "def rmse(model, x, y):\n",
    "    y_pred = model.predict(x)\n",
    "    mse = mean_squared_error(y_pred, y)\n",
    "    rmse = np.sqrt(mse)\n",
    "    return(rmse)"
   ]
  },
  {
   "cell_type": "code",
   "execution_count": 5,
   "metadata": {},
   "outputs": [],
   "source": [
    "import pandas as pd\n",
    "df= pd.read_csv(\"data.csv\", delimiter=',', header=None, skiprows=1, names=['STRD_DATE','MKT_NDX_CD','MKT_NDX_NM','DY_CHAG_RT','RC_DD5_CHAG_RT','RC_DD20_CHAG_RT',\n",
    "                                                                           'RC_DD60_CHAG_RT',\n",
    "                                                                           'RC_DD120_CHAG_RT','RC_WW52_CHAG_RT','CNRDYR_CHAG_RT','TRNS_QT_DD5_CHAG_RT', 'TRNS_QT_DD20_STRD_CHAG_RT',\n",
    "                                                                           'TRNS_QT_DD60_STRD_CHAG_RT', 'TRG_RT', 'ARGTG_RT', 'DD5_MOV_AVG_VAL',\n",
    "                                                                           'MACD_RATE', 'ROC_RATE', 'TRIX_RATE', 'CCI_RATE', 'BLNGR_TOP_RATE', 'BLNGR_LTSTP_RATE', \n",
    "                                                                           'ZSCR_RATE', 'DMI_PLUS_VAL', 'DMI_MNS_VAL', 'ADX_VAL', 'ADXR_VAL', 'STCHSTCFSK5_VAL',\n",
    "                                                                           'STCHSTCFSK3_VAL', 'STCHSTCLW5_VAL', 'STCHSTCLW3_VAL', 'RSI14_VAL', \n",
    "                                                                           'DD5_DSPT_RATE', 'DD20_DSPT_RATE', 'DD60_DSPT_RATE', 'DD120_DSPT_RATE', 'DD200_DSPT_RATE',\n",
    "                                                                           'DD20_VLTY_RATE', 'DD60_VLTY_RATE', 'DD90_VLTY_RATE', 'MFI_VAL', 'VR_VAL', 'OBV_VAL', 'ADR_RT',\n",
    "                                                                           'ADL_NUM', 'LOAD_DTM', 'CENT_CD'\n",
    "                                                                           ])"
   ]
  },
  {
   "cell_type": "code",
   "execution_count": 6,
   "metadata": {},
   "outputs": [
    {
     "name": "stdout",
     "output_type": "stream",
     "text": [
      "86072\n",
      "86072\n"
     ]
    },
    {
     "data": {
      "text/html": [
       "<div>\n",
       "<style scoped>\n",
       "    .dataframe tbody tr th:only-of-type {\n",
       "        vertical-align: middle;\n",
       "    }\n",
       "\n",
       "    .dataframe tbody tr th {\n",
       "        vertical-align: top;\n",
       "    }\n",
       "\n",
       "    .dataframe thead th {\n",
       "        text-align: right;\n",
       "    }\n",
       "</style>\n",
       "<table border=\"1\" class=\"dataframe\">\n",
       "  <thead>\n",
       "    <tr style=\"text-align: right;\">\n",
       "      <th></th>\n",
       "      <th>STRD_DATE</th>\n",
       "      <th>MKT_NDX_CD</th>\n",
       "      <th>MKT_NDX_NM</th>\n",
       "      <th>DY_CHAG_RT</th>\n",
       "      <th>RC_DD5_CHAG_RT</th>\n",
       "      <th>RC_DD20_CHAG_RT</th>\n",
       "      <th>RC_DD60_CHAG_RT</th>\n",
       "      <th>RC_DD120_CHAG_RT</th>\n",
       "      <th>RC_WW52_CHAG_RT</th>\n",
       "      <th>CNRDYR_CHAG_RT</th>\n",
       "      <th>...</th>\n",
       "      <th>DD20_VLTY_RATE</th>\n",
       "      <th>DD60_VLTY_RATE</th>\n",
       "      <th>DD90_VLTY_RATE</th>\n",
       "      <th>MFI_VAL</th>\n",
       "      <th>VR_VAL</th>\n",
       "      <th>OBV_VAL</th>\n",
       "      <th>ADR_RT</th>\n",
       "      <th>ADL_NUM</th>\n",
       "      <th>LOAD_DTM</th>\n",
       "      <th>CENT_CD</th>\n",
       "    </tr>\n",
       "  </thead>\n",
       "  <tbody>\n",
       "    <tr>\n",
       "      <th>0</th>\n",
       "      <td>20101229</td>\n",
       "      <td>242</td>\n",
       "      <td>코스닥 IT S/W &amp; SVC</td>\n",
       "      <td>0.00</td>\n",
       "      <td>0.00</td>\n",
       "      <td>0.0</td>\n",
       "      <td>0.0</td>\n",
       "      <td>0.0</td>\n",
       "      <td>0.0</td>\n",
       "      <td>0.00</td>\n",
       "      <td>...</td>\n",
       "      <td>0.0</td>\n",
       "      <td>0.0</td>\n",
       "      <td>0.0</td>\n",
       "      <td>0.00</td>\n",
       "      <td>0.0</td>\n",
       "      <td>0.0</td>\n",
       "      <td>0.0</td>\n",
       "      <td>0.0</td>\n",
       "      <td>0.0</td>\n",
       "      <td>0.0</td>\n",
       "    </tr>\n",
       "    <tr>\n",
       "      <th>1</th>\n",
       "      <td>20110118</td>\n",
       "      <td>243</td>\n",
       "      <td>코스닥 IT H/W</td>\n",
       "      <td>-0.35</td>\n",
       "      <td>-1.55</td>\n",
       "      <td>0.0</td>\n",
       "      <td>0.0</td>\n",
       "      <td>0.0</td>\n",
       "      <td>0.0</td>\n",
       "      <td>3.59</td>\n",
       "      <td>...</td>\n",
       "      <td>0.0</td>\n",
       "      <td>0.0</td>\n",
       "      <td>0.0</td>\n",
       "      <td>62.33</td>\n",
       "      <td>0.0</td>\n",
       "      <td>320189200.0</td>\n",
       "      <td>0.0</td>\n",
       "      <td>0.0</td>\n",
       "      <td>0.0</td>\n",
       "      <td>0.0</td>\n",
       "    </tr>\n",
       "    <tr>\n",
       "      <th>2</th>\n",
       "      <td>20110113</td>\n",
       "      <td>243</td>\n",
       "      <td>코스닥 IT H/W</td>\n",
       "      <td>-0.27</td>\n",
       "      <td>0.31</td>\n",
       "      <td>0.0</td>\n",
       "      <td>0.0</td>\n",
       "      <td>0.0</td>\n",
       "      <td>0.0</td>\n",
       "      <td>5.55</td>\n",
       "      <td>...</td>\n",
       "      <td>0.0</td>\n",
       "      <td>0.0</td>\n",
       "      <td>0.0</td>\n",
       "      <td>0.00</td>\n",
       "      <td>0.0</td>\n",
       "      <td>772138100.0</td>\n",
       "      <td>0.0</td>\n",
       "      <td>0.0</td>\n",
       "      <td>0.0</td>\n",
       "      <td>0.0</td>\n",
       "    </tr>\n",
       "    <tr>\n",
       "      <th>3</th>\n",
       "      <td>20110114</td>\n",
       "      <td>243</td>\n",
       "      <td>코스닥 IT H/W</td>\n",
       "      <td>-0.42</td>\n",
       "      <td>-0.59</td>\n",
       "      <td>0.0</td>\n",
       "      <td>0.0</td>\n",
       "      <td>0.0</td>\n",
       "      <td>0.0</td>\n",
       "      <td>5.10</td>\n",
       "      <td>...</td>\n",
       "      <td>0.0</td>\n",
       "      <td>0.0</td>\n",
       "      <td>0.0</td>\n",
       "      <td>0.00</td>\n",
       "      <td>0.0</td>\n",
       "      <td>611507900.0</td>\n",
       "      <td>0.0</td>\n",
       "      <td>0.0</td>\n",
       "      <td>0.0</td>\n",
       "      <td>0.0</td>\n",
       "    </tr>\n",
       "    <tr>\n",
       "      <th>4</th>\n",
       "      <td>20110118</td>\n",
       "      <td>7</td>\n",
       "      <td>코스피 종이,목재</td>\n",
       "      <td>-1.35</td>\n",
       "      <td>-2.67</td>\n",
       "      <td>0.0</td>\n",
       "      <td>0.0</td>\n",
       "      <td>0.0</td>\n",
       "      <td>0.0</td>\n",
       "      <td>-1.05</td>\n",
       "      <td>...</td>\n",
       "      <td>0.0</td>\n",
       "      <td>0.0</td>\n",
       "      <td>0.0</td>\n",
       "      <td>41.09</td>\n",
       "      <td>0.0</td>\n",
       "      <td>-32834300.0</td>\n",
       "      <td>0.0</td>\n",
       "      <td>0.0</td>\n",
       "      <td>0.0</td>\n",
       "      <td>0.0</td>\n",
       "    </tr>\n",
       "    <tr>\n",
       "      <th>5</th>\n",
       "      <td>20110120</td>\n",
       "      <td>7</td>\n",
       "      <td>코스피 종이,목재</td>\n",
       "      <td>-0.09</td>\n",
       "      <td>-1.25</td>\n",
       "      <td>0.0</td>\n",
       "      <td>0.0</td>\n",
       "      <td>0.0</td>\n",
       "      <td>0.0</td>\n",
       "      <td>-1.49</td>\n",
       "      <td>...</td>\n",
       "      <td>0.0</td>\n",
       "      <td>0.0</td>\n",
       "      <td>0.0</td>\n",
       "      <td>36.46</td>\n",
       "      <td>0.0</td>\n",
       "      <td>-46541000.0</td>\n",
       "      <td>0.0</td>\n",
       "      <td>0.0</td>\n",
       "      <td>0.0</td>\n",
       "      <td>0.0</td>\n",
       "    </tr>\n",
       "    <tr>\n",
       "      <th>6</th>\n",
       "      <td>20110120</td>\n",
       "      <td>256</td>\n",
       "      <td>코스닥 음식료,담배</td>\n",
       "      <td>-5.09</td>\n",
       "      <td>0.02</td>\n",
       "      <td>0.0</td>\n",
       "      <td>0.0</td>\n",
       "      <td>0.0</td>\n",
       "      <td>0.0</td>\n",
       "      <td>7.88</td>\n",
       "      <td>...</td>\n",
       "      <td>0.0</td>\n",
       "      <td>0.0</td>\n",
       "      <td>0.0</td>\n",
       "      <td>49.28</td>\n",
       "      <td>0.0</td>\n",
       "      <td>-96040100.0</td>\n",
       "      <td>0.0</td>\n",
       "      <td>0.0</td>\n",
       "      <td>0.0</td>\n",
       "      <td>0.0</td>\n",
       "    </tr>\n",
       "    <tr>\n",
       "      <th>7</th>\n",
       "      <td>20110118</td>\n",
       "      <td>8</td>\n",
       "      <td>코스피 화학</td>\n",
       "      <td>0.57</td>\n",
       "      <td>-1.08</td>\n",
       "      <td>0.0</td>\n",
       "      <td>0.0</td>\n",
       "      <td>0.0</td>\n",
       "      <td>0.0</td>\n",
       "      <td>4.09</td>\n",
       "      <td>...</td>\n",
       "      <td>0.0</td>\n",
       "      <td>0.0</td>\n",
       "      <td>0.0</td>\n",
       "      <td>66.84</td>\n",
       "      <td>0.0</td>\n",
       "      <td>107832300.0</td>\n",
       "      <td>0.0</td>\n",
       "      <td>0.0</td>\n",
       "      <td>0.0</td>\n",
       "      <td>0.0</td>\n",
       "    </tr>\n",
       "    <tr>\n",
       "      <th>8</th>\n",
       "      <td>20110125</td>\n",
       "      <td>8</td>\n",
       "      <td>코스피 화학</td>\n",
       "      <td>0.49</td>\n",
       "      <td>1.00</td>\n",
       "      <td>0.0</td>\n",
       "      <td>0.0</td>\n",
       "      <td>0.0</td>\n",
       "      <td>0.0</td>\n",
       "      <td>5.13</td>\n",
       "      <td>...</td>\n",
       "      <td>0.0</td>\n",
       "      <td>0.0</td>\n",
       "      <td>0.0</td>\n",
       "      <td>64.15</td>\n",
       "      <td>0.0</td>\n",
       "      <td>179122100.0</td>\n",
       "      <td>0.0</td>\n",
       "      <td>0.0</td>\n",
       "      <td>0.0</td>\n",
       "      <td>0.0</td>\n",
       "    </tr>\n",
       "    <tr>\n",
       "      <th>9</th>\n",
       "      <td>20110117</td>\n",
       "      <td>258</td>\n",
       "      <td>코스닥 섬유,의류</td>\n",
       "      <td>-1.93</td>\n",
       "      <td>-2.16</td>\n",
       "      <td>0.0</td>\n",
       "      <td>0.0</td>\n",
       "      <td>0.0</td>\n",
       "      <td>0.0</td>\n",
       "      <td>0.98</td>\n",
       "      <td>...</td>\n",
       "      <td>0.0</td>\n",
       "      <td>0.0</td>\n",
       "      <td>0.0</td>\n",
       "      <td>0.00</td>\n",
       "      <td>0.0</td>\n",
       "      <td>3149900.0</td>\n",
       "      <td>0.0</td>\n",
       "      <td>0.0</td>\n",
       "      <td>0.0</td>\n",
       "      <td>0.0</td>\n",
       "    </tr>\n",
       "    <tr>\n",
       "      <th>10</th>\n",
       "      <td>20110125</td>\n",
       "      <td>258</td>\n",
       "      <td>코스닥 섬유,의류</td>\n",
       "      <td>0.24</td>\n",
       "      <td>-2.68</td>\n",
       "      <td>0.0</td>\n",
       "      <td>0.0</td>\n",
       "      <td>0.0</td>\n",
       "      <td>0.0</td>\n",
       "      <td>-1.43</td>\n",
       "      <td>...</td>\n",
       "      <td>0.0</td>\n",
       "      <td>0.0</td>\n",
       "      <td>0.0</td>\n",
       "      <td>68.76</td>\n",
       "      <td>0.0</td>\n",
       "      <td>-10676700.0</td>\n",
       "      <td>0.0</td>\n",
       "      <td>0.0</td>\n",
       "      <td>0.0</td>\n",
       "      <td>0.0</td>\n",
       "    </tr>\n",
       "    <tr>\n",
       "      <th>11</th>\n",
       "      <td>20101229</td>\n",
       "      <td>258</td>\n",
       "      <td>코스닥 섬유,의류</td>\n",
       "      <td>0.00</td>\n",
       "      <td>0.00</td>\n",
       "      <td>0.0</td>\n",
       "      <td>0.0</td>\n",
       "      <td>0.0</td>\n",
       "      <td>0.0</td>\n",
       "      <td>0.00</td>\n",
       "      <td>...</td>\n",
       "      <td>0.0</td>\n",
       "      <td>0.0</td>\n",
       "      <td>0.0</td>\n",
       "      <td>0.00</td>\n",
       "      <td>0.0</td>\n",
       "      <td>0.0</td>\n",
       "      <td>0.0</td>\n",
       "      <td>0.0</td>\n",
       "      <td>0.0</td>\n",
       "      <td>0.0</td>\n",
       "    </tr>\n",
       "    <tr>\n",
       "      <th>12</th>\n",
       "      <td>20110117</td>\n",
       "      <td>262</td>\n",
       "      <td>코스닥 종이,목재</td>\n",
       "      <td>-0.07</td>\n",
       "      <td>-0.64</td>\n",
       "      <td>0.0</td>\n",
       "      <td>0.0</td>\n",
       "      <td>0.0</td>\n",
       "      <td>0.0</td>\n",
       "      <td>-1.38</td>\n",
       "      <td>...</td>\n",
       "      <td>0.0</td>\n",
       "      <td>0.0</td>\n",
       "      <td>0.0</td>\n",
       "      <td>0.00</td>\n",
       "      <td>0.0</td>\n",
       "      <td>-2638000.0</td>\n",
       "      <td>0.0</td>\n",
       "      <td>0.0</td>\n",
       "      <td>0.0</td>\n",
       "      <td>0.0</td>\n",
       "    </tr>\n",
       "    <tr>\n",
       "      <th>13</th>\n",
       "      <td>20101229</td>\n",
       "      <td>9</td>\n",
       "      <td>코스피 의약품</td>\n",
       "      <td>0.00</td>\n",
       "      <td>0.00</td>\n",
       "      <td>0.0</td>\n",
       "      <td>0.0</td>\n",
       "      <td>0.0</td>\n",
       "      <td>0.0</td>\n",
       "      <td>0.00</td>\n",
       "      <td>...</td>\n",
       "      <td>0.0</td>\n",
       "      <td>0.0</td>\n",
       "      <td>0.0</td>\n",
       "      <td>0.00</td>\n",
       "      <td>0.0</td>\n",
       "      <td>0.0</td>\n",
       "      <td>0.0</td>\n",
       "      <td>0.0</td>\n",
       "      <td>0.0</td>\n",
       "      <td>0.0</td>\n",
       "    </tr>\n",
       "    <tr>\n",
       "      <th>14</th>\n",
       "      <td>20110117</td>\n",
       "      <td>10</td>\n",
       "      <td>코스피 비금속광물</td>\n",
       "      <td>-0.53</td>\n",
       "      <td>-1.52</td>\n",
       "      <td>0.0</td>\n",
       "      <td>0.0</td>\n",
       "      <td>0.0</td>\n",
       "      <td>0.0</td>\n",
       "      <td>1.74</td>\n",
       "      <td>...</td>\n",
       "      <td>0.0</td>\n",
       "      <td>0.0</td>\n",
       "      <td>0.0</td>\n",
       "      <td>0.00</td>\n",
       "      <td>0.0</td>\n",
       "      <td>13930100.0</td>\n",
       "      <td>0.0</td>\n",
       "      <td>0.0</td>\n",
       "      <td>0.0</td>\n",
       "      <td>0.0</td>\n",
       "    </tr>\n",
       "    <tr>\n",
       "      <th>15</th>\n",
       "      <td>20110119</td>\n",
       "      <td>10</td>\n",
       "      <td>코스피 비금속광물</td>\n",
       "      <td>-0.33</td>\n",
       "      <td>-1.11</td>\n",
       "      <td>0.0</td>\n",
       "      <td>0.0</td>\n",
       "      <td>0.0</td>\n",
       "      <td>0.0</td>\n",
       "      <td>1.24</td>\n",
       "      <td>...</td>\n",
       "      <td>0.0</td>\n",
       "      <td>0.0</td>\n",
       "      <td>0.0</td>\n",
       "      <td>68.15</td>\n",
       "      <td>0.0</td>\n",
       "      <td>8646300.0</td>\n",
       "      <td>0.0</td>\n",
       "      <td>0.0</td>\n",
       "      <td>0.0</td>\n",
       "      <td>0.0</td>\n",
       "    </tr>\n",
       "    <tr>\n",
       "      <th>16</th>\n",
       "      <td>20110124</td>\n",
       "      <td>10</td>\n",
       "      <td>코스피 비금속광물</td>\n",
       "      <td>-0.42</td>\n",
       "      <td>-2.56</td>\n",
       "      <td>0.0</td>\n",
       "      <td>0.0</td>\n",
       "      <td>0.0</td>\n",
       "      <td>0.0</td>\n",
       "      <td>-0.87</td>\n",
       "      <td>...</td>\n",
       "      <td>0.0</td>\n",
       "      <td>0.0</td>\n",
       "      <td>0.0</td>\n",
       "      <td>51.65</td>\n",
       "      <td>0.0</td>\n",
       "      <td>1120500.0</td>\n",
       "      <td>0.0</td>\n",
       "      <td>0.0</td>\n",
       "      <td>0.0</td>\n",
       "      <td>0.0</td>\n",
       "    </tr>\n",
       "    <tr>\n",
       "      <th>17</th>\n",
       "      <td>20101229</td>\n",
       "      <td>262</td>\n",
       "      <td>코스닥 종이,목재</td>\n",
       "      <td>0.00</td>\n",
       "      <td>0.00</td>\n",
       "      <td>0.0</td>\n",
       "      <td>0.0</td>\n",
       "      <td>0.0</td>\n",
       "      <td>0.0</td>\n",
       "      <td>0.00</td>\n",
       "      <td>...</td>\n",
       "      <td>0.0</td>\n",
       "      <td>0.0</td>\n",
       "      <td>0.0</td>\n",
       "      <td>0.00</td>\n",
       "      <td>0.0</td>\n",
       "      <td>0.0</td>\n",
       "      <td>0.0</td>\n",
       "      <td>0.0</td>\n",
       "      <td>0.0</td>\n",
       "      <td>0.0</td>\n",
       "    </tr>\n",
       "    <tr>\n",
       "      <th>18</th>\n",
       "      <td>20110113</td>\n",
       "      <td>263</td>\n",
       "      <td>코스닥 출판,매체복제</td>\n",
       "      <td>0.87</td>\n",
       "      <td>2.29</td>\n",
       "      <td>0.0</td>\n",
       "      <td>0.0</td>\n",
       "      <td>0.0</td>\n",
       "      <td>0.0</td>\n",
       "      <td>8.33</td>\n",
       "      <td>...</td>\n",
       "      <td>0.0</td>\n",
       "      <td>0.0</td>\n",
       "      <td>0.0</td>\n",
       "      <td>0.00</td>\n",
       "      <td>0.0</td>\n",
       "      <td>42360200.0</td>\n",
       "      <td>0.0</td>\n",
       "      <td>0.0</td>\n",
       "      <td>0.0</td>\n",
       "      <td>0.0</td>\n",
       "    </tr>\n",
       "    <tr>\n",
       "      <th>19</th>\n",
       "      <td>20101229</td>\n",
       "      <td>10</td>\n",
       "      <td>코스피 비금속광물</td>\n",
       "      <td>0.00</td>\n",
       "      <td>0.00</td>\n",
       "      <td>0.0</td>\n",
       "      <td>0.0</td>\n",
       "      <td>0.0</td>\n",
       "      <td>0.0</td>\n",
       "      <td>0.00</td>\n",
       "      <td>...</td>\n",
       "      <td>0.0</td>\n",
       "      <td>0.0</td>\n",
       "      <td>0.0</td>\n",
       "      <td>0.00</td>\n",
       "      <td>0.0</td>\n",
       "      <td>0.0</td>\n",
       "      <td>0.0</td>\n",
       "      <td>0.0</td>\n",
       "      <td>0.0</td>\n",
       "      <td>0.0</td>\n",
       "    </tr>\n",
       "  </tbody>\n",
       "</table>\n",
       "<p>20 rows × 47 columns</p>\n",
       "</div>"
      ],
      "text/plain": [
       "    STRD_DATE  MKT_NDX_CD        MKT_NDX_NM  DY_CHAG_RT  RC_DD5_CHAG_RT  \\\n",
       "0    20101229         242  코스닥 IT S/W & SVC        0.00            0.00   \n",
       "1    20110118         243        코스닥 IT H/W       -0.35           -1.55   \n",
       "2    20110113         243        코스닥 IT H/W       -0.27            0.31   \n",
       "3    20110114         243        코스닥 IT H/W       -0.42           -0.59   \n",
       "4    20110118           7         코스피 종이,목재       -1.35           -2.67   \n",
       "5    20110120           7         코스피 종이,목재       -0.09           -1.25   \n",
       "6    20110120         256        코스닥 음식료,담배       -5.09            0.02   \n",
       "7    20110118           8            코스피 화학        0.57           -1.08   \n",
       "8    20110125           8            코스피 화학        0.49            1.00   \n",
       "9    20110117         258         코스닥 섬유,의류       -1.93           -2.16   \n",
       "10   20110125         258         코스닥 섬유,의류        0.24           -2.68   \n",
       "11   20101229         258         코스닥 섬유,의류        0.00            0.00   \n",
       "12   20110117         262         코스닥 종이,목재       -0.07           -0.64   \n",
       "13   20101229           9           코스피 의약품        0.00            0.00   \n",
       "14   20110117          10         코스피 비금속광물       -0.53           -1.52   \n",
       "15   20110119          10         코스피 비금속광물       -0.33           -1.11   \n",
       "16   20110124          10         코스피 비금속광물       -0.42           -2.56   \n",
       "17   20101229         262         코스닥 종이,목재        0.00            0.00   \n",
       "18   20110113         263       코스닥 출판,매체복제        0.87            2.29   \n",
       "19   20101229          10         코스피 비금속광물        0.00            0.00   \n",
       "\n",
       "    RC_DD20_CHAG_RT  RC_DD60_CHAG_RT  RC_DD120_CHAG_RT  RC_WW52_CHAG_RT  \\\n",
       "0               0.0              0.0               0.0              0.0   \n",
       "1               0.0              0.0               0.0              0.0   \n",
       "2               0.0              0.0               0.0              0.0   \n",
       "3               0.0              0.0               0.0              0.0   \n",
       "4               0.0              0.0               0.0              0.0   \n",
       "5               0.0              0.0               0.0              0.0   \n",
       "6               0.0              0.0               0.0              0.0   \n",
       "7               0.0              0.0               0.0              0.0   \n",
       "8               0.0              0.0               0.0              0.0   \n",
       "9               0.0              0.0               0.0              0.0   \n",
       "10              0.0              0.0               0.0              0.0   \n",
       "11              0.0              0.0               0.0              0.0   \n",
       "12              0.0              0.0               0.0              0.0   \n",
       "13              0.0              0.0               0.0              0.0   \n",
       "14              0.0              0.0               0.0              0.0   \n",
       "15              0.0              0.0               0.0              0.0   \n",
       "16              0.0              0.0               0.0              0.0   \n",
       "17              0.0              0.0               0.0              0.0   \n",
       "18              0.0              0.0               0.0              0.0   \n",
       "19              0.0              0.0               0.0              0.0   \n",
       "\n",
       "    CNRDYR_CHAG_RT  ...  DD20_VLTY_RATE  DD60_VLTY_RATE  DD90_VLTY_RATE  \\\n",
       "0             0.00  ...             0.0             0.0             0.0   \n",
       "1             3.59  ...             0.0             0.0             0.0   \n",
       "2             5.55  ...             0.0             0.0             0.0   \n",
       "3             5.10  ...             0.0             0.0             0.0   \n",
       "4            -1.05  ...             0.0             0.0             0.0   \n",
       "5            -1.49  ...             0.0             0.0             0.0   \n",
       "6             7.88  ...             0.0             0.0             0.0   \n",
       "7             4.09  ...             0.0             0.0             0.0   \n",
       "8             5.13  ...             0.0             0.0             0.0   \n",
       "9             0.98  ...             0.0             0.0             0.0   \n",
       "10           -1.43  ...             0.0             0.0             0.0   \n",
       "11            0.00  ...             0.0             0.0             0.0   \n",
       "12           -1.38  ...             0.0             0.0             0.0   \n",
       "13            0.00  ...             0.0             0.0             0.0   \n",
       "14            1.74  ...             0.0             0.0             0.0   \n",
       "15            1.24  ...             0.0             0.0             0.0   \n",
       "16           -0.87  ...             0.0             0.0             0.0   \n",
       "17            0.00  ...             0.0             0.0             0.0   \n",
       "18            8.33  ...             0.0             0.0             0.0   \n",
       "19            0.00  ...             0.0             0.0             0.0   \n",
       "\n",
       "    MFI_VAL  VR_VAL      OBV_VAL  ADR_RT  ADL_NUM  LOAD_DTM  CENT_CD  \n",
       "0      0.00     0.0          0.0     0.0      0.0       0.0      0.0  \n",
       "1     62.33     0.0  320189200.0     0.0      0.0       0.0      0.0  \n",
       "2      0.00     0.0  772138100.0     0.0      0.0       0.0      0.0  \n",
       "3      0.00     0.0  611507900.0     0.0      0.0       0.0      0.0  \n",
       "4     41.09     0.0  -32834300.0     0.0      0.0       0.0      0.0  \n",
       "5     36.46     0.0  -46541000.0     0.0      0.0       0.0      0.0  \n",
       "6     49.28     0.0  -96040100.0     0.0      0.0       0.0      0.0  \n",
       "7     66.84     0.0  107832300.0     0.0      0.0       0.0      0.0  \n",
       "8     64.15     0.0  179122100.0     0.0      0.0       0.0      0.0  \n",
       "9      0.00     0.0    3149900.0     0.0      0.0       0.0      0.0  \n",
       "10    68.76     0.0  -10676700.0     0.0      0.0       0.0      0.0  \n",
       "11     0.00     0.0          0.0     0.0      0.0       0.0      0.0  \n",
       "12     0.00     0.0   -2638000.0     0.0      0.0       0.0      0.0  \n",
       "13     0.00     0.0          0.0     0.0      0.0       0.0      0.0  \n",
       "14     0.00     0.0   13930100.0     0.0      0.0       0.0      0.0  \n",
       "15    68.15     0.0    8646300.0     0.0      0.0       0.0      0.0  \n",
       "16    51.65     0.0    1120500.0     0.0      0.0       0.0      0.0  \n",
       "17     0.00     0.0          0.0     0.0      0.0       0.0      0.0  \n",
       "18     0.00     0.0   42360200.0     0.0      0.0       0.0      0.0  \n",
       "19     0.00     0.0          0.0     0.0      0.0       0.0      0.0  \n",
       "\n",
       "[20 rows x 47 columns]"
      ]
     },
     "execution_count": 6,
     "metadata": {},
     "output_type": "execute_result"
    }
   ],
   "source": [
    "print(len(df))\n",
    "\n",
    "df.fillna(0, inplace=True)\n",
    "\n",
    "print(len(df))\n",
    "\n",
    "df.head(20)"
   ]
  },
  {
   "cell_type": "code",
   "execution_count": 7,
   "metadata": {},
   "outputs": [],
   "source": [
    "X = df[['STRD_DATE','MKT_NDX_CD','RC_DD5_CHAG_RT','RC_DD20_CHAG_RT',\n",
    "          'RC_DD60_CHAG_RT',\n",
    "          'RC_DD120_CHAG_RT','RC_WW52_CHAG_RT','CNRDYR_CHAG_RT','TRNS_QT_DD5_CHAG_RT', 'TRNS_QT_DD20_STRD_CHAG_RT',\n",
    "          'TRNS_QT_DD60_STRD_CHAG_RT', 'TRG_RT', 'ARGTG_RT', 'DD5_MOV_AVG_VAL',\n",
    "          'MACD_RATE', 'ROC_RATE', 'TRIX_RATE', 'CCI_RATE', 'BLNGR_TOP_RATE', 'BLNGR_LTSTP_RATE', \n",
    "          'ZSCR_RATE', 'DMI_PLUS_VAL', 'DMI_MNS_VAL', 'ADX_VAL', 'ADXR_VAL', 'STCHSTCFSK5_VAL',\n",
    "          'STCHSTCFSK3_VAL', 'STCHSTCLW5_VAL', 'STCHSTCLW3_VAL', 'RSI14_VAL', \n",
    "          'DD5_DSPT_RATE', 'DD20_DSPT_RATE', 'DD60_DSPT_RATE', 'DD120_DSPT_RATE', 'DD200_DSPT_RATE',\n",
    "          'DD20_VLTY_RATE', 'DD60_VLTY_RATE', 'DD90_VLTY_RATE', 'MFI_VAL', 'VR_VAL', 'OBV_VAL', 'ADR_RT',\n",
    "          'ADL_NUM', 'LOAD_DTM', 'CENT_CD']]\n",
    "Y = df['DY_CHAG_RT'] # 일변동률\n",
    "\n",
    "\n",
    "from sklearn.model_selection import train_test_split\n",
    "x_train, x_test, y_train, y_test = train_test_split(X, Y, test_size=0.2, shuffle = False)\n",
    "#train_features = train[['기준일자','시장지수코드','시장지수명','일변동율','최근5일변동율','최근20일변동율','최근60일변동율',\n",
    "#                                                                           '최근120일변동율','최근52주변동율','당해년도변동율','거래량5일변동율', '거래량20일기준변동율',\n",
    "#                                                                           '거래량60일기준변동율', 'truerange율', 'averagetruerange5일율', '5일이동평균값',\n",
    "#                                                                           'MACD비율', 'ROC비율', 'TRIX비율', 'CCI비율', '볼린저밴드상단비율', '볼린저밴드하단비율', \n",
    "#                                                                           'Zscore비율', 'DMIPLUS값', 'DMIMINUS값', 'ADX값', 'ADXR값', 'STOCHASTICFASTK5값',\n",
    "#                                                                           'STOCHASTICFASTK3값', 'STOCHASTICSLOW5값', 'STOCHASTICSLOW3값', '14RSI값', \n",
    "#                                                                           '5일이격도비율', '20일이격도비율', '60일이격도비율', '120일이격도비율', '200일이격도비율',\n",
    "#                                                                           '20일변동성비율', '60일변동성비율', '90일변동성비율', 'MFI값', 'VR값', 'OBV값', 'ADR율',\n",
    "#                                                                           'ADL수', '적재일시', '센터코드']] # works OK\n",
    "\n",
    "# 데이터(X)와 레이블(Y)을 넣었을 경우\n",
    "# shuffle = False"
   ]
  },
  {
   "cell_type": "code",
   "execution_count": 8,
   "metadata": {},
   "outputs": [],
   "source": [
    "# -----------------------------------------------------------------"
   ]
  },
  {
   "cell_type": "code",
   "execution_count": 9,
   "metadata": {},
   "outputs": [],
   "source": [
    "# lasso regression\n",
    "\n",
    "lasso = Lasso(alpha =0.0005, random_state=3)"
   ]
  },
  {
   "cell_type": "code",
   "execution_count": 10,
   "metadata": {},
   "outputs": [],
   "source": [
    "# ElasticNet regression \n",
    "\n",
    "ENet = ElasticNet(alpha=0.0005, l1_ratio=.9, random_state=3)"
   ]
  },
  {
   "cell_type": "code",
   "execution_count": 11,
   "metadata": {},
   "outputs": [],
   "source": [
    "# kernel Ridge regression\n",
    "\n",
    "KRR = KernelRidge(alpha=0.6, kernel='polynomial', degree=2, coef0=2.5) #kernel = 'rbf' , 'sigmoid' "
   ]
  },
  {
   "cell_type": "code",
   "execution_count": 12,
   "metadata": {},
   "outputs": [],
   "source": [
    "# Gradient Boosting Regression\n",
    "\n",
    "GBoost = GradientBoostingRegressor(n_estimators=1000, learning_rate=0.1,\n",
    "                                   max_depth=3, max_features='sqrt',\n",
    "                                   min_samples_leaf=15, min_samples_split=10, \n",
    "                                   loss='huber', random_state =5)"
   ]
  },
  {
   "cell_type": "code",
   "execution_count": 13,
   "metadata": {},
   "outputs": [],
   "source": [
    "# LGB Regressor\n",
    "\n",
    "model_lgb = lgb.LGBMRegressor(objective='regression',num_leaves=5,\n",
    "                              learning_rate=0.1, n_estimators=500,\n",
    "                              max_bin = 55, bagging_fraction = 0.8,\n",
    "                              bagging_freq = 5, feature_fraction = 0.2319,\n",
    "                              feature_fraction_seed=9, bagging_seed=9,\n",
    "                              min_data_in_leaf =6, min_sum_hessian_in_leaf = 11)"
   ]
  },
  {
   "cell_type": "code",
   "execution_count": 14,
   "metadata": {},
   "outputs": [],
   "source": [
    "# XGBoost Algorithm (without GridSearch)\n",
    "\n",
    "model_xgb = xgb.XGBRegressor(colsample_bytree=0.4, gamma=0.03, \n",
    "                             learning_rate=0.14, max_depth=4, \n",
    "                             min_child_weight=1.5, n_estimators=500,\n",
    "                             reg_alpha=0.5, reg_lambda=0.5, tree_method=\"gpu_hist\",\n",
    "                             subsample=0.5, random_state =3, nthread = -1)"
   ]
  },
  {
   "cell_type": "code",
   "execution_count": 15,
   "metadata": {},
   "outputs": [],
   "source": [
    "# SVR with GridSearch\n",
    "\n",
    "model_svr = SVR(C=1, cache_size=200, coef0=0, degree=3, epsilon=0.0, gamma='auto',\n",
    "  kernel='rbf', max_iter=-1, shrinking=True, tol=0.001, verbose=False)"
   ]
  },
  {
   "cell_type": "code",
   "execution_count": 16,
   "metadata": {},
   "outputs": [],
   "source": [
    "# Random Forest Regressor with GridSearch\n",
    "\n",
    "\n",
    "regr = RandomForestRegressor(bootstrap=True, criterion='mse', max_depth=None,\n",
    "           max_features=150, max_leaf_nodes=None,\n",
    "           min_impurity_decrease=0.0, min_impurity_split=None,\n",
    "           min_samples_leaf=1, min_samples_split=2,\n",
    "           min_weight_fraction_leaf=0.0, n_estimators=90, n_jobs=1,\n",
    "           oob_score=False, random_state=None, verbose=0, warm_start=False)\n",
    "\n",
    "#grid_search.best_estimator_"
   ]
  },
  {
   "cell_type": "code",
   "execution_count": 17,
   "metadata": {},
   "outputs": [],
   "source": [
    "# -----------------------------------------------------"
   ]
  },
  {
   "cell_type": "code",
   "execution_count": 18,
   "metadata": {},
   "outputs": [
    {
     "name": "stderr",
     "output_type": "stream",
     "text": [
      "/nfs/home/kit7777777t/.local/lib/python3.6/site-packages/sklearn/linear_model/_coordinate_descent.py:476: ConvergenceWarning: Objective did not converge. You might want to increase the number of iterations. Duality gap: 17431.433219660932, tolerance: 17.89013930670375\n",
      "  positive)\n",
      "/nfs/home/kit7777777t/.local/lib/python3.6/site-packages/sklearn/linear_model/_coordinate_descent.py:476: ConvergenceWarning: Objective did not converge. You might want to increase the number of iterations. Duality gap: 17791.90341876273, tolerance: 17.89013930670375\n",
      "  positive)\n"
     ]
    },
    {
     "data": {
      "text/plain": [
       "ElasticNet(alpha=0.0005, copy_X=True, fit_intercept=True, l1_ratio=0.9,\n",
       "           max_iter=1000, normalize=False, positive=False, precompute=False,\n",
       "           random_state=3, selection='cyclic', tol=0.0001, warm_start=False)"
      ]
     },
     "execution_count": 18,
     "metadata": {},
     "output_type": "execute_result"
    }
   ],
   "source": [
    "lasso.fit(x_train, y_train)\n",
    "ENet.fit(x_train, y_train)"
   ]
  },
  {
   "cell_type": "code",
   "execution_count": 19,
   "metadata": {},
   "outputs": [
    {
     "data": {
      "text/plain": [
       "LGBMRegressor(bagging_fraction=0.8, bagging_freq=5, bagging_seed=9,\n",
       "              boosting_type='gbdt', class_weight=None, colsample_bytree=1.0,\n",
       "              feature_fraction=0.2319, feature_fraction_seed=9,\n",
       "              importance_type='split', learning_rate=0.1, max_bin=55,\n",
       "              max_depth=-1, min_child_samples=20, min_child_weight=0.001,\n",
       "              min_data_in_leaf=6, min_split_gain=0.0,\n",
       "              min_sum_hessian_in_leaf=11, n_estimators=500, n_jobs=-1,\n",
       "              num_leaves=5, objective='regression', random_state=None,\n",
       "              reg_alpha=0.0, reg_lambda=0.0, silent=True, subsample=1.0,\n",
       "              subsample_for_bin=200000, subsample_freq=0)"
      ]
     },
     "execution_count": 19,
     "metadata": {},
     "output_type": "execute_result"
    }
   ],
   "source": [
    "GBoost.fit(x_train, y_train)\n",
    "model_xgb.fit(x_train, y_train)\n",
    "model_lgb.fit(x_train, y_train)"
   ]
  },
  {
   "cell_type": "code",
   "execution_count": 20,
   "metadata": {},
   "outputs": [],
   "source": [
    "#model_svr.fit(x_train, y_train)"
   ]
  },
  {
   "cell_type": "code",
   "execution_count": 21,
   "metadata": {},
   "outputs": [
    {
     "name": "stdout",
     "output_type": "stream",
     "text": [
      "Lasso rmse: 0.7450 (0.0000)\n",
      "\n"
     ]
    }
   ],
   "source": [
    "score = rmse(lasso, x_train, y_train)\n",
    "print(\"Lasso rmse: {:.4f} ({:.4f})\\n\".format(score.mean(), score.std()))"
   ]
  },
  {
   "cell_type": "code",
   "execution_count": 22,
   "metadata": {},
   "outputs": [
    {
     "name": "stdout",
     "output_type": "stream",
     "text": [
      "ElasticNet rmse: 0.7450 (0.0000)\n",
      "\n"
     ]
    }
   ],
   "source": [
    "score = rmse(ENet, x_train, y_train)\n",
    "print(\"ElasticNet rmse: {:.4f} ({:.4f})\\n\".format(score.mean(), score.std()))"
   ]
  },
  {
   "cell_type": "code",
   "execution_count": 23,
   "metadata": {},
   "outputs": [
    {
     "name": "stdout",
     "output_type": "stream",
     "text": [
      "Gradient Boosting score: 0.6487 (0.0000)\n",
      "\n"
     ]
    }
   ],
   "source": [
    "# Gradient Boosting score\n",
    "score = rmse(GBoost, x_train, y_train)\n",
    "print(\"Gradient Boosting score: {:.4f} ({:.4f})\\n\".format(score.mean(), score.std()))"
   ]
  },
  {
   "cell_type": "code",
   "execution_count": 24,
   "metadata": {},
   "outputs": [
    {
     "name": "stdout",
     "output_type": "stream",
     "text": [
      "Xgboost score: 0.5329 (0.0000)\n",
      "\n"
     ]
    }
   ],
   "source": [
    "# XGBoost score\n",
    "score = rmse(model_xgb, x_train, y_train)\n",
    "print(\"Xgboost score: {:.4f} ({:.4f})\\n\".format(score.mean(), score.std()))"
   ]
  },
  {
   "cell_type": "code",
   "execution_count": 25,
   "metadata": {},
   "outputs": [
    {
     "name": "stdout",
     "output_type": "stream",
     "text": [
      "LGBM: 0.7712 (0.0000)\n",
      "\n"
     ]
    }
   ],
   "source": [
    "score = rmse(model_lgb, x_train, y_train)\n",
    "print(\"LGBM: {:.4f} ({:.4f})\\n\".format(score.mean(), score.std()))"
   ]
  },
  {
   "cell_type": "code",
   "execution_count": 26,
   "metadata": {},
   "outputs": [],
   "source": [
    "#score = rmse(model_svr, x_train, y_train)\n",
    "#print(\"Support Vector Regressor rmse: {:.4f} ({:.4f})\\n\".format(score.mean(), score.std()))"
   ]
  },
  {
   "cell_type": "code",
   "execution_count": 27,
   "metadata": {},
   "outputs": [],
   "source": [
    "#score = rmse(regr, x_train, y_train)\n",
    "#print(\"Random Forest Regressor rmse: {:.4f} ({:.4f})\\n\".format(score.mean(), score.std()))"
   ]
  },
  {
   "cell_type": "code",
   "execution_count": 28,
   "metadata": {},
   "outputs": [],
   "source": [
    "# -------------------------------------------------------"
   ]
  },
  {
   "cell_type": "code",
   "execution_count": null,
   "metadata": {},
   "outputs": [],
   "source": []
  },
  {
   "cell_type": "code",
   "execution_count": 29,
   "metadata": {},
   "outputs": [],
   "source": [
    "from joblib import load\n",
    "def real_value(X):\n",
    "    robust, quantile = load(\"robust.pkl\"), load(\"quantile.pkl\")\n",
    "    if isinstance(X, pd.Series):\n",
    "        X = X.values.reshape(-1, 1)\n",
    "    else:\n",
    "        X = X.reshape(-1, 1)\n",
    "    return robust.inverse_transform(quantile.inverse_transform(X)).reshape(-1)"
   ]
  },
  {
   "cell_type": "code",
   "execution_count": 30,
   "metadata": {},
   "outputs": [],
   "source": [
    "def erratio_wreal(model, x_test, y_test):\n",
    "    y_pred = model.predict(x_test)\n",
    "    y_test, y_pred = np.array(real_value(y_test)), np.array(real_value(y_pred))\n",
    "    err = y_pred - y_test\n",
    "    ratio = err / y_test * 100\n",
    "    return ratio.mean()"
   ]
  },
  {
   "cell_type": "code",
   "execution_count": 31,
   "metadata": {},
   "outputs": [
    {
     "name": "stdout",
     "output_type": "stream",
     "text": [
      "Lasso error ratio : 28.047232458623533\n",
      "ElasticNet error ratio : 28.051869326344484\n",
      "Gradient Boosting error ratio : 15.736785098111417\n",
      "Xgboost error ratio : 17.001498001818952\n",
      "LGBM rmse error ratio : 24.140841137807225\n"
     ]
    }
   ],
   "source": [
    "print(\"Lasso error ratio : {}\".format(erratio_wreal(lasso, x_test, y_test)))\n",
    "print(\"ElasticNet error ratio : {}\".format(erratio_wreal(ENet, x_test, y_test)))\n",
    "\n",
    "print(\"Gradient Boosting error ratio : {}\".format(erratio_wreal(GBoost, x_test, y_test)))\n",
    "print(\"Xgboost error ratio : {}\".format(erratio_wreal(model_xgb, x_test, y_test)))\n",
    "print(\"LGBM rmse error ratio : {}\".format(erratio_wreal(model_lgb, x_test, y_test)))\n"
   ]
  },
  {
   "cell_type": "markdown",
   "metadata": {},
   "source": [
    "# Graph"
   ]
  },
  {
   "cell_type": "code",
   "execution_count": 44,
   "metadata": {},
   "outputs": [
    {
     "data": {
      "image/png": "[encoded data removed]",
      "text/plain": [
       "<Figure size 432x288 with 1 Axes>"
      ]
     },
     "metadata": {
      "needs_background": "light"
     },
     "output_type": "display_data"
    }
   ],
   "source": [
    "lasso_train_pred = lasso.predict(x_train)\n",
    "\n",
    "x = np.arange(-20,20) \n",
    "y = x\n",
    "\n",
    "plt.plot(x, y, color = 'gray')\n",
    "plt.scatter(y_train, lasso_train_pred, s=0.05, color='black')\n",
    "plt.xlabel('prediction')\n",
    "plt.ylabel('real value')\n",
    "plt.title('Lasso Prediction')\n",
    "plt.show()"
   ]
  },
  {
   "cell_type": "code",
   "execution_count": 45,
   "metadata": {},
   "outputs": [
    {
     "data": {
      "image/png": "[encoded data removed]",
      "text/plain": [
       "<Figure size 432x288 with 1 Axes>"
      ]
     },
     "metadata": {
      "needs_background": "light"
     },
     "output_type": "display_data"
    }
   ],
   "source": [
    "enet_train_pred = ENet.predict(x_train)\n",
    "\n",
    "x = np.arange(-20,20) \n",
    "y = x\n",
    "\n",
    "plt.plot(x, y, color = 'gray')\n",
    "plt.scatter(y_train, enet_train_pred, s=0.05, color='black')\n",
    "plt.xlabel('prediction')\n",
    "plt.ylabel('real value')\n",
    "plt.title('ElasticNet Prediction')\n",
    "plt.show()"
   ]
  },
  {
   "cell_type": "code",
   "execution_count": 46,
   "metadata": {},
   "outputs": [
    {
     "data": {
      "image/png": "[encoded data removed]",
      "text/plain": [
       "<Figure size 432x288 with 1 Axes>"
      ]
     },
     "metadata": {
      "needs_background": "light"
     },
     "output_type": "display_data"
    }
   ],
   "source": [
    "gb_train_pred = GBoost.predict(x_train)\n",
    "\n",
    "x = np.arange(-20,20) \n",
    "y = x\n",
    "\n",
    "plt.plot(x, y, color = 'gray')\n",
    "plt.scatter(y_train, gb_train_pred, s=0.05, color='black')\n",
    "plt.xlabel('prediction')\n",
    "plt.ylabel('real value')\n",
    "plt.title('Gradient Boosting Prediction')\n",
    "plt.show()"
   ]
  },
  {
   "cell_type": "code",
   "execution_count": 43,
   "metadata": {},
   "outputs": [
    {
     "data": {
      "image/png": "[encoded data removed]",
      "text/plain": [
       "<Figure size 432x288 with 1 Axes>"
      ]
     },
     "metadata": {
      "needs_background": "light"
     },
     "output_type": "display_data"
    }
   ],
   "source": [
    "xgb_train_pred = model_xgb.predict(x_train)\n",
    "\n",
    "x = np.arange(-20,20) \n",
    "y = x\n",
    "\n",
    "plt.plot(x, y, color = 'gray')\n",
    "plt.scatter(y_train, xgb_train_pred, s=0.05, color='black')\n",
    "plt.xlabel('prediction')\n",
    "plt.ylabel('real value')\n",
    "plt.title('XGBoost Prediction')\n",
    "plt.show()"
   ]
  },
  {
   "cell_type": "code",
   "execution_count": 36,
   "metadata": {},
   "outputs": [
    {
     "name": "stdout",
     "output_type": "stream",
     "text": [
      "[0.01592557 0.00542332 0.0245015  0.01204724 0.00953675 0.01149834\n",
      " 0.01025908 0.00720061 0.01397272 0.00932954 0.00813512 0.01536532\n",
      " 0.01282575 0.01252496 0.01462903 0.00945353 0.01178404 0.01731923\n",
      " 0.01260626 0.02469305 0.09331828 0.01593248 0.01508731 0.00786704\n",
      " 0.01253411 0.08668274 0.03547769 0.0259364  0.04012439 0.01558888\n",
      " 0.25062817 0.01534428 0.01540071 0.00925925 0.00786577 0.0311471\n",
      " 0.01895234 0.02258495 0.00637794 0.0076977  0.00716156 0.\n",
      " 0.         0.         0.        ]\n"
     ]
    }
   ],
   "source": [
    "print(model_xgb.feature_importances_)"
   ]
  },
  {
   "cell_type": "code",
   "execution_count": 37,
   "metadata": {
    "scrolled": true
   },
   "outputs": [
    {
     "data": {
      "image/png": "[encoded data removed]",
      "text/plain": [
       "<Figure size 432x288 with 1 Axes>"
      ]
     },
     "metadata": {
      "needs_background": "light"
     },
     "output_type": "display_data"
    }
   ],
   "source": [
    "plt.bar(range(len(model_xgb.feature_importances_)), model_xgb.feature_importances_, color='black')\n",
    "plt.savefig('feature_importance_graph.pdf', format='pdf')\n",
    "plt.show()\n"
   ]
  },
  {
   "cell_type": "code",
   "execution_count": 38,
   "metadata": {},
   "outputs": [
    {
     "data": {
      "image/png": "[encoded data removed]",
      "text/plain": [
       "<Figure size 432x288 with 1 Axes>"
      ]
     },
     "metadata": {
      "needs_background": "light"
     },
     "output_type": "display_data"
    },
    {
     "data": {
      "text/plain": [
       "<Figure size 432x288 with 0 Axes>"
      ]
     },
     "metadata": {},
     "output_type": "display_data"
    }
   ],
   "source": [
    "from xgboost import plot_importance\n",
    "plot_importance(model_xgb, color='black')\n",
    "plt.show()\n",
    "plt.savefig('feature_importance_all.pdf', format='pdf')"
   ]
  },
  {
   "cell_type": "code",
   "execution_count": 39,
   "metadata": {},
   "outputs": [
    {
     "data": {
      "image/png": "[encoded data removed]",
      "text/plain": [
       "<Figure size 432x288 with 1 Axes>"
      ]
     },
     "metadata": {
      "needs_background": "light"
     },
     "output_type": "display_data"
    },
    {
     "data": {
      "text/plain": [
       "<Figure size 432x288 with 0 Axes>"
      ]
     },
     "metadata": {},
     "output_type": "display_data"
    }
   ],
   "source": [
    "plot_importance(model_xgb, max_num_features=10, color='black')\n",
    "plt.show()\n",
    "plt.savefig('feature_importance_top10.pdf', format='pdf')"
   ]
  },
  {
   "cell_type": "code",
   "execution_count": 42,
   "metadata": {},
   "outputs": [
    {
     "data": {
      "image/png": "[encoded data removed]",
      "text/plain": [
       "<Figure size 432x288 with 1 Axes>"
      ]
     },
     "metadata": {
      "needs_background": "light"
     },
     "output_type": "display_data"
    }
   ],
   "source": [
    "lgbm_train_pred = model_lgb.predict(x_train)\n",
    "\n",
    "x = np.arange(-20,20) \n",
    "y = x\n",
    "\n",
    "plt.plot(x, y, color = 'gray')\n",
    "plt.scatter(y_train, lgbm_train_pred, s=0.05, color='black')\n",
    "plt.xlabel('prediction')\n",
    "plt.ylabel('real value')\n",
    "plt.title('Light GBM Prediction')\n",
    "plt.show()"
   ]
  },
  {
   "cell_type": "code",
   "execution_count": null,
   "metadata": {},
   "outputs": [],
   "source": [
    "# --------------"
   ]
  },
  {
   "cell_type": "code",
   "execution_count": null,
   "metadata": {},
   "outputs": [],
   "source": [
    "svr_train_pred = model_svr.predict(x_train)\n",
    "\n",
    "x = np.arange(-20,20) \n",
    "y = x\n",
    "\n",
    "plt.plot(x, y, color = 'gray')\n",
    "plt.scatter(y_train, svr_train_pred, s=0.1, color='black')\n",
    "plt.xlabel('prediction')\n",
    "plt.ylabel('real value')\n",
    "plt.title('Support Vector Regressor Prediction')\n",
    "plt.show()"
   ]
  },
  {
   "cell_type": "code",
   "execution_count": null,
   "metadata": {},
   "outputs": [],
   "source": [
    "regr_train_pred = regr.predict(x_train)\n",
    "\n",
    "x = np.arange(-20,20) \n",
    "y = x\n",
    "\n",
    "plt.plot(x, y, color = 'gray')\n",
    "plt.scatter(y_train, regr_train_pred, s=0.1, color='black')\n",
    "plt.xlabel('prediction')\n",
    "plt.ylabel('real value')\n",
    "plt.title('Random Forest Prediction')\n",
    "plt.show()"
   ]
  },
  {
   "cell_type": "code",
   "execution_count": null,
   "metadata": {},
   "outputs": [],
   "source": []
  }
 ],
 "metadata": {
  "kernelspec": {
   "display_name": "LENNA!",
   "language": "python",
   "name": "lenna"
  },
  "language_info": {
   "codemirror_mode": {
    "name": "ipython",
    "version": 3
   },
   "file_extension": ".py",
   "mimetype": "text/x-python",
   "name": "python",
   "nbconvert_exporter": "python",
   "pygments_lexer": "ipython3",
   "version": "3.6.10"
  }
 },
 "nbformat": 4,
 "nbformat_minor": 4
}
