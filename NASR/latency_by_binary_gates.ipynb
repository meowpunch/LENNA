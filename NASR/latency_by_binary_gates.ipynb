{
 "cells": [
  {
   "cell_type": "code",
   "execution_count": 6,
   "metadata": {},
   "outputs": [],
   "source": [
    "from util.dataset import load_dataset\n",
    "from data_pipeline.data_generator import LatencyEstimator\n",
    "import pandas as pd\n",
    "from analysis.binary_gates import latency_binary_gate, accumulate_latency\n",
    "pd.options.display.max_rows = 999"
   ]
  },
  {
   "cell_type": "code",
   "execution_count": 2,
   "metadata": {},
   "outputs": [
    {
     "name": "stdout",
     "output_type": "stream",
     "text": [
      "Files already downloaded and verified\n"
     ]
    },
    {
     "name": "stderr",
     "output_type": "stream",
     "text": [
      "2020-05-07 14:16:11:pid_14585:latency_estimator:<INFO> assign to cuda:0\n"
     ]
    }
   ],
   "source": [
    "le = LatencyEstimator(\n",
    "    block_type=0, input_channel=512, num_layers=5, dataset=load_dataset(batch_size=64)\n",
    ")\n",
    "le.model.init_arch_params()"
   ]
  },
  {
   "cell_type": "markdown",
   "metadata": {},
   "source": [
    "## How many times do you need to estimate latency when resetting the binary gate?"
   ]
  },
  {
   "cell_type": "code",
   "execution_count": 34,
   "metadata": {
    "collapsed": true
   },
   "outputs": [
    {
     "name": "stderr",
     "output_type": "stream",
     "text": [
      "2020-05-07 15:06:40:pid_14585:latency_estimator:<INFO> 10 times estimation\n",
      "2020-05-07 15:06:42:pid_14585:latency_estimator:<INFO> 20 times estimation\n",
      "2020-05-07 15:06:43:pid_14585:latency_estimator:<INFO> 30 times estimation\n",
      "2020-05-07 15:06:44:pid_14585:latency_estimator:<INFO> 40 times estimation\n",
      "2020-05-07 15:06:45:pid_14585:latency_estimator:<INFO> 50 times estimation\n",
      "2020-05-07 15:06:45:pid_14585:binary_gates:<INFO> result of 50 times estimation: \n",
      "count        50.000000\n",
      "mean     106273.756027\n",
      "std       14007.725200\n",
      "min       10948.657990\n",
      "25%      107318.460941\n",
      "50%      107841.253281\n",
      "75%      108263.194561\n",
      "max      122194.766998\n",
      "Name: latency, dtype: float64\n",
      "2020-05-07 15:06:46:pid_14585:latency_estimator:<INFO> 10 times estimation\n",
      "2020-05-07 15:06:47:pid_14585:latency_estimator:<INFO> 20 times estimation\n",
      "2020-05-07 15:06:49:pid_14585:latency_estimator:<INFO> 30 times estimation\n",
      "2020-05-07 15:06:50:pid_14585:latency_estimator:<INFO> 40 times estimation\n",
      "2020-05-07 15:06:50:pid_14585:binary_gates:<INFO> result of 40 times estimation: \n",
      "count        40.000000\n",
      "mean     117607.474327\n",
      "std       18188.672731\n",
      "min        5745.172501\n",
      "25%      120614.171028\n",
      "50%      120714.664459\n",
      "75%      120900.809765\n",
      "max      121773.958206\n",
      "Name: latency, dtype: float64\n",
      "2020-05-07 15:06:52:pid_14585:latency_estimator:<INFO> 10 times estimation\n",
      "2020-05-07 15:06:54:pid_14585:latency_estimator:<INFO> 20 times estimation\n",
      "2020-05-07 15:06:56:pid_14585:latency_estimator:<INFO> 30 times estimation\n",
      "2020-05-07 15:06:56:pid_14585:binary_gates:<INFO> result of 30 times estimation: \n",
      "count        30.000000\n",
      "mean     195052.131017\n",
      "std       35343.191044\n",
      "min        8287.668228\n",
      "25%      201452.672482\n",
      "50%      201971.769333\n",
      "75%      202448.248863\n",
      "max      203538.894653\n",
      "Name: latency, dtype: float64\n",
      "2020-05-07 15:06:58:pid_14585:latency_estimator:<INFO> 10 times estimation\n",
      "2020-05-07 15:07:00:pid_14585:latency_estimator:<INFO> 20 times estimation\n",
      "2020-05-07 15:07:01:pid_14585:binary_gates:<INFO> result of 20 times estimation: \n",
      "count        20.000000\n",
      "mean     210114.479065\n",
      "std       46932.733736\n",
      "min       10940.313339\n",
      "25%      220342.099667\n",
      "50%      221301.436424\n",
      "75%      221656.203270\n",
      "max      222935.676575\n",
      "Name: latency, dtype: float64\n",
      "2020-05-07 15:07:02:pid_14585:latency_estimator:<INFO> 10 times estimation\n",
      "2020-05-07 15:07:02:pid_14585:binary_gates:<INFO> result of 10 times estimation: \n",
      "count        10.000000\n",
      "mean     124533.891678\n",
      "std       39928.149519\n",
      "min       11273.145676\n",
      "25%      136208.117008\n",
      "50%      138394.117355\n",
      "75%      138518.869877\n",
      "max      139711.618423\n",
      "Name: latency, dtype: float64\n",
      "2020-05-07 15:07:03:pid_14585:binary_gates:<INFO> result of 5 times estimation: \n",
      "count         5.000000\n",
      "mean     159302.902222\n",
      "std       85111.442979\n",
      "min        7107.973099\n",
      "25%      193626.165390\n",
      "50%      197310.924530\n",
      "75%      198627.471924\n",
      "max      199841.976166\n",
      "Name: latency, dtype: float64\n"
     ]
    }
   ],
   "source": [
    "iter_list = [50,40,30,20,10,5]\n",
    "latency_list = list(map(lambda n: latency_binary_gate(le, n), iter_list))"
   ]
  },
  {
   "cell_type": "code",
   "execution_count": 69,
   "metadata": {},
   "outputs": [],
   "source": [
    "from functools import reduce\n",
    "describe = map(lambda x: x.describe().to_frame().T.rename(index={'latency': len(x)}), latency_list)\n",
    "combined = reduce(lambda x, y: pd.concat([x, y]), describe)"
   ]
  },
  {
   "cell_type": "code",
   "execution_count": 70,
   "metadata": {},
   "outputs": [
    {
     "data": {
      "text/html": [
       "<div>\n",
       "<style scoped>\n",
       "    .dataframe tbody tr th:only-of-type {\n",
       "        vertical-align: middle;\n",
       "    }\n",
       "\n",
       "    .dataframe tbody tr th {\n",
       "        vertical-align: top;\n",
       "    }\n",
       "\n",
       "    .dataframe thead th {\n",
       "        text-align: right;\n",
       "    }\n",
       "</style>\n",
       "<table border=\"1\" class=\"dataframe\">\n",
       "  <thead>\n",
       "    <tr style=\"text-align: right;\">\n",
       "      <th></th>\n",
       "      <th>count</th>\n",
       "      <th>mean</th>\n",
       "      <th>std</th>\n",
       "      <th>min</th>\n",
       "      <th>25%</th>\n",
       "      <th>50%</th>\n",
       "      <th>75%</th>\n",
       "      <th>max</th>\n",
       "    </tr>\n",
       "  </thead>\n",
       "  <tbody>\n",
       "    <tr>\n",
       "      <th>50</th>\n",
       "      <td>50.0</td>\n",
       "      <td>106273.756027</td>\n",
       "      <td>14007.725200</td>\n",
       "      <td>10948.657990</td>\n",
       "      <td>107318.460941</td>\n",
       "      <td>107841.253281</td>\n",
       "      <td>108263.194561</td>\n",
       "      <td>122194.766998</td>\n",
       "    </tr>\n",
       "    <tr>\n",
       "      <th>40</th>\n",
       "      <td>40.0</td>\n",
       "      <td>117607.474327</td>\n",
       "      <td>18188.672731</td>\n",
       "      <td>5745.172501</td>\n",
       "      <td>120614.171028</td>\n",
       "      <td>120714.664459</td>\n",
       "      <td>120900.809765</td>\n",
       "      <td>121773.958206</td>\n",
       "    </tr>\n",
       "    <tr>\n",
       "      <th>30</th>\n",
       "      <td>30.0</td>\n",
       "      <td>195052.131017</td>\n",
       "      <td>35343.191044</td>\n",
       "      <td>8287.668228</td>\n",
       "      <td>201452.672482</td>\n",
       "      <td>201971.769333</td>\n",
       "      <td>202448.248863</td>\n",
       "      <td>203538.894653</td>\n",
       "    </tr>\n",
       "    <tr>\n",
       "      <th>20</th>\n",
       "      <td>20.0</td>\n",
       "      <td>210114.479065</td>\n",
       "      <td>46932.733736</td>\n",
       "      <td>10940.313339</td>\n",
       "      <td>220342.099667</td>\n",
       "      <td>221301.436424</td>\n",
       "      <td>221656.203270</td>\n",
       "      <td>222935.676575</td>\n",
       "    </tr>\n",
       "    <tr>\n",
       "      <th>10</th>\n",
       "      <td>10.0</td>\n",
       "      <td>124533.891678</td>\n",
       "      <td>39928.149519</td>\n",
       "      <td>11273.145676</td>\n",
       "      <td>136208.117008</td>\n",
       "      <td>138394.117355</td>\n",
       "      <td>138518.869877</td>\n",
       "      <td>139711.618423</td>\n",
       "    </tr>\n",
       "    <tr>\n",
       "      <th>5</th>\n",
       "      <td>5.0</td>\n",
       "      <td>159302.902222</td>\n",
       "      <td>85111.442979</td>\n",
       "      <td>7107.973099</td>\n",
       "      <td>193626.165390</td>\n",
       "      <td>197310.924530</td>\n",
       "      <td>198627.471924</td>\n",
       "      <td>199841.976166</td>\n",
       "    </tr>\n",
       "  </tbody>\n",
       "</table>\n",
       "</div>"
      ],
      "text/plain": [
       "    count           mean           std           min            25%  \\\n",
       "50   50.0  106273.756027  14007.725200  10948.657990  107318.460941   \n",
       "40   40.0  117607.474327  18188.672731   5745.172501  120614.171028   \n",
       "30   30.0  195052.131017  35343.191044   8287.668228  201452.672482   \n",
       "20   20.0  210114.479065  46932.733736  10940.313339  220342.099667   \n",
       "10   10.0  124533.891678  39928.149519  11273.145676  136208.117008   \n",
       "5     5.0  159302.902222  85111.442979   7107.973099  193626.165390   \n",
       "\n",
       "              50%            75%            max  \n",
       "50  107841.253281  108263.194561  122194.766998  \n",
       "40  120714.664459  120900.809765  121773.958206  \n",
       "30  201971.769333  202448.248863  203538.894653  \n",
       "20  221301.436424  221656.203270  222935.676575  \n",
       "10  138394.117355  138518.869877  139711.618423  \n",
       "5   197310.924530  198627.471924  199841.976166  "
      ]
     },
     "execution_count": 70,
     "metadata": {},
     "output_type": "execute_result"
    }
   ],
   "source": [
    "combined"
   ]
  },
  {
   "cell_type": "code",
   "execution_count": 53,
   "metadata": {},
   "outputs": [
    {
     "data": {
      "text/html": [
       "<div>\n",
       "<style scoped>\n",
       "    .dataframe tbody tr th:only-of-type {\n",
       "        vertical-align: middle;\n",
       "    }\n",
       "\n",
       "    .dataframe tbody tr th {\n",
       "        vertical-align: top;\n",
       "    }\n",
       "\n",
       "    .dataframe thead th {\n",
       "        text-align: right;\n",
       "    }\n",
       "</style>\n",
       "<table border=\"1\" class=\"dataframe\">\n",
       "  <thead>\n",
       "    <tr style=\"text-align: right;\">\n",
       "      <th></th>\n",
       "      <th>count</th>\n",
       "      <th>mean</th>\n",
       "      <th>std</th>\n",
       "      <th>min</th>\n",
       "      <th>25%</th>\n",
       "      <th>50%</th>\n",
       "      <th>75%</th>\n",
       "      <th>max</th>\n",
       "    </tr>\n",
       "  </thead>\n",
       "  <tbody>\n",
       "    <tr>\n",
       "      <th>latency</th>\n",
       "      <td>30.0</td>\n",
       "      <td>195052.131017</td>\n",
       "      <td>35343.191044</td>\n",
       "      <td>8287.668228</td>\n",
       "      <td>201452.672482</td>\n",
       "      <td>201971.769333</td>\n",
       "      <td>202448.248863</td>\n",
       "      <td>203538.894653</td>\n",
       "    </tr>\n",
       "  </tbody>\n",
       "</table>\n",
       "</div>"
      ],
      "text/plain": [
       "         count           mean           std          min            25%  \\\n",
       "latency   30.0  195052.131017  35343.191044  8287.668228  201452.672482   \n",
       "\n",
       "                   50%            75%            max  \n",
       "latency  201971.769333  202448.248863  203538.894653  "
      ]
     },
     "execution_count": 53,
     "metadata": {},
     "output_type": "execute_result"
    }
   ],
   "source": [
    "latency_list[2].describe().to_frame().T"
   ]
  },
  {
   "cell_type": "markdown",
   "metadata": {},
   "source": [
    "###  is 10 times proper"
   ]
  },
  {
   "cell_type": "code",
   "execution_count": 13,
   "metadata": {},
   "outputs": [],
   "source": [
    "iter_list2 = [10]*100\n",
    "count = 0"
   ]
  },
  {
   "cell_type": "code",
   "execution_count": 17,
   "metadata": {
    "collapsed": true
   },
   "outputs": [
    {
     "name": "stderr",
     "output_type": "stream",
     "text": [
      "2020-05-07 14:38:06:pid_14585:latency_estimator:<INFO> 10 times estimation\n",
      "2020-05-07 14:38:07:pid_14585:binary_gates:<INFO> result of 10 times estimation: \n",
      "count        10.000000\n",
      "mean     158028.101921\n",
      "std       52052.521036\n",
      "min       11527.299881\n",
      "25%      171571.075916\n",
      "50%      171821.713448\n",
      "75%      172120.869160\n",
      "max      195982.933044\n",
      "Name: latency, dtype: float64\n"
     ]
    },
    {
     "name": "stdout",
     "output_type": "stream",
     "text": [
      "171652.9369354248 171843.09164683023 0.11065601158772799\n"
     ]
    },
    {
     "name": "stderr",
     "output_type": "stream",
     "text": [
      "2020-05-07 14:38:08:pid_14585:latency_estimator:<INFO> 10 times estimation\n",
      "2020-05-07 14:38:08:pid_14585:binary_gates:<INFO> result of 10 times estimation: \n",
      "count        10.000000\n",
      "mean     130533.981323\n",
      "std       41588.551047\n",
      "min       12564.897537\n",
      "25%      142778.098583\n",
      "50%      144968.032837\n",
      "75%      145248.889923\n",
      "max      146091.699600\n",
      "Name: latency, dtype: float64\n"
     ]
    },
    {
     "name": "stdout",
     "output_type": "stream",
     "text": [
      "144483.94775390625 144461.9099299113 0.01525511050328508\n"
     ]
    },
    {
     "name": "stderr",
     "output_type": "stream",
     "text": [
      "2020-05-07 14:38:10:pid_14585:latency_estimator:<INFO> 10 times estimation\n",
      "2020-05-07 14:38:11:pid_14585:binary_gates:<INFO> result of 10 times estimation: \n",
      "count        10.000000\n",
      "mean     214946.985245\n",
      "std       71710.122720\n",
      "min       11041.879654\n",
      "25%      236283.659935\n",
      "50%      238760.471344\n",
      "75%      239413.201809\n",
      "max      239756.584167\n",
      "Name: latency, dtype: float64\n"
     ]
    },
    {
     "name": "stdout",
     "output_type": "stream",
     "text": [
      "238184.59510803223 238243.1427637736 0.024574749586566715\n"
     ]
    },
    {
     "name": "stderr",
     "output_type": "stream",
     "text": [
      "2020-05-07 14:38:13:pid_14585:latency_estimator:<INFO> 10 times estimation\n",
      "2020-05-07 14:38:13:pid_14585:binary_gates:<INFO> result of 10 times estimation: \n",
      "count        10.000000\n",
      "mean     227941.322327\n",
      "std       76056.733900\n",
      "min       11712.789536\n",
      "25%      251293.063164\n",
      "50%      253032.445908\n",
      "75%      253667.235374\n",
      "max      254766.702652\n",
      "Name: latency, dtype: float64\n"
     ]
    },
    {
     "name": "stdout",
     "output_type": "stream",
     "text": [
      "252886.15226745605 252799.98779296875 0.0340840500980836\n"
     ]
    },
    {
     "name": "stderr",
     "output_type": "stream",
     "text": [
      "2020-05-07 14:38:15:pid_14585:latency_estimator:<INFO> 10 times estimation\n",
      "2020-05-07 14:38:16:pid_14585:binary_gates:<INFO> result of 10 times estimation: \n",
      "count        10.000000\n",
      "mean     199749.851227\n",
      "std       67801.560532\n",
      "min        6824.970245\n",
      "25%      219956.278801\n",
      "50%      221738.219261\n",
      "75%      221838.355064\n",
      "max      222560.405731\n",
      "Name: latency, dtype: float64\n"
     ]
    },
    {
     "name": "stdout",
     "output_type": "stream",
     "text": [
      "221443.510055542 221298.09856414795 0.06570842331566278\n"
     ]
    },
    {
     "name": "stderr",
     "output_type": "stream",
     "text": [
      "2020-05-07 14:38:17:pid_14585:latency_estimator:<INFO> 10 times estimation\n",
      "2020-05-07 14:38:17:pid_14585:binary_gates:<INFO> result of 10 times estimation: \n",
      "count       10.000000\n",
      "mean     73369.479179\n",
      "std      23421.850167\n",
      "min       7136.583328\n",
      "25%      78540.384769\n",
      "50%      81671.476364\n",
      "75%      82001.924515\n",
      "max      83386.659622\n",
      "Name: latency, dtype: float64\n"
     ]
    },
    {
     "name": "stdout",
     "output_type": "stream",
     "text": [
      "80839.39552307129 80851.11776987712 0.014498558744971433\n"
     ]
    },
    {
     "name": "stderr",
     "output_type": "stream",
     "text": [
      "2020-05-07 14:38:19:pid_14585:latency_estimator:<INFO> 10 times estimation\n",
      "2020-05-07 14:38:19:pid_14585:binary_gates:<INFO> result of 10 times estimation: \n",
      "count        10.000000\n",
      "mean     222967.195511\n",
      "std       76435.337578\n",
      "min        5471.229553\n",
      "25%      245643.556118\n",
      "50%      247450.709343\n",
      "75%      247787.594795\n",
      "max      249102.592468\n",
      "Name: latency, dtype: float64\n"
     ]
    },
    {
     "name": "stdout",
     "output_type": "stream",
     "text": [
      "247137.97569274902 247109.09525553384 0.011687322631857766\n"
     ]
    },
    {
     "name": "stderr",
     "output_type": "stream",
     "text": [
      "2020-05-07 14:38:21:pid_14585:latency_estimator:<INFO> 10 times estimation\n",
      "2020-05-07 14:38:21:pid_14585:binary_gates:<INFO> result of 10 times estimation: \n",
      "count        10.000000\n",
      "mean     149680.280685\n",
      "std       50566.467338\n",
      "min        5970.478058\n",
      "25%      162989.377975\n",
      "50%      166441.798210\n",
      "75%      167037.427425\n",
      "max      168675.422668\n",
      "Name: latency, dtype: float64\n"
     ]
    },
    {
     "name": "stdout",
     "output_type": "stream",
     "text": [
      "166231.06002807617 165806.61137898764 0.25599018371973165\n"
     ]
    },
    {
     "name": "stderr",
     "output_type": "stream",
     "text": [
      "2020-05-07 14:38:23:pid_14585:latency_estimator:<INFO> 10 times estimation\n",
      "2020-05-07 14:38:23:pid_14585:binary_gates:<INFO> result of 10 times estimation: \n",
      "count        10.000000\n",
      "mean     162162.208557\n",
      "std       53095.133306\n",
      "min       11344.909668\n",
      "25%      178163.111210\n",
      "50%      180148.124695\n",
      "75%      180279.374123\n",
      "max      181399.822235\n",
      "Name: latency, dtype: float64\n"
     ]
    },
    {
     "name": "stdout",
     "output_type": "stream",
     "text": [
      "179884.1953277588 179688.01657358804 0.10917742758343811\n"
     ]
    },
    {
     "name": "stderr",
     "output_type": "stream",
     "text": [
      "2020-05-07 14:38:24:pid_14585:latency_estimator:<INFO> 10 times estimation\n",
      "2020-05-07 14:38:24:pid_14585:binary_gates:<INFO> result of 10 times estimation: \n",
      "count       10.000000\n",
      "mean     73744.726181\n",
      "std      22862.340918\n",
      "min       9226.083755\n",
      "25%      80226.361752\n",
      "50%      81778.407097\n",
      "75%      82311.451435\n",
      "max      83435.058594\n",
      "Name: latency, dtype: float64\n"
     ]
    },
    {
     "name": "stdout",
     "output_type": "stream",
     "text": [
      "81401.20506286621 81540.78324635823 0.17117591705038437\n"
     ]
    },
    {
     "name": "stderr",
     "output_type": "stream",
     "text": [
      "2020-05-07 14:38:26:pid_14585:latency_estimator:<INFO> 10 times estimation\n",
      "2020-05-07 14:38:26:pid_14585:binary_gates:<INFO> result of 10 times estimation: \n",
      "count        10.000000\n",
      "mean     199525.880814\n",
      "std       66449.187311\n",
      "min       10583.162308\n",
      "25%      220028.281212\n",
      "50%      221703.886986\n",
      "75%      221894.443035\n",
      "max      222125.768661\n",
      "Name: latency, dtype: float64\n"
     ]
    },
    {
     "name": "stdout",
     "output_type": "stream",
     "text": [
      "221336.41242980957 221306.40347798666 0.01355991121417865\n"
     ]
    },
    {
     "name": "stderr",
     "output_type": "stream",
     "text": [
      "2020-05-07 14:38:28:pid_14585:latency_estimator:<INFO> 10 times estimation\n",
      "2020-05-07 14:38:29:pid_14585:binary_gates:<INFO> result of 10 times estimation: \n",
      "count        10.000000\n",
      "mean     198794.722557\n",
      "std       67266.774180\n",
      "min        7412.195206\n",
      "25%      218086.898327\n",
      "50%      220143.795013\n",
      "75%      221079.587936\n",
      "max      222182.512283\n",
      "Name: latency, dtype: float64\n"
     ]
    },
    {
     "name": "stdout",
     "output_type": "stream",
     "text": [
      "219544.55375671387 219861.22926076254 0.1440342643009094\n"
     ]
    },
    {
     "name": "stderr",
     "output_type": "stream",
     "text": [
      "2020-05-07 14:38:30:pid_14585:latency_estimator:<INFO> 10 times estimation\n",
      "2020-05-07 14:38:30:pid_14585:binary_gates:<INFO> result of 10 times estimation: \n",
      "count        10.000000\n",
      "mean     106061.482430\n",
      "std       34214.480513\n",
      "min        8873.462677\n",
      "25%      115978.837013\n",
      "50%      117702.960968\n",
      "75%      117976.009846\n",
      "max      118169.546127\n",
      "Name: latency, dtype: float64\n"
     ]
    },
    {
     "name": "stdout",
     "output_type": "stream",
     "text": [
      "117467.21267700195 117365.79736073811 0.08640960019393651\n"
     ]
    },
    {
     "name": "stderr",
     "output_type": "stream",
     "text": [
      "2020-05-07 14:38:32:pid_14585:latency_estimator:<INFO> 10 times estimation\n",
      "2020-05-07 14:38:33:pid_14585:binary_gates:<INFO> result of 10 times estimation: \n",
      "count        10.000000\n",
      "mean     217162.442207\n",
      "std       73814.657428\n",
      "min        7149.934769\n",
      "25%      239383.757114\n",
      "50%      241232.275963\n",
      "75%      241466.701031\n",
      "max      242455.959320\n",
      "Name: latency, dtype: float64\n"
     ]
    },
    {
     "name": "stdout",
     "output_type": "stream",
     "text": [
      "240833.04405212402 240775.9428024292 0.023715512866532163\n"
     ]
    },
    {
     "name": "stderr",
     "output_type": "stream",
     "text": [
      "2020-05-07 14:38:35:pid_14585:latency_estimator:<INFO> 10 times estimation\n",
      "2020-05-07 14:38:36:pid_14585:binary_gates:<INFO> result of 10 times estimation: \n",
      "count        10.000000\n",
      "mean     272075.080872\n",
      "std       91953.599089\n",
      "min       10544.538498\n",
      "25%      299602.806568\n",
      "50%      301719.546318\n",
      "75%      303387.165070\n",
      "max      303934.574127\n",
      "Name: latency, dtype: float64\n"
     ]
    },
    {
     "name": "stdout",
     "output_type": "stream",
     "text": [
      "301305.58013916016 301665.6239827474 0.1193519628898159\n"
     ]
    },
    {
     "name": "stderr",
     "output_type": "stream",
     "text": [
      "2020-05-07 14:38:37:pid_14585:latency_estimator:<INFO> 10 times estimation\n",
      "2020-05-07 14:38:37:pid_14585:binary_gates:<INFO> result of 10 times estimation: \n",
      "count       10.000000\n",
      "mean     87136.149406\n",
      "std      26937.826085\n",
      "min      10953.903198\n",
      "25%      94711.601734\n",
      "50%      96706.271172\n",
      "75%      97093.224525\n",
      "max      97809.553146\n",
      "Name: latency, dtype: float64\n"
     ]
    },
    {
     "name": "stdout",
     "output_type": "stream",
     "text": [
      "96404.21867370605 96291.78047180176 0.11676822398898674\n"
     ]
    },
    {
     "name": "stderr",
     "output_type": "stream",
     "text": [
      "2020-05-07 14:38:39:pid_14585:latency_estimator:<INFO> 10 times estimation\n",
      "2020-05-07 14:38:39:pid_14585:binary_gates:<INFO> result of 10 times estimation: \n",
      "count        10.000000\n",
      "mean     160429.620743\n",
      "std       54162.327902\n",
      "min        6370.782852\n",
      "25%      175816.774368\n",
      "50%      178124.308586\n",
      "75%      178595.066071\n",
      "max      179932.832718\n",
      "Name: latency, dtype: float64\n"
     ]
    },
    {
     "name": "stdout",
     "output_type": "stream",
     "text": [
      "177553.70140075684 177627.92110443115 0.04178380471540907\n"
     ]
    },
    {
     "name": "stderr",
     "output_type": "stream",
     "text": [
      "2020-05-07 14:38:41:pid_14585:latency_estimator:<INFO> 10 times estimation\n",
      "2020-05-07 14:38:41:pid_14585:binary_gates:<INFO> result of 10 times estimation: \n",
      "count        10.000000\n",
      "mean     196617.269516\n",
      "std       66609.444877\n",
      "min        7116.079330\n",
      "25%      216885.268688\n",
      "50%      218171.715736\n",
      "75%      218745.708466\n",
      "max      219384.193420\n",
      "Name: latency, dtype: float64\n"
     ]
    },
    {
     "name": "stdout",
     "output_type": "stream",
     "text": [
      "217626.38092041016 217934.05214945474 0.14117629898130465\n"
     ]
    },
    {
     "name": "stderr",
     "output_type": "stream",
     "text": [
      "2020-05-07 14:38:42:pid_14585:latency_estimator:<INFO> 10 times estimation\n",
      "2020-05-07 14:38:43:pid_14585:binary_gates:<INFO> result of 10 times estimation: \n",
      "count        10.000000\n",
      "mean     119457.340240\n",
      "std       40161.357951\n",
      "min        5244.970322\n",
      "25%      130267.858505\n",
      "50%      132048.964500\n",
      "75%      132862.389088\n",
      "max      134737.253189\n",
      "Name: latency, dtype: float64\n"
     ]
    },
    {
     "name": "stdout",
     "output_type": "stream",
     "text": [
      "131784.7728729248 131880.2833557129 0.07242210917190037\n"
     ]
    },
    {
     "name": "stderr",
     "output_type": "stream",
     "text": [
      "2020-05-07 14:38:45:pid_14585:latency_estimator:<INFO> 10 times estimation\n",
      "2020-05-07 14:38:45:pid_14585:binary_gates:<INFO> result of 10 times estimation: \n",
      "count        10.000000\n",
      "mean     197320.985794\n",
      "std       65723.213377\n",
      "min       10496.377945\n",
      "25%      217797.577381\n",
      "50%      219178.318977\n",
      "75%      219430.983067\n",
      "max      220408.201218\n",
      "Name: latency, dtype: float64\n"
     ]
    },
    {
     "name": "stdout",
     "output_type": "stream",
     "text": [
      "218936.72943115234 218899.36923980713 0.01706729054311996\n"
     ]
    },
    {
     "name": "stderr",
     "output_type": "stream",
     "text": [
      "2020-05-07 14:38:48:pid_14585:latency_estimator:<INFO> 10 times estimation\n",
      "2020-05-07 14:38:49:pid_14585:binary_gates:<INFO> result of 10 times estimation: \n",
      "count        10.000000\n",
      "mean     334034.776688\n",
      "std      113314.475204\n",
      "min       11659.622192\n",
      "25%      368468.105793\n",
      "50%      370666.623116\n",
      "75%      371412.217617\n",
      "max      372452.497482\n",
      "Name: latency, dtype: float64\n"
     ]
    },
    {
     "name": "stdout",
     "output_type": "stream",
     "text": [
      "370596.17042541504 370414.0583674113 0.04916445634012311\n"
     ]
    },
    {
     "name": "stderr",
     "output_type": "stream",
     "text": [
      "2020-05-07 14:38:50:pid_14585:latency_estimator:<INFO> 10 times estimation\n",
      "2020-05-07 14:38:51:pid_14585:binary_gates:<INFO> result of 10 times estimation: \n",
      "count        10.000000\n",
      "mean     155641.055107\n",
      "std       52472.919408\n",
      "min        6410.121918\n",
      "25%      170622.408390\n",
      "50%      173125.267029\n",
      "75%      173265.635967\n",
      "max      173652.172089\n",
      "Name: latency, dtype: float64\n"
     ]
    },
    {
     "name": "stdout",
     "output_type": "stream",
     "text": [
      "172915.55404663086 172554.65189615884 0.20915237375877943\n"
     ]
    },
    {
     "name": "stderr",
     "output_type": "stream",
     "text": [
      "2020-05-07 14:38:53:pid_14585:latency_estimator:<INFO> 10 times estimation\n",
      "2020-05-07 14:38:53:pid_14585:binary_gates:<INFO> result of 10 times estimation: \n",
      "count        10.000000\n",
      "mean     197756.171227\n",
      "std       66028.080067\n",
      "min       10069.131851\n",
      "25%      217649.340630\n",
      "50%      220014.452934\n",
      "75%      220451.414585\n",
      "max      220665.454865\n",
      "Name: latency, dtype: float64\n"
     ]
    },
    {
     "name": "stdout",
     "output_type": "stream",
     "text": [
      "219171.04721069336 219412.72417704263 0.11014719736776371\n"
     ]
    },
    {
     "name": "stderr",
     "output_type": "stream",
     "text": [
      "2020-05-07 14:38:55:pid_14585:latency_estimator:<INFO> 10 times estimation\n",
      "2020-05-07 14:38:55:pid_14585:binary_gates:<INFO> result of 10 times estimation: \n",
      "count        10.000000\n",
      "mean     172970.795631\n",
      "std       58349.200051\n",
      "min        7004.976273\n",
      "25%      190316.021442\n",
      "50%      192091.941833\n",
      "75%      192447.781563\n",
      "max      193460.702896\n",
      "Name: latency, dtype: float64\n"
     ]
    },
    {
     "name": "stdout",
     "output_type": "stream",
     "text": [
      "191481.20880126953 191696.60409291586 0.11236260165669322\n"
     ]
    },
    {
     "name": "stderr",
     "output_type": "stream",
     "text": [
      "2020-05-07 14:38:56:pid_14585:latency_estimator:<INFO> 10 times estimation\n",
      "2020-05-07 14:38:57:pid_14585:binary_gates:<INFO> result of 10 times estimation: \n",
      "count        10.000000\n",
      "mean     112188.839912\n",
      "std       35909.767403\n",
      "min       10403.633118\n",
      "25%      122936.248779\n",
      "50%      124317.884445\n",
      "75%      125045.776367\n",
      "max      126018.762589\n",
      "Name: latency, dtype: float64\n"
     ]
    },
    {
     "name": "stdout",
     "output_type": "stream",
     "text": [
      "123941.7552947998 124157.58768717448 0.17383745640941997\n"
     ]
    },
    {
     "name": "stderr",
     "output_type": "stream",
     "text": [
      "2020-05-07 14:38:58:pid_14585:latency_estimator:<INFO> 10 times estimation\n",
      "2020-05-07 14:38:58:pid_14585:binary_gates:<INFO> result of 10 times estimation: \n",
      "count        10.000000\n",
      "mean     115297.675133\n",
      "std       36894.902371\n",
      "min       10698.795319\n",
      "25%      125297.904015\n",
      "50%      128235.220909\n",
      "75%      128577.053547\n",
      "max      129083.871841\n",
      "Name: latency, dtype: float64\n"
     ]
    },
    {
     "name": "stdout",
     "output_type": "stream",
     "text": [
      "127950.42991638184 127630.31323750813 0.25081555529680116\n"
     ]
    },
    {
     "name": "stderr",
     "output_type": "stream",
     "text": [
      "2020-05-07 14:39:00:pid_14585:latency_estimator:<INFO> 10 times estimation\n",
      "2020-05-07 14:39:00:pid_14585:binary_gates:<INFO> result of 10 times estimation: \n",
      "count        10.000000\n",
      "mean     148225.998878\n",
      "std       50286.384692\n",
      "min        5279.064178\n",
      "25%      162154.912949\n",
      "50%      164725.899696\n",
      "75%      165768.861771\n",
      "max      166692.733765\n",
      "Name: latency, dtype: float64\n"
     ]
    },
    {
     "name": "stdout",
     "output_type": "stream",
     "text": [
      "163899.27864074707 164295.6336339315 0.24124499502375044\n"
     ]
    },
    {
     "name": "stderr",
     "output_type": "stream",
     "text": [
      "2020-05-07 14:39:01:pid_14585:latency_estimator:<INFO> 10 times estimation\n",
      "2020-05-07 14:39:02:pid_14585:binary_gates:<INFO> result of 10 times estimation: \n",
      "count        10.000000\n",
      "mean     149823.379517\n",
      "std       48630.775176\n",
      "min       11766.672134\n",
      "25%      164174.735546\n",
      "50%      166331.648827\n",
      "75%      166934.132576\n",
      "max      167478.799820\n",
      "Name: latency, dtype: float64\n"
     ]
    },
    {
     "name": "stdout",
     "output_type": "stream",
     "text": [
      "166203.59420776367 166000.8430480957 0.12213863251840554\n"
     ]
    },
    {
     "name": "stderr",
     "output_type": "stream",
     "text": [
      "2020-05-07 14:39:03:pid_14585:latency_estimator:<INFO> 10 times estimation\n",
      "2020-05-07 14:39:04:pid_14585:binary_gates:<INFO> result of 10 times estimation: \n",
      "count        10.000000\n",
      "mean     173551.869392\n",
      "std       57383.495908\n",
      "min       10367.870331\n",
      "25%      189986.944199\n",
      "50%      192526.459694\n",
      "75%      192908.108234\n",
      "max      193807.601929\n",
      "Name: latency, dtype: float64\n"
     ]
    },
    {
     "name": "stdout",
     "output_type": "stream",
     "text": [
      "192065.47737121582 191997.05123901367 0.0356391578727769\n"
     ]
    },
    {
     "name": "stderr",
     "output_type": "stream",
     "text": [
      "2020-05-07 14:39:05:pid_14585:latency_estimator:<INFO> 10 times estimation\n",
      "2020-05-07 14:39:05:pid_14585:binary_gates:<INFO> result of 10 times estimation: \n",
      "count        10.000000\n",
      "mean     153187.870979\n",
      "std       50050.391570\n",
      "min       11054.992676\n",
      "25%      167918.026447\n",
      "50%      169982.790947\n",
      "75%      170417.129993\n",
      "max      172829.389572\n",
      "Name: latency, dtype: float64\n"
     ]
    },
    {
     "name": "stdout",
     "output_type": "stream",
     "text": [
      "169395.92361450195 169507.30482737222 0.06570879820412572\n"
     ]
    },
    {
     "name": "stderr",
     "output_type": "stream",
     "text": [
      "2020-05-07 14:39:06:pid_14585:latency_estimator:<INFO> 10 times estimation\n",
      "2020-05-07 14:39:07:pid_14585:binary_gates:<INFO> result of 10 times estimation: \n",
      "count       10.000000\n",
      "mean     86958.265305\n",
      "std      28383.678254\n",
      "min       6288.051605\n",
      "25%      93944.251537\n",
      "50%      96318.364143\n",
      "75%      96853.911877\n",
      "max      97611.427307\n",
      "Name: latency, dtype: float64\n"
     ]
    },
    {
     "name": "stdout",
     "output_type": "stream",
     "text": [
      "96001.86347961426 95875.54136912028 0.13175634649887777\n"
     ]
    },
    {
     "name": "stderr",
     "output_type": "stream",
     "text": [
      "2020-05-07 14:39:08:pid_14585:latency_estimator:<INFO> 10 times estimation\n",
      "2020-05-07 14:39:08:pid_14585:binary_gates:<INFO> result of 10 times estimation: \n",
      "count       10.000000\n",
      "mean     77461.242676\n",
      "std      25380.106976\n",
      "min       5367.517471\n",
      "25%      83895.683289\n",
      "50%      86025.476456\n",
      "75%      86158.514023\n",
      "max      87264.776230\n",
      "Name: latency, dtype: float64\n"
     ]
    },
    {
     "name": "stdout",
     "output_type": "stream",
     "text": [
      "85582.11326599121 85485.37890116374 0.11315895895988388\n"
     ]
    },
    {
     "name": "stderr",
     "output_type": "stream",
     "text": [
      "2020-05-07 14:39:09:pid_14585:latency_estimator:<INFO> 10 times estimation\n",
      "2020-05-07 14:39:09:pid_14585:binary_gates:<INFO> result of 10 times estimation: \n",
      "count        10.000000\n",
      "mean     116140.508652\n",
      "std       38535.490304\n",
      "min        6678.104401\n",
      "25%      127015.590668\n",
      "50%      129062.891006\n",
      "75%      129811.525345\n",
      "max      130033.493042\n",
      "Name: latency, dtype: float64\n"
     ]
    },
    {
     "name": "stdout",
     "output_type": "stream",
     "text": [
      "128416.20445251465 128739.9133046468 0.2514440501184278\n"
     ]
    },
    {
     "name": "stderr",
     "output_type": "stream",
     "text": [
      "2020-05-07 14:39:10:pid_14585:latency_estimator:<INFO> 10 times estimation\n",
      "2020-05-07 14:39:11:pid_14585:binary_gates:<INFO> result of 10 times estimation: \n",
      "count        10.000000\n",
      "mean     135001.587868\n",
      "std       45129.976374\n",
      "min        6608.247757\n",
      "25%      148209.393024\n",
      "50%      149497.032166\n",
      "75%      150072.515011\n",
      "max      150973.796844\n",
      "Name: latency, dtype: float64\n"
     ]
    },
    {
     "name": "stdout",
     "output_type": "stream",
     "text": [
      "149027.10914611816 149255.11678059897 0.15276369708381196\n"
     ]
    },
    {
     "name": "stderr",
     "output_type": "stream",
     "text": [
      "2020-05-07 14:39:12:pid_14585:latency_estimator:<INFO> 10 times estimation\n",
      "2020-05-07 14:39:12:pid_14585:binary_gates:<INFO> result of 10 times estimation: \n",
      "count       10.000000\n",
      "mean     88763.761520\n",
      "std      27248.280750\n",
      "min      11614.084244\n",
      "25%      96455.454826\n",
      "50%      98480.343819\n",
      "75%      98764.419556\n",
      "max      99324.703217\n",
      "Name: latency, dtype: float64\n"
     ]
    },
    {
     "name": "stdout",
     "output_type": "stream",
     "text": [
      "97973.44207763672 97975.77063242595 0.002376663918231489\n"
     ]
    },
    {
     "name": "stderr",
     "output_type": "stream",
     "text": [
      "2020-05-07 14:39:14:pid_14585:latency_estimator:<INFO> 10 times estimation\n",
      "2020-05-07 14:39:14:pid_14585:binary_gates:<INFO> result of 10 times estimation: \n",
      "count        10.000000\n",
      "mean     165819.025040\n",
      "std       55710.243418\n",
      "min        7351.398468\n",
      "25%      182310.163975\n",
      "50%      183857.440948\n",
      "75%      184690.296650\n",
      "max      184867.143631\n",
      "Name: latency, dtype: float64\n"
     ]
    },
    {
     "name": "stdout",
     "output_type": "stream",
     "text": [
      "183496.95205688477 183722.01919555664 0.12250417214950698\n"
     ]
    },
    {
     "name": "stderr",
     "output_type": "stream",
     "text": [
      "2020-05-07 14:39:16:pid_14585:latency_estimator:<INFO> 10 times estimation\n",
      "2020-05-07 14:39:16:pid_14585:binary_gates:<INFO> result of 10 times estimation: \n",
      "count        10.000000\n",
      "mean     174562.740326\n",
      "std       58072.982217\n",
      "min        9428.977966\n",
      "25%      192355.394363\n",
      "50%      193804.025650\n",
      "75%      194281.280041\n",
      "max      194485.187531\n",
      "Name: latency, dtype: float64\n"
     ]
    },
    {
     "name": "stdout",
     "output_type": "stream",
     "text": [
      "193237.01858520508 193483.23345184326 0.12725385153306573\n"
     ]
    },
    {
     "name": "stderr",
     "output_type": "stream",
     "text": [
      "2020-05-07 14:39:18:pid_14585:latency_estimator:<INFO> 10 times estimation\n",
      "2020-05-07 14:39:18:pid_14585:binary_gates:<INFO> result of 10 times estimation: \n",
      "count        10.000000\n",
      "mean     187604.832649\n",
      "std       63525.066793\n",
      "min        6941.080093\n",
      "25%      205842.733383\n",
      "50%      208148.360252\n",
      "75%      208819.806576\n",
      "max      210862.636566\n",
      "Name: latency, dtype: float64\n"
     ]
    },
    {
     "name": "stdout",
     "output_type": "stream",
     "text": [
      "207669.49653625488 207757.47299194336 0.04234574786722026\n"
     ]
    },
    {
     "name": "stderr",
     "output_type": "stream",
     "text": [
      "2020-05-07 14:39:19:pid_14585:latency_estimator:<INFO> 10 times estimation\n",
      "2020-05-07 14:39:19:pid_14585:binary_gates:<INFO> result of 10 times estimation: \n",
      "count       10.000000\n",
      "mean     49206.590652\n",
      "std      13904.623026\n",
      "min      10318.756104\n",
      "25%      52674.770355\n",
      "50%      54528.951645\n",
      "75%      54636.597633\n",
      "max      55531.263351\n",
      "Name: latency, dtype: float64\n"
     ]
    },
    {
     "name": "stdout",
     "output_type": "stream",
     "text": [
      "54457.33070373535 54140.64725240072 0.5849273464690442\n"
     ]
    },
    {
     "name": "stderr",
     "output_type": "stream",
     "text": [
      "2020-05-07 14:39:20:pid_14585:latency_estimator:<INFO> 10 times estimation\n",
      "2020-05-07 14:39:20:pid_14585:binary_gates:<INFO> result of 10 times estimation: \n",
      "count        10.000000\n",
      "mean     107309.293747\n",
      "std       34280.119532\n",
      "min       10101.795197\n",
      "25%      117273.271084\n",
      "50%      119204.282761\n",
      "75%      119641.065598\n",
      "max      120201.110840\n",
      "Name: latency, dtype: float64\n"
     ]
    },
    {
     "name": "stdout",
     "output_type": "stream",
     "text": [
      "118683.00437927246 118788.59996795654 0.08889370588807903\n"
     ]
    },
    {
     "name": "stderr",
     "output_type": "stream",
     "text": [
      "2020-05-07 14:39:22:pid_14585:latency_estimator:<INFO> 10 times estimation\n",
      "2020-05-07 14:39:22:pid_14585:binary_gates:<INFO> result of 10 times estimation: \n",
      "count        10.000000\n",
      "mean     194502.186775\n",
      "std       64404.492772\n",
      "min       11429.309845\n",
      "25%      213613.212109\n",
      "50%      216112.494469\n",
      "75%      216627.895832\n",
      "max      216876.983643\n",
      "Name: latency, dtype: float64\n"
     ]
    },
    {
     "name": "stdout",
     "output_type": "stream",
     "text": [
      "215603.1608581543 215595.36457061768 0.0036161665869524954\n"
     ]
    },
    {
     "name": "stderr",
     "output_type": "stream",
     "text": [
      "2020-05-07 14:39:25:pid_14585:latency_estimator:<INFO> 10 times estimation\n",
      "2020-05-07 14:39:25:pid_14585:binary_gates:<INFO> result of 10 times estimation: \n",
      "count        10.000000\n",
      "mean     206286.334991\n",
      "std       69961.990841\n",
      "min        7258.653641\n",
      "25%      226850.330830\n",
      "50%      228540.897369\n",
      "75%      229444.384575\n",
      "max      230879.306793\n",
      "Name: latency, dtype: float64\n"
     ]
    },
    {
     "name": "stdout",
     "output_type": "stream",
     "text": [
      "228337.2402191162 228405.51535288492 0.02989206878968012\n"
     ]
    },
    {
     "name": "stderr",
     "output_type": "stream",
     "text": [
      "2020-05-07 14:39:26:pid_14585:latency_estimator:<INFO> 10 times estimation\n",
      "2020-05-07 14:39:27:pid_14585:binary_gates:<INFO> result of 10 times estimation: \n",
      "count        10.000000\n",
      "mean     132222.414017\n",
      "std       42864.622668\n",
      "min       10576.248169\n",
      "25%      144572.257996\n",
      "50%      146753.668785\n",
      "75%      147551.059723\n",
      "max      148177.146912\n",
      "Name: latency, dtype: float64\n"
     ]
    },
    {
     "name": "stdout",
     "output_type": "stream",
     "text": [
      "146389.57977294922 146431.3268661499 0.028509673506437468\n"
     ]
    },
    {
     "name": "stderr",
     "output_type": "stream",
     "text": [
      "2020-05-07 14:39:29:pid_14585:latency_estimator:<INFO> 10 times estimation\n",
      "2020-05-07 14:39:29:pid_14585:binary_gates:<INFO> result of 10 times estimation: \n",
      "count        10.000000\n",
      "mean     254766.583443\n",
      "std       85871.350614\n",
      "min       10510.683060\n",
      "25%      280648.648739\n",
      "50%      282781.958580\n",
      "75%      282983.839512\n",
      "max      285013.675690\n",
      "Name: latency, dtype: float64\n"
     ]
    },
    {
     "name": "stdout",
     "output_type": "stream",
     "text": [
      "282592.5350189209 282314.1813278198 0.09859713380032202\n"
     ]
    },
    {
     "name": "stderr",
     "output_type": "stream",
     "text": [
      "2020-05-07 14:39:32:pid_14585:latency_estimator:<INFO> 10 times estimation\n",
      "2020-05-07 14:39:32:pid_14585:binary_gates:<INFO> result of 10 times estimation: \n",
      "count        10.000000\n",
      "mean     197066.926956\n",
      "std       66788.173579\n",
      "min        7069.587708\n",
      "25%      215807.020664\n",
      "50%      218769.073486\n",
      "75%      219449.758530\n",
      "max      220357.656479\n",
      "Name: latency, dtype: float64\n"
     ]
    },
    {
     "name": "stdout",
     "output_type": "stream",
     "text": [
      "218412.30392456055 218240.22134145102 0.07885007724597826\n"
     ]
    },
    {
     "name": "stderr",
     "output_type": "stream",
     "text": [
      "2020-05-07 14:39:35:pid_14585:latency_estimator:<INFO> 10 times estimation\n",
      "2020-05-07 14:39:35:pid_14585:binary_gates:<INFO> result of 10 times estimation: \n",
      "count        10.000000\n",
      "mean     274241.948128\n",
      "std       93996.240825\n",
      "min        6792.545319\n",
      "25%      302323.460579\n",
      "50%      304644.942284\n",
      "75%      305114.269257\n",
      "max      306219.100952\n",
      "Name: latency, dtype: float64\n"
     ]
    },
    {
     "name": "stdout",
     "output_type": "stream",
     "text": [
      "304015.25497436523 304129.2428970337 0.03748009286533781\n"
     ]
    },
    {
     "name": "stderr",
     "output_type": "stream",
     "text": [
      "2020-05-07 14:39:36:pid_14585:latency_estimator:<INFO> 10 times estimation\n",
      "2020-05-07 14:39:36:pid_14585:binary_gates:<INFO> result of 10 times estimation: \n",
      "count        10.000000\n",
      "mean     100097.417831\n",
      "std       31110.512895\n",
      "min       12056.589127\n",
      "25%      109083.831310\n",
      "50%      111240.267754\n",
      "75%      111493.945122\n",
      "max      112008.810043\n",
      "Name: latency, dtype: float64\n"
     ]
    },
    {
     "name": "stdout",
     "output_type": "stream",
     "text": [
      "110747.19429016113 110718.96553039551 0.025495866611827584\n"
     ]
    },
    {
     "name": "stderr",
     "output_type": "stream",
     "text": [
      "2020-05-07 14:39:38:pid_14585:latency_estimator:<INFO> 10 times estimation\n",
      "2020-05-07 14:39:39:pid_14585:binary_gates:<INFO> result of 10 times estimation: \n",
      "count        10.000000\n",
      "mean     205034.446716\n",
      "std       70021.685811\n",
      "min        5841.255188\n",
      "25%      224558.055401\n",
      "50%      227632.522583\n",
      "75%      228141.844273\n",
      "max      229637.861252\n",
      "Name: latency, dtype: float64\n"
     ]
    },
    {
     "name": "stdout",
     "output_type": "stream",
     "text": [
      "226993.46542358398 227013.11111450195 0.00865398955219805\n"
     ]
    },
    {
     "name": "stderr",
     "output_type": "stream",
     "text": [
      "2020-05-07 14:39:42:pid_14585:latency_estimator:<INFO> 10 times estimation\n",
      "2020-05-07 14:39:42:pid_14585:binary_gates:<INFO> result of 10 times estimation: \n",
      "count        10.000000\n",
      "mean     290831.732750\n",
      "std       97669.378342\n",
      "min       13061.046600\n",
      "25%      318687.438965\n",
      "50%      322394.132614\n",
      "75%      324148.714542\n",
      "max      325388.669968\n",
      "Name: latency, dtype: float64\n"
     ]
    },
    {
     "name": "stdout",
     "output_type": "stream",
     "text": [
      "322044.2771911621 321992.59599049884 0.016050431378488304\n"
     ]
    },
    {
     "name": "stderr",
     "output_type": "stream",
     "text": [
      "2020-05-07 14:39:44:pid_14585:latency_estimator:<INFO> 10 times estimation\n",
      "2020-05-07 14:39:44:pid_14585:binary_gates:<INFO> result of 10 times estimation: \n",
      "count        10.000000\n",
      "mean     198847.746849\n",
      "std       65714.232668\n",
      "min       12061.834335\n",
      "25%      218817.353249\n",
      "50%      220824.718475\n",
      "75%      221237.540245\n",
      "max      221693.754196\n",
      "Name: latency, dtype: float64\n"
     ]
    },
    {
     "name": "stdout",
     "output_type": "stream",
     "text": [
      "220350.7900238037 220412.015914917 0.02777792801319668\n"
     ]
    },
    {
     "name": "stderr",
     "output_type": "stream",
     "text": [
      "2020-05-07 14:39:46:pid_14585:latency_estimator:<INFO> 10 times estimation\n",
      "2020-05-07 14:39:46:pid_14585:binary_gates:<INFO> result of 10 times estimation: \n",
      "count        10.000000\n",
      "mean      97045.612335\n",
      "std       30013.437197\n",
      "min       12250.900269\n",
      "25%      105995.059013\n",
      "50%      107917.308807\n",
      "75%      108026.027679\n",
      "max      108330.249786\n",
      "Name: latency, dtype: float64\n"
     ]
    },
    {
     "name": "stdout",
     "output_type": "stream",
     "text": [
      "107863.37852478027 107511.99722290039 0.32682985244091206\n"
     ]
    },
    {
     "name": "stderr",
     "output_type": "stream",
     "text": [
      "2020-05-07 14:39:48:pid_14585:latency_estimator:<INFO> 10 times estimation\n",
      "2020-05-07 14:39:48:pid_14585:binary_gates:<INFO> result of 10 times estimation: \n",
      "count        10.000000\n",
      "mean     194769.573212\n",
      "std       64365.909068\n",
      "min       11737.585068\n",
      "25%      213349.521160\n",
      "50%      215733.289719\n",
      "75%      216815.769672\n",
      "max      217396.497726\n",
      "Name: latency, dtype: float64\n"
     ]
    },
    {
     "name": "stdout",
     "output_type": "stream",
     "text": [
      "215403.8429260254 215429.46497599283 0.011893475189335638\n"
     ]
    },
    {
     "name": "stderr",
     "output_type": "stream",
     "text": [
      "2020-05-07 14:39:51:pid_14585:latency_estimator:<INFO> 10 times estimation\n",
      "2020-05-07 14:39:51:pid_14585:binary_gates:<INFO> result of 10 times estimation: \n",
      "count        10.000000\n",
      "mean     274552.989006\n",
      "std       93222.833800\n",
      "min        9326.934814\n",
      "25%      302691.698074\n",
      "50%      304943.561554\n",
      "75%      305168.151855\n",
      "max      306030.511856\n",
      "Name: latency, dtype: float64\n"
     ]
    },
    {
     "name": "stdout",
     "output_type": "stream",
     "text": [
      "304695.12939453125 304456.63134257 0.07833564041930464\n"
     ]
    },
    {
     "name": "stderr",
     "output_type": "stream",
     "text": [
      "2020-05-07 14:39:53:pid_14585:latency_estimator:<INFO> 10 times estimation\n",
      "2020-05-07 14:39:53:pid_14585:binary_gates:<INFO> result of 10 times estimation: \n",
      "count        10.000000\n",
      "mean     174694.156647\n",
      "std       56807.007909\n",
      "min       13313.531876\n",
      "25%      191638.708115\n",
      "50%      193678.021431\n",
      "75%      194171.667099\n",
      "max      196175.813675\n",
      "Name: latency, dtype: float64\n"
     ]
    },
    {
     "name": "stdout",
     "output_type": "stream",
     "text": [
      "193188.38119506836 193274.3787765503 0.04449507587415801\n"
     ]
    },
    {
     "name": "stderr",
     "output_type": "stream",
     "text": [
      "2020-05-07 14:39:55:pid_14585:latency_estimator:<INFO> 10 times estimation\n",
      "2020-05-07 14:39:56:pid_14585:binary_gates:<INFO> result of 10 times estimation: \n",
      "count        10.000000\n",
      "mean     198624.467850\n",
      "std       65977.239882\n",
      "min       11066.436768\n",
      "25%      218262.970448\n",
      "50%      220330.238342\n",
      "75%      220993.399620\n",
      "max      222667.217255\n",
      "Name: latency, dtype: float64\n"
     ]
    },
    {
     "name": "stdout",
     "output_type": "stream",
     "text": [
      "219652.31895446777 219934.42376454672 0.12826769236495647\n"
     ]
    },
    {
     "name": "stderr",
     "output_type": "stream",
     "text": [
      "2020-05-07 14:39:58:pid_14585:latency_estimator:<INFO> 10 times estimation\n",
      "2020-05-07 14:39:58:pid_14585:binary_gates:<INFO> result of 10 times estimation: \n",
      "count        10.000000\n",
      "mean     199790.215492\n",
      "std       66910.635540\n",
      "min        9448.528290\n",
      "25%      219559.848309\n",
      "50%      221674.323082\n",
      "75%      221795.439720\n",
      "max      223224.878311\n",
      "Name: latency, dtype: float64\n"
     ]
    },
    {
     "name": "stdout",
     "output_type": "stream",
     "text": [
      "221169.42405700684 221111.77444458008 0.0260726108193787\n"
     ]
    },
    {
     "name": "stderr",
     "output_type": "stream",
     "text": [
      "2020-05-07 14:39:59:pid_14585:latency_estimator:<INFO> 10 times estimation\n",
      "2020-05-07 14:40:00:pid_14585:binary_gates:<INFO> result of 10 times estimation: \n",
      "count        10.000000\n",
      "mean     117083.930969\n",
      "std       38861.370821\n",
      "min        6641.626358\n",
      "25%      127911.388874\n",
      "50%      130095.839500\n",
      "75%      130513.429642\n",
      "max      131274.223328\n",
      "Name: latency, dtype: float64\n"
     ]
    },
    {
     "name": "stdout",
     "output_type": "stream",
     "text": [
      "129797.1248626709 129637.9566192627 0.1227790436991141\n"
     ]
    },
    {
     "name": "stderr",
     "output_type": "stream",
     "text": [
      "2020-05-07 14:40:01:pid_14585:latency_estimator:<INFO> 10 times estimation\n",
      "2020-05-07 14:40:01:pid_14585:binary_gates:<INFO> result of 10 times estimation: \n",
      "count        10.000000\n",
      "mean     137324.714661\n",
      "std       46331.174434\n",
      "min        5575.180054\n",
      "25%      150786.757469\n",
      "50%      152808.308601\n",
      "75%      152885.019779\n",
      "max      153701.543808\n",
      "Name: latency, dtype: float64\n"
     ]
    },
    {
     "name": "stdout",
     "output_type": "stream",
     "text": [
      "152427.339553833 152277.15174357095 0.0986279350134974\n"
     ]
    },
    {
     "name": "stderr",
     "output_type": "stream",
     "text": [
      "2020-05-07 14:40:03:pid_14585:latency_estimator:<INFO> 10 times estimation\n",
      "2020-05-07 14:40:03:pid_14585:binary_gates:<INFO> result of 10 times estimation: \n",
      "count        10.000000\n",
      "mean     156502.008438\n",
      "std       51910.125954\n",
      "min        8990.049362\n",
      "25%      171489.298344\n",
      "50%      173557.043076\n",
      "75%      174138.724804\n",
      "max      176373.243332\n",
      "Name: latency, dtype: float64\n"
     ]
    },
    {
     "name": "stdout",
     "output_type": "stream",
     "text": [
      "173054.8858642578 173212.68717447916 0.09110262810159477\n"
     ]
    },
    {
     "name": "stderr",
     "output_type": "stream",
     "text": [
      "2020-05-07 14:40:05:pid_14585:latency_estimator:<INFO> 10 times estimation\n",
      "2020-05-07 14:40:05:pid_14585:binary_gates:<INFO> result of 10 times estimation: \n",
      "count        10.000000\n",
      "mean     196170.926094\n",
      "std       66186.554017\n",
      "min        7910.728455\n",
      "25%      216605.246067\n",
      "50%      217998.266220\n",
      "75%      218169.391155\n",
      "max      218297.958374\n",
      "Name: latency, dtype: float64\n"
     ]
    },
    {
     "name": "stdout",
     "output_type": "stream",
     "text": [
      "217837.38136291504 217723.29012552896 0.052401944376413656\n"
     ]
    },
    {
     "name": "stderr",
     "output_type": "stream",
     "text": [
      "2020-05-07 14:40:07:pid_14585:latency_estimator:<INFO> 10 times estimation\n",
      "2020-05-07 14:40:07:pid_14585:binary_gates:<INFO> result of 10 times estimation: \n",
      "count        10.000000\n",
      "mean     162105.584145\n",
      "std       54065.231291\n",
      "min        8360.862732\n",
      "25%      178364.515305\n",
      "50%      180095.553398\n",
      "75%      180225.253105\n",
      "max      181130.170822\n",
      "Name: latency, dtype: float64\n"
     ]
    },
    {
     "name": "stdout",
     "output_type": "stream",
     "text": [
      "179655.26580810547 179637.39236195883 0.009949735916130138\n"
     ]
    },
    {
     "name": "stderr",
     "output_type": "stream",
     "text": [
      "2020-05-07 14:40:09:pid_14585:latency_estimator:<INFO> 10 times estimation\n",
      "2020-05-07 14:40:09:pid_14585:binary_gates:<INFO> result of 10 times estimation: \n",
      "count        10.000000\n",
      "mean     181330.776215\n",
      "std       61357.646065\n",
      "min        6850.242615\n",
      "25%      199128.150940\n",
      "50%      201669.216156\n",
      "75%      202171.564102\n",
      "max      202711.343765\n",
      "Name: latency, dtype: float64\n"
     ]
    },
    {
     "name": "stdout",
     "output_type": "stream",
     "text": [
      "201173.4962463379 201143.0263519287 0.015148372261173108\n"
     ]
    },
    {
     "name": "stderr",
     "output_type": "stream",
     "text": [
      "2020-05-07 14:40:10:pid_14585:latency_estimator:<INFO> 10 times estimation\n",
      "2020-05-07 14:40:11:pid_14585:binary_gates:<INFO> result of 10 times estimation: \n",
      "count       10.000000\n",
      "mean     82741.165161\n",
      "std      24917.962835\n",
      "min      12335.062027\n",
      "25%      90219.795704\n",
      "50%      91626.167297\n",
      "75%      92044.711113\n",
      "max      92394.113541\n",
      "Name: latency, dtype: float64\n"
     ]
    },
    {
     "name": "stdout",
     "output_type": "stream",
     "text": [
      "91206.31217956543 91348.44938913982 0.15559892972992784\n"
     ]
    },
    {
     "name": "stderr",
     "output_type": "stream",
     "text": [
      "2020-05-07 14:40:12:pid_14585:latency_estimator:<INFO> 10 times estimation\n",
      "2020-05-07 14:40:12:pid_14585:binary_gates:<INFO> result of 10 times estimation: \n",
      "count        10.000000\n",
      "mean     138429.689407\n",
      "std       46173.577262\n",
      "min        7145.643234\n",
      "25%      152117.013931\n",
      "50%      153557.896614\n",
      "75%      154031.395912\n",
      "max      155079.364777\n",
      "Name: latency, dtype: float64\n"
     ]
    },
    {
     "name": "stdout",
     "output_type": "stream",
     "text": [
      "153011.51275634766 153258.52235158285 0.16117184965971806\n"
     ]
    },
    {
     "name": "stderr",
     "output_type": "stream",
     "text": [
      "2020-05-07 14:40:14:pid_14585:latency_estimator:<INFO> 10 times estimation\n",
      "2020-05-07 14:40:14:pid_14585:binary_gates:<INFO> result of 10 times estimation: \n",
      "count        10.000000\n",
      "mean     157609.939575\n",
      "std       53098.858097\n",
      "min        6630.182266\n",
      "25%      173094.153404\n",
      "50%      175244.688988\n",
      "75%      175449.609756\n",
      "max      176383.733749\n",
      "Name: latency, dtype: float64\n"
     ]
    },
    {
     "name": "stdout",
     "output_type": "stream",
     "text": [
      "175121.54579162598 174816.88658396402 0.17427332886152816\n"
     ]
    },
    {
     "name": "stderr",
     "output_type": "stream",
     "text": [
      "2020-05-07 14:40:17:pid_14585:latency_estimator:<INFO> 10 times estimation\n",
      "2020-05-07 14:40:17:pid_14585:binary_gates:<INFO> result of 10 times estimation: \n",
      "count        10.000000\n",
      "mean     263274.383545\n",
      "std       88584.161985\n",
      "min       11229.276657\n",
      "25%      289614.021778\n",
      "50%      292185.783386\n",
      "75%      292744.278908\n",
      "max      292859.792709\n",
      "Name: latency, dtype: float64\n"
     ]
    },
    {
     "name": "stdout",
     "output_type": "stream",
     "text": [
      "291344.9764251709 291585.2467219035 0.08240139013677857\n"
     ]
    },
    {
     "name": "stderr",
     "output_type": "stream",
     "text": [
      "2020-05-07 14:40:19:pid_14585:latency_estimator:<INFO> 10 times estimation\n",
      "2020-05-07 14:40:19:pid_14585:binary_gates:<INFO> result of 10 times estimation: \n",
      "count        10.000000\n",
      "mean     150892.043114\n",
      "std       50144.045439\n",
      "min        8335.351944\n",
      "25%      165960.371494\n",
      "50%      167627.573013\n",
      "75%      167907.297611\n",
      "max      168134.689331\n",
      "Name: latency, dtype: float64\n"
     ]
    },
    {
     "name": "stdout",
     "output_type": "stream",
     "text": [
      "167596.1971282959 167334.55657958984 0.15635775063688642\n"
     ]
    },
    {
     "name": "stderr",
     "output_type": "stream",
     "text": [
      "2020-05-07 14:40:20:pid_14585:latency_estimator:<INFO> 10 times estimation\n",
      "2020-05-07 14:40:20:pid_14585:binary_gates:<INFO> result of 10 times estimation: \n",
      "count        10.000000\n",
      "mean     102590.322495\n",
      "std       33626.475783\n",
      "min        7026.672363\n",
      "25%      112046.897411\n",
      "50%      113991.141319\n",
      "75%      114171.266556\n",
      "max      114960.432053\n",
      "Name: latency, dtype: float64\n"
     ]
    },
    {
     "name": "stdout",
     "output_type": "stream",
     "text": [
      "113450.47950744629 113463.48126729329 0.011458981957702556\n"
     ]
    },
    {
     "name": "stderr",
     "output_type": "stream",
     "text": [
      "2020-05-07 14:40:22:pid_14585:latency_estimator:<INFO> 10 times estimation\n",
      "2020-05-07 14:40:23:pid_14585:binary_gates:<INFO> result of 10 times estimation: \n",
      "count        10.000000\n",
      "mean     223634.481430\n",
      "std       75775.829379\n",
      "min        8054.733276\n",
      "25%      246072.292328\n",
      "50%      248208.284378\n",
      "75%      248968.958855\n",
      "max      249361.276627\n",
      "Name: latency, dtype: float64\n"
     ]
    },
    {
     "name": "stdout",
     "output_type": "stream",
     "text": [
      "247647.5715637207 247848.3517964681 0.08100930722036244\n"
     ]
    },
    {
     "name": "stderr",
     "output_type": "stream",
     "text": [
      "2020-05-07 14:40:24:pid_14585:latency_estimator:<INFO> 10 times estimation\n",
      "2020-05-07 14:40:24:pid_14585:binary_gates:<INFO> result of 10 times estimation: \n",
      "count        10.000000\n",
      "mean     114169.406891\n",
      "std       36181.308280\n",
      "min       11821.985245\n",
      "25%      124611.198902\n",
      "50%      127040.863037\n",
      "75%      127449.393272\n",
      "max      127942.562103\n",
      "Name: latency, dtype: float64\n"
     ]
    },
    {
     "name": "stdout",
     "output_type": "stream",
     "text": [
      "126881.74247741699 126591.56322479248 0.22922479605471938\n"
     ]
    },
    {
     "name": "stderr",
     "output_type": "stream",
     "text": [
      "2020-05-07 14:40:27:pid_14585:latency_estimator:<INFO> 10 times estimation\n",
      "2020-05-07 14:40:28:pid_14585:binary_gates:<INFO> result of 10 times estimation: \n",
      "count        10.000000\n",
      "mean     298805.856705\n",
      "std      100496.038007\n",
      "min       12992.620468\n",
      "25%      329673.349857\n",
      "50%      331826.806068\n",
      "75%      332185.804844\n",
      "max      333337.783813\n",
      "Name: latency, dtype: float64\n"
     ]
    },
    {
     "name": "stdout",
     "output_type": "stream",
     "text": [
      "331705.7132720947 331419.50766245526 0.08635750250735436\n"
     ]
    },
    {
     "name": "stderr",
     "output_type": "stream",
     "text": [
      "2020-05-07 14:40:29:pid_14585:latency_estimator:<INFO> 10 times estimation\n",
      "2020-05-07 14:40:30:pid_14585:binary_gates:<INFO> result of 10 times estimation: \n",
      "count        10.000000\n",
      "mean     148506.689072\n",
      "std       49383.905392\n",
      "min        8203.029633\n",
      "25%      163049.876690\n",
      "50%      165320.038795\n",
      "75%      165497.958660\n",
      "max      166587.591171\n",
      "Name: latency, dtype: float64\n"
     ]
    },
    {
     "name": "stdout",
     "output_type": "stream",
     "text": [
      "164670.46737670898 164699.27628835043 0.01749182649170282\n"
     ]
    },
    {
     "name": "stderr",
     "output_type": "stream",
     "text": [
      "2020-05-07 14:40:31:pid_14585:latency_estimator:<INFO> 10 times estimation\n",
      "2020-05-07 14:40:31:pid_14585:binary_gates:<INFO> result of 10 times estimation: \n",
      "count        10.000000\n",
      "mean     146596.431732\n",
      "std       48864.699017\n",
      "min        7651.567459\n",
      "25%      160017.013550\n",
      "50%      162706.017494\n",
      "75%      162969.112396\n",
      "max      164848.327637\n",
      "Name: latency, dtype: float64\n"
     ]
    },
    {
     "name": "stdout",
     "output_type": "stream",
     "text": [
      "162290.09628295898 162097.01697031656 0.11911342740982213\n"
     ]
    },
    {
     "name": "stderr",
     "output_type": "stream",
     "text": [
      "2020-05-07 14:40:34:pid_14585:latency_estimator:<INFO> 10 times estimation\n",
      "2020-05-07 14:40:34:pid_14585:binary_gates:<INFO> result of 10 times estimation: \n",
      "count        10.000000\n",
      "mean     260913.968086\n",
      "std       87804.395122\n",
      "min       11206.626892\n",
      "25%      288275.659084\n",
      "50%      289714.217186\n",
      "75%      290126.740932\n",
      "max      291263.341904\n",
      "Name: latency, dtype: float64\n"
     ]
    },
    {
     "name": "stdout",
     "output_type": "stream",
     "text": [
      "289380.97953796387 289470.3944524129 0.030889139671150662\n"
     ]
    },
    {
     "name": "stderr",
     "output_type": "stream",
     "text": [
      "2020-05-07 14:40:37:pid_14585:latency_estimator:<INFO> 10 times estimation\n",
      "2020-05-07 14:40:38:pid_14585:binary_gates:<INFO> result of 10 times estimation: \n",
      "count        10.000000\n",
      "mean     282970.595360\n",
      "std       97005.576009\n",
      "min        7001.638412\n",
      "25%      312313.675880\n",
      "50%      313846.230507\n",
      "75%      315102.040768\n",
      "max      316634.178162\n",
      "Name: latency, dtype: float64\n"
     ]
    },
    {
     "name": "stdout",
     "output_type": "stream",
     "text": [
      "313681.4594268799 313826.6404469808 0.04626153467854478\n"
     ]
    },
    {
     "name": "stderr",
     "output_type": "stream",
     "text": [
      "2020-05-07 14:40:39:pid_14585:latency_estimator:<INFO> 10 times estimation\n",
      "2020-05-07 14:40:39:pid_14585:binary_gates:<INFO> result of 10 times estimation: \n",
      "count        10.000000\n",
      "mean     105393.505096\n",
      "std       34822.429679\n",
      "min        6489.992142\n",
      "25%      115111.410618\n",
      "50%      117396.116257\n",
      "75%      117520.034313\n",
      "max      117798.805237\n",
      "Name: latency, dtype: float64\n"
     ]
    },
    {
     "name": "stdout",
     "output_type": "stream",
     "text": [
      "117247.34306335449 116896.0730234782 0.3004977248514976\n"
     ]
    },
    {
     "name": "stderr",
     "output_type": "stream",
     "text": [
      "2020-05-07 14:40:40:pid_14585:latency_estimator:<INFO> 10 times estimation\n",
      "2020-05-07 14:40:41:pid_14585:binary_gates:<INFO> result of 10 times estimation: \n",
      "count        10.000000\n",
      "mean     131011.700630\n",
      "std       42007.793459\n",
      "min       11859.655380\n",
      "25%      144019.067287\n",
      "50%      145393.133163\n",
      "75%      145782.291889\n",
      "max      146547.555923\n",
      "Name: latency, dtype: float64\n"
     ]
    },
    {
     "name": "stdout",
     "output_type": "stream",
     "text": [
      "145172.73902893066 145150.97935994467 0.014991059021402388\n"
     ]
    },
    {
     "name": "stderr",
     "output_type": "stream",
     "text": [
      "2020-05-07 14:40:42:pid_14585:latency_estimator:<INFO> 10 times estimation\n",
      "2020-05-07 14:40:42:pid_14585:binary_gates:<INFO> result of 10 times estimation: \n",
      "count        10.000000\n",
      "mean      91122.031212\n",
      "std       27713.698285\n",
      "min       12854.576111\n",
      "25%       99541.485310\n",
      "50%      101159.572601\n",
      "75%      101402.819157\n",
      "max      101683.616638\n",
      "Name: latency, dtype: float64\n"
     ]
    },
    {
     "name": "stdout",
     "output_type": "stream",
     "text": [
      "100954.15115356445 100807.26941426595 0.1457055033351803\n"
     ]
    },
    {
     "name": "stderr",
     "output_type": "stream",
     "text": [
      "2020-05-07 14:40:43:pid_14585:latency_estimator:<INFO> 10 times estimation\n",
      "2020-05-07 14:40:43:pid_14585:binary_gates:<INFO> result of 10 times estimation: \n",
      "count        10.000000\n",
      "mean     140969.634056\n",
      "std       45441.421604\n",
      "min       11965.036392\n",
      "25%      154592.692852\n",
      "50%      156513.094902\n",
      "75%      156952.619553\n",
      "max      157406.806946\n",
      "Name: latency, dtype: float64\n"
     ]
    },
    {
     "name": "stdout",
     "output_type": "stream",
     "text": [
      "155956.36367797852 156069.4376627604 0.07245107464680244\n"
     ]
    },
    {
     "name": "stderr",
     "output_type": "stream",
     "text": [
      "2020-05-07 14:40:45:pid_14585:latency_estimator:<INFO> 10 times estimation\n",
      "2020-05-07 14:40:46:pid_14585:binary_gates:<INFO> result of 10 times estimation: \n",
      "count        10.000000\n",
      "mean     204392.290115\n",
      "std       67954.427843\n",
      "min       11126.756668\n",
      "25%      224290.430546\n",
      "50%      226823.091507\n",
      "75%      227150.022984\n",
      "max      227999.687195\n",
      "Name: latency, dtype: float64\n"
     ]
    },
    {
     "name": "stdout",
     "output_type": "stream",
     "text": [
      "226567.4114227295 226320.82303365073 0.10895523698325456\n"
     ]
    },
    {
     "name": "stderr",
     "output_type": "stream",
     "text": [
      "2020-05-07 14:40:47:pid_14585:latency_estimator:<INFO> 10 times estimation\n",
      "2020-05-07 14:40:47:pid_14585:binary_gates:<INFO> result of 10 times estimation: \n",
      "count        10.000000\n",
      "mean     112673.544884\n",
      "std       36118.263185\n",
      "min       10214.805603\n",
      "25%      122945.368290\n",
      "50%      125141.143799\n",
      "75%      125581.920147\n",
      "max      126314.640045\n",
      "Name: latency, dtype: float64\n"
     ]
    },
    {
     "name": "stdout",
     "output_type": "stream",
     "text": [
      "124665.88020324707 124663.511912028 0.0018997469129073755\n"
     ]
    },
    {
     "name": "stderr",
     "output_type": "stream",
     "text": [
      "2020-05-07 14:40:50:pid_14585:latency_estimator:<INFO> 10 times estimation\n",
      "2020-05-07 14:40:50:pid_14585:binary_gates:<INFO> result of 10 times estimation: \n",
      "count        10.000000\n",
      "mean     283061.909676\n",
      "std       94407.593492\n",
      "min       14652.729034\n",
      "25%      311880.648136\n",
      "50%      314553.260803\n",
      "75%      315160.393715\n",
      "max      315544.605255\n",
      "Name: latency, dtype: float64\n"
     ]
    },
    {
     "name": "stdout",
     "output_type": "stream",
     "text": [
      "313838.19580078125 313966.0755793254 0.040730444621497934\n"
     ]
    },
    {
     "name": "stderr",
     "output_type": "stream",
     "text": [
      "2020-05-07 14:40:52:pid_14585:latency_estimator:<INFO> 10 times estimation\n",
      "2020-05-07 14:40:53:pid_14585:binary_gates:<INFO> result of 10 times estimation: \n",
      "count        10.000000\n",
      "mean     186183.071136\n",
      "std       62516.108147\n",
      "min        8410.215378\n",
      "25%      204398.095608\n",
      "50%      206257.104874\n",
      "75%      207493.185997\n",
      "max      208450.555801\n",
      "Name: latency, dtype: float64\n"
     ]
    },
    {
     "name": "stdout",
     "output_type": "stream",
     "text": [
      "206229.5436859131 206212.08349863687 0.008467101917589396\n"
     ]
    },
    {
     "name": "stderr",
     "output_type": "stream",
     "text": [
      "2020-05-07 14:40:54:pid_14585:latency_estimator:<INFO> 10 times estimation\n",
      "2020-05-07 14:40:55:pid_14585:binary_gates:<INFO> result of 10 times estimation: \n",
      "count        10.000000\n",
      "mean     150300.788879\n",
      "std       48358.719448\n",
      "min       12944.221497\n",
      "25%      164681.136608\n",
      "50%      166675.925255\n",
      "75%      167255.938053\n",
      "max      167730.808258\n",
      "Name: latency, dtype: float64\n"
     ]
    },
    {
     "name": "stdout",
     "output_type": "stream",
     "text": [
      "166152.2388458252 166258.85168711343 0.06412461063358978\n"
     ]
    },
    {
     "name": "stderr",
     "output_type": "stream",
     "text": [
      "2020-05-07 14:40:56:pid_14585:latency_estimator:<INFO> 10 times estimation\n",
      "2020-05-07 14:40:56:pid_14585:binary_gates:<INFO> result of 10 times estimation: \n",
      "count       10.000000\n",
      "mean     86233.854294\n",
      "std      26458.679524\n",
      "min      11320.352554\n",
      "25%      93149.781227\n",
      "50%      95292.448997\n",
      "75%      95843.672752\n",
      "max      97541.093826\n",
      "Name: latency, dtype: float64\n"
     ]
    },
    {
     "name": "stdout",
     "output_type": "stream",
     "text": [
      "94844.43664550781 94911.61505381267 0.07077996540967775\n"
     ]
    },
    {
     "name": "stderr",
     "output_type": "stream",
     "text": [
      "2020-05-07 14:40:57:pid_14585:latency_estimator:<INFO> 10 times estimation\n",
      "2020-05-07 14:40:57:pid_14585:binary_gates:<INFO> result of 10 times estimation: \n",
      "count        10.000000\n",
      "mean      89141.321182\n",
      "std       26475.507728\n",
      "min       14597.415924\n",
      "25%       96529.185772\n",
      "50%       98307.967186\n",
      "75%       99288.284779\n",
      "max      101656.913757\n",
      "Name: latency, dtype: float64\n"
     ]
    },
    {
     "name": "stdout",
     "output_type": "stream",
     "text": [
      "97526.35955810547 98063.58814239502 0.5478369642251497\n"
     ]
    },
    {
     "name": "stderr",
     "output_type": "stream",
     "text": [
      "2020-05-07 14:40:59:pid_14585:latency_estimator:<INFO> 10 times estimation\n",
      "2020-05-07 14:40:59:pid_14585:binary_gates:<INFO> result of 10 times estimation: \n",
      "count        10.000000\n",
      "mean     217483.091354\n",
      "std       72432.215760\n",
      "min       11546.373367\n",
      "25%      239838.600159\n",
      "50%      241246.223450\n",
      "75%      241390.824318\n",
      "max      243027.210236\n",
      "Name: latency, dtype: float64\n"
     ]
    },
    {
     "name": "stdout",
     "output_type": "stream",
     "text": [
      "241042.51861572266 240941.28608703613 0.042015434685591754\n"
     ]
    },
    {
     "name": "stderr",
     "output_type": "stream",
     "text": [
      "2020-05-07 14:41:01:pid_14585:latency_estimator:<INFO> 10 times estimation\n",
      "2020-05-07 14:41:02:pid_14585:binary_gates:<INFO> result of 10 times estimation: \n",
      "count        10.000000\n",
      "mean     191689.300537\n",
      "std       65517.734758\n",
      "min        5312.204361\n",
      "25%      210690.259933\n",
      "50%      212989.449501\n",
      "75%      213672.339916\n",
      "max      214074.134827\n",
      "Name: latency, dtype: float64\n"
     ]
    },
    {
     "name": "stdout",
     "output_type": "stream",
     "text": [
      "212686.96784973145 212651.49116516113 0.016683017069820893\n"
     ]
    },
    {
     "name": "stderr",
     "output_type": "stream",
     "text": [
      "2020-05-07 14:41:04:pid_14585:latency_estimator:<INFO> 10 times estimation\n",
      "2020-05-07 14:41:04:pid_14585:binary_gates:<INFO> result of 10 times estimation: \n",
      "count        10.000000\n",
      "mean     198337.650299\n",
      "std       67506.378173\n",
      "min        6273.269653\n",
      "25%      218078.553677\n",
      "50%      220274.686813\n",
      "75%      220596.194267\n",
      "max      221153.020859\n",
      "Name: latency, dtype: float64\n"
     ]
    },
    {
     "name": "stdout",
     "output_type": "stream",
     "text": [
      "220209.98001098633 219846.44730885825 0.1653575514083074\n"
     ]
    },
    {
     "name": "stderr",
     "output_type": "stream",
     "text": [
      "2020-05-07 14:41:05:pid_14585:latency_estimator:<INFO> 10 times estimation\n",
      "2020-05-07 14:41:06:pid_14585:binary_gates:<INFO> result of 10 times estimation: \n",
      "count        10.000000\n",
      "mean     137866.115570\n",
      "std       44535.601676\n",
      "min       11528.015137\n",
      "25%      149913.251400\n",
      "50%      153342.247009\n",
      "75%      153909.802437\n",
      "max      154610.157013\n",
      "Name: latency, dtype: float64\n"
     ]
    },
    {
     "name": "stdout",
     "output_type": "stream",
     "text": [
      "152878.66592407227 152613.6795679728 0.17363211269762596\n"
     ]
    },
    {
     "name": "stderr",
     "output_type": "stream",
     "text": [
      "2020-05-07 14:41:08:pid_14585:latency_estimator:<INFO> 10 times estimation\n",
      "2020-05-07 14:41:08:pid_14585:binary_gates:<INFO> result of 10 times estimation: \n",
      "count        10.000000\n",
      "mean     205171.108246\n",
      "std       69233.449612\n",
      "min        8290.052414\n",
      "25%      225594.758987\n",
      "50%      228043.794632\n",
      "75%      228633.105755\n",
      "max      229203.462601\n",
      "Name: latency, dtype: float64\n"
     ]
    },
    {
     "name": "stdout",
     "output_type": "stream",
     "text": [
      "227660.56060791016 227572.24241892496 0.038808858253731364\n"
     ]
    },
    {
     "name": "stderr",
     "output_type": "stream",
     "text": [
      "2020-05-07 14:41:10:pid_14585:latency_estimator:<INFO> 10 times estimation\n",
      "2020-05-07 14:41:10:pid_14585:binary_gates:<INFO> result of 10 times estimation: \n",
      "count        10.000000\n",
      "mean     179461.050034\n",
      "std       61049.362626\n",
      "min        5754.232407\n",
      "25%      197100.698948\n",
      "50%      199107.408524\n",
      "75%      199460.387230\n",
      "max      200913.906097\n",
      "Name: latency, dtype: float64\n"
     ]
    },
    {
     "name": "stdout",
     "output_type": "stream",
     "text": [
      "198591.0415649414 198661.6849899292 0.03555966264525246\n"
     ]
    },
    {
     "name": "stderr",
     "output_type": "stream",
     "text": [
      "2020-05-07 14:41:12:pid_14585:latency_estimator:<INFO> 10 times estimation\n",
      "2020-05-07 14:41:13:pid_14585:binary_gates:<INFO> result of 10 times estimation: \n",
      "count        10.000000\n",
      "mean     216515.398026\n",
      "std       72249.098504\n",
      "min       11085.033417\n",
      "25%      238804.876804\n",
      "50%      240514.159203\n",
      "75%      240857.124329\n",
      "max      241086.006165\n",
      "Name: latency, dtype: float64\n"
     ]
    },
    {
     "name": "stdout",
     "output_type": "stream",
     "text": [
      "240343.42765808105 240212.20207214355 0.05462902583861609\n"
     ]
    },
    {
     "name": "stderr",
     "output_type": "stream",
     "text": [
      "2020-05-07 14:41:15:pid_14585:latency_estimator:<INFO> 10 times estimation\n",
      "2020-05-07 14:41:16:pid_14585:binary_gates:<INFO> result of 10 times estimation: \n",
      "count        10.000000\n",
      "mean     253888.797760\n",
      "std       86722.162858\n",
      "min        7164.716721\n",
      "25%      278951.287270\n",
      "50%      281674.742699\n",
      "75%      283132.076263\n",
      "max      283596.277237\n",
      "Name: latency, dtype: float64\n"
     ]
    },
    {
     "name": "stdout",
     "output_type": "stream",
     "text": [
      "280810.7376098633 281411.5285873413 0.21349195624427328\n"
     ]
    },
    {
     "name": "stderr",
     "output_type": "stream",
     "text": [
      "2020-05-07 14:41:18:pid_14585:latency_estimator:<INFO> 10 times estimation\n",
      "2020-05-07 14:41:18:pid_14585:binary_gates:<INFO> result of 10 times estimation: \n",
      "count        10.000000\n",
      "mean     177642.250061\n",
      "std       60488.862057\n",
      "min        5545.377731\n",
      "25%      195262.432098\n",
      "50%      197008.252144\n",
      "75%      197769.284248\n",
      "max      198471.784592\n",
      "Name: latency, dtype: float64\n"
     ]
    },
    {
     "name": "stdout",
     "output_type": "stream",
     "text": [
      "196556.4727783203 196782.23133087158 0.11472506995394156\n"
     ]
    },
    {
     "name": "stderr",
     "output_type": "stream",
     "text": [
      "2020-05-07 14:41:20:pid_14585:latency_estimator:<INFO> 10 times estimation\n",
      "2020-05-07 14:41:20:pid_14585:binary_gates:<INFO> result of 10 times estimation: \n",
      "count        10.000000\n",
      "mean     189625.072479\n",
      "std       64236.630841\n",
      "min        6888.389587\n",
      "25%      207945.883274\n",
      "50%      210860.371590\n",
      "75%      211287.021637\n",
      "max      211419.820786\n",
      "Name: latency, dtype: float64\n"
     ]
    },
    {
     "name": "stdout",
     "output_type": "stream",
     "text": [
      "210106.7066192627 210159.9375406901 0.02532876724760772\n"
     ]
    },
    {
     "name": "stderr",
     "output_type": "stream",
     "text": [
      "2020-05-07 14:41:23:pid_14585:latency_estimator:<INFO> 10 times estimation\n",
      "2020-05-07 14:41:23:pid_14585:binary_gates:<INFO> result of 10 times estimation: \n",
      "count        10.000000\n",
      "mean     239838.051796\n",
      "std       81920.456867\n",
      "min        6722.211838\n",
      "25%      264111.638069\n",
      "50%      266041.159630\n",
      "75%      266648.948193\n",
      "max      267557.382584\n",
      "Name: latency, dtype: float64\n"
     ]
    },
    {
     "name": "stdout",
     "output_type": "stream",
     "text": [
      "265664.3867492676 265675.147374471 0.004050294244596369\n"
     ]
    },
    {
     "name": "stderr",
     "output_type": "stream",
     "text": [
      "2020-05-07 14:41:25:pid_14585:latency_estimator:<INFO> 10 times estimation\n",
      "2020-05-07 14:41:25:pid_14585:binary_gates:<INFO> result of 10 times estimation: \n",
      "count        10.000000\n",
      "mean     147254.490852\n",
      "std       47641.221466\n",
      "min       11985.301971\n",
      "25%      161835.908890\n",
      "50%      163424.253464\n",
      "75%      163569.986820\n",
      "max      164639.472961\n",
      "Name: latency, dtype: float64\n"
     ]
    },
    {
     "name": "stdout",
     "output_type": "stream",
     "text": [
      "163149.1184234619 163041.31348927817 0.0661212375419413\n"
     ]
    },
    {
     "name": "stderr",
     "output_type": "stream",
     "text": [
      "2020-05-07 14:41:26:pid_14585:latency_estimator:<INFO> 10 times estimation\n",
      "2020-05-07 14:41:26:pid_14585:binary_gates:<INFO> result of 10 times estimation: \n",
      "count        10.000000\n",
      "mean     133154.129982\n",
      "std       44417.507802\n",
      "min        6820.201874\n",
      "25%      145525.634289\n",
      "50%      147653.341293\n",
      "75%      148261.129856\n",
      "max      148904.323578\n",
      "Name: latency, dtype: float64\n"
     ]
    },
    {
     "name": "stdout",
     "output_type": "stream",
     "text": [
      "147098.15979003906 147218.78369649252 0.0819351331567441\n"
     ]
    },
    {
     "name": "stderr",
     "output_type": "stream",
     "text": [
      "2020-05-07 14:41:27:pid_14585:latency_estimator:<INFO> 10 times estimation\n",
      "2020-05-07 14:41:28:pid_14585:binary_gates:<INFO> result of 10 times estimation: \n",
      "count        10.000000\n",
      "mean      92282.509804\n",
      "std       30051.680447\n",
      "min        6855.010986\n",
      "25%      100772.142410\n",
      "50%      102385.044098\n",
      "75%      102526.724339\n",
      "max      103140.830994\n",
      "Name: latency, dtype: float64\n"
     ]
    },
    {
     "name": "stdout",
     "output_type": "stream",
     "text": [
      "101998.23379516602 101963.24189503987 0.03431815179254947\n"
     ]
    }
   ],
   "source": [
    "from util.outlier import cut_outlier\n",
    "\n",
    "def func(x):\n",
    "    l = latency_binary_gate(le, x)\n",
    "    cut = cut_outlier(l, min_border=0.2, max_border=0.8)\n",
    "    mid = l.quantile(0.4)\n",
    "    mean = cut.mean()\n",
    "    ratio = ((abs(l.quantile(0.4) - mean))/mean)*100  # percent\n",
    "    print(mid, mean, ratio)\n",
    "    return [mid, mean, ratio]\n",
    "    \n",
    "result = list(map(func, iter_list2))"
   ]
  },
  {
   "cell_type": "code",
   "execution_count": 21,
   "metadata": {},
   "outputs": [],
   "source": [
    "df = pd.DataFrame(result, columns=['0.4', 'mean', 'ratio'])"
   ]
  },
  {
   "cell_type": "code",
   "execution_count": 22,
   "metadata": {},
   "outputs": [
    {
     "data": {
      "text/html": [
       "<div>\n",
       "<style scoped>\n",
       "    .dataframe tbody tr th:only-of-type {\n",
       "        vertical-align: middle;\n",
       "    }\n",
       "\n",
       "    .dataframe tbody tr th {\n",
       "        vertical-align: top;\n",
       "    }\n",
       "\n",
       "    .dataframe thead th {\n",
       "        text-align: right;\n",
       "    }\n",
       "</style>\n",
       "<table border=\"1\" class=\"dataframe\">\n",
       "  <thead>\n",
       "    <tr style=\"text-align: right;\">\n",
       "      <th></th>\n",
       "      <th>0.4</th>\n",
       "      <th>mean</th>\n",
       "      <th>ratio</th>\n",
       "    </tr>\n",
       "  </thead>\n",
       "  <tbody>\n",
       "    <tr>\n",
       "      <th>count</th>\n",
       "      <td>100.000000</td>\n",
       "      <td>100.000000</td>\n",
       "      <td>100.000000</td>\n",
       "    </tr>\n",
       "    <tr>\n",
       "      <th>mean</th>\n",
       "      <td>187664.470196</td>\n",
       "      <td>187665.748596</td>\n",
       "      <td>0.097323</td>\n",
       "    </tr>\n",
       "    <tr>\n",
       "      <th>std</th>\n",
       "      <td>65670.737641</td>\n",
       "      <td>65688.382004</td>\n",
       "      <td>0.098839</td>\n",
       "    </tr>\n",
       "    <tr>\n",
       "      <th>min</th>\n",
       "      <td>54457.330704</td>\n",
       "      <td>54140.647252</td>\n",
       "      <td>0.001900</td>\n",
       "    </tr>\n",
       "    <tr>\n",
       "      <th>25%</th>\n",
       "      <td>141309.154034</td>\n",
       "      <td>141316.503286</td>\n",
       "      <td>0.028327</td>\n",
       "    </tr>\n",
       "    <tr>\n",
       "      <th>50%</th>\n",
       "      <td>181690.573692</td>\n",
       "      <td>181705.017885</td>\n",
       "      <td>0.075393</td>\n",
       "    </tr>\n",
       "    <tr>\n",
       "      <th>75%</th>\n",
       "      <td>221363.186836</td>\n",
       "      <td>221300.174793</td>\n",
       "      <td>0.127507</td>\n",
       "    </tr>\n",
       "    <tr>\n",
       "      <th>max</th>\n",
       "      <td>370596.170425</td>\n",
       "      <td>370414.058367</td>\n",
       "      <td>0.584927</td>\n",
       "    </tr>\n",
       "  </tbody>\n",
       "</table>\n",
       "</div>"
      ],
      "text/plain": [
       "                 0.4           mean       ratio\n",
       "count     100.000000     100.000000  100.000000\n",
       "mean   187664.470196  187665.748596    0.097323\n",
       "std     65670.737641   65688.382004    0.098839\n",
       "min     54457.330704   54140.647252    0.001900\n",
       "25%    141309.154034  141316.503286    0.028327\n",
       "50%    181690.573692  181705.017885    0.075393\n",
       "75%    221363.186836  221300.174793    0.127507\n",
       "max    370596.170425  370414.058367    0.584927"
      ]
     },
     "execution_count": 22,
     "metadata": {},
     "output_type": "execute_result"
    }
   ],
   "source": [
    "df.describe()"
   ]
  },
  {
   "cell_type": "code",
   "execution_count": 30,
   "metadata": {},
   "outputs": [],
   "source": [
    "err = abs(df['0.4'] - df['mean'])"
   ]
  },
  {
   "cell_type": "code",
   "execution_count": 32,
   "metadata": {},
   "outputs": [
    {
     "data": {
      "text/plain": [
       "count    100.000000\n",
       "mean     157.730738\n",
       "std      124.133874\n",
       "min        2.328555\n",
       "25%       58.323145\n",
       "50%      123.473008\n",
       "75%      240.621964\n",
       "max      600.790977\n",
       "dtype: float64"
      ]
     },
     "execution_count": 32,
     "metadata": {},
     "output_type": "execute_result"
    }
   ],
   "source": [
    "err.describe()"
   ]
  },
  {
   "cell_type": "markdown",
   "metadata": {},
   "source": [
    "## Accumulate the latency measured each time the binary gate is reset."
   ]
  },
  {
   "cell_type": "code",
   "execution_count": 9,
   "metadata": {},
   "outputs": [
    {
     "name": "stderr",
     "output_type": "stream",
     "text": [
      "2020-05-03 06:45:26:pid_10824:binary_gates:<INFO> --------------- 0 times reset binary gate ---------------\n",
      "2020-05-03 06:45:27:pid_10824:latency_estimator:<INFO> 10 times estimation\n",
      "2020-05-03 06:45:29:pid_10824:latency_estimator:<INFO> 20 times estimation\n",
      "2020-05-03 06:45:31:pid_10824:latency_estimator:<INFO> 30 times estimation\n",
      "2020-05-03 06:45:33:pid_10824:latency_estimator:<INFO> 40 times estimation\n",
      "2020-05-03 06:45:34:pid_10824:latency_estimator:<INFO> 50 times estimation\n",
      "2020-05-03 06:45:35:pid_10824:binary_gates:<INFO> result of 50 times estimation: \n",
      "count        50.000000\n",
      "mean     167343.363762\n",
      "std       22826.545548\n",
      "min       12699.604034\n",
      "25%      169271.051884\n",
      "50%      169994.950294\n",
      "75%      170757.889748\n",
      "max      201991.796494\n",
      "Name: latency, dtype: float64\n",
      "2020-05-03 06:45:35:pid_10824:binary_gates:<INFO> cumulative_avg, pre_avg: 169737.1482849121, 169737.1482849121\n",
      "2020-05-03 06:45:35:pid_10824:binary_gates:<INFO> convergence ratio: 0.0\n",
      "2020-05-03 06:45:35:pid_10824:binary_gates:<INFO> --------------- 1 times reset binary gate ---------------\n",
      "2020-05-03 06:45:37:pid_10824:latency_estimator:<INFO> 10 times estimation\n",
      "2020-05-03 06:45:39:pid_10824:latency_estimator:<INFO> 20 times estimation\n",
      "2020-05-03 06:45:42:pid_10824:latency_estimator:<INFO> 30 times estimation\n",
      "2020-05-03 06:45:44:pid_10824:latency_estimator:<INFO> 40 times estimation\n",
      "2020-05-03 06:45:47:pid_10824:latency_estimator:<INFO> 50 times estimation\n",
      "2020-05-03 06:45:47:pid_10824:binary_gates:<INFO> result of 50 times estimation: \n",
      "count        50.000000\n",
      "mean     248849.697113\n",
      "std       34841.062187\n",
      "min        7697.343826\n",
      "25%      253058.135509\n",
      "50%      254069.805145\n",
      "75%      254821.240902\n",
      "max      255982.398987\n",
      "Name: latency, dtype: float64\n",
      "2020-05-03 06:45:47:pid_10824:binary_gates:<INFO> cumulative_avg, pre_avg: 211600.56591033936, 169737.1482849121\n",
      "2020-05-03 06:45:47:pid_10824:binary_gates:<INFO> convergence ratio: 19.784170919072995\n",
      "2020-05-03 06:45:47:pid_10824:binary_gates:<INFO> --------------- 2 times reset binary gate ---------------\n",
      "2020-05-03 06:45:49:pid_10824:latency_estimator:<INFO> 10 times estimation\n",
      "2020-05-03 06:45:50:pid_10824:latency_estimator:<INFO> 20 times estimation\n",
      "2020-05-03 06:45:51:pid_10824:latency_estimator:<INFO> 30 times estimation\n",
      "2020-05-03 06:45:53:pid_10824:latency_estimator:<INFO> 40 times estimation\n",
      "2020-05-03 06:45:54:pid_10824:latency_estimator:<INFO> 50 times estimation\n",
      "2020-05-03 06:45:54:pid_10824:binary_gates:<INFO> result of 50 times estimation: \n",
      "count        50.000000\n",
      "mean     128943.591118\n",
      "std       17142.023628\n",
      "min       10518.789291\n",
      "25%      131341.695786\n",
      "50%      131569.862366\n",
      "75%      131954.014301\n",
      "max      133548.259735\n",
      "Name: latency, dtype: float64\n",
      "2020-05-03 06:45:54:pid_10824:binary_gates:<INFO> cumulative_avg, pre_avg: 184888.49004109701, 211600.56591033936\n",
      "2020-05-03 06:45:54:pid_10824:binary_gates:<INFO> convergence ratio: 14.44766835583155\n",
      "2020-05-03 06:45:54:pid_10824:binary_gates:<INFO> --------------- 3 times reset binary gate ---------------\n",
      "2020-05-03 06:45:56:pid_10824:latency_estimator:<INFO> 10 times estimation\n",
      "2020-05-03 06:45:59:pid_10824:latency_estimator:<INFO> 20 times estimation\n",
      "2020-05-03 06:46:01:pid_10824:latency_estimator:<INFO> 30 times estimation\n",
      "2020-05-03 06:46:03:pid_10824:latency_estimator:<INFO> 40 times estimation\n",
      "2020-05-03 06:46:06:pid_10824:latency_estimator:<INFO> 50 times estimation\n",
      "2020-05-03 06:46:06:pid_10824:binary_gates:<INFO> result of 50 times estimation: \n",
      "count        50.000000\n",
      "mean     230390.543938\n",
      "std       31627.413226\n",
      "min       11684.894562\n",
      "25%      234869.956970\n",
      "50%      235248.684883\n",
      "75%      235832.571983\n",
      "max      236337.900162\n",
      "Name: latency, dtype: float64\n",
      "2020-05-03 06:46:06:pid_10824:binary_gates:<INFO> cumulative_avg, pre_avg: 197411.82327270508, 184888.49004109701\n",
      "2020-05-03 06:46:06:pid_10824:binary_gates:<INFO> convergence ratio: 6.343760482019513\n",
      "2020-05-03 06:46:06:pid_10824:binary_gates:<INFO> --------------- 4 times reset binary gate ---------------\n",
      "2020-05-03 06:46:08:pid_10824:latency_estimator:<INFO> 10 times estimation\n",
      "2020-05-03 06:46:09:pid_10824:latency_estimator:<INFO> 20 times estimation\n",
      "2020-05-03 06:46:11:pid_10824:latency_estimator:<INFO> 30 times estimation\n",
      "2020-05-03 06:46:13:pid_10824:latency_estimator:<INFO> 40 times estimation\n",
      "2020-05-03 06:46:15:pid_10824:latency_estimator:<INFO> 50 times estimation\n",
      "2020-05-03 06:46:15:pid_10824:binary_gates:<INFO> result of 50 times estimation: \n",
      "count        50.000000\n",
      "mean     165745.282173\n",
      "std       22321.031681\n",
      "min       11549.472809\n",
      "25%      168757.736683\n",
      "50%      169131.875038\n",
      "75%      169491.827488\n",
      "max      171415.090561\n",
      "Name: latency, dtype: float64\n",
      "2020-05-03 06:46:15:pid_10824:binary_gates:<INFO> cumulative_avg, pre_avg: 191735.42022705078, 197411.82327270508\n",
      "2020-05-03 06:46:15:pid_10824:binary_gates:<INFO> convergence ratio: 2.9605396013591903\n",
      "2020-05-03 06:46:15:pid_10824:binary_gates:<INFO> --------------- 5 times reset binary gate ---------------\n",
      "2020-05-03 06:46:17:pid_10824:latency_estimator:<INFO> 10 times estimation\n",
      "2020-05-03 06:46:18:pid_10824:latency_estimator:<INFO> 20 times estimation\n",
      "2020-05-03 06:46:20:pid_10824:latency_estimator:<INFO> 30 times estimation\n",
      "2020-05-03 06:46:22:pid_10824:latency_estimator:<INFO> 40 times estimation\n",
      "2020-05-03 06:46:24:pid_10824:latency_estimator:<INFO> 50 times estimation\n",
      "2020-05-03 06:46:24:pid_10824:binary_gates:<INFO> result of 50 times estimation: \n",
      "count        50.000000\n",
      "mean     177986.521721\n",
      "std       23960.954733\n",
      "min       12464.284897\n",
      "25%      181464.135647\n",
      "50%      181711.196899\n",
      "75%      181976.020336\n",
      "max      183170.318604\n",
      "Name: latency, dtype: float64\n",
      "2020-05-03 06:46:24:pid_10824:binary_gates:<INFO> cumulative_avg, pre_avg: 190043.7037150065, 191735.42022705078\n",
      "2020-05-03 06:46:24:pid_10824:binary_gates:<INFO> convergence ratio: 0.8901723545554626\n",
      "2020-05-03 06:46:24:pid_10824:binary_gates:<INFO> --------------- 6 times reset binary gate ---------------\n",
      "2020-05-03 06:46:26:pid_10824:latency_estimator:<INFO> 10 times estimation\n",
      "2020-05-03 06:46:28:pid_10824:latency_estimator:<INFO> 20 times estimation\n",
      "2020-05-03 06:46:31:pid_10824:latency_estimator:<INFO> 30 times estimation\n",
      "2020-05-03 06:46:33:pid_10824:latency_estimator:<INFO> 40 times estimation\n",
      "2020-05-03 06:46:35:pid_10824:latency_estimator:<INFO> 50 times estimation\n",
      "2020-05-03 06:46:35:pid_10824:binary_gates:<INFO> result of 50 times estimation: \n",
      "count        50.000000\n",
      "mean     218991.785049\n",
      "std       30448.796167\n",
      "min        8228.063583\n",
      "25%      223287.880421\n",
      "50%      223597.288132\n",
      "75%      223833.739758\n",
      "max      224915.742874\n",
      "Name: latency, dtype: float64\n",
      "2020-05-03 06:46:35:pid_10824:binary_gates:<INFO> cumulative_avg, pre_avg: 194819.21195983887, 190043.7037150065\n",
      "2020-05-03 06:46:35:pid_10824:binary_gates:<INFO> convergence ratio: 2.451251186570253\n",
      "2020-05-03 06:46:35:pid_10824:binary_gates:<INFO> --------------- 7 times reset binary gate ---------------\n",
      "2020-05-03 06:46:37:pid_10824:latency_estimator:<INFO> 10 times estimation\n",
      "2020-05-03 06:46:38:pid_10824:latency_estimator:<INFO> 20 times estimation\n",
      "2020-05-03 06:46:39:pid_10824:latency_estimator:<INFO> 30 times estimation\n",
      "2020-05-03 06:46:40:pid_10824:latency_estimator:<INFO> 40 times estimation\n",
      "2020-05-03 06:46:42:pid_10824:latency_estimator:<INFO> 50 times estimation\n",
      "2020-05-03 06:46:42:pid_10824:binary_gates:<INFO> result of 50 times estimation: \n",
      "count        50.000000\n",
      "mean     122426.624298\n",
      "std       16261.955243\n",
      "min       10339.736938\n",
      "25%      124931.752682\n",
      "50%      125077.486038\n",
      "75%      125200.808048\n",
      "max      125418.901443\n",
      "Name: latency, dtype: float64\n",
      "2020-05-03 06:46:42:pid_10824:binary_gates:<INFO> cumulative_avg, pre_avg: 186097.15700149536, 194819.21195983887\n",
      "2020-05-03 06:46:42:pid_10824:binary_gates:<INFO> convergence ratio: 4.686828696836793\n",
      "2020-05-03 06:46:42:pid_10824:binary_gates:<INFO> --------------- 8 times reset binary gate ---------------\n",
      "2020-05-03 06:46:44:pid_10824:latency_estimator:<INFO> 10 times estimation\n",
      "2020-05-03 06:46:46:pid_10824:latency_estimator:<INFO> 20 times estimation\n",
      "2020-05-03 06:46:49:pid_10824:latency_estimator:<INFO> 30 times estimation\n",
      "2020-05-03 06:46:51:pid_10824:latency_estimator:<INFO> 40 times estimation\n"
     ]
    },
    {
     "name": "stderr",
     "output_type": "stream",
     "text": [
      "2020-05-03 06:46:53:pid_10824:latency_estimator:<INFO> 50 times estimation\n",
      "2020-05-03 06:46:54:pid_10824:binary_gates:<INFO> result of 50 times estimation: \n",
      "count        50.000000\n",
      "mean     230300.769806\n",
      "std       31613.314918\n",
      "min       11554.956436\n",
      "25%      234804.034233\n",
      "50%      235158.562660\n",
      "75%      235357.224941\n",
      "max      237596.988678\n",
      "Name: latency, dtype: float64\n",
      "2020-05-03 06:46:54:pid_10824:binary_gates:<INFO> cumulative_avg, pre_avg: 191538.3391910129, 186097.15700149536\n",
      "2020-05-03 06:46:54:pid_10824:binary_gates:<INFO> convergence ratio: 2.8407796645303907\n",
      "2020-05-03 06:46:54:pid_10824:binary_gates:<INFO> --------------- 9 times reset binary gate ---------------\n",
      "2020-05-03 06:46:57:pid_10824:latency_estimator:<INFO> 10 times estimation\n",
      "2020-05-03 06:47:00:pid_10824:latency_estimator:<INFO> 20 times estimation\n",
      "2020-05-03 06:47:03:pid_10824:latency_estimator:<INFO> 30 times estimation\n",
      "2020-05-03 06:47:07:pid_10824:latency_estimator:<INFO> 40 times estimation\n",
      "2020-05-03 06:47:10:pid_10824:latency_estimator:<INFO> 50 times estimation\n",
      "2020-05-03 06:47:11:pid_10824:binary_gates:<INFO> result of 50 times estimation: \n",
      "count        50.000000\n",
      "mean     325737.290382\n",
      "std       45241.978469\n",
      "min       12375.831604\n",
      "25%      331944.763660\n",
      "50%      332420.349121\n",
      "75%      332729.995251\n",
      "max      334968.328476\n",
      "Name: latency, dtype: float64\n",
      "2020-05-03 06:47:11:pid_10824:binary_gates:<INFO> cumulative_avg, pre_avg: 205606.51779174805, 191538.3391910129\n",
      "2020-05-03 06:47:11:pid_10824:binary_gates:<INFO> convergence ratio: 6.84228241002765\n",
      "2020-05-03 06:47:11:pid_10824:binary_gates:<INFO> --------------- 10 times reset binary gate ---------------\n",
      "2020-05-03 06:47:12:pid_10824:latency_estimator:<INFO> 10 times estimation\n",
      "2020-05-03 06:47:14:pid_10824:latency_estimator:<INFO> 20 times estimation\n",
      "2020-05-03 06:47:16:pid_10824:latency_estimator:<INFO> 30 times estimation\n",
      "2020-05-03 06:47:17:pid_10824:latency_estimator:<INFO> 40 times estimation\n",
      "2020-05-03 06:47:19:pid_10824:latency_estimator:<INFO> 50 times estimation\n",
      "2020-05-03 06:47:19:pid_10824:binary_gates:<INFO> result of 50 times estimation: \n",
      "count        50.000000\n",
      "mean     166620.383263\n",
      "std       22544.109636\n",
      "min       10836.601257\n",
      "25%      169812.202454\n",
      "50%      170165.419579\n",
      "75%      170379.102230\n",
      "max      171368.598938\n",
      "Name: latency, dtype: float64\n",
      "2020-05-03 06:47:19:pid_10824:binary_gates:<INFO> cumulative_avg, pre_avg: 202372.51195040616, 205606.51779174805\n",
      "2020-05-03 06:47:19:pid_10824:binary_gates:<INFO> convergence ratio: 1.5980460044565838\n",
      "2020-05-03 06:47:19:pid_10824:binary_gates:<INFO> --------------- 11 times reset binary gate ---------------\n",
      "2020-05-03 06:47:23:pid_10824:latency_estimator:<INFO> 10 times estimation\n",
      "2020-05-03 06:47:27:pid_10824:latency_estimator:<INFO> 20 times estimation\n",
      "2020-05-03 06:47:32:pid_10824:latency_estimator:<INFO> 30 times estimation\n",
      "2020-05-03 06:47:36:pid_10824:latency_estimator:<INFO> 40 times estimation\n",
      "2020-05-03 06:47:41:pid_10824:latency_estimator:<INFO> 50 times estimation\n",
      "2020-05-03 06:47:41:pid_10824:binary_gates:<INFO> result of 50 times estimation: \n",
      "count        50.000000\n",
      "mean     428296.303749\n",
      "std       60206.993486\n",
      "min       11219.978333\n",
      "25%      436524.450779\n",
      "50%      437088.847160\n",
      "75%      437408.208847\n",
      "max      438577.651978\n",
      "Name: latency, dtype: float64\n",
      "2020-05-03 06:47:41:pid_10824:binary_gates:<INFO> cumulative_avg, pre_avg: 221919.7154045105, 202372.51195040616\n",
      "2020-05-03 06:47:41:pid_10824:binary_gates:<INFO> convergence ratio: 8.80823203043232\n",
      "2020-05-03 06:47:41:pid_10824:binary_gates:<INFO> --------------- 12 times reset binary gate ---------------\n",
      "2020-05-03 06:47:43:pid_10824:latency_estimator:<INFO> 10 times estimation\n",
      "2020-05-03 06:47:46:pid_10824:latency_estimator:<INFO> 20 times estimation\n",
      "2020-05-03 06:47:48:pid_10824:latency_estimator:<INFO> 30 times estimation\n",
      "2020-05-03 06:47:50:pid_10824:latency_estimator:<INFO> 40 times estimation\n",
      "2020-05-03 06:47:52:pid_10824:latency_estimator:<INFO> 50 times estimation\n",
      "2020-05-03 06:47:52:pid_10824:binary_gates:<INFO> result of 50 times estimation: \n",
      "count        50.000000\n",
      "mean     209985.189438\n",
      "std       29201.120825\n",
      "min        7804.870605\n",
      "25%      214249.670506\n",
      "50%      214416.742325\n",
      "75%      214550.197124\n",
      "max      215537.548065\n",
      "Name: latency, dtype: float64\n",
      "2020-05-03 06:47:52:pid_10824:binary_gates:<INFO> cumulative_avg, pre_avg: 221339.55588707558, 221919.7154045105\n",
      "2020-05-03 06:47:52:pid_10824:binary_gates:<INFO> convergence ratio: 0.2621128948731197\n",
      "2020-05-03 06:47:52:pid_10824:binary_gates:<INFO> --------------- 13 times reset binary gate ---------------\n",
      "2020-05-03 06:47:54:pid_10824:latency_estimator:<INFO> 10 times estimation\n",
      "2020-05-03 06:47:56:pid_10824:latency_estimator:<INFO> 20 times estimation\n",
      "2020-05-03 06:47:58:pid_10824:latency_estimator:<INFO> 30 times estimation\n",
      "2020-05-03 06:48:00:pid_10824:latency_estimator:<INFO> 40 times estimation\n",
      "2020-05-03 06:48:01:pid_10824:latency_estimator:<INFO> 50 times estimation\n",
      "2020-05-03 06:48:02:pid_10824:binary_gates:<INFO> result of 50 times estimation: \n",
      "count        50.000000\n",
      "mean     179947.919846\n",
      "std       25174.856787\n",
      "min        5650.281906\n",
      "25%      183543.801308\n",
      "50%      183798.313141\n",
      "75%      183984.398842\n",
      "max      184558.153152\n",
      "Name: latency, dtype: float64\n",
      "2020-05-03 06:48:02:pid_10824:binary_gates:<INFO> cumulative_avg, pre_avg: 218654.85055106026, 221339.55588707558\n",
      "2020-05-03 06:48:02:pid_10824:binary_gates:<INFO> convergence ratio: 1.2278279348705279\n",
      "2020-05-03 06:48:02:pid_10824:binary_gates:<INFO> --------------- 14 times reset binary gate ---------------\n",
      "2020-05-03 06:48:03:pid_10824:latency_estimator:<INFO> 10 times estimation\n",
      "2020-05-03 06:48:04:pid_10824:latency_estimator:<INFO> 20 times estimation\n",
      "2020-05-03 06:48:05:pid_10824:latency_estimator:<INFO> 30 times estimation\n",
      "2020-05-03 06:48:06:pid_10824:latency_estimator:<INFO> 40 times estimation\n",
      "2020-05-03 06:48:07:pid_10824:latency_estimator:<INFO> 50 times estimation\n",
      "2020-05-03 06:48:07:pid_10824:binary_gates:<INFO> result of 50 times estimation: \n",
      "count        50.000000\n",
      "mean     100851.049423\n",
      "std       12952.838515\n",
      "min       12111.663818\n",
      "25%      102525.949478\n",
      "50%      103079.795837\n",
      "75%      103241.205215\n",
      "max      105118.751526\n",
      "Name: latency, dtype: float64\n",
      "2020-05-03 06:48:07:pid_10824:binary_gates:<INFO> cumulative_avg, pre_avg: 210944.49361165366, 218654.85055106026\n",
      "2020-05-03 06:48:07:pid_10824:binary_gates:<INFO> convergence ratio: 3.6551591403951393\n",
      "2020-05-03 06:48:07:pid_10824:binary_gates:<INFO> --------------- 15 times reset binary gate ---------------\n",
      "2020-05-03 06:48:08:pid_10824:latency_estimator:<INFO> 10 times estimation\n",
      "2020-05-03 06:48:10:pid_10824:latency_estimator:<INFO> 20 times estimation\n",
      "2020-05-03 06:48:11:pid_10824:latency_estimator:<INFO> 30 times estimation\n",
      "2020-05-03 06:48:13:pid_10824:latency_estimator:<INFO> 40 times estimation\n",
      "2020-05-03 06:48:14:pid_10824:latency_estimator:<INFO> 50 times estimation\n",
      "2020-05-03 06:48:15:pid_10824:binary_gates:<INFO> result of 50 times estimation: \n",
      "count        50.000000\n",
      "mean     142581.348419\n",
      "std       19031.635080\n",
      "min       11155.366898\n",
      "25%      145064.294338\n",
      "50%      145519.733429\n",
      "75%      145928.621292\n",
      "max      147778.272629\n",
      "Name: latency, dtype: float64\n",
      "2020-05-03 06:48:15:pid_10824:binary_gates:<INFO> cumulative_avg, pre_avg: 206836.42029762268, 210944.49361165366\n",
      "2020-05-03 06:48:15:pid_10824:binary_gates:<INFO> convergence ratio: 1.9861460124477857\n",
      "2020-05-03 06:48:15:pid_10824:binary_gates:<INFO> --------------- 16 times reset binary gate ---------------\n",
      "2020-05-03 06:48:16:pid_10824:latency_estimator:<INFO> 10 times estimation\n",
      "2020-05-03 06:48:18:pid_10824:latency_estimator:<INFO> 20 times estimation\n",
      "2020-05-03 06:48:19:pid_10824:latency_estimator:<INFO> 30 times estimation\n",
      "2020-05-03 06:48:21:pid_10824:latency_estimator:<INFO> 40 times estimation\n",
      "2020-05-03 06:48:22:pid_10824:latency_estimator:<INFO> 50 times estimation\n",
      "2020-05-03 06:48:23:pid_10824:binary_gates:<INFO> result of 50 times estimation: \n",
      "count        50.000000\n",
      "mean     152336.549759\n",
      "std       20158.552088\n",
      "min       13134.956360\n",
      "25%      155107.855797\n",
      "50%      155512.094498\n",
      "75%      155781.745911\n",
      "max      157407.283783\n",
      "Name: latency, dtype: float64\n"
     ]
    },
    {
     "name": "stderr",
     "output_type": "stream",
     "text": [
      "2020-05-03 06:48:23:pid_10824:binary_gates:<INFO> cumulative_avg, pre_avg: 203813.81090949563, 206836.42029762268\n",
      "2020-05-03 06:48:23:pid_10824:binary_gates:<INFO> convergence ratio: 1.483024813008993\n",
      "2020-05-03 06:48:23:pid_10824:binary_gates:<INFO> --------------- 17 times reset binary gate ---------------\n",
      "2020-05-03 06:48:25:pid_10824:latency_estimator:<INFO> 10 times estimation\n",
      "2020-05-03 06:48:28:pid_10824:latency_estimator:<INFO> 20 times estimation\n",
      "2020-05-03 06:48:31:pid_10824:latency_estimator:<INFO> 30 times estimation\n",
      "2020-05-03 06:48:33:pid_10824:latency_estimator:<INFO> 40 times estimation\n",
      "2020-05-03 06:48:36:pid_10824:latency_estimator:<INFO> 50 times estimation\n",
      "2020-05-03 06:48:36:pid_10824:binary_gates:<INFO> result of 50 times estimation: \n",
      "count        50.000000\n",
      "mean     270772.204399\n",
      "std       38190.937486\n",
      "min        6293.296814\n",
      "25%      276023.209095\n",
      "50%      276456.832886\n",
      "75%      276765.286922\n",
      "max      277936.220169\n",
      "Name: latency, dtype: float64\n",
      "2020-05-03 06:48:36:pid_10824:binary_gates:<INFO> cumulative_avg, pre_avg: 207837.22930484347, 203813.81090949563\n",
      "2020-05-03 06:48:36:pid_10824:binary_gates:<INFO> convergence ratio: 1.935850669682726\n",
      "2020-05-03 06:48:36:pid_10824:binary_gates:<INFO> --------------- 18 times reset binary gate ---------------\n",
      "2020-05-03 06:48:38:pid_10824:latency_estimator:<INFO> 10 times estimation\n",
      "2020-05-03 06:48:40:pid_10824:latency_estimator:<INFO> 20 times estimation\n",
      "2020-05-03 06:48:41:pid_10824:latency_estimator:<INFO> 30 times estimation\n",
      "2020-05-03 06:48:43:pid_10824:latency_estimator:<INFO> 40 times estimation\n",
      "2020-05-03 06:48:44:pid_10824:latency_estimator:<INFO> 50 times estimation\n",
      "2020-05-03 06:48:45:pid_10824:binary_gates:<INFO> result of 50 times estimation: \n",
      "count        50.000000\n",
      "mean     153977.212906\n",
      "std       20400.428702\n",
      "min       13197.422028\n",
      "25%      156981.706619\n",
      "50%      157233.476639\n",
      "75%      157465.577126\n",
      "max      158000.469208\n",
      "Name: latency, dtype: float64\n",
      "2020-05-03 06:48:45:pid_10824:binary_gates:<INFO> cumulative_avg, pre_avg: 205169.21595523233, 207837.22930484347\n",
      "2020-05-03 06:48:45:pid_10824:binary_gates:<INFO> convergence ratio: 1.3003965225432723\n",
      "2020-05-03 06:48:45:pid_10824:binary_gates:<INFO> --------------- 19 times reset binary gate ---------------\n",
      "2020-05-03 06:48:46:pid_10824:latency_estimator:<INFO> 10 times estimation\n",
      "2020-05-03 06:48:48:pid_10824:latency_estimator:<INFO> 20 times estimation\n",
      "2020-05-03 06:48:49:pid_10824:latency_estimator:<INFO> 30 times estimation\n",
      "2020-05-03 06:48:51:pid_10824:latency_estimator:<INFO> 40 times estimation\n",
      "2020-05-03 06:48:53:pid_10824:latency_estimator:<INFO> 50 times estimation\n",
      "2020-05-03 06:48:53:pid_10824:binary_gates:<INFO> result of 50 times estimation: \n",
      "count        50.000000\n",
      "mean     160205.974579\n",
      "std       21535.137138\n",
      "min       11582.612991\n",
      "25%      163275.182247\n",
      "50%      163513.898849\n",
      "75%      163886.308670\n",
      "max      165116.548538\n",
      "Name: latency, dtype: float64\n",
      "2020-05-03 06:48:53:pid_10824:binary_gates:<INFO> cumulative_avg, pre_avg: 203083.99438858032, 205169.21595523233\n",
      "2020-05-03 06:48:53:pid_10824:binary_gates:<INFO> convergence ratio: 1.0267778969632384\n",
      "2020-05-03 06:48:53:pid_10824:binary_gates:<INFO> --------------- 20 times reset binary gate ---------------\n",
      "2020-05-03 06:48:55:pid_10824:latency_estimator:<INFO> 10 times estimation\n",
      "2020-05-03 06:48:56:pid_10824:latency_estimator:<INFO> 20 times estimation\n",
      "2020-05-03 06:48:58:pid_10824:latency_estimator:<INFO> 30 times estimation\n",
      "2020-05-03 06:49:00:pid_10824:latency_estimator:<INFO> 40 times estimation\n",
      "2020-05-03 06:49:01:pid_10824:latency_estimator:<INFO> 50 times estimation\n",
      "2020-05-03 06:49:02:pid_10824:binary_gates:<INFO> result of 50 times estimation: \n",
      "count        50.000000\n",
      "mean     165026.483536\n",
      "std       22232.847667\n",
      "min       11324.405670\n",
      "25%      168222.784996\n",
      "50%      168500.065804\n",
      "75%      168763.220310\n",
      "max      169393.777847\n",
      "Name: latency, dtype: float64\n",
      "2020-05-03 06:49:02:pid_10824:binary_gates:<INFO> cumulative_avg, pre_avg: 201431.95333934965, 203083.99438858032\n",
      "2020-05-03 06:49:02:pid_10824:binary_gates:<INFO> convergence ratio: 0.8201484530349057\n",
      "2020-05-03 06:49:02:pid_10824:binary_gates:<INFO> --------------- 21 times reset binary gate ---------------\n",
      "2020-05-03 06:49:03:pid_10824:latency_estimator:<INFO> 10 times estimation\n",
      "2020-05-03 06:49:04:pid_10824:latency_estimator:<INFO> 20 times estimation\n",
      "2020-05-03 06:49:05:pid_10824:latency_estimator:<INFO> 30 times estimation\n",
      "2020-05-03 06:49:06:pid_10824:latency_estimator:<INFO> 40 times estimation\n",
      "2020-05-03 06:49:06:pid_10824:latency_estimator:<INFO> 50 times estimation\n",
      "2020-05-03 06:49:07:pid_10824:binary_gates:<INFO> result of 50 times estimation: \n",
      "count       50.000000\n",
      "mean     94693.269730\n",
      "std      12103.619903\n",
      "min      11655.330658\n",
      "25%      96364.974976\n",
      "50%      96740.722656\n",
      "75%      96967.756748\n",
      "max      99067.687988\n",
      "Name: latency, dtype: float64\n",
      "2020-05-03 06:49:07:pid_10824:binary_gates:<INFO> cumulative_avg, pre_avg: 196670.0770638206, 201431.95333934965\n",
      "2020-05-03 06:49:07:pid_10824:binary_gates:<INFO> convergence ratio: 2.4212510345352687\n",
      "2020-05-03 06:49:07:pid_10824:binary_gates:<INFO> --------------- 22 times reset binary gate ---------------\n",
      "2020-05-03 06:49:08:pid_10824:latency_estimator:<INFO> 10 times estimation\n",
      "2020-05-03 06:49:11:pid_10824:latency_estimator:<INFO> 20 times estimation\n",
      "2020-05-03 06:49:13:pid_10824:latency_estimator:<INFO> 30 times estimation\n",
      "2020-05-03 06:49:15:pid_10824:latency_estimator:<INFO> 40 times estimation\n",
      "2020-05-03 06:49:17:pid_10824:latency_estimator:<INFO> 50 times estimation\n",
      "2020-05-03 06:49:17:pid_10824:binary_gates:<INFO> result of 50 times estimation: \n",
      "count        50.000000\n",
      "mean     202334.480286\n",
      "std       27515.232787\n",
      "min       12005.567551\n",
      "25%      206188.201904\n",
      "50%      206510.066986\n",
      "75%      206925.630569\n",
      "max      209017.038345\n",
      "Name: latency, dtype: float64\n",
      "2020-05-03 06:49:17:pid_10824:binary_gates:<INFO> cumulative_avg, pre_avg: 197094.1170402195, 196670.0770638206\n",
      "2020-05-03 06:49:17:pid_10824:binary_gates:<INFO> convergence ratio: 0.21514593269792806\n",
      "2020-05-03 06:49:17:pid_10824:binary_gates:<INFO> --------------- 23 times reset binary gate ---------------\n",
      "2020-05-03 06:49:18:pid_10824:latency_estimator:<INFO> 10 times estimation\n",
      "2020-05-03 06:49:19:pid_10824:latency_estimator:<INFO> 20 times estimation\n",
      "2020-05-03 06:49:20:pid_10824:latency_estimator:<INFO> 30 times estimation\n",
      "2020-05-03 06:49:21:pid_10824:latency_estimator:<INFO> 40 times estimation\n",
      "2020-05-03 06:49:22:pid_10824:latency_estimator:<INFO> 50 times estimation\n",
      "2020-05-03 06:49:22:pid_10824:binary_gates:<INFO> result of 50 times estimation: \n",
      "count       50.000000\n",
      "mean     89195.699692\n",
      "std      11179.819466\n",
      "min      12623.548508\n",
      "25%      90780.198574\n",
      "50%      91097.712517\n",
      "75%      91378.033161\n",
      "max      92826.366425\n",
      "Name: latency, dtype: float64\n",
      "2020-05-03 06:49:22:pid_10824:binary_gates:<INFO> cumulative_avg, pre_avg: 192674.2692788442, 197094.1170402195\n",
      "2020-05-03 06:49:22:pid_10824:binary_gates:<INFO> convergence ratio: 2.293948111451646\n",
      "2020-05-03 06:49:22:pid_10824:binary_gates:<INFO> --------------- 24 times reset binary gate ---------------\n",
      "2020-05-03 06:49:23:pid_10824:latency_estimator:<INFO> 10 times estimation\n",
      "2020-05-03 06:49:25:pid_10824:latency_estimator:<INFO> 20 times estimation\n",
      "2020-05-03 06:49:26:pid_10824:latency_estimator:<INFO> 30 times estimation\n",
      "2020-05-03 06:49:28:pid_10824:latency_estimator:<INFO> 40 times estimation\n",
      "2020-05-03 06:49:29:pid_10824:latency_estimator:<INFO> 50 times estimation\n",
      "2020-05-03 06:49:29:pid_10824:binary_gates:<INFO> result of 50 times estimation: \n",
      "count        50.000000\n",
      "mean     140559.358597\n",
      "std       18941.511209\n",
      "min        9680.509567\n",
      "25%      143384.814262\n",
      "50%      143579.602242\n",
      "75%      143719.375134\n",
      "max      144300.222397\n",
      "Name: latency, dtype: float64\n",
      "2020-05-03 06:49:29:pid_10824:binary_gates:<INFO> cumulative_avg, pre_avg: 190707.74269104004, 192674.2692788442\n",
      "2020-05-03 06:49:29:pid_10824:binary_gates:<INFO> convergence ratio: 1.0311729141433337\n",
      "2020-05-03 06:49:29:pid_10824:binary_gates:<INFO> --------------- 25 times reset binary gate ---------------\n",
      "2020-05-03 06:49:30:pid_10824:latency_estimator:<INFO> 10 times estimation\n"
     ]
    },
    {
     "name": "stderr",
     "output_type": "stream",
     "text": [
      "2020-05-03 06:49:31:pid_10824:latency_estimator:<INFO> 20 times estimation\n",
      "2020-05-03 06:49:32:pid_10824:latency_estimator:<INFO> 30 times estimation\n",
      "2020-05-03 06:49:32:pid_10824:latency_estimator:<INFO> 40 times estimation\n",
      "2020-05-03 06:49:33:pid_10824:latency_estimator:<INFO> 50 times estimation\n",
      "2020-05-03 06:49:33:pid_10824:binary_gates:<INFO> result of 50 times estimation: \n",
      "count       50.000000\n",
      "mean     77038.946152\n",
      "std       9445.298768\n",
      "min      13164.997101\n",
      "25%      78359.305859\n",
      "50%      78713.774681\n",
      "75%      78978.180885\n",
      "max      79606.056213\n",
      "Name: latency, dtype: float64\n",
      "2020-05-03 06:49:33:pid_10824:binary_gates:<INFO> cumulative_avg, pre_avg: 186396.8243965736, 190707.74269104004\n",
      "2020-05-03 06:49:33:pid_10824:binary_gates:<INFO> convergence ratio: 2.312763808301068\n",
      "2020-05-03 06:49:33:pid_10824:binary_gates:<INFO> --------------- 26 times reset binary gate ---------------\n",
      "2020-05-03 06:49:36:pid_10824:latency_estimator:<INFO> 10 times estimation\n",
      "2020-05-03 06:49:39:pid_10824:latency_estimator:<INFO> 20 times estimation\n",
      "2020-05-03 06:49:42:pid_10824:latency_estimator:<INFO> 30 times estimation\n",
      "2020-05-03 06:49:44:pid_10824:latency_estimator:<INFO> 40 times estimation\n",
      "2020-05-03 06:49:47:pid_10824:latency_estimator:<INFO> 50 times estimation\n",
      "2020-05-03 06:49:48:pid_10824:binary_gates:<INFO> result of 50 times estimation: \n",
      "count        50.000000\n",
      "mean     279562.916756\n",
      "std       38811.423080\n",
      "min       10829.448700\n",
      "25%      284720.540047\n",
      "50%      285312.294960\n",
      "75%      285501.599312\n",
      "max      288983.106613\n",
      "Name: latency, dtype: float64\n",
      "2020-05-03 06:49:48:pid_10824:binary_gates:<INFO> cumulative_avg, pre_avg: 190056.08382048432, 186396.8243965736\n",
      "2020-05-03 06:49:48:pid_10824:binary_gates:<INFO> convergence ratio: 1.9253576893476594\n",
      "2020-05-03 06:49:48:pid_10824:binary_gates:<INFO> --------------- 27 times reset binary gate ---------------\n",
      "2020-05-03 06:49:50:pid_10824:latency_estimator:<INFO> 10 times estimation\n",
      "2020-05-03 06:49:52:pid_10824:latency_estimator:<INFO> 20 times estimation\n",
      "2020-05-03 06:49:54:pid_10824:latency_estimator:<INFO> 30 times estimation\n",
      "2020-05-03 06:49:56:pid_10824:latency_estimator:<INFO> 40 times estimation\n",
      "2020-05-03 06:49:59:pid_10824:latency_estimator:<INFO> 50 times estimation\n",
      "2020-05-03 06:49:59:pid_10824:binary_gates:<INFO> result of 50 times estimation: \n",
      "count        50.000000\n",
      "mean     211695.175171\n",
      "std       29627.928020\n",
      "min        6482.601166\n",
      "25%      215526.580811\n",
      "50%      216026.902199\n",
      "75%      216382.920742\n",
      "max      217514.753342\n",
      "Name: latency, dtype: float64\n",
      "2020-05-03 06:49:59:pid_10824:binary_gates:<INFO> cumulative_avg, pre_avg: 190978.51514816284, 190056.08382048432\n",
      "2020-05-03 06:49:59:pid_10824:binary_gates:<INFO> convergence ratio: 0.4830026702024019\n",
      "2020-05-03 06:49:59:pid_10824:binary_gates:<INFO> --------------- 28 times reset binary gate ---------------\n",
      "2020-05-03 06:50:00:pid_10824:latency_estimator:<INFO> 10 times estimation\n",
      "2020-05-03 06:50:02:pid_10824:latency_estimator:<INFO> 20 times estimation\n",
      "2020-05-03 06:50:03:pid_10824:latency_estimator:<INFO> 30 times estimation\n",
      "2020-05-03 06:50:04:pid_10824:latency_estimator:<INFO> 40 times estimation\n",
      "2020-05-03 06:50:06:pid_10824:latency_estimator:<INFO> 50 times estimation\n",
      "2020-05-03 06:50:06:pid_10824:binary_gates:<INFO> result of 50 times estimation: \n",
      "count        50.000000\n",
      "mean     131132.326126\n",
      "std       17766.499353\n",
      "min        8523.702621\n",
      "25%      133616.566658\n",
      "50%      133912.801743\n",
      "75%      134145.259857\n",
      "max      136722.803116\n",
      "Name: latency, dtype: float64\n",
      "2020-05-03 06:50:06:pid_10824:binary_gates:<INFO> cumulative_avg, pre_avg: 189009.12383507038, 190978.51514816284\n",
      "2020-05-03 06:50:06:pid_10824:binary_gates:<INFO> convergence ratio: 1.0419556861238914\n",
      "2020-05-03 06:50:06:pid_10824:binary_gates:<INFO> --------------- 29 times reset binary gate ---------------\n",
      "2020-05-03 06:50:07:pid_10824:latency_estimator:<INFO> 10 times estimation\n",
      "2020-05-03 06:50:07:pid_10824:latency_estimator:<INFO> 20 times estimation\n",
      "2020-05-03 06:50:08:pid_10824:latency_estimator:<INFO> 30 times estimation\n",
      "2020-05-03 06:50:09:pid_10824:latency_estimator:<INFO> 40 times estimation\n",
      "2020-05-03 06:50:09:pid_10824:latency_estimator:<INFO> 50 times estimation\n",
      "2020-05-03 06:50:10:pid_10824:binary_gates:<INFO> result of 50 times estimation: \n",
      "count       50.000000\n",
      "mean     67977.266312\n",
      "std       8396.607157\n",
      "min      11325.597763\n",
      "25%      69357.395172\n",
      "50%      69511.890411\n",
      "75%      69715.499878\n",
      "max      72168.350220\n",
      "Name: latency, dtype: float64\n",
      "2020-05-03 06:50:10:pid_10824:binary_gates:<INFO> cumulative_avg, pre_avg: 185023.3014424642, 189009.12383507038\n",
      "2020-05-03 06:50:10:pid_10824:binary_gates:<INFO> convergence ratio: 2.154227257611457\n",
      "2020-05-03 06:50:10:pid_10824:binary_gates:<INFO> --------------- 30 times reset binary gate ---------------\n",
      "2020-05-03 06:50:11:pid_10824:latency_estimator:<INFO> 10 times estimation\n",
      "2020-05-03 06:50:13:pid_10824:latency_estimator:<INFO> 20 times estimation\n",
      "2020-05-03 06:50:16:pid_10824:latency_estimator:<INFO> 30 times estimation\n",
      "2020-05-03 06:50:18:pid_10824:latency_estimator:<INFO> 40 times estimation\n",
      "2020-05-03 06:50:20:pid_10824:latency_estimator:<INFO> 50 times estimation\n",
      "2020-05-03 06:50:20:pid_10824:binary_gates:<INFO> result of 50 times estimation: \n",
      "count        50.000000\n",
      "mean     204263.801575\n",
      "std       28101.302195\n",
      "min        9811.401367\n",
      "25%      208457.708359\n",
      "50%      208543.658257\n",
      "75%      208773.851395\n",
      "max      209206.104279\n",
      "Name: latency, dtype: float64\n",
      "2020-05-03 06:50:20:pid_10824:binary_gates:<INFO> cumulative_avg, pre_avg: 185781.25430691626, 185023.3014424642\n",
      "2020-05-03 06:50:20:pid_10824:binary_gates:<INFO> convergence ratio: 0.40798134735375424\n",
      "2020-05-03 06:50:20:pid_10824:binary_gates:<INFO> --------------- 31 times reset binary gate ---------------\n",
      "2020-05-03 06:50:22:pid_10824:latency_estimator:<INFO> 10 times estimation\n",
      "2020-05-03 06:50:24:pid_10824:latency_estimator:<INFO> 20 times estimation\n",
      "2020-05-03 06:50:27:pid_10824:latency_estimator:<INFO> 30 times estimation\n",
      "2020-05-03 06:50:29:pid_10824:latency_estimator:<INFO> 40 times estimation\n",
      "2020-05-03 06:50:31:pid_10824:latency_estimator:<INFO> 50 times estimation\n",
      "2020-05-03 06:50:32:pid_10824:binary_gates:<INFO> result of 50 times estimation: \n",
      "count        50.000000\n",
      "mean     224574.289322\n",
      "std       30462.765174\n",
      "min       13942.480087\n",
      "25%      228610.873222\n",
      "50%      229273.557663\n",
      "75%      229519.367218\n",
      "max      232424.259186\n",
      "Name: latency, dtype: float64\n",
      "2020-05-03 06:50:32:pid_10824:binary_gates:<INFO> cumulative_avg, pre_avg: 187137.071788311, 185781.25430691626\n",
      "2020-05-03 06:50:32:pid_10824:binary_gates:<INFO> convergence ratio: 0.7245050210727024\n",
      "2020-05-03 06:50:32:pid_10824:binary_gates:<INFO> --------------- 32 times reset binary gate ---------------\n",
      "2020-05-03 06:50:33:pid_10824:latency_estimator:<INFO> 10 times estimation\n",
      "2020-05-03 06:50:35:pid_10824:latency_estimator:<INFO> 20 times estimation\n",
      "2020-05-03 06:50:37:pid_10824:latency_estimator:<INFO> 30 times estimation\n",
      "2020-05-03 06:50:39:pid_10824:latency_estimator:<INFO> 40 times estimation\n",
      "2020-05-03 06:50:41:pid_10824:latency_estimator:<INFO> 50 times estimation\n",
      "2020-05-03 06:50:42:pid_10824:binary_gates:<INFO> result of 50 times estimation: \n",
      "count        50.000000\n",
      "mean     190081.624985\n",
      "std       25904.922382\n",
      "min       11179.447174\n",
      "25%      193877.696991\n",
      "50%      194196.224213\n",
      "75%      194445.312023\n",
      "max      195786.237717\n",
      "Name: latency, dtype: float64\n",
      "2020-05-03 06:50:42:pid_10824:binary_gates:<INFO> cumulative_avg, pre_avg: 187345.53943980823, 187137.071788311\n",
      "2020-05-03 06:50:42:pid_10824:binary_gates:<INFO> convergence ratio: 0.11127441417637886\n",
      "2020-05-03 06:50:42:pid_10824:binary_gates:<INFO> --------------- 33 times reset binary gate ---------------\n",
      "2020-05-03 06:50:43:pid_10824:latency_estimator:<INFO> 10 times estimation\n",
      "2020-05-03 06:50:44:pid_10824:latency_estimator:<INFO> 20 times estimation\n",
      "2020-05-03 06:50:45:pid_10824:latency_estimator:<INFO> 30 times estimation\n",
      "2020-05-03 06:50:46:pid_10824:latency_estimator:<INFO> 40 times estimation\n",
      "2020-05-03 06:50:47:pid_10824:latency_estimator:<INFO> 50 times estimation\n",
      "2020-05-03 06:50:47:pid_10824:binary_gates:<INFO> result of 50 times estimation: \n",
      "count        50.000000\n",
      "mean     108928.718567\n",
      "std       14198.039856\n",
      "min       10961.294174\n",
      "25%      110840.737820\n",
      "50%      111296.534538\n",
      "75%      111492.991447\n",
      "max      112414.360046\n",
      "Name: latency, dtype: float64\n"
     ]
    },
    {
     "name": "stderr",
     "output_type": "stream",
     "text": [
      "2020-05-03 06:50:47:pid_10824:binary_gates:<INFO> cumulative_avg, pre_avg: 185102.28886323818, 187345.53943980823\n",
      "2020-05-03 06:50:47:pid_10824:binary_gates:<INFO> convergence ratio: 1.211897805449322\n",
      "2020-05-03 06:50:47:pid_10824:binary_gates:<INFO> --------------- 34 times reset binary gate ---------------\n",
      "2020-05-03 06:50:49:pid_10824:latency_estimator:<INFO> 10 times estimation\n",
      "2020-05-03 06:50:50:pid_10824:latency_estimator:<INFO> 20 times estimation\n",
      "2020-05-03 06:50:51:pid_10824:latency_estimator:<INFO> 30 times estimation\n",
      "2020-05-03 06:50:53:pid_10824:latency_estimator:<INFO> 40 times estimation\n",
      "2020-05-03 06:50:54:pid_10824:latency_estimator:<INFO> 50 times estimation\n",
      "2020-05-03 06:50:54:pid_10824:binary_gates:<INFO> result of 50 times estimation: \n",
      "count        50.000000\n",
      "mean     126691.527367\n",
      "std       16812.176340\n",
      "min       10781.526566\n",
      "25%      128972.947598\n",
      "50%      129277.348518\n",
      "75%      129680.216312\n",
      "max      130844.831467\n",
      "Name: latency, dtype: float64\n",
      "2020-05-03 06:50:54:pid_10824:binary_gates:<INFO> cumulative_avg, pre_avg: 183504.56510271344, 185102.28886323818\n",
      "2020-05-03 06:50:54:pid_10824:binary_gates:<INFO> convergence ratio: 0.870672486883603\n",
      "2020-05-03 06:50:54:pid_10824:binary_gates:<INFO> --------------- 35 times reset binary gate ---------------\n",
      "2020-05-03 06:50:55:pid_10824:latency_estimator:<INFO> 10 times estimation\n",
      "2020-05-03 06:50:57:pid_10824:latency_estimator:<INFO> 20 times estimation\n",
      "2020-05-03 06:50:58:pid_10824:latency_estimator:<INFO> 30 times estimation\n",
      "2020-05-03 06:50:59:pid_10824:latency_estimator:<INFO> 40 times estimation\n",
      "2020-05-03 06:51:01:pid_10824:latency_estimator:<INFO> 50 times estimation\n",
      "2020-05-03 06:51:01:pid_10824:binary_gates:<INFO> result of 50 times estimation: \n",
      "count        50.000000\n",
      "mean     133761.100769\n",
      "std       18567.638034\n",
      "min        5294.084549\n",
      "25%      136414.766312\n",
      "50%      136662.721634\n",
      "75%      136800.706387\n",
      "max      137531.995773\n",
      "Name: latency, dtype: float64\n",
      "2020-05-03 06:51:01:pid_10824:binary_gates:<INFO> cumulative_avg, pre_avg: 182199.68875249228, 183504.56510271344\n",
      "2020-05-03 06:51:01:pid_10824:binary_gates:<INFO> convergence ratio: 0.7161792422125182\n",
      "2020-05-03 06:51:01:pid_10824:binary_gates:<INFO> --------------- 36 times reset binary gate ---------------\n",
      "2020-05-03 06:51:02:pid_10824:latency_estimator:<INFO> 10 times estimation\n",
      "2020-05-03 06:51:03:pid_10824:latency_estimator:<INFO> 20 times estimation\n",
      "2020-05-03 06:51:04:pid_10824:latency_estimator:<INFO> 30 times estimation\n",
      "2020-05-03 06:51:05:pid_10824:latency_estimator:<INFO> 40 times estimation\n",
      "2020-05-03 06:51:06:pid_10824:latency_estimator:<INFO> 50 times estimation\n",
      "2020-05-03 06:51:06:pid_10824:binary_gates:<INFO> result of 50 times estimation: \n",
      "count        50.000000\n",
      "mean     100464.057922\n",
      "std       13765.008011\n",
      "min        5416.154861\n",
      "25%      102242.887020\n",
      "50%      102663.993835\n",
      "75%      102862.358093\n",
      "max      104362.726212\n",
      "Name: latency, dtype: float64\n",
      "2020-05-03 06:51:06:pid_10824:binary_gates:<INFO> cumulative_avg, pre_avg: 180046.23232661065, 182199.68875249228\n",
      "2020-05-03 06:51:06:pid_10824:binary_gates:<INFO> convergence ratio: 1.1960574781565956\n",
      "2020-05-03 06:51:06:pid_10824:binary_gates:<INFO> --------------- 37 times reset binary gate ---------------\n",
      "2020-05-03 06:51:08:pid_10824:latency_estimator:<INFO> 10 times estimation\n",
      "2020-05-03 06:51:09:pid_10824:latency_estimator:<INFO> 20 times estimation\n",
      "2020-05-03 06:51:10:pid_10824:latency_estimator:<INFO> 30 times estimation\n",
      "2020-05-03 06:51:11:pid_10824:latency_estimator:<INFO> 40 times estimation\n",
      "2020-05-03 06:51:12:pid_10824:latency_estimator:<INFO> 50 times estimation\n",
      "2020-05-03 06:51:12:pid_10824:binary_gates:<INFO> result of 50 times estimation: \n",
      "count        50.000000\n",
      "mean     112997.369766\n",
      "std       14870.654863\n",
      "min       10586.261749\n",
      "25%      115208.506584\n",
      "50%      115448.594093\n",
      "75%      115628.004074\n",
      "max      116305.589676\n",
      "Name: latency, dtype: float64\n",
      "2020-05-03 06:51:12:pid_10824:binary_gates:<INFO> cumulative_avg, pre_avg: 178344.68766262653, 180046.23232661065\n",
      "2020-05-03 06:51:12:pid_10824:binary_gates:<INFO> convergence ratio: 0.9540764495340202\n",
      "2020-05-03 06:51:12:pid_10824:binary_gates:<INFO> --------------- 38 times reset binary gate ---------------\n",
      "2020-05-03 06:51:15:pid_10824:latency_estimator:<INFO> 10 times estimation\n",
      "2020-05-03 06:51:17:pid_10824:latency_estimator:<INFO> 20 times estimation\n",
      "2020-05-03 06:51:20:pid_10824:latency_estimator:<INFO> 30 times estimation\n",
      "2020-05-03 06:51:23:pid_10824:latency_estimator:<INFO> 40 times estimation\n",
      "2020-05-03 06:51:25:pid_10824:latency_estimator:<INFO> 50 times estimation\n",
      "2020-05-03 06:51:26:pid_10824:binary_gates:<INFO> result of 50 times estimation: \n",
      "count        50.000000\n",
      "mean     257110.629082\n",
      "std       35611.862265\n",
      "min       10536.909103\n",
      "25%      262078.642845\n",
      "50%      262505.650520\n",
      "75%      262704.968452\n",
      "max      263206.005096\n",
      "Name: latency, dtype: float64\n",
      "2020-05-03 06:51:26:pid_10824:binary_gates:<INFO> cumulative_avg, pre_avg: 180499.07684326166, 178344.68766262653\n",
      "2020-05-03 06:51:26:pid_10824:binary_gates:<INFO> convergence ratio: 1.1935735175565017\n",
      "2020-05-03 06:51:26:pid_10824:binary_gates:<INFO> --------------- 39 times reset binary gate ---------------\n",
      "2020-05-03 06:51:27:pid_10824:latency_estimator:<INFO> 10 times estimation\n",
      "2020-05-03 06:51:29:pid_10824:latency_estimator:<INFO> 20 times estimation\n",
      "2020-05-03 06:51:31:pid_10824:latency_estimator:<INFO> 30 times estimation\n",
      "2020-05-03 06:51:32:pid_10824:latency_estimator:<INFO> 40 times estimation\n",
      "2020-05-03 06:51:34:pid_10824:latency_estimator:<INFO> 50 times estimation\n",
      "2020-05-03 06:51:34:pid_10824:binary_gates:<INFO> result of 50 times estimation: \n",
      "count        50.000000\n",
      "mean     163494.467735\n",
      "std       22151.553573\n",
      "min       10405.778885\n",
      "25%      166486.263275\n",
      "50%      166881.799698\n",
      "75%      167459.309101\n",
      "max      168593.406677\n",
      "Name: latency, dtype: float64\n",
      "2020-05-03 06:51:34:pid_10824:binary_gates:<INFO> cumulative_avg, pre_avg: 180156.61120414728, 180499.07684326166\n",
      "2020-05-03 06:51:34:pid_10824:binary_gates:<INFO> convergence ratio: 0.1900932953974748\n",
      "2020-05-03 06:51:34:pid_10824:binary_gates:<INFO> --------------- 40 times reset binary gate ---------------\n",
      "2020-05-03 06:51:36:pid_10824:latency_estimator:<INFO> 10 times estimation\n",
      "2020-05-03 06:51:38:pid_10824:latency_estimator:<INFO> 20 times estimation\n",
      "2020-05-03 06:51:39:pid_10824:latency_estimator:<INFO> 30 times estimation\n",
      "2020-05-03 06:51:41:pid_10824:latency_estimator:<INFO> 40 times estimation\n",
      "2020-05-03 06:51:43:pid_10824:latency_estimator:<INFO> 50 times estimation\n",
      "2020-05-03 06:51:43:pid_10824:binary_gates:<INFO> result of 50 times estimation: \n",
      "count        50.000000\n",
      "mean     176033.248901\n",
      "std       23755.607608\n",
      "min       11934.041977\n",
      "25%      179173.529148\n",
      "50%      179715.752602\n",
      "75%      180161.416531\n",
      "max      181314.945221\n",
      "Name: latency, dtype: float64\n",
      "2020-05-03 06:51:43:pid_10824:binary_gates:<INFO> cumulative_avg, pre_avg: 180139.86261879522, 180156.61120414728\n",
      "2020-05-03 06:51:43:pid_10824:binary_gates:<INFO> convergence ratio: 0.009297545312058793\n",
      "2020-05-03 06:51:43:pid_10824:binary_gates:<INFO> --------------- 41 times reset binary gate ---------------\n",
      "2020-05-03 06:51:44:pid_10824:latency_estimator:<INFO> 10 times estimation\n",
      "2020-05-03 06:51:45:pid_10824:latency_estimator:<INFO> 20 times estimation\n",
      "2020-05-03 06:51:46:pid_10824:latency_estimator:<INFO> 30 times estimation\n",
      "2020-05-03 06:51:47:pid_10824:latency_estimator:<INFO> 40 times estimation\n",
      "2020-05-03 06:51:48:pid_10824:latency_estimator:<INFO> 50 times estimation\n",
      "2020-05-03 06:51:48:pid_10824:binary_gates:<INFO> result of 50 times estimation: \n",
      "count       50.000000\n",
      "mean     89374.833107\n",
      "std      11458.162953\n",
      "min      10502.576828\n",
      "25%      91214.299202\n",
      "50%      91341.972351\n",
      "75%      91443.181038\n",
      "max      93316.555023\n",
      "Name: latency, dtype: float64\n",
      "2020-05-03 06:51:48:pid_10824:binary_gates:<INFO> cumulative_avg, pre_avg: 178024.5326814197, 180139.86261879522\n",
      "2020-05-03 06:51:48:pid_10824:binary_gates:<INFO> convergence ratio: 1.1882238394418236\n",
      "2020-05-03 06:51:48:pid_10824:binary_gates:<INFO> --------------- 42 times reset binary gate ---------------\n",
      "2020-05-03 06:51:50:pid_10824:latency_estimator:<INFO> 10 times estimation\n"
     ]
    },
    {
     "name": "stderr",
     "output_type": "stream",
     "text": [
      "2020-05-03 06:51:51:pid_10824:latency_estimator:<INFO> 20 times estimation\n",
      "2020-05-03 06:51:53:pid_10824:latency_estimator:<INFO> 30 times estimation\n",
      "2020-05-03 06:51:55:pid_10824:latency_estimator:<INFO> 40 times estimation\n",
      "2020-05-03 06:51:56:pid_10824:latency_estimator:<INFO> 50 times estimation\n",
      "2020-05-03 06:51:57:pid_10824:binary_gates:<INFO> result of 50 times estimation: \n",
      "count        50.000000\n",
      "mean     162060.132027\n",
      "std       21784.708194\n",
      "min       11363.744736\n",
      "25%      164963.722229\n",
      "50%      165433.168411\n",
      "75%      165646.076202\n",
      "max      167282.581329\n",
      "Name: latency, dtype: float64\n",
      "2020-05-03 06:51:57:pid_10824:binary_gates:<INFO> cumulative_avg, pre_avg: 177730.18105085503, 178024.5326814197\n",
      "2020-05-03 06:51:57:pid_10824:binary_gates:<INFO> convergence ratio: 0.16561713313083162\n",
      "2020-05-03 06:51:57:pid_10824:binary_gates:<INFO> --------------- 43 times reset binary gate ---------------\n",
      "2020-05-03 06:51:59:pid_10824:latency_estimator:<INFO> 10 times estimation\n",
      "2020-05-03 06:52:02:pid_10824:latency_estimator:<INFO> 20 times estimation\n",
      "2020-05-03 06:52:04:pid_10824:latency_estimator:<INFO> 30 times estimation\n",
      "2020-05-03 06:52:07:pid_10824:latency_estimator:<INFO> 40 times estimation\n",
      "2020-05-03 06:52:09:pid_10824:latency_estimator:<INFO> 50 times estimation\n",
      "2020-05-03 06:52:10:pid_10824:binary_gates:<INFO> result of 50 times estimation: \n",
      "count        50.000000\n",
      "mean     257532.486916\n",
      "std       35890.832117\n",
      "min        9002.685547\n",
      "25%      262532.114983\n",
      "50%      262879.014015\n",
      "75%      263170.957565\n",
      "max      264449.357986\n",
      "Name: latency, dtype: float64\n",
      "2020-05-03 06:52:10:pid_10824:binary_gates:<INFO> cumulative_avg, pre_avg: 179663.8976443897, 177730.18105085503\n",
      "2020-05-03 06:52:10:pid_10824:binary_gates:<INFO> convergence ratio: 1.076296695601087\n",
      "2020-05-03 06:52:10:pid_10824:binary_gates:<INFO> --------------- 44 times reset binary gate ---------------\n",
      "2020-05-03 06:52:11:pid_10824:latency_estimator:<INFO> 10 times estimation\n",
      "2020-05-03 06:52:13:pid_10824:latency_estimator:<INFO> 20 times estimation\n",
      "2020-05-03 06:52:14:pid_10824:latency_estimator:<INFO> 30 times estimation\n",
      "2020-05-03 06:52:16:pid_10824:latency_estimator:<INFO> 40 times estimation\n",
      "2020-05-03 06:52:17:pid_10824:latency_estimator:<INFO> 50 times estimation\n",
      "2020-05-03 06:52:17:pid_10824:binary_gates:<INFO> result of 50 times estimation: \n",
      "count        50.000000\n",
      "mean     139031.085968\n",
      "std       18766.553907\n",
      "min        9388.685226\n",
      "25%      141650.855541\n",
      "50%      142070.651054\n",
      "75%      142255.425453\n",
      "max      143059.253693\n",
      "Name: latency, dtype: float64\n",
      "2020-05-03 06:52:17:pid_10824:binary_gates:<INFO> cumulative_avg, pre_avg: 178824.67163933645, 179663.8976443897\n",
      "2020-05-03 06:52:17:pid_10824:binary_gates:<INFO> convergence ratio: 0.46930101834374505\n",
      "2020-05-03 06:52:17:pid_10824:binary_gates:<INFO> --------------- 45 times reset binary gate ---------------\n",
      "2020-05-03 06:52:18:pid_10824:latency_estimator:<INFO> 10 times estimation\n",
      "2020-05-03 06:52:19:pid_10824:latency_estimator:<INFO> 20 times estimation\n",
      "2020-05-03 06:52:21:pid_10824:latency_estimator:<INFO> 30 times estimation\n",
      "2020-05-03 06:52:22:pid_10824:latency_estimator:<INFO> 40 times estimation\n",
      "2020-05-03 06:52:23:pid_10824:latency_estimator:<INFO> 50 times estimation\n",
      "2020-05-03 06:52:23:pid_10824:binary_gates:<INFO> result of 50 times estimation: \n",
      "count        50.000000\n",
      "mean     111488.819122\n",
      "std       15331.395650\n",
      "min        5518.913269\n",
      "25%      113386.750221\n",
      "50%      113919.496536\n",
      "75%      114220.082760\n",
      "max      115128.278732\n",
      "Name: latency, dtype: float64\n",
      "2020-05-03 06:52:23:pid_10824:binary_gates:<INFO> cumulative_avg, pre_avg: 177409.641639046, 178824.67163933645\n",
      "2020-05-03 06:52:23:pid_10824:binary_gates:<INFO> convergence ratio: 0.7976060304374246\n",
      "2020-05-03 06:52:23:pid_10824:binary_gates:<INFO> --------------- 46 times reset binary gate ---------------\n",
      "2020-05-03 06:52:24:pid_10824:latency_estimator:<INFO> 10 times estimation\n",
      "2020-05-03 06:52:25:pid_10824:latency_estimator:<INFO> 20 times estimation\n",
      "2020-05-03 06:52:26:pid_10824:latency_estimator:<INFO> 30 times estimation\n",
      "2020-05-03 06:52:28:pid_10824:latency_estimator:<INFO> 40 times estimation\n",
      "2020-05-03 06:52:29:pid_10824:latency_estimator:<INFO> 50 times estimation\n",
      "2020-05-03 06:52:29:pid_10824:binary_gates:<INFO> result of 50 times estimation: \n",
      "count        50.000000\n",
      "mean     110334.644318\n",
      "std       14912.953670\n",
      "min        7257.699966\n",
      "25%      112490.296364\n",
      "50%      112677.693367\n",
      "75%      112847.626209\n",
      "max      113416.433334\n",
      "Name: latency, dtype: float64\n",
      "2020-05-03 06:52:29:pid_10824:binary_gates:<INFO> cumulative_avg, pre_avg: 176030.32436776662, 177409.641639046\n",
      "2020-05-03 06:52:29:pid_10824:binary_gates:<INFO> convergence ratio: 0.783567988205074\n",
      "2020-05-03 06:52:29:pid_10824:binary_gates:<INFO> --------------- 47 times reset binary gate ---------------\n",
      "2020-05-03 06:52:30:pid_10824:latency_estimator:<INFO> 10 times estimation\n",
      "2020-05-03 06:52:30:pid_10824:latency_estimator:<INFO> 20 times estimation\n",
      "2020-05-03 06:52:31:pid_10824:latency_estimator:<INFO> 30 times estimation\n",
      "2020-05-03 06:52:32:pid_10824:latency_estimator:<INFO> 40 times estimation\n",
      "2020-05-03 06:52:33:pid_10824:latency_estimator:<INFO> 50 times estimation\n",
      "2020-05-03 06:52:33:pid_10824:binary_gates:<INFO> result of 50 times estimation: \n",
      "count       50.000000\n",
      "mean     72060.842514\n",
      "std       9033.610983\n",
      "min      10310.649872\n",
      "25%      73450.684547\n",
      "50%      73568.701744\n",
      "75%      73743.820190\n",
      "max      74188.470840\n",
      "Name: latency, dtype: float64\n",
      "2020-05-03 06:52:33:pid_10824:binary_gates:<INFO> cumulative_avg, pre_avg: 173895.2904939651, 176030.32436776662\n",
      "2020-05-03 06:52:33:pid_10824:binary_gates:<INFO> convergence ratio: 1.227769807760045\n",
      "2020-05-03 06:52:33:pid_10824:binary_gates:<INFO> --------------- 48 times reset binary gate ---------------\n",
      "2020-05-03 06:52:34:pid_10824:latency_estimator:<INFO> 10 times estimation\n",
      "2020-05-03 06:52:36:pid_10824:latency_estimator:<INFO> 20 times estimation\n",
      "2020-05-03 06:52:38:pid_10824:latency_estimator:<INFO> 30 times estimation\n",
      "2020-05-03 06:52:40:pid_10824:latency_estimator:<INFO> 40 times estimation\n",
      "2020-05-03 06:52:42:pid_10824:latency_estimator:<INFO> 50 times estimation\n",
      "2020-05-03 06:52:42:pid_10824:binary_gates:<INFO> result of 50 times estimation: \n",
      "count        50.000000\n",
      "mean     175716.848373\n",
      "std       24425.325251\n",
      "min        6547.451019\n",
      "25%      178928.792477\n",
      "50%      179283.618927\n",
      "75%      179664.134979\n",
      "max      180684.089661\n",
      "Name: latency, dtype: float64\n",
      "2020-05-03 06:52:42:pid_10824:binary_gates:<INFO> cumulative_avg, pre_avg: 174002.96853513125, 173895.2904939651\n",
      "2020-05-03 06:52:42:pid_10824:binary_gates:<INFO> convergence ratio: 0.061882875948992805\n",
      "2020-05-03 06:52:42:pid_10824:binary_gates:<INFO> --------------- 49 times reset binary gate ---------------\n",
      "2020-05-03 06:52:44:pid_10824:latency_estimator:<INFO> 10 times estimation\n",
      "2020-05-03 06:52:46:pid_10824:latency_estimator:<INFO> 20 times estimation\n",
      "2020-05-03 06:52:49:pid_10824:latency_estimator:<INFO> 30 times estimation\n",
      "2020-05-03 06:52:51:pid_10824:latency_estimator:<INFO> 40 times estimation\n",
      "2020-05-03 06:52:53:pid_10824:latency_estimator:<INFO> 50 times estimation\n",
      "2020-05-03 06:52:53:pid_10824:binary_gates:<INFO> result of 50 times estimation: \n",
      "count        50.000000\n",
      "mean     222608.714104\n",
      "std       30482.274951\n",
      "min       11955.499649\n",
      "25%      226631.581783\n",
      "50%      227151.870728\n",
      "75%      227677.583694\n",
      "max      231912.612915\n",
      "Name: latency, dtype: float64\n",
      "2020-05-03 06:52:53:pid_10824:binary_gates:<INFO> cumulative_avg, pre_avg: 175062.53051757804, 174002.96853513125\n",
      "2020-05-03 06:52:53:pid_10824:binary_gates:<INFO> convergence ratio: 0.605247724521151\n",
      "2020-05-03 06:52:53:pid_10824:binary_gates:<INFO> --------------- 50 times reset binary gate ---------------\n",
      "2020-05-03 06:52:56:pid_10824:latency_estimator:<INFO> 10 times estimation\n",
      "2020-05-03 06:52:58:pid_10824:latency_estimator:<INFO> 20 times estimation\n",
      "2020-05-03 06:53:00:pid_10824:latency_estimator:<INFO> 30 times estimation\n",
      "2020-05-03 06:53:03:pid_10824:latency_estimator:<INFO> 40 times estimation\n",
      "2020-05-03 06:53:05:pid_10824:latency_estimator:<INFO> 50 times estimation\n",
      "2020-05-03 06:53:05:pid_10824:binary_gates:<INFO> result of 50 times estimation: \n",
      "count        50.000000\n",
      "mean     230630.087852\n",
      "std       32355.115516\n",
      "min        6548.643112\n",
      "25%      234827.935696\n",
      "50%      235418.319702\n",
      "75%      235843.896866\n",
      "max      236762.285233\n",
      "Name: latency, dtype: float64\n"
     ]
    },
    {
     "name": "stderr",
     "output_type": "stream",
     "text": [
      "2020-05-03 06:53:05:pid_10824:binary_gates:<INFO> cumulative_avg, pre_avg: 176241.85693030257, 175062.53051757804\n",
      "2020-05-03 06:53:05:pid_10824:binary_gates:<INFO> convergence ratio: 0.6691522849710535\n",
      "2020-05-03 06:53:05:pid_10824:binary_gates:<INFO> reset times, hit counts: 50, 1\n",
      "2020-05-03 06:53:05:pid_10824:binary_gates:<INFO> --------------- 51 times reset binary gate ---------------\n",
      "2020-05-03 06:53:07:pid_10824:latency_estimator:<INFO> 10 times estimation\n",
      "2020-05-03 06:53:08:pid_10824:latency_estimator:<INFO> 20 times estimation\n",
      "2020-05-03 06:53:09:pid_10824:latency_estimator:<INFO> 30 times estimation\n",
      "2020-05-03 06:53:10:pid_10824:latency_estimator:<INFO> 40 times estimation\n",
      "2020-05-03 06:53:11:pid_10824:latency_estimator:<INFO> 50 times estimation\n",
      "2020-05-03 06:53:11:pid_10824:binary_gates:<INFO> result of 50 times estimation: \n",
      "count        50.000000\n",
      "mean     110713.210106\n",
      "std       14489.844230\n",
      "min       10803.937912\n",
      "25%      112766.206264\n",
      "50%      112963.557243\n",
      "75%      113141.179085\n",
      "max      113704.204559\n",
      "Name: latency, dtype: float64\n",
      "2020-05-03 06:53:11:pid_10824:binary_gates:<INFO> cumulative_avg, pre_avg: 175023.41178747316, 176241.85693030257\n",
      "2020-05-03 06:53:11:pid_10824:binary_gates:<INFO> convergence ratio: 0.6961612337376567\n",
      "2020-05-03 06:53:11:pid_10824:binary_gates:<INFO> reset times, hit counts: 51, 2\n",
      "2020-05-03 06:53:11:pid_10824:binary_gates:<INFO> --------------- 52 times reset binary gate ---------------\n",
      "2020-05-03 06:53:12:pid_10824:latency_estimator:<INFO> 10 times estimation\n",
      "2020-05-03 06:53:13:pid_10824:latency_estimator:<INFO> 20 times estimation\n",
      "2020-05-03 06:53:14:pid_10824:latency_estimator:<INFO> 30 times estimation\n",
      "2020-05-03 06:53:15:pid_10824:latency_estimator:<INFO> 40 times estimation\n",
      "2020-05-03 06:53:16:pid_10824:latency_estimator:<INFO> 50 times estimation\n",
      "2020-05-03 06:53:16:pid_10824:binary_gates:<INFO> result of 50 times estimation: \n",
      "count       50.000000\n",
      "mean     86708.416939\n",
      "std      11675.680363\n",
      "min       6044.626236\n",
      "25%      88177.800179\n",
      "50%      88597.297668\n",
      "75%      88819.921017\n",
      "max      89543.104172\n",
      "Name: latency, dtype: float64\n",
      "2020-05-03 06:53:16:pid_10824:binary_gates:<INFO> cumulative_avg, pre_avg: 173389.39252889375, 175023.41178747316\n",
      "2020-05-03 06:53:16:pid_10824:binary_gates:<INFO> convergence ratio: 0.9423986293204872\n",
      "2020-05-03 06:53:16:pid_10824:binary_gates:<INFO> reset times, hit counts: 52, 3\n",
      "2020-05-03 06:53:16:pid_10824:binary_gates:<INFO> --------------- 53 times reset binary gate ---------------\n",
      "2020-05-03 06:53:17:pid_10824:latency_estimator:<INFO> 10 times estimation\n",
      "2020-05-03 06:53:19:pid_10824:latency_estimator:<INFO> 20 times estimation\n",
      "2020-05-03 06:53:20:pid_10824:latency_estimator:<INFO> 30 times estimation\n",
      "2020-05-03 06:53:22:pid_10824:latency_estimator:<INFO> 40 times estimation\n",
      "2020-05-03 06:53:23:pid_10824:latency_estimator:<INFO> 50 times estimation\n",
      "2020-05-03 06:53:23:pid_10824:binary_gates:<INFO> result of 50 times estimation: \n",
      "count        50.000000\n",
      "mean     137339.372635\n",
      "std       18906.043309\n",
      "min        6479.501724\n",
      "25%      139822.840691\n",
      "50%      140158.057213\n",
      "75%      140619.993210\n",
      "max      140953.063965\n",
      "Name: latency, dtype: float64\n",
      "2020-05-03 06:53:23:pid_10824:binary_gates:<INFO> cumulative_avg, pre_avg: 172771.01322456636, 173389.39252889375\n",
      "2020-05-03 06:53:23:pid_10824:binary_gates:<INFO> convergence ratio: 0.35791843364582604\n",
      "2020-05-03 06:53:23:pid_10824:binary_gates:<INFO> reset times, hit counts: 53, 4\n",
      "2020-05-03 06:53:23:pid_10824:binary_gates:<INFO> --------------- 54 times reset binary gate ---------------\n",
      "2020-05-03 06:53:24:pid_10824:latency_estimator:<INFO> 10 times estimation\n",
      "2020-05-03 06:53:25:pid_10824:latency_estimator:<INFO> 20 times estimation\n",
      "2020-05-03 06:53:26:pid_10824:latency_estimator:<INFO> 30 times estimation\n",
      "2020-05-03 06:53:27:pid_10824:latency_estimator:<INFO> 40 times estimation\n",
      "2020-05-03 06:53:28:pid_10824:latency_estimator:<INFO> 50 times estimation\n",
      "2020-05-03 06:53:28:pid_10824:binary_gates:<INFO> result of 50 times estimation: \n",
      "count        50.000000\n",
      "mean      99073.300362\n",
      "std       12727.431675\n",
      "min       11738.538742\n",
      "25%      100938.200951\n",
      "50%      101152.896881\n",
      "75%      101352.095604\n",
      "max      102242.469788\n",
      "Name: latency, dtype: float64\n",
      "2020-05-03 06:53:28:pid_10824:binary_gates:<INFO> cumulative_avg, pre_avg: 171467.8374203768, 172771.01322456636\n",
      "2020-05-03 06:53:28:pid_10824:binary_gates:<INFO> convergence ratio: 0.7600118038432121\n",
      "2020-05-03 06:53:28:pid_10824:binary_gates:<INFO> reset times, hit counts: 54, 5\n",
      "2020-05-03 06:53:28:pid_10824:binary_gates:<INFO> --------------- 55 times reset binary gate ---------------\n",
      "2020-05-03 06:53:30:pid_10824:latency_estimator:<INFO> 10 times estimation\n",
      "2020-05-03 06:53:31:pid_10824:latency_estimator:<INFO> 20 times estimation\n",
      "2020-05-03 06:53:32:pid_10824:latency_estimator:<INFO> 30 times estimation\n",
      "2020-05-03 06:53:33:pid_10824:latency_estimator:<INFO> 40 times estimation\n",
      "2020-05-03 06:53:34:pid_10824:latency_estimator:<INFO> 50 times estimation\n",
      "2020-05-03 06:53:34:pid_10824:binary_gates:<INFO> result of 50 times estimation: \n",
      "count        50.000000\n",
      "mean     113192.672729\n",
      "std       15297.800046\n",
      "min        7338.762283\n",
      "25%      115313.470364\n",
      "50%      115536.928177\n",
      "75%      115734.755993\n",
      "max      116473.913193\n",
      "Name: latency, dtype: float64\n",
      "2020-05-03 06:53:34:pid_10824:binary_gates:<INFO> cumulative_avg, pre_avg: 170467.41247177118, 171467.8374203768\n",
      "2020-05-03 06:53:34:pid_10824:binary_gates:<INFO> convergence ratio: 0.5868716689597716\n",
      "2020-05-03 06:53:34:pid_10824:binary_gates:<INFO> reset times, hit counts: 55, 6\n",
      "2020-05-03 06:53:34:pid_10824:binary_gates:<INFO> --------------- 56 times reset binary gate ---------------\n",
      "2020-05-03 06:53:36:pid_10824:latency_estimator:<INFO> 10 times estimation\n",
      "2020-05-03 06:53:39:pid_10824:latency_estimator:<INFO> 20 times estimation\n",
      "2020-05-03 06:53:41:pid_10824:latency_estimator:<INFO> 30 times estimation\n",
      "2020-05-03 06:53:43:pid_10824:latency_estimator:<INFO> 40 times estimation\n",
      "2020-05-03 06:53:45:pid_10824:latency_estimator:<INFO> 50 times estimation\n",
      "2020-05-03 06:53:46:pid_10824:binary_gates:<INFO> result of 50 times estimation: \n",
      "count        50.000000\n",
      "mean     218211.894035\n",
      "std       30004.191264\n",
      "min       10424.375534\n",
      "25%      222212.016582\n",
      "50%      222577.929497\n",
      "75%      222924.768925\n",
      "max      223415.374756\n",
      "Name: latency, dtype: float64\n",
      "2020-05-03 06:53:46:pid_10824:binary_gates:<INFO> cumulative_avg, pre_avg: 171379.4917391057, 170467.41247177118\n",
      "2020-05-03 06:53:46:pid_10824:binary_gates:<INFO> convergence ratio: 0.5321986067755348\n",
      "2020-05-03 06:53:46:pid_10824:binary_gates:<INFO> reset times, hit counts: 56, 7\n",
      "2020-05-03 06:53:46:pid_10824:binary_gates:<INFO> --------------- 57 times reset binary gate ---------------\n",
      "2020-05-03 06:53:48:pid_10824:latency_estimator:<INFO> 10 times estimation\n",
      "2020-05-03 06:53:50:pid_10824:latency_estimator:<INFO> 20 times estimation\n",
      "2020-05-03 06:53:53:pid_10824:latency_estimator:<INFO> 30 times estimation\n",
      "2020-05-03 06:53:55:pid_10824:latency_estimator:<INFO> 40 times estimation\n",
      "2020-05-03 06:53:58:pid_10824:latency_estimator:<INFO> 50 times estimation\n",
      "2020-05-03 06:53:58:pid_10824:binary_gates:<INFO> result of 50 times estimation: \n",
      "count        50.000000\n",
      "mean     239706.969261\n",
      "std       33403.333061\n",
      "min        8325.576782\n",
      "25%      244324.684143\n",
      "50%      244583.368301\n",
      "75%      244802.772999\n",
      "max      245579.242706\n",
      "Name: latency, dtype: float64\n",
      "2020-05-03 06:53:58:pid_10824:binary_gates:<INFO> cumulative_avg, pre_avg: 172641.2542935075, 171379.4917391057\n",
      "2020-05-03 06:53:58:pid_10824:binary_gates:<INFO> convergence ratio: 0.7308580788324618\n",
      "2020-05-03 06:53:58:pid_10824:binary_gates:<INFO> reset times, hit counts: 57, 8\n",
      "2020-05-03 06:53:58:pid_10824:binary_gates:<INFO> --------------- 58 times reset binary gate ---------------\n",
      "2020-05-03 06:54:00:pid_10824:latency_estimator:<INFO> 10 times estimation\n",
      "2020-05-03 06:54:03:pid_10824:latency_estimator:<INFO> 20 times estimation\n",
      "2020-05-03 06:54:06:pid_10824:latency_estimator:<INFO> 30 times estimation\n",
      "2020-05-03 06:54:09:pid_10824:latency_estimator:<INFO> 40 times estimation\n",
      "2020-05-03 06:54:11:pid_10824:latency_estimator:<INFO> 50 times estimation\n"
     ]
    },
    {
     "name": "stderr",
     "output_type": "stream",
     "text": [
      "2020-05-03 06:54:12:pid_10824:binary_gates:<INFO> result of 50 times estimation: \n",
      "count        50.000000\n",
      "mean     262718.477249\n",
      "std       36419.232809\n",
      "min       10540.485382\n",
      "25%      267726.838589\n",
      "50%      268054.485321\n",
      "75%      268481.671810\n",
      "max      269209.146500\n",
      "Name: latency, dtype: float64\n",
      "2020-05-03 06:54:12:pid_10824:binary_gates:<INFO> cumulative_avg, pre_avg: 174256.60763756698, 172641.2542935075\n",
      "2020-05-03 06:54:12:pid_10824:binary_gates:<INFO> convergence ratio: 0.9269968961057902\n",
      "2020-05-03 06:54:12:pid_10824:binary_gates:<INFO> reset times, hit counts: 58, 9\n",
      "2020-05-03 06:54:12:pid_10824:binary_gates:<INFO> --------------- 59 times reset binary gate ---------------\n",
      "2020-05-03 06:54:14:pid_10824:latency_estimator:<INFO> 10 times estimation\n",
      "2020-05-03 06:54:15:pid_10824:latency_estimator:<INFO> 20 times estimation\n",
      "2020-05-03 06:54:17:pid_10824:latency_estimator:<INFO> 30 times estimation\n",
      "2020-05-03 06:54:19:pid_10824:latency_estimator:<INFO> 40 times estimation\n",
      "2020-05-03 06:54:21:pid_10824:latency_estimator:<INFO> 50 times estimation\n",
      "2020-05-03 06:54:22:pid_10824:binary_gates:<INFO> result of 50 times estimation: \n",
      "count        50.000000\n",
      "mean     190053.057671\n",
      "std       26291.410098\n",
      "min        7983.446121\n",
      "25%      193554.937840\n",
      "50%      193980.693817\n",
      "75%      194218.993187\n",
      "max      194670.438766\n",
      "Name: latency, dtype: float64\n",
      "2020-05-03 06:54:22:pid_10824:binary_gates:<INFO> cumulative_avg, pre_avg: 174583.38975906366, 174256.60763756698\n",
      "2020-05-03 06:54:22:pid_10824:binary_gates:<INFO> convergence ratio: 0.18717824298615288\n",
      "2020-05-03 06:54:22:pid_10824:binary_gates:<INFO> reset times, hit counts: 59, 10\n"
     ]
    }
   ],
   "source": [
    "cumulative_avg, cumulative_err, cumulative_latency = accumulate_latency(le, max_reset_times=10000)"
   ]
  },
  {
   "cell_type": "code",
   "execution_count": 10,
   "metadata": {},
   "outputs": [
    {
     "data": {
      "text/plain": [
       "<matplotlib.axes._subplots.AxesSubplot at 0x7f2e1f980f60>"
      ]
     },
     "execution_count": 10,
     "metadata": {},
     "output_type": "execute_result"
    },
    {
     "data": {
      "image/png": "[encoded data removed]",
      "text/plain": [
       "<Figure size 432x288 with 1 Axes>"
      ]
     },
     "metadata": {
      "needs_background": "light"
     },
     "output_type": "display_data"
    }
   ],
   "source": [
    " cumulative_latency.plot()"
   ]
  },
  {
   "cell_type": "code",
   "execution_count": 11,
   "metadata": {},
   "outputs": [
    {
     "data": {
      "text/plain": [
       "<matplotlib.axes._subplots.AxesSubplot at 0x7f2e1fad3550>"
      ]
     },
     "execution_count": 11,
     "metadata": {},
     "output_type": "execute_result"
    },
    {
     "data": {
      "image/png": "[encoded data removed]",
      "text/plain": [
       "<Figure size 432x288 with 1 Axes>"
      ]
     },
     "metadata": {
      "needs_background": "light"
     },
     "output_type": "display_data"
    }
   ],
   "source": [
    "cumulative_avg.plot()"
   ]
  },
  {
   "cell_type": "code",
   "execution_count": 12,
   "metadata": {},
   "outputs": [
    {
     "data": {
      "text/plain": [
       "<matplotlib.axes._subplots.AxesSubplot at 0x7f2e1f6ff9b0>"
      ]
     },
     "execution_count": 12,
     "metadata": {},
     "output_type": "execute_result"
    },
    {
     "data": {
      "image/png": "[encoded data removed]",
      "text/plain": [
       "<Figure size 432x288 with 1 Axes>"
      ]
     },
     "metadata": {
      "needs_background": "light"
     },
     "output_type": "display_data"
    }
   ],
   "source": [
    "cumulative_err.plot()"
   ]
  },
  {
   "cell_type": "code",
   "execution_count": 43,
   "metadata": {},
   "outputs": [
    {
     "name": "stdout",
     "output_type": "stream",
     "text": [
      "------------------------------reset binary gate------------------------------\n"
     ]
    },
    {
     "name": "stderr",
     "output_type": "stream",
     "text": [
      "2020-05-02 12:45:52:pid_34414:latency_estimator:<INFO> 10 times estimation\n",
      "2020-05-02 12:45:54:pid_34414:latency_estimator:<INFO> 20 times estimation\n",
      "2020-05-02 12:45:56:pid_34414:latency_estimator:<INFO> 30 times estimation\n",
      "2020-05-02 12:45:58:pid_34414:latency_estimator:<INFO> 40 times estimation\n",
      "2020-05-02 12:46:00:pid_34414:latency_estimator:<INFO> 50 times estimation\n"
     ]
    },
    {
     "name": "stdout",
     "output_type": "stream",
     "text": [
      "count        50.000000\n",
      "mean     208108.782768\n",
      "std       28558.044608\n",
      "min       11987.447739\n",
      "25%      210863.113403\n",
      "50%      211841.702461\n",
      "75%      212314.903736\n",
      "max      237001.895905\n",
      "Name: latency, dtype: float64\n",
      "cumulative_avg, pre_avg: 211473.1788635254, 211473.1788635254\n",
      "convergence ratio: 0.0\n",
      "------------------------------reset binary gate------------------------------\n"
     ]
    },
    {
     "name": "stderr",
     "output_type": "stream",
     "text": [
      "2020-05-02 12:46:03:pid_34414:latency_estimator:<INFO> 10 times estimation\n",
      "2020-05-02 12:46:05:pid_34414:latency_estimator:<INFO> 20 times estimation\n",
      "2020-05-02 12:46:07:pid_34414:latency_estimator:<INFO> 30 times estimation\n",
      "2020-05-02 12:46:09:pid_34414:latency_estimator:<INFO> 40 times estimation\n",
      "2020-05-02 12:46:11:pid_34414:latency_estimator:<INFO> 50 times estimation\n"
     ]
    },
    {
     "name": "stdout",
     "output_type": "stream",
     "text": [
      "count        50.000000\n",
      "mean     214139.146805\n",
      "std       29510.247147\n",
      "min        9987.592697\n",
      "25%      217805.087566\n",
      "50%      218535.900116\n",
      "75%      219340.920448\n",
      "max      220497.131348\n",
      "Name: latency, dtype: float64\n",
      "cumulative_avg, pre_avg: 214899.23000335693, 211473.1788635254\n",
      "convergence ratio: 1.594259383701852\n",
      "------------------------------reset binary gate------------------------------\n"
     ]
    },
    {
     "name": "stderr",
     "output_type": "stream",
     "text": [
      "2020-05-02 12:46:13:pid_34414:latency_estimator:<INFO> 10 times estimation\n",
      "2020-05-02 12:46:15:pid_34414:latency_estimator:<INFO> 20 times estimation\n",
      "2020-05-02 12:46:16:pid_34414:latency_estimator:<INFO> 30 times estimation\n",
      "2020-05-02 12:46:18:pid_34414:latency_estimator:<INFO> 40 times estimation\n",
      "2020-05-02 12:46:19:pid_34414:latency_estimator:<INFO> 50 times estimation\n"
     ]
    },
    {
     "name": "stdout",
     "output_type": "stream",
     "text": [
      "count        50.000000\n",
      "mean     143988.180161\n",
      "std       19305.515476\n",
      "min       10663.986206\n",
      "25%      146366.775036\n",
      "50%      147139.310837\n",
      "75%      147303.879261\n",
      "max      149865.627289\n",
      "Name: latency, dtype: float64\n",
      "cumulative_avg, pre_avg: 192263.2853190104, 214899.23000335693\n",
      "convergence ratio: -11.773409908599099\n",
      "------------------------------reset binary gate------------------------------\n"
     ]
    },
    {
     "name": "stderr",
     "output_type": "stream",
     "text": [
      "2020-05-02 12:46:20:pid_34414:latency_estimator:<INFO> 10 times estimation\n",
      "2020-05-02 12:46:21:pid_34414:latency_estimator:<INFO> 20 times estimation\n",
      "2020-05-02 12:46:22:pid_34414:latency_estimator:<INFO> 30 times estimation\n",
      "2020-05-02 12:46:23:pid_34414:latency_estimator:<INFO> 40 times estimation\n",
      "2020-05-02 12:46:24:pid_34414:latency_estimator:<INFO> 50 times estimation\n"
     ]
    },
    {
     "name": "stdout",
     "output_type": "stream",
     "text": [
      "count       50.000000\n",
      "mean     91330.919266\n",
      "std      11657.088886\n",
      "min      11104.345322\n",
      "25%      92903.494835\n",
      "50%      93325.614929\n",
      "75%      93464.612961\n",
      "max      94264.984131\n",
      "Name: latency, dtype: float64\n",
      "cumulative_avg, pre_avg: 167494.27318572998, 192263.2853190104\n",
      "convergence ratio: -14.787975530252739\n",
      "------------------------------reset binary gate------------------------------\n"
     ]
    },
    {
     "name": "stderr",
     "output_type": "stream",
     "text": [
      "2020-05-02 12:46:25:pid_34414:latency_estimator:<INFO> 10 times estimation\n",
      "2020-05-02 12:46:27:pid_34414:latency_estimator:<INFO> 20 times estimation\n",
      "2020-05-02 12:46:28:pid_34414:latency_estimator:<INFO> 30 times estimation\n",
      "2020-05-02 12:46:29:pid_34414:latency_estimator:<INFO> 40 times estimation\n",
      "2020-05-02 12:46:30:pid_34414:latency_estimator:<INFO> 50 times estimation\n"
     ]
    },
    {
     "name": "stdout",
     "output_type": "stream",
     "text": [
      "count        50.000000\n",
      "mean     118777.680397\n",
      "std       16388.107845\n",
      "min        5470.037460\n",
      "25%      121126.353741\n",
      "50%      121334.195137\n",
      "75%      121550.321579\n",
      "max      122363.090515\n",
      "Name: latency, dtype: float64\n",
      "cumulative_avg, pre_avg: 158246.1929321289, 167494.27318572998\n",
      "convergence ratio: -5.84410915816947\n",
      "------------------------------reset binary gate------------------------------\n"
     ]
    },
    {
     "name": "stderr",
     "output_type": "stream",
     "text": [
      "2020-05-02 12:46:32:pid_34414:latency_estimator:<INFO> 10 times estimation\n",
      "2020-05-02 12:46:33:pid_34414:latency_estimator:<INFO> 20 times estimation\n",
      "2020-05-02 12:46:35:pid_34414:latency_estimator:<INFO> 30 times estimation\n",
      "2020-05-02 12:46:37:pid_34414:latency_estimator:<INFO> 40 times estimation\n",
      "2020-05-02 12:46:38:pid_34414:latency_estimator:<INFO> 50 times estimation\n"
     ]
    },
    {
     "name": "stdout",
     "output_type": "stream",
     "text": [
      "count        50.000000\n",
      "mean     150305.562019\n",
      "std       20019.580426\n",
      "min       11928.081512\n",
      "25%      153185.486794\n",
      "50%      153378.844261\n",
      "75%      153659.880161\n",
      "max      156105.518341\n",
      "Name: latency, dtype: float64\n",
      "cumulative_avg, pre_avg: 157426.13474527994, 158246.1929321289\n",
      "convergence ratio: -0.5209161669222496\n",
      "------------------------------reset binary gate------------------------------\n"
     ]
    },
    {
     "name": "stderr",
     "output_type": "stream",
     "text": [
      "2020-05-02 12:46:39:pid_34414:latency_estimator:<INFO> 10 times estimation\n",
      "2020-05-02 12:46:41:pid_34414:latency_estimator:<INFO> 20 times estimation\n",
      "2020-05-02 12:46:42:pid_34414:latency_estimator:<INFO> 30 times estimation\n",
      "2020-05-02 12:46:43:pid_34414:latency_estimator:<INFO> 40 times estimation\n",
      "2020-05-02 12:46:44:pid_34414:latency_estimator:<INFO> 50 times estimation\n"
     ]
    },
    {
     "name": "stdout",
     "output_type": "stream",
     "text": [
      "count        50.000000\n",
      "mean     110583.591461\n",
      "std       14541.416358\n",
      "min       10294.675827\n",
      "25%      112680.137157\n",
      "50%      112958.669662\n",
      "75%      113106.787205\n",
      "max      114516.735077\n",
      "Name: latency, dtype: float64\n",
      "cumulative_avg, pre_avg: 151061.9980948312, 157426.13474527994\n",
      "convergence ratio: -4.212930274133923\n",
      "------------------------------reset binary gate------------------------------\n"
     ]
    },
    {
     "name": "stderr",
     "output_type": "stream",
     "text": [
      "2020-05-02 12:46:46:pid_34414:latency_estimator:<INFO> 10 times estimation\n",
      "2020-05-02 12:46:48:pid_34414:latency_estimator:<INFO> 20 times estimation\n",
      "2020-05-02 12:46:51:pid_34414:latency_estimator:<INFO> 30 times estimation\n",
      "2020-05-02 12:46:53:pid_34414:latency_estimator:<INFO> 40 times estimation\n",
      "2020-05-02 12:46:55:pid_34414:latency_estimator:<INFO> 50 times estimation\n"
     ]
    },
    {
     "name": "stdout",
     "output_type": "stream",
     "text": [
      "count        50.000000\n",
      "mean     218162.484169\n",
      "std       30073.679661\n",
      "min       10153.293610\n",
      "25%      222349.882126\n",
      "50%      222682.714462\n",
      "75%      223133.385181\n",
      "max      225338.220596\n",
      "Name: latency, dtype: float64\n",
      "cumulative_avg, pre_avg: 159996.34265899658, 151061.9980948312\n",
      "convergence ratio: 5.584092995930128\n",
      "------------------------------reset binary gate------------------------------\n"
     ]
    },
    {
     "name": "stderr",
     "output_type": "stream",
     "text": [
      "2020-05-02 12:46:57:pid_34414:latency_estimator:<INFO> 10 times estimation\n",
      "2020-05-02 12:46:59:pid_34414:latency_estimator:<INFO> 20 times estimation\n",
      "2020-05-02 12:47:02:pid_34414:latency_estimator:<INFO> 30 times estimation\n",
      "2020-05-02 12:47:04:pid_34414:latency_estimator:<INFO> 40 times estimation\n",
      "2020-05-02 12:47:06:pid_34414:latency_estimator:<INFO> 50 times estimation\n"
     ]
    },
    {
     "name": "stdout",
     "output_type": "stream",
     "text": [
      "count        50.000000\n",
      "mean     204515.647888\n",
      "std       27785.785903\n",
      "min       12382.507324\n",
      "25%      208486.318588\n",
      "50%      208714.604378\n",
      "75%      209014.892578\n",
      "max      209890.127182\n",
      "Name: latency, dtype: float64\n",
      "cumulative_avg, pre_avg: 165399.6149698893, 159996.34265899658\n",
      "convergence ratio: 3.266798602811975\n",
      "------------------------------reset binary gate------------------------------\n"
     ]
    },
    {
     "name": "stderr",
     "output_type": "stream",
     "text": [
      "2020-05-02 12:47:07:pid_34414:latency_estimator:<INFO> 10 times estimation\n",
      "2020-05-02 12:47:08:pid_34414:latency_estimator:<INFO> 20 times estimation\n",
      "2020-05-02 12:47:10:pid_34414:latency_estimator:<INFO> 30 times estimation\n",
      "2020-05-02 12:47:11:pid_34414:latency_estimator:<INFO> 40 times estimation\n",
      "2020-05-02 12:47:12:pid_34414:latency_estimator:<INFO> 50 times estimation\n"
     ]
    },
    {
     "name": "stdout",
     "output_type": "stream",
     "text": [
      "count        50.000000\n",
      "mean     117799.987793\n",
      "std       15513.218165\n",
      "min       10804.414749\n",
      "25%      120108.425617\n",
      "50%      120382.666588\n",
      "75%      120451.986790\n",
      "max      121429.443359\n",
      "Name: latency, dtype: float64\n",
      "cumulative_avg, pre_avg: 160893.85509490967, 165399.6149698893\n",
      "convergence ratio: -2.800454916268706\n",
      "------------------------------reset binary gate------------------------------\n"
     ]
    },
    {
     "name": "stderr",
     "output_type": "stream",
     "text": [
      "2020-05-02 12:47:14:pid_34414:latency_estimator:<INFO> 10 times estimation\n",
      "2020-05-02 12:47:16:pid_34414:latency_estimator:<INFO> 20 times estimation\n",
      "2020-05-02 12:47:18:pid_34414:latency_estimator:<INFO> 30 times estimation\n",
      "2020-05-02 12:47:20:pid_34414:latency_estimator:<INFO> 40 times estimation\n",
      "2020-05-02 12:47:22:pid_34414:latency_estimator:<INFO> 50 times estimation\n"
     ]
    },
    {
     "name": "stdout",
     "output_type": "stream",
     "text": [
      "count        50.000000\n",
      "mean     201315.355301\n",
      "std       27660.107769\n",
      "min        9912.252426\n",
      "25%      205155.193806\n",
      "50%      205499.768257\n",
      "75%      205783.784389\n",
      "max      206231.594086\n",
      "Name: latency, dtype: float64\n",
      "cumulative_avg, pre_avg: 164936.25207380814, 160893.85509490967\n",
      "convergence ratio: 2.450884464798871\n",
      "------------------------------reset binary gate------------------------------\n"
     ]
    },
    {
     "name": "stderr",
     "output_type": "stream",
     "text": [
      "2020-05-02 12:47:25:pid_34414:latency_estimator:<INFO> 10 times estimation\n",
      "2020-05-02 12:47:27:pid_34414:latency_estimator:<INFO> 20 times estimation\n",
      "2020-05-02 12:47:29:pid_34414:latency_estimator:<INFO> 30 times estimation\n",
      "2020-05-02 12:47:32:pid_34414:latency_estimator:<INFO> 40 times estimation\n",
      "2020-05-02 12:47:34:pid_34414:latency_estimator:<INFO> 50 times estimation\n"
     ]
    },
    {
     "name": "stdout",
     "output_type": "stream",
     "text": [
      "count        50.000000\n",
      "mean     227856.540680\n",
      "std       31437.067116\n",
      "min       10207.653046\n",
      "25%      232165.634632\n",
      "50%      232558.131218\n",
      "75%      232811.629772\n",
      "max      233678.340912\n",
      "Name: latency, dtype: float64\n",
      "cumulative_avg, pre_avg: 170563.72165679932, 164936.25207380814\n",
      "convergence ratio: 3.299335596296686\n",
      "------------------------------reset binary gate------------------------------\n"
     ]
    },
    {
     "name": "stderr",
     "output_type": "stream",
     "text": [
      "2020-05-02 12:47:36:pid_34414:latency_estimator:<INFO> 10 times estimation\n",
      "2020-05-02 12:47:39:pid_34414:latency_estimator:<INFO> 20 times estimation\n",
      "2020-05-02 12:47:41:pid_34414:latency_estimator:<INFO> 30 times estimation\n",
      "2020-05-02 12:47:43:pid_34414:latency_estimator:<INFO> 40 times estimation\n",
      "2020-05-02 12:47:45:pid_34414:latency_estimator:<INFO> 50 times estimation\n"
     ]
    },
    {
     "name": "stdout",
     "output_type": "stream",
     "text": [
      "count        50.000000\n",
      "mean     203552.260399\n",
      "std       28272.073607\n",
      "min        7725.954056\n",
      "25%      207222.878933\n",
      "50%      207809.805870\n",
      "75%      208030.700684\n",
      "max      208676.099777\n",
      "Name: latency, dtype: float64\n",
      "cumulative_avg, pre_avg: 173418.1000636174, 170563.72165679932\n",
      "convergence ratio: 1.6459518388051602\n",
      "------------------------------reset binary gate------------------------------\n"
     ]
    },
    {
     "name": "stderr",
     "output_type": "stream",
     "text": [
      "2020-05-02 12:47:46:pid_34414:latency_estimator:<INFO> 10 times estimation\n",
      "2020-05-02 12:47:48:pid_34414:latency_estimator:<INFO> 20 times estimation\n",
      "2020-05-02 12:47:49:pid_34414:latency_estimator:<INFO> 30 times estimation\n",
      "2020-05-02 12:47:50:pid_34414:latency_estimator:<INFO> 40 times estimation\n",
      "2020-05-02 12:47:52:pid_34414:latency_estimator:<INFO> 50 times estimation\n"
     ]
    },
    {
     "name": "stdout",
     "output_type": "stream",
     "text": [
      "count        50.000000\n",
      "mean     131754.851341\n",
      "std       17470.962456\n",
      "min       11204.719543\n",
      "25%      134192.645550\n",
      "50%      134515.643120\n",
      "75%      134854.674339\n",
      "max      136152.744293\n",
      "Name: latency, dtype: float64\n",
      "cumulative_avg, pre_avg: 170634.14028712682, 173418.1000636174\n",
      "convergence ratio: -1.6315373768731136\n",
      "------------------------------reset binary gate------------------------------\n"
     ]
    },
    {
     "name": "stderr",
     "output_type": "stream",
     "text": [
      "2020-05-02 12:47:55:pid_34414:latency_estimator:<INFO> 10 times estimation\n",
      "2020-05-02 12:47:57:pid_34414:latency_estimator:<INFO> 20 times estimation\n",
      "2020-05-02 12:48:00:pid_34414:latency_estimator:<INFO> 30 times estimation\n",
      "2020-05-02 12:48:03:pid_34414:latency_estimator:<INFO> 40 times estimation\n",
      "2020-05-02 12:48:06:pid_34414:latency_estimator:<INFO> 50 times estimation\n"
     ]
    },
    {
     "name": "stdout",
     "output_type": "stream",
     "text": [
      "count        50.000000\n",
      "mean     276409.568787\n",
      "std       38354.382609\n",
      "min       10760.307312\n",
      "25%      281762.123108\n",
      "50%      282195.925713\n",
      "75%      282360.613346\n",
      "max      282872.915268\n",
      "Name: latency, dtype: float64\n",
      "cumulative_avg, pre_avg: 178065.7418568929, 170634.14028712682\n",
      "convergence ratio: 4.1735156309508925\n",
      "------------------------------reset binary gate------------------------------\n"
     ]
    },
    {
     "name": "stderr",
     "output_type": "stream",
     "text": [
      "2020-05-02 12:48:08:pid_34414:latency_estimator:<INFO> 10 times estimation\n",
      "2020-05-02 12:48:10:pid_34414:latency_estimator:<INFO> 20 times estimation\n",
      "2020-05-02 12:48:12:pid_34414:latency_estimator:<INFO> 30 times estimation\n",
      "2020-05-02 12:48:13:pid_34414:latency_estimator:<INFO> 40 times estimation\n",
      "2020-05-02 12:48:15:pid_34414:latency_estimator:<INFO> 50 times estimation\n"
     ]
    },
    {
     "name": "stdout",
     "output_type": "stream",
     "text": [
      "count        50.000000\n",
      "mean     175170.845985\n",
      "std       24179.571086\n",
      "min        7807.731628\n",
      "25%      178677.022457\n",
      "50%      178868.889809\n",
      "75%      178991.079330\n",
      "max      179860.591888\n",
      "Name: latency, dtype: float64\n",
      "cumulative_avg, pre_avg: 178110.50415039062, 178065.7418568929\n",
      "convergence ratio: 0.02513175385765898\n",
      "------------------------------reset binary gate------------------------------\n"
     ]
    },
    {
     "name": "stderr",
     "output_type": "stream",
     "text": [
      "2020-05-02 12:48:17:pid_34414:latency_estimator:<INFO> 10 times estimation\n",
      "2020-05-02 12:48:19:pid_34414:latency_estimator:<INFO> 20 times estimation\n",
      "2020-05-02 12:48:21:pid_34414:latency_estimator:<INFO> 30 times estimation\n",
      "2020-05-02 12:48:23:pid_34414:latency_estimator:<INFO> 40 times estimation\n",
      "2020-05-02 12:48:25:pid_34414:latency_estimator:<INFO> 50 times estimation\n"
     ]
    },
    {
     "name": "stdout",
     "output_type": "stream",
     "text": [
      "count        50.000000\n",
      "mean     182108.559608\n",
      "std       24807.474854\n",
      "min       10525.465012\n",
      "25%      185607.135296\n",
      "50%      185964.584351\n",
      "75%      186210.572720\n",
      "max      186916.112900\n",
      "Name: latency, dtype: float64\n",
      "cumulative_avg, pre_avg: 178561.4294164321, 178110.50415039062\n",
      "convergence ratio: 0.2525322895964576\n",
      "------------------------------reset binary gate------------------------------\n"
     ]
    },
    {
     "name": "stderr",
     "output_type": "stream",
     "text": [
      "2020-05-02 12:48:26:pid_34414:latency_estimator:<INFO> 10 times estimation\n",
      "2020-05-02 12:48:27:pid_34414:latency_estimator:<INFO> 20 times estimation\n",
      "2020-05-02 12:48:28:pid_34414:latency_estimator:<INFO> 30 times estimation\n",
      "2020-05-02 12:48:29:pid_34414:latency_estimator:<INFO> 40 times estimation\n",
      "2020-05-02 12:48:30:pid_34414:latency_estimator:<INFO> 50 times estimation\n"
     ]
    },
    {
     "name": "stdout",
     "output_type": "stream",
     "text": [
      "count       50.000000\n",
      "mean     93424.654007\n",
      "std      12093.433974\n",
      "min      10295.867920\n",
      "25%      95238.208771\n",
      "50%      95412.969589\n",
      "75%      95609.843731\n",
      "max      96325.159073\n",
      "Name: latency, dtype: float64\n",
      "cumulative_avg, pre_avg: 173939.18567233614, 178561.4294164321\n",
      "convergence ratio: -2.657390700220519\n",
      "------------------------------reset binary gate------------------------------\n"
     ]
    },
    {
     "name": "stderr",
     "output_type": "stream",
     "text": [
      "2020-05-02 12:48:32:pid_34414:latency_estimator:<INFO> 10 times estimation\n",
      "2020-05-02 12:48:34:pid_34414:latency_estimator:<INFO> 20 times estimation\n",
      "2020-05-02 12:48:36:pid_34414:latency_estimator:<INFO> 30 times estimation\n",
      "2020-05-02 12:48:39:pid_34414:latency_estimator:<INFO> 40 times estimation\n",
      "2020-05-02 12:48:41:pid_34414:latency_estimator:<INFO> 50 times estimation\n"
     ]
    },
    {
     "name": "stdout",
     "output_type": "stream",
     "text": [
      "count        50.000000\n",
      "mean     218539.385796\n",
      "std       30047.667846\n",
      "min       10644.197464\n",
      "25%      222795.903683\n",
      "50%      223084.688187\n",
      "75%      223369.359970\n",
      "max      224810.361862\n",
      "Name: latency, dtype: float64\n",
      "cumulative_avg, pre_avg: 176521.86594511333, 173939.18567233614\n",
      "convergence ratio: 1.4630936847111224\n",
      "------------------------------reset binary gate------------------------------\n"
     ]
    },
    {
     "name": "stderr",
     "output_type": "stream",
     "text": [
      "2020-05-02 12:48:42:pid_34414:latency_estimator:<INFO> 10 times estimation\n",
      "2020-05-02 12:48:43:pid_34414:latency_estimator:<INFO> 20 times estimation\n",
      "2020-05-02 12:48:44:pid_34414:latency_estimator:<INFO> 30 times estimation\n",
      "2020-05-02 12:48:45:pid_34414:latency_estimator:<INFO> 40 times estimation\n",
      "2020-05-02 12:48:45:pid_34414:latency_estimator:<INFO> 50 times estimation\n"
     ]
    },
    {
     "name": "stdout",
     "output_type": "stream",
     "text": [
      "count       50.000000\n",
      "mean     79896.116257\n",
      "std      10415.112869\n",
      "min       8635.759354\n",
      "25%      81436.753273\n",
      "50%      81764.817238\n",
      "75%      81947.922707\n",
      "max      82825.183868\n",
      "Name: latency, dtype: float64\n",
      "cumulative_avg, pre_avg: 171773.96059036255, 176521.86594511333\n",
      "convergence ratio: -2.764042546630995\n",
      "------------------------------reset binary gate------------------------------\n"
     ]
    },
    {
     "name": "stderr",
     "output_type": "stream",
     "text": [
      "2020-05-02 12:48:46:pid_34414:latency_estimator:<INFO> 10 times estimation\n",
      "2020-05-02 12:48:46:pid_34414:latency_estimator:<INFO> 20 times estimation\n",
      "2020-05-02 12:48:47:pid_34414:latency_estimator:<INFO> 30 times estimation\n",
      "2020-05-02 12:48:47:pid_34414:latency_estimator:<INFO> 40 times estimation\n",
      "2020-05-02 12:48:47:pid_34414:latency_estimator:<INFO> 50 times estimation\n"
     ]
    },
    {
     "name": "stdout",
     "output_type": "stream",
     "text": [
      "count       50.000000\n",
      "mean     34922.604561\n",
      "std       3889.106458\n",
      "min      10028.362274\n",
      "25%      35553.097725\n",
      "50%      35670.638084\n",
      "75%      35853.207111\n",
      "max      36667.346954\n",
      "Name: latency, dtype: float64\n",
      "cumulative_avg, pre_avg: 165290.73942275275, 171773.96059036255\n",
      "convergence ratio: -3.9223136094927287\n",
      "------------------------------reset binary gate------------------------------\n"
     ]
    },
    {
     "name": "stderr",
     "output_type": "stream",
     "text": [
      "2020-05-02 12:48:49:pid_34414:latency_estimator:<INFO> 10 times estimation\n",
      "2020-05-02 12:48:50:pid_34414:latency_estimator:<INFO> 20 times estimation\n",
      "2020-05-02 12:48:52:pid_34414:latency_estimator:<INFO> 30 times estimation\n",
      "2020-05-02 12:48:54:pid_34414:latency_estimator:<INFO> 40 times estimation\n",
      "2020-05-02 12:48:55:pid_34414:latency_estimator:<INFO> 50 times estimation\n"
     ]
    },
    {
     "name": "stdout",
     "output_type": "stream",
     "text": [
      "count        50.000000\n",
      "mean     148548.870087\n",
      "std       20532.243599\n",
      "min        6509.065628\n",
      "25%      151272.416115\n",
      "50%      151599.287987\n",
      "75%      151861.846447\n",
      "max      154617.071152\n",
      "Name: latency, dtype: float64\n",
      "cumulative_avg, pre_avg: 164661.8366241455, 165290.73942275275\n",
      "convergence ratio: -0.38193597952072555\n",
      "------------------------------reset binary gate------------------------------\n"
     ]
    },
    {
     "name": "stderr",
     "output_type": "stream",
     "text": [
      "2020-05-02 12:48:57:pid_34414:latency_estimator:<INFO> 10 times estimation\n",
      "2020-05-02 12:49:00:pid_34414:latency_estimator:<INFO> 20 times estimation\n",
      "2020-05-02 12:49:02:pid_34414:latency_estimator:<INFO> 30 times estimation\n",
      "2020-05-02 12:49:04:pid_34414:latency_estimator:<INFO> 40 times estimation\n",
      "2020-05-02 12:49:07:pid_34414:latency_estimator:<INFO> 50 times estimation\n"
     ]
    },
    {
     "name": "stdout",
     "output_type": "stream",
     "text": [
      "count        50.000000\n",
      "mean     225468.773842\n",
      "std       31327.421548\n",
      "min        8776.903152\n",
      "25%      229136.407375\n",
      "50%      229664.206505\n",
      "75%      230403.482914\n",
      "max      234431.028366\n",
      "Name: latency, dtype: float64\n",
      "cumulative_avg, pre_avg: 167479.94837553604, 164661.8366241455\n",
      "convergence ratio: 1.6826562097281956\n",
      "------------------------------reset binary gate------------------------------\n"
     ]
    },
    {
     "name": "stderr",
     "output_type": "stream",
     "text": [
      "2020-05-02 12:49:08:pid_34414:latency_estimator:<INFO> 10 times estimation\n",
      "2020-05-02 12:49:09:pid_34414:latency_estimator:<INFO> 20 times estimation\n",
      "2020-05-02 12:49:10:pid_34414:latency_estimator:<INFO> 30 times estimation\n",
      "2020-05-02 12:49:12:pid_34414:latency_estimator:<INFO> 40 times estimation\n",
      "2020-05-02 12:49:13:pid_34414:latency_estimator:<INFO> 50 times estimation\n"
     ]
    },
    {
     "name": "stdout",
     "output_type": "stream",
     "text": [
      "count        50.000000\n",
      "mean     113213.124275\n",
      "std       15213.651854\n",
      "min        8268.356323\n",
      "25%      114638.507366\n",
      "50%      115075.826645\n",
      "75%      116284.012794\n",
      "max      118175.268173\n",
      "Name: latency, dtype: float64\n",
      "cumulative_avg, pre_avg: 165287.38935788473, 167479.94837553604\n",
      "convergence ratio: -1.326513187829423\n",
      "------------------------------reset binary gate------------------------------\n"
     ]
    },
    {
     "name": "stderr",
     "output_type": "stream",
     "text": [
      "2020-05-02 12:49:14:pid_34414:latency_estimator:<INFO> 10 times estimation\n",
      "2020-05-02 12:49:15:pid_34414:latency_estimator:<INFO> 20 times estimation\n",
      "2020-05-02 12:49:16:pid_34414:latency_estimator:<INFO> 30 times estimation\n",
      "2020-05-02 12:49:17:pid_34414:latency_estimator:<INFO> 40 times estimation\n",
      "2020-05-02 12:49:18:pid_34414:latency_estimator:<INFO> 50 times estimation\n"
     ]
    },
    {
     "name": "stdout",
     "output_type": "stream",
     "text": [
      "count        50.000000\n",
      "mean      98494.691849\n",
      "std       12934.348922\n",
      "min        9521.484375\n",
      "25%       99768.936634\n",
      "50%      100197.076797\n",
      "75%      101136.088371\n",
      "max      102666.854858\n",
      "Name: latency, dtype: float64\n",
      "cumulative_avg, pre_avg: 162681.01692199707, 165287.38935788473\n",
      "convergence ratio: -1.6021367982580155\n",
      "------------------------------reset binary gate------------------------------\n"
     ]
    },
    {
     "name": "stderr",
     "output_type": "stream",
     "text": [
      "2020-05-02 12:49:20:pid_34414:latency_estimator:<INFO> 10 times estimation\n",
      "2020-05-02 12:49:21:pid_34414:latency_estimator:<INFO> 20 times estimation\n",
      "2020-05-02 12:49:23:pid_34414:latency_estimator:<INFO> 30 times estimation\n",
      "2020-05-02 12:49:25:pid_34414:latency_estimator:<INFO> 40 times estimation\n",
      "2020-05-02 12:49:26:pid_34414:latency_estimator:<INFO> 50 times estimation\n"
     ]
    },
    {
     "name": "stdout",
     "output_type": "stream",
     "text": [
      "count        50.000000\n",
      "mean     161251.835823\n",
      "std       21714.722031\n",
      "min       11200.666428\n",
      "25%      164076.745510\n",
      "50%      164618.492126\n",
      "75%      164878.904819\n",
      "max      167097.330093\n",
      "Name: latency, dtype: float64\n",
      "cumulative_avg, pre_avg: 162748.21758270264, 162681.01692199707\n",
      "convergence ratio: 0.04129118075988606\n",
      "------------------------------reset binary gate------------------------------\n"
     ]
    },
    {
     "name": "stderr",
     "output_type": "stream",
     "text": [
      "2020-05-02 12:49:29:pid_34414:latency_estimator:<INFO> 10 times estimation\n",
      "2020-05-02 12:49:33:pid_34414:latency_estimator:<INFO> 20 times estimation\n",
      "2020-05-02 12:49:36:pid_34414:latency_estimator:<INFO> 30 times estimation\n",
      "2020-05-02 12:49:39:pid_34414:latency_estimator:<INFO> 40 times estimation\n",
      "2020-05-02 12:49:42:pid_34414:latency_estimator:<INFO> 50 times estimation\n"
     ]
    },
    {
     "name": "stdout",
     "output_type": "stream",
     "text": [
      "count        50.000000\n",
      "mean     318500.876427\n",
      "std       44381.674103\n",
      "min       11465.311050\n",
      "25%      323386.311531\n",
      "50%      324290.513992\n",
      "75%      326872.467995\n",
      "max      328188.180923\n",
      "Name: latency, dtype: float64\n",
      "cumulative_avg, pre_avg: 168715.16439649794, 162748.21758270264\n",
      "convergence ratio: 3.5366985742741956\n",
      "------------------------------reset binary gate------------------------------\n"
     ]
    },
    {
     "name": "stderr",
     "output_type": "stream",
     "text": [
      "2020-05-02 12:49:45:pid_34414:latency_estimator:<INFO> 10 times estimation\n",
      "2020-05-02 12:49:47:pid_34414:latency_estimator:<INFO> 20 times estimation\n",
      "2020-05-02 12:49:49:pid_34414:latency_estimator:<INFO> 30 times estimation\n",
      "2020-05-02 12:49:51:pid_34414:latency_estimator:<INFO> 40 times estimation\n",
      "2020-05-02 12:49:53:pid_34414:latency_estimator:<INFO> 50 times estimation\n"
     ]
    },
    {
     "name": "stdout",
     "output_type": "stream",
     "text": [
      "count        50.000000\n",
      "mean     205052.390099\n",
      "std       28136.239732\n",
      "min       10568.618774\n",
      "25%      208015.620708\n",
      "50%      209004.759789\n",
      "75%      210306.167603\n",
      "max      212497.711182\n",
      "Name: latency, dtype: float64\n",
      "cumulative_avg, pre_avg: 170136.6799218314, 168715.16439649794\n",
      "convergence ratio: 0.8355138503858053\n",
      "------------------------------reset binary gate------------------------------\n"
     ]
    },
    {
     "name": "stderr",
     "output_type": "stream",
     "text": [
      "2020-05-02 12:49:55:pid_34414:latency_estimator:<INFO> 10 times estimation\n",
      "2020-05-02 12:49:57:pid_34414:latency_estimator:<INFO> 20 times estimation\n",
      "2020-05-02 12:49:58:pid_34414:latency_estimator:<INFO> 30 times estimation\n",
      "2020-05-02 12:50:00:pid_34414:latency_estimator:<INFO> 40 times estimation\n",
      "2020-05-02 12:50:01:pid_34414:latency_estimator:<INFO> 50 times estimation\n"
     ]
    },
    {
     "name": "stdout",
     "output_type": "stream",
     "text": [
      "count        50.000000\n",
      "mean     151088.013649\n",
      "std       20774.346355\n",
      "min        7791.519165\n",
      "25%      152618.288994\n",
      "50%      154539.704323\n",
      "75%      155343.055725\n",
      "max      156883.478165\n",
      "Name: latency, dtype: float64\n",
      "cumulative_avg, pre_avg: 169555.27765997525, 170136.6799218314\n",
      "convergence ratio: -0.3428983573263327\n",
      "------------------------------reset binary gate------------------------------\n"
     ]
    },
    {
     "name": "stderr",
     "output_type": "stream",
     "text": [
      "2020-05-02 12:50:02:pid_34414:latency_estimator:<INFO> 10 times estimation\n",
      "2020-05-02 12:50:03:pid_34414:latency_estimator:<INFO> 20 times estimation\n",
      "2020-05-02 12:50:04:pid_34414:latency_estimator:<INFO> 30 times estimation\n",
      "2020-05-02 12:50:05:pid_34414:latency_estimator:<INFO> 40 times estimation\n",
      "2020-05-02 12:50:06:pid_34414:latency_estimator:<INFO> 50 times estimation\n"
     ]
    },
    {
     "name": "stdout",
     "output_type": "stream",
     "text": [
      "count       50.000000\n",
      "mean     80304.236412\n",
      "std      10214.095578\n",
      "min      10751.724243\n",
      "25%      81073.939800\n",
      "50%      81878.900528\n",
      "75%      82804.143429\n",
      "max      84233.045578\n",
      "Name: latency, dtype: float64\n",
      "cumulative_avg, pre_avg: 166616.30471547446, 169555.27765997525\n",
      "convergence ratio: -1.7639167724428841\n",
      "------------------------------reset binary gate------------------------------\n"
     ]
    },
    {
     "name": "stderr",
     "output_type": "stream",
     "text": [
      "2020-05-02 12:50:07:pid_34414:latency_estimator:<INFO> 10 times estimation\n",
      "2020-05-02 12:50:08:pid_34414:latency_estimator:<INFO> 20 times estimation\n",
      "2020-05-02 12:50:09:pid_34414:latency_estimator:<INFO> 30 times estimation\n",
      "2020-05-02 12:50:10:pid_34414:latency_estimator:<INFO> 40 times estimation\n",
      "2020-05-02 12:50:11:pid_34414:latency_estimator:<INFO> 50 times estimation\n"
     ]
    },
    {
     "name": "stdout",
     "output_type": "stream",
     "text": [
      "count       50.000000\n",
      "mean     94211.483002\n",
      "std      12369.809428\n",
      "min       8995.056152\n",
      "25%      95908.463001\n",
      "50%      96258.640289\n",
      "75%      96399.664879\n",
      "max      98591.327667\n",
      "Name: latency, dtype: float64\n",
      "cumulative_avg, pre_avg: 164342.9663873488, 166616.30471547446\n",
      "convergence ratio: -1.3832890923774006\n",
      "------------------------------reset binary gate------------------------------\n"
     ]
    },
    {
     "name": "stderr",
     "output_type": "stream",
     "text": [
      "2020-05-02 12:50:13:pid_34414:latency_estimator:<INFO> 10 times estimation\n",
      "2020-05-02 12:50:15:pid_34414:latency_estimator:<INFO> 20 times estimation\n",
      "2020-05-02 12:50:18:pid_34414:latency_estimator:<INFO> 30 times estimation\n",
      "2020-05-02 12:50:20:pid_34414:latency_estimator:<INFO> 40 times estimation\n",
      "2020-05-02 12:50:22:pid_34414:latency_estimator:<INFO> 50 times estimation\n"
     ]
    },
    {
     "name": "stdout",
     "output_type": "stream",
     "text": [
      "count        50.000000\n",
      "mean     225894.041061\n",
      "std       31332.809329\n",
      "min        9508.371353\n",
      "25%      228145.360947\n",
      "50%      229562.401772\n",
      "75%      232539.892197\n",
      "max      234074.354172\n",
      "Name: latency, dtype: float64\n",
      "cumulative_avg, pre_avg: 166372.79987335205, 164342.9663873488\n",
      "convergence ratio: 1.2200512869582156\n",
      "------------------------------reset binary gate------------------------------\n"
     ]
    },
    {
     "name": "stderr",
     "output_type": "stream",
     "text": [
      "2020-05-02 12:50:25:pid_34414:latency_estimator:<INFO> 10 times estimation\n",
      "2020-05-02 12:50:28:pid_34414:latency_estimator:<INFO> 20 times estimation\n",
      "2020-05-02 12:50:31:pid_34414:latency_estimator:<INFO> 30 times estimation\n",
      "2020-05-02 12:50:34:pid_34414:latency_estimator:<INFO> 40 times estimation\n",
      "2020-05-02 12:50:37:pid_34414:latency_estimator:<INFO> 50 times estimation\n"
     ]
    },
    {
     "name": "stdout",
     "output_type": "stream",
     "text": [
      "count        50.000000\n",
      "mean     282665.414810\n",
      "std       39848.209579\n",
      "min        6879.568100\n",
      "25%      287414.193153\n",
      "50%      288719.534874\n",
      "75%      289746.940136\n",
      "max      290641.069412\n",
      "Name: latency, dtype: float64\n",
      "cumulative_avg, pre_avg: 170064.6111459443, 166372.79987335205\n",
      "convergence ratio: 2.170828632550751\n",
      "------------------------------reset binary gate------------------------------\n"
     ]
    },
    {
     "name": "stderr",
     "output_type": "stream",
     "text": [
      "2020-05-02 12:50:38:pid_34414:latency_estimator:<INFO> 10 times estimation\n",
      "2020-05-02 12:50:40:pid_34414:latency_estimator:<INFO> 20 times estimation\n",
      "2020-05-02 12:50:41:pid_34414:latency_estimator:<INFO> 30 times estimation\n",
      "2020-05-02 12:50:42:pid_34414:latency_estimator:<INFO> 40 times estimation\n",
      "2020-05-02 12:50:43:pid_34414:latency_estimator:<INFO> 50 times estimation\n"
     ]
    },
    {
     "name": "stdout",
     "output_type": "stream",
     "text": [
      "count        50.000000\n",
      "mean     113256.878853\n",
      "std       14830.613942\n",
      "min       11247.158051\n",
      "25%      114775.478840\n",
      "50%      115457.296371\n",
      "75%      116061.925888\n",
      "max      117878.913879\n",
      "Name: latency, dtype: float64\n",
      "cumulative_avg, pre_avg: 168454.54889185287, 170064.6111459443\n",
      "convergence ratio: -0.9557843731041583\n",
      "------------------------------reset binary gate------------------------------\n"
     ]
    },
    {
     "name": "stderr",
     "output_type": "stream",
     "text": [
      "2020-05-02 12:50:45:pid_34414:latency_estimator:<INFO> 10 times estimation\n",
      "2020-05-02 12:50:47:pid_34414:latency_estimator:<INFO> 20 times estimation\n",
      "2020-05-02 12:50:49:pid_34414:latency_estimator:<INFO> 30 times estimation\n",
      "2020-05-02 12:50:51:pid_34414:latency_estimator:<INFO> 40 times estimation\n",
      "2020-05-02 12:50:53:pid_34414:latency_estimator:<INFO> 50 times estimation\n"
     ]
    },
    {
     "name": "stdout",
     "output_type": "stream",
     "text": [
      "count        50.000000\n",
      "mean     195437.793732\n",
      "std       26786.251938\n",
      "min       10601.997375\n",
      "25%      198087.334633\n",
      "50%      199917.554855\n",
      "75%      200616.300106\n",
      "max      202051.639557\n",
      "Name: latency, dtype: float64\n",
      "cumulative_avg, pre_avg: 169341.2903376988, 168454.54889185287\n",
      "convergence ratio: 0.5236416021618785\n",
      "------------------------------reset binary gate------------------------------\n"
     ]
    },
    {
     "name": "stderr",
     "output_type": "stream",
     "text": [
      "2020-05-02 12:50:55:pid_34414:latency_estimator:<INFO> 10 times estimation\n",
      "2020-05-02 12:50:57:pid_34414:latency_estimator:<INFO> 20 times estimation\n",
      "2020-05-02 12:50:59:pid_34414:latency_estimator:<INFO> 30 times estimation\n",
      "2020-05-02 12:51:02:pid_34414:latency_estimator:<INFO> 40 times estimation\n",
      "2020-05-02 12:51:04:pid_34414:latency_estimator:<INFO> 50 times estimation\n"
     ]
    },
    {
     "name": "stdout",
     "output_type": "stream",
     "text": [
      "count        50.000000\n",
      "mean     206648.182869\n",
      "std       28233.280075\n",
      "min       11813.640594\n",
      "25%      210006.296635\n",
      "50%      211243.748665\n",
      "75%      211821.854115\n",
      "max      214300.394058\n",
      "Name: latency, dtype: float64\n",
      "cumulative_avg, pre_avg: 170495.11406156752, 169341.2903376988\n",
      "convergence ratio: 0.6767488500884966\n",
      "------------------------------reset binary gate------------------------------\n"
     ]
    },
    {
     "name": "stderr",
     "output_type": "stream",
     "text": [
      "2020-05-02 12:51:07:pid_34414:latency_estimator:<INFO> 10 times estimation\n",
      "2020-05-02 12:51:10:pid_34414:latency_estimator:<INFO> 20 times estimation\n",
      "2020-05-02 12:51:13:pid_34414:latency_estimator:<INFO> 30 times estimation\n",
      "2020-05-02 12:51:15:pid_34414:latency_estimator:<INFO> 40 times estimation\n",
      "2020-05-02 12:51:18:pid_34414:latency_estimator:<INFO> 50 times estimation\n"
     ]
    },
    {
     "name": "stdout",
     "output_type": "stream",
     "text": [
      "count        50.000000\n",
      "mean     287459.058762\n",
      "std       40486.661060\n",
      "min        7038.116455\n",
      "25%      292671.263218\n",
      "50%      293510.198593\n",
      "75%      293872.058392\n",
      "max      295297.622681\n",
      "Name: latency, dtype: float64\n",
      "cumulative_avg, pre_avg: 173813.00024084141, 170495.11406156752\n",
      "convergence ratio: 1.9088826351748776\n",
      "------------------------------reset binary gate------------------------------\n"
     ]
    },
    {
     "name": "stderr",
     "output_type": "stream",
     "text": [
      "2020-05-02 12:51:20:pid_34414:latency_estimator:<INFO> 10 times estimation\n",
      "2020-05-02 12:51:21:pid_34414:latency_estimator:<INFO> 20 times estimation\n",
      "2020-05-02 12:51:22:pid_34414:latency_estimator:<INFO> 30 times estimation\n",
      "2020-05-02 12:51:22:pid_34414:latency_estimator:<INFO> 40 times estimation\n",
      "2020-05-02 12:51:23:pid_34414:latency_estimator:<INFO> 50 times estimation\n"
     ]
    },
    {
     "name": "stdout",
     "output_type": "stream",
     "text": [
      "count       50.000000\n",
      "mean     85175.385475\n",
      "std      11359.579823\n",
      "min       6837.606430\n",
      "25%      86574.018002\n",
      "50%      86703.538895\n",
      "75%      87178.289890\n",
      "max      90101.003647\n",
      "Name: latency, dtype: float64\n",
      "cumulative_avg, pre_avg: 171519.56934677926, 173813.00024084141\n",
      "convergence ratio: -1.337124913965522\n",
      "------------------------------reset binary gate------------------------------\n"
     ]
    },
    {
     "name": "stderr",
     "output_type": "stream",
     "text": [
      "2020-05-02 12:51:24:pid_34414:latency_estimator:<INFO> 10 times estimation\n",
      "2020-05-02 12:51:25:pid_34414:latency_estimator:<INFO> 20 times estimation\n",
      "2020-05-02 12:51:26:pid_34414:latency_estimator:<INFO> 30 times estimation\n",
      "2020-05-02 12:51:27:pid_34414:latency_estimator:<INFO> 40 times estimation\n",
      "2020-05-02 12:51:27:pid_34414:latency_estimator:<INFO> 50 times estimation\n"
     ]
    },
    {
     "name": "stdout",
     "output_type": "stream",
     "text": [
      "count       50.000000\n",
      "mean     76957.578659\n",
      "std       9876.507406\n",
      "min       9148.120880\n",
      "25%      78357.100487\n",
      "50%      78462.839127\n",
      "75%      78564.107418\n",
      "max      80265.045166\n",
      "Name: latency, dtype: float64\n",
      "cumulative_avg, pre_avg: 169132.9308045216, 171519.56934677926\n",
      "convergence ratio: -1.4111022205463093\n",
      "------------------------------reset binary gate------------------------------\n"
     ]
    },
    {
     "name": "stderr",
     "output_type": "stream",
     "text": [
      "2020-05-02 12:51:30:pid_34414:latency_estimator:<INFO> 10 times estimation\n",
      "2020-05-02 12:51:33:pid_34414:latency_estimator:<INFO> 20 times estimation\n",
      "2020-05-02 12:51:35:pid_34414:latency_estimator:<INFO> 30 times estimation\n",
      "2020-05-02 12:51:38:pid_34414:latency_estimator:<INFO> 40 times estimation\n",
      "2020-05-02 12:51:40:pid_34414:latency_estimator:<INFO> 50 times estimation\n"
     ]
    },
    {
     "name": "stdout",
     "output_type": "stream",
     "text": [
      "count        50.000000\n",
      "mean     257384.004593\n",
      "std       35672.827081\n",
      "min       10972.738266\n",
      "25%      261950.612068\n",
      "50%      262612.581253\n",
      "75%      263971.626759\n",
      "max      265341.520309\n",
      "Name: latency, dtype: float64\n",
      "cumulative_avg, pre_avg: 171461.7621898651, 169132.9308045216\n",
      "convergence ratio: 1.3582220056532024\n",
      "------------------------------reset binary gate------------------------------\n"
     ]
    },
    {
     "name": "stderr",
     "output_type": "stream",
     "text": [
      "2020-05-02 12:51:44:pid_34414:latency_estimator:<INFO> 10 times estimation\n",
      "2020-05-02 12:51:47:pid_34414:latency_estimator:<INFO> 20 times estimation\n",
      "2020-05-02 12:51:50:pid_34414:latency_estimator:<INFO> 30 times estimation\n",
      "2020-05-02 12:51:53:pid_34414:latency_estimator:<INFO> 40 times estimation\n",
      "2020-05-02 12:51:56:pid_34414:latency_estimator:<INFO> 50 times estimation\n"
     ]
    },
    {
     "name": "stdout",
     "output_type": "stream",
     "text": [
      "count        50.000000\n",
      "mean     296128.821373\n",
      "std       41257.857387\n",
      "min       10473.966599\n",
      "25%      301891.803741\n",
      "50%      302234.768867\n",
      "75%      302475.214005\n",
      "max      304720.401764\n",
      "Name: latency, dtype: float64\n",
      "cumulative_avg, pre_avg: 174650.7481830876, 171461.7621898651\n",
      "convergence ratio: 1.8259217474862706\n",
      "------------------------------reset binary gate------------------------------\n"
     ]
    },
    {
     "name": "stderr",
     "output_type": "stream",
     "text": [
      "2020-05-02 12:51:58:pid_34414:latency_estimator:<INFO> 10 times estimation\n",
      "2020-05-02 12:51:59:pid_34414:latency_estimator:<INFO> 20 times estimation\n",
      "2020-05-02 12:52:00:pid_34414:latency_estimator:<INFO> 30 times estimation\n",
      "2020-05-02 12:52:02:pid_34414:latency_estimator:<INFO> 40 times estimation\n",
      "2020-05-02 12:52:03:pid_34414:latency_estimator:<INFO> 50 times estimation\n"
     ]
    },
    {
     "name": "stdout",
     "output_type": "stream",
     "text": [
      "count        50.000000\n",
      "mean     141786.861420\n",
      "std       18967.702426\n",
      "min       10749.816895\n",
      "25%      144342.243671\n",
      "50%      144713.878632\n",
      "75%      145051.717758\n",
      "max      146074.295044\n",
      "Name: latency, dtype: float64\n",
      "cumulative_avg, pre_avg: 173936.06503804526, 174650.7481830876\n",
      "convergence ratio: -0.4108884174688042\n",
      "------------------------------reset binary gate------------------------------\n"
     ]
    },
    {
     "name": "stderr",
     "output_type": "stream",
     "text": [
      "2020-05-02 12:52:06:pid_34414:latency_estimator:<INFO> 10 times estimation\n",
      "2020-05-02 12:52:08:pid_34414:latency_estimator:<INFO> 20 times estimation\n",
      "2020-05-02 12:52:10:pid_34414:latency_estimator:<INFO> 30 times estimation\n",
      "2020-05-02 12:52:12:pid_34414:latency_estimator:<INFO> 40 times estimation\n",
      "2020-05-02 12:52:14:pid_34414:latency_estimator:<INFO> 50 times estimation\n"
     ]
    },
    {
     "name": "stdout",
     "output_type": "stream",
     "text": [
      "count        50.000000\n",
      "mean     211178.369522\n",
      "std       29522.076667\n",
      "min        6959.915161\n",
      "25%      214725.732803\n",
      "50%      215845.823288\n",
      "75%      216380.953789\n",
      "max      217322.587967\n",
      "Name: latency, dtype: float64\n",
      "cumulative_avg, pre_avg: 174899.62134250376, 173936.06503804526\n",
      "convergence ratio: 0.5509196058072529\n",
      "------------------------------reset binary gate------------------------------\n"
     ]
    },
    {
     "name": "stderr",
     "output_type": "stream",
     "text": [
      "2020-05-02 12:52:18:pid_34414:latency_estimator:<INFO> 10 times estimation\n",
      "2020-05-02 12:52:22:pid_34414:latency_estimator:<INFO> 20 times estimation\n",
      "2020-05-02 12:52:25:pid_34414:latency_estimator:<INFO> 30 times estimation\n",
      "2020-05-02 12:52:29:pid_34414:latency_estimator:<INFO> 40 times estimation\n",
      "2020-05-02 12:52:33:pid_34414:latency_estimator:<INFO> 50 times estimation\n"
     ]
    },
    {
     "name": "stdout",
     "output_type": "stream",
     "text": [
      "count        50.000000\n",
      "mean     366776.142120\n",
      "std       51352.615627\n",
      "min       11089.801788\n",
      "25%      373394.370079\n",
      "50%      374358.057976\n",
      "75%      374848.663807\n",
      "max      376409.769058\n",
      "Name: latency, dtype: float64\n",
      "cumulative_avg, pre_avg: 179425.48123272983, 174899.62134250376\n",
      "convergence ratio: 2.522417584799816\n",
      "------------------------------reset binary gate------------------------------\n"
     ]
    },
    {
     "name": "stderr",
     "output_type": "stream",
     "text": [
      "2020-05-02 12:52:36:pid_34414:latency_estimator:<INFO> 10 times estimation\n",
      "2020-05-02 12:52:38:pid_34414:latency_estimator:<INFO> 20 times estimation\n",
      "2020-05-02 12:52:41:pid_34414:latency_estimator:<INFO> 30 times estimation\n",
      "2020-05-02 12:52:43:pid_34414:latency_estimator:<INFO> 40 times estimation\n",
      "2020-05-02 12:52:45:pid_34414:latency_estimator:<INFO> 50 times estimation\n"
     ]
    },
    {
     "name": "stdout",
     "output_type": "stream",
     "text": [
      "count        50.000000\n",
      "mean     239442.596436\n",
      "std       32937.342682\n",
      "min       11644.363403\n",
      "25%      243109.643459\n",
      "50%      244302.511215\n",
      "75%      245373.845100\n",
      "max      246705.532074\n",
      "Name: latency, dtype: float64\n",
      "cumulative_avg, pre_avg: 180856.43450419107, 179425.48123272983\n",
      "convergence ratio: 0.7912094891089336\n",
      "------------------------------reset binary gate------------------------------\n"
     ]
    },
    {
     "name": "stderr",
     "output_type": "stream",
     "text": [
      "2020-05-02 12:52:48:pid_34414:latency_estimator:<INFO> 10 times estimation\n",
      "2020-05-02 12:52:50:pid_34414:latency_estimator:<INFO> 20 times estimation\n",
      "2020-05-02 12:52:52:pid_34414:latency_estimator:<INFO> 30 times estimation\n",
      "2020-05-02 12:52:54:pid_34414:latency_estimator:<INFO> 40 times estimation\n",
      "2020-05-02 12:52:56:pid_34414:latency_estimator:<INFO> 50 times estimation\n"
     ]
    },
    {
     "name": "stdout",
     "output_type": "stream",
     "text": [
      "count        50.000000\n",
      "mean     204241.824150\n",
      "std       27610.754417\n",
      "min       13593.912125\n",
      "25%      207393.169403\n",
      "50%      208540.439606\n",
      "75%      209227.323532\n",
      "max      211600.303650\n",
      "Name: latency, dtype: float64\n",
      "cumulative_avg, pre_avg: 181455.5313276208, 180856.43450419107\n",
      "convergence ratio: 0.3301617862219032\n",
      "------------------------------reset binary gate------------------------------\n"
     ]
    },
    {
     "name": "stderr",
     "output_type": "stream",
     "text": [
      "2020-05-02 12:52:58:pid_34414:latency_estimator:<INFO> 10 times estimation\n",
      "2020-05-02 12:52:59:pid_34414:latency_estimator:<INFO> 20 times estimation\n",
      "2020-05-02 12:53:00:pid_34414:latency_estimator:<INFO> 30 times estimation\n",
      "2020-05-02 12:53:02:pid_34414:latency_estimator:<INFO> 40 times estimation\n",
      "2020-05-02 12:53:03:pid_34414:latency_estimator:<INFO> 50 times estimation\n"
     ]
    },
    {
     "name": "stdout",
     "output_type": "stream",
     "text": [
      "count        50.000000\n",
      "mean     129791.998863\n",
      "std       17379.194148\n",
      "min        9795.427322\n",
      "25%      131735.384464\n",
      "50%      132721.543312\n",
      "75%      133049.249649\n",
      "max      133729.457855\n",
      "Name: latency, dtype: float64\n",
      "cumulative_avg, pre_avg: 180408.91302392838, 181455.5313276208\n",
      "convergence ratio: -0.5801366939967026\n",
      "------------------------------reset binary gate------------------------------\n"
     ]
    },
    {
     "name": "stderr",
     "output_type": "stream",
     "text": [
      "2020-05-02 12:53:05:pid_34414:latency_estimator:<INFO> 10 times estimation\n",
      "2020-05-02 12:53:08:pid_34414:latency_estimator:<INFO> 20 times estimation\n",
      "2020-05-02 12:53:10:pid_34414:latency_estimator:<INFO> 30 times estimation\n",
      "2020-05-02 12:53:12:pid_34414:latency_estimator:<INFO> 40 times estimation\n",
      "2020-05-02 12:53:14:pid_34414:latency_estimator:<INFO> 50 times estimation\n"
     ]
    },
    {
     "name": "stdout",
     "output_type": "stream",
     "text": [
      "count        50.000000\n",
      "mean     214843.688011\n",
      "std       29877.357239\n",
      "min        8313.417435\n",
      "25%      218348.562717\n",
      "50%      219627.499580\n",
      "75%      220439.016819\n",
      "max      221546.649933\n",
      "Name: latency, dtype: float64\n",
      "cumulative_avg, pre_avg: 181216.38198693594, 180408.91302392838\n",
      "convergence ratio: 0.4455827636299296\n",
      "------------------------------reset binary gate------------------------------\n"
     ]
    },
    {
     "name": "stderr",
     "output_type": "stream",
     "text": [
      "2020-05-02 12:53:16:pid_34414:latency_estimator:<INFO> 10 times estimation\n",
      "2020-05-02 12:53:17:pid_34414:latency_estimator:<INFO> 20 times estimation\n",
      "2020-05-02 12:53:18:pid_34414:latency_estimator:<INFO> 30 times estimation\n",
      "2020-05-02 12:53:19:pid_34414:latency_estimator:<INFO> 40 times estimation\n",
      "2020-05-02 12:53:20:pid_34414:latency_estimator:<INFO> 50 times estimation\n"
     ]
    },
    {
     "name": "stdout",
     "output_type": "stream",
     "text": [
      "count        50.000000\n",
      "mean     111882.896423\n",
      "std       15430.082799\n",
      "min        5465.745926\n",
      "25%      113131.582737\n",
      "50%      113688.111305\n",
      "75%      114964.306355\n",
      "max      117512.941360\n",
      "Name: latency, dtype: float64\n",
      "cumulative_avg, pre_avg: 179834.6354036915, 181216.38198693594\n",
      "convergence ratio: -0.7683428612862636\n",
      "------------------------------reset binary gate------------------------------\n"
     ]
    },
    {
     "name": "stderr",
     "output_type": "stream",
     "text": [
      "2020-05-02 12:53:22:pid_34414:latency_estimator:<INFO> 10 times estimation\n",
      "2020-05-02 12:53:25:pid_34414:latency_estimator:<INFO> 20 times estimation\n",
      "2020-05-02 12:53:27:pid_34414:latency_estimator:<INFO> 30 times estimation\n",
      "2020-05-02 12:53:30:pid_34414:latency_estimator:<INFO> 40 times estimation\n",
      "2020-05-02 12:53:32:pid_34414:latency_estimator:<INFO> 50 times estimation\n"
     ]
    },
    {
     "name": "stdout",
     "output_type": "stream",
     "text": [
      "count        50.000000\n",
      "mean     232816.491127\n",
      "std       32069.683325\n",
      "min       11328.458786\n",
      "25%      236305.952072\n",
      "50%      237832.665443\n",
      "75%      238907.873631\n",
      "max      240189.075470\n",
      "Name: latency, dtype: float64\n",
      "cumulative_avg, pre_avg: 180986.28044128418, 179834.6354036915\n",
      "convergence ratio: 0.6363162084908961\n",
      "------------------------------reset binary gate------------------------------\n"
     ]
    },
    {
     "name": "stderr",
     "output_type": "stream",
     "text": [
      "2020-05-02 12:53:35:pid_34414:latency_estimator:<INFO> 10 times estimation\n",
      "2020-05-02 12:53:38:pid_34414:latency_estimator:<INFO> 20 times estimation\n",
      "2020-05-02 12:53:41:pid_34414:latency_estimator:<INFO> 30 times estimation\n",
      "2020-05-02 12:53:44:pid_34414:latency_estimator:<INFO> 40 times estimation\n",
      "2020-05-02 12:53:47:pid_34414:latency_estimator:<INFO> 50 times estimation\n"
     ]
    },
    {
     "name": "stdout",
     "output_type": "stream",
     "text": [
      "count        50.000000\n",
      "mean     298380.298615\n",
      "std       41701.587402\n",
      "min        9976.625443\n",
      "25%      302577.376366\n",
      "50%      304420.351982\n",
      "75%      306163.489819\n",
      "max      308383.703232\n",
      "Name: latency, dtype: float64\n",
      "cumulative_avg, pre_avg: 183401.1947407442, 180986.28044128418\n",
      "convergence ratio: 1.3167385866126624\n",
      "------------------------------reset binary gate------------------------------\n"
     ]
    },
    {
     "name": "stderr",
     "output_type": "stream",
     "text": [
      "2020-05-02 12:53:51:pid_34414:latency_estimator:<INFO> 10 times estimation\n",
      "2020-05-02 12:53:55:pid_34414:latency_estimator:<INFO> 20 times estimation\n",
      "2020-05-02 12:53:59:pid_34414:latency_estimator:<INFO> 30 times estimation\n",
      "2020-05-02 12:54:03:pid_34414:latency_estimator:<INFO> 40 times estimation\n",
      "2020-05-02 12:54:07:pid_34414:latency_estimator:<INFO> 50 times estimation\n"
     ]
    },
    {
     "name": "stdout",
     "output_type": "stream",
     "text": [
      "count        50.000000\n",
      "mean     387933.726311\n",
      "std       54365.638316\n",
      "min       11617.183685\n",
      "25%      394424.259663\n",
      "50%      395899.176598\n",
      "75%      397769.749165\n",
      "max      399265.289307\n",
      "Name: latency, dtype: float64\n",
      "cumulative_avg, pre_avg: 187480.56154984696, 183401.1947407442\n",
      "convergence ratio: 2.175887876257588\n",
      "------------------------------reset binary gate------------------------------\n"
     ]
    },
    {
     "name": "stderr",
     "output_type": "stream",
     "text": [
      "2020-05-02 12:54:10:pid_34414:latency_estimator:<INFO> 10 times estimation\n",
      "2020-05-02 12:54:13:pid_34414:latency_estimator:<INFO> 20 times estimation\n",
      "2020-05-02 12:54:15:pid_34414:latency_estimator:<INFO> 30 times estimation\n",
      "2020-05-02 12:54:18:pid_34414:latency_estimator:<INFO> 40 times estimation\n",
      "2020-05-02 12:54:20:pid_34414:latency_estimator:<INFO> 50 times estimation\n"
     ]
    },
    {
     "name": "stdout",
     "output_type": "stream",
     "text": [
      "count        50.000000\n",
      "mean     244236.116409\n",
      "std       33572.786015\n",
      "min       12243.270874\n",
      "25%      247933.328152\n",
      "50%      249750.971794\n",
      "75%      250472.426414\n",
      "max      251571.416855\n",
      "Name: latency, dtype: float64\n",
      "cumulative_avg, pre_avg: 188649.54102714107, 187480.56154984696\n",
      "convergence ratio: 0.6196566771004909\n",
      "reset times, hit counts: 52, 1\n",
      "------------------------------reset binary gate------------------------------\n"
     ]
    },
    {
     "name": "stderr",
     "output_type": "stream",
     "text": [
      "2020-05-02 12:54:23:pid_34414:latency_estimator:<INFO> 10 times estimation\n",
      "2020-05-02 12:54:26:pid_34414:latency_estimator:<INFO> 20 times estimation\n",
      "2020-05-02 12:54:29:pid_34414:latency_estimator:<INFO> 30 times estimation\n",
      "2020-05-02 12:54:32:pid_34414:latency_estimator:<INFO> 40 times estimation\n",
      "2020-05-02 12:54:35:pid_34414:latency_estimator:<INFO> 50 times estimation\n"
     ]
    },
    {
     "name": "stdout",
     "output_type": "stream",
     "text": [
      "count        50.000000\n",
      "mean     287561.168671\n",
      "std       40009.844950\n",
      "min       10713.577271\n",
      "25%      292266.488075\n",
      "50%      293642.997742\n",
      "75%      294437.229633\n",
      "max      296184.062958\n",
      "Name: latency, dtype: float64\n",
      "cumulative_avg, pre_avg: 190589.92509488706, 188649.54102714107\n",
      "convergence ratio: 1.0180937249332338\n",
      "------------------------------reset binary gate------------------------------\n"
     ]
    },
    {
     "name": "stderr",
     "output_type": "stream",
     "text": [
      "2020-05-02 12:54:37:pid_34414:latency_estimator:<INFO> 10 times estimation\n",
      "2020-05-02 12:54:39:pid_34414:latency_estimator:<INFO> 20 times estimation\n",
      "2020-05-02 12:54:41:pid_34414:latency_estimator:<INFO> 30 times estimation\n",
      "2020-05-02 12:54:43:pid_34414:latency_estimator:<INFO> 40 times estimation\n",
      "2020-05-02 12:54:45:pid_34414:latency_estimator:<INFO> 50 times estimation\n"
     ]
    },
    {
     "name": "stdout",
     "output_type": "stream",
     "text": [
      "count        50.000000\n",
      "mean     200536.289215\n",
      "std       27301.501612\n",
      "min       12392.044067\n",
      "25%      203567.147255\n",
      "50%      204746.603966\n",
      "75%      205741.405487\n",
      "max      208732.843399\n",
      "Name: latency, dtype: float64\n",
      "cumulative_avg, pre_avg: 190840.93180569736, 190589.92509488706\n",
      "convergence ratio: 0.13152666382170863\n",
      "reset times, hit counts: 54, 1\n",
      "------------------------------reset binary gate------------------------------\n"
     ]
    },
    {
     "name": "stderr",
     "output_type": "stream",
     "text": [
      "2020-05-02 12:54:47:pid_34414:latency_estimator:<INFO> 10 times estimation\n",
      "2020-05-02 12:54:48:pid_34414:latency_estimator:<INFO> 20 times estimation\n",
      "2020-05-02 12:54:50:pid_34414:latency_estimator:<INFO> 30 times estimation\n",
      "2020-05-02 12:54:51:pid_34414:latency_estimator:<INFO> 40 times estimation\n",
      "2020-05-02 12:54:52:pid_34414:latency_estimator:<INFO> 50 times estimation\n"
     ]
    },
    {
     "name": "stdout",
     "output_type": "stream",
     "text": [
      "count        50.000000\n",
      "mean     123866.810799\n",
      "std       16592.131541\n",
      "min        9759.902954\n",
      "25%      125114.440918\n",
      "50%      126758.813858\n",
      "75%      127603.173256\n",
      "max      128839.254379\n",
      "Name: latency, dtype: float64\n",
      "cumulative_avg, pre_avg: 189688.46116747175, 190840.93180569736\n",
      "convergence ratio: -0.6075596961104139\n",
      "reset times, hit counts: 55, 2\n",
      "------------------------------reset binary gate------------------------------\n"
     ]
    },
    {
     "name": "stderr",
     "output_type": "stream",
     "text": [
      "2020-05-02 12:54:53:pid_34414:latency_estimator:<INFO> 10 times estimation\n",
      "2020-05-02 12:54:55:pid_34414:latency_estimator:<INFO> 20 times estimation\n",
      "2020-05-02 12:54:56:pid_34414:latency_estimator:<INFO> 30 times estimation\n",
      "2020-05-02 12:54:57:pid_34414:latency_estimator:<INFO> 40 times estimation\n",
      "2020-05-02 12:54:58:pid_34414:latency_estimator:<INFO> 50 times estimation\n"
     ]
    },
    {
     "name": "stdout",
     "output_type": "stream",
     "text": [
      "count        50.000000\n",
      "mean     110077.753067\n",
      "std       14760.622535\n",
      "min        8746.623993\n",
      "25%      111413.359642\n",
      "50%      112379.312515\n",
      "75%      113186.419010\n",
      "max      115048.885345\n",
      "Name: latency, dtype: float64\n",
      "cumulative_avg, pre_avg: 188329.02573702627, 189688.46116747175\n",
      "convergence ratio: -0.7218406324385317\n",
      "reset times, hit counts: 56, 3\n",
      "------------------------------reset binary gate------------------------------\n"
     ]
    },
    {
     "name": "stderr",
     "output_type": "stream",
     "text": [
      "2020-05-02 12:55:00:pid_34414:latency_estimator:<INFO> 10 times estimation\n",
      "2020-05-02 12:55:03:pid_34414:latency_estimator:<INFO> 20 times estimation\n",
      "2020-05-02 12:55:05:pid_34414:latency_estimator:<INFO> 30 times estimation\n",
      "2020-05-02 12:55:08:pid_34414:latency_estimator:<INFO> 40 times estimation\n",
      "2020-05-02 12:55:10:pid_34414:latency_estimator:<INFO> 50 times estimation\n"
     ]
    },
    {
     "name": "stdout",
     "output_type": "stream",
     "text": [
      "count        50.000000\n",
      "mean     237616.071701\n",
      "std       32737.460401\n",
      "min       11503.934860\n",
      "25%      241063.714027\n",
      "50%      242719.292641\n",
      "75%      244098.007679\n",
      "max      245290.994644\n",
      "Name: latency, dtype: float64\n",
      "cumulative_avg, pre_avg: 189257.03887281747, 188329.02573702627\n",
      "convergence ratio: 0.4903453743746022\n",
      "reset times, hit counts: 57, 4\n",
      "------------------------------reset binary gate------------------------------\n"
     ]
    },
    {
     "name": "stderr",
     "output_type": "stream",
     "text": [
      "2020-05-02 12:55:13:pid_34414:latency_estimator:<INFO> 10 times estimation\n",
      "2020-05-02 12:55:15:pid_34414:latency_estimator:<INFO> 20 times estimation\n",
      "2020-05-02 12:55:18:pid_34414:latency_estimator:<INFO> 30 times estimation\n",
      "2020-05-02 12:55:20:pid_34414:latency_estimator:<INFO> 40 times estimation\n",
      "2020-05-02 12:55:22:pid_34414:latency_estimator:<INFO> 50 times estimation\n"
     ]
    },
    {
     "name": "stdout",
     "output_type": "stream",
     "text": [
      "count        50.000000\n",
      "mean     241664.762497\n",
      "std       33664.851722\n",
      "min        8891.344070\n",
      "25%      245412.051678\n",
      "50%      246885.657310\n",
      "75%      247731.983662\n",
      "max      249670.505524\n",
      "Name: latency, dtype: float64\n",
      "cumulative_avg, pre_avg: 190223.46512746002, 189257.03887281747\n",
      "convergence ratio: 0.5080478657009992\n",
      "reset times, hit counts: 58, 5\n",
      "------------------------------reset binary gate------------------------------\n"
     ]
    },
    {
     "name": "stderr",
     "output_type": "stream",
     "text": [
      "2020-05-02 12:55:25:pid_34414:latency_estimator:<INFO> 10 times estimation\n",
      "2020-05-02 12:55:27:pid_34414:latency_estimator:<INFO> 20 times estimation\n",
      "2020-05-02 12:55:30:pid_34414:latency_estimator:<INFO> 30 times estimation\n",
      "2020-05-02 12:55:32:pid_34414:latency_estimator:<INFO> 40 times estimation\n",
      "2020-05-02 12:55:34:pid_34414:latency_estimator:<INFO> 50 times estimation\n"
     ]
    },
    {
     "name": "stdout",
     "output_type": "stream",
     "text": [
      "count        50.000000\n",
      "mean     223251.395226\n",
      "std       30698.696675\n",
      "min       11529.684067\n",
      "25%      226540.505886\n",
      "50%      227891.683578\n",
      "75%      229704.856873\n",
      "max      230861.902237\n",
      "Name: latency, dtype: float64\n",
      "cumulative_avg, pre_avg: 190841.8607711792, 190223.46512746002\n",
      "convergence ratio: 0.32403563936145113\n",
      "reset times, hit counts: 59, 6\n",
      "------------------------------reset binary gate------------------------------\n"
     ]
    },
    {
     "name": "stderr",
     "output_type": "stream",
     "text": [
      "2020-05-02 12:55:36:pid_34414:latency_estimator:<INFO> 10 times estimation\n",
      "2020-05-02 12:55:37:pid_34414:latency_estimator:<INFO> 20 times estimation\n",
      "2020-05-02 12:55:39:pid_34414:latency_estimator:<INFO> 30 times estimation\n",
      "2020-05-02 12:55:40:pid_34414:latency_estimator:<INFO> 40 times estimation\n",
      "2020-05-02 12:55:42:pid_34414:latency_estimator:<INFO> 50 times estimation\n"
     ]
    },
    {
     "name": "stdout",
     "output_type": "stream",
     "text": [
      "count        50.000000\n",
      "mean     137624.363899\n",
      "std       18474.185120\n",
      "min       10342.121124\n",
      "25%      139757.335186\n",
      "50%      140307.188034\n",
      "75%      141323.924065\n",
      "max      142504.930496\n",
      "Name: latency, dtype: float64\n",
      "cumulative_avg, pre_avg: 190011.83744336737, 190841.8607711792\n",
      "convergence ratio: -0.4368271677069654\n",
      "reset times, hit counts: 60, 7\n",
      "------------------------------reset binary gate------------------------------\n"
     ]
    },
    {
     "name": "stderr",
     "output_type": "stream",
     "text": [
      "2020-05-02 12:55:42:pid_34414:latency_estimator:<INFO> 10 times estimation\n",
      "2020-05-02 12:55:43:pid_34414:latency_estimator:<INFO> 20 times estimation\n",
      "2020-05-02 12:55:43:pid_34414:latency_estimator:<INFO> 30 times estimation\n",
      "2020-05-02 12:55:44:pid_34414:latency_estimator:<INFO> 40 times estimation\n",
      "2020-05-02 12:55:45:pid_34414:latency_estimator:<INFO> 50 times estimation\n"
     ]
    },
    {
     "name": "stdout",
     "output_type": "stream",
     "text": [
      "count       50.000000\n",
      "mean     53267.121315\n",
      "std       6488.254947\n",
      "min       9751.796722\n",
      "25%      53817.510605\n",
      "50%      54445.385933\n",
      "75%      55039.584637\n",
      "max      56124.210358\n",
      "Name: latency, dtype: float64\n",
      "cumulative_avg, pre_avg: 187823.06178923577, 190011.83744336737\n",
      "convergence ratio: -1.1653391406150768\n",
      "reset times, hit counts: 61, 8\n",
      "------------------------------reset binary gate------------------------------\n"
     ]
    },
    {
     "name": "stderr",
     "output_type": "stream",
     "text": [
      "2020-05-02 12:55:46:pid_34414:latency_estimator:<INFO> 10 times estimation\n",
      "2020-05-02 12:55:48:pid_34414:latency_estimator:<INFO> 20 times estimation\n",
      "2020-05-02 12:55:50:pid_34414:latency_estimator:<INFO> 30 times estimation\n",
      "2020-05-02 12:55:52:pid_34414:latency_estimator:<INFO> 40 times estimation\n",
      "2020-05-02 12:55:54:pid_34414:latency_estimator:<INFO> 50 times estimation\n"
     ]
    },
    {
     "name": "stdout",
     "output_type": "stream",
     "text": [
      "count        50.000000\n",
      "mean     195597.667694\n",
      "std       26733.957328\n",
      "min       11107.921600\n",
      "25%      198455.691338\n",
      "50%      199736.356735\n",
      "75%      200970.470905\n",
      "max      202229.499817\n",
      "Name: latency, dtype: float64\n",
      "cumulative_avg, pre_avg: 188004.32568504696, 187823.06178923577\n",
      "convergence ratio: 0.09641474745365919\n",
      "reset times, hit counts: 62, 9\n",
      "------------------------------reset binary gate------------------------------\n"
     ]
    },
    {
     "name": "stderr",
     "output_type": "stream",
     "text": [
      "2020-05-02 12:55:56:pid_34414:latency_estimator:<INFO> 10 times estimation\n",
      "2020-05-02 12:55:57:pid_34414:latency_estimator:<INFO> 20 times estimation\n",
      "2020-05-02 12:55:58:pid_34414:latency_estimator:<INFO> 30 times estimation\n",
      "2020-05-02 12:55:59:pid_34414:latency_estimator:<INFO> 40 times estimation\n",
      "2020-05-02 12:56:01:pid_34414:latency_estimator:<INFO> 50 times estimation\n"
     ]
    },
    {
     "name": "stdout",
     "output_type": "stream",
     "text": [
      "count        50.000000\n",
      "mean     112849.960327\n",
      "std       15126.711028\n",
      "min        9172.201157\n",
      "25%      114102.303982\n",
      "50%      115382.909775\n",
      "75%      116081.953049\n",
      "max      117765.903473\n",
      "Name: latency, dtype: float64\n",
      "cumulative_avg, pre_avg: 186861.91588640213, 188004.32568504696\n",
      "convergence ratio: -0.6113657741470075\n",
      "reset times, hit counts: 63, 10\n"
     ]
    }
   ],
   "source": [
    "test0 = cumulative_avg()"
   ]
  },
  {
   "cell_type": "code",
   "execution_count": 44,
   "metadata": {},
   "outputs": [],
   "source": [
    "cum0, err0, lat0= pd.Series(test0[0]), pd.Series(test0[1]), pd.Series(test0[2])"
   ]
  },
  {
   "cell_type": "code",
   "execution_count": 46,
   "metadata": {},
   "outputs": [
    {
     "data": {
      "text/plain": [
       "<matplotlib.axes._subplots.AxesSubplot at 0x7f3ad8d499b0>"
      ]
     },
     "execution_count": 46,
     "metadata": {},
     "output_type": "execute_result"
    },
    {
     "data": {
      "image/png": "[encoded data removed]",
      "text/plain": [
       "<Figure size 432x288 with 1 Axes>"
      ]
     },
     "metadata": {
      "needs_background": "light"
     },
     "output_type": "display_data"
    }
   ],
   "source": [
    "lat0.plot()"
   ]
  },
  {
   "cell_type": "code",
   "execution_count": 48,
   "metadata": {},
   "outputs": [
    {
     "data": {
      "text/plain": [
       "<matplotlib.axes._subplots.AxesSubplot at 0x7f3ad8c4e8d0>"
      ]
     },
     "execution_count": 48,
     "metadata": {},
     "output_type": "execute_result"
    },
    {
     "data": {
      "image/png": "[encoded data removed]",
      "text/plain": [
       "<Figure size 432x288 with 1 Axes>"
      ]
     },
     "metadata": {
      "needs_background": "light"
     },
     "output_type": "display_data"
    }
   ],
   "source": [
    "cum0.plot()"
   ]
  },
  {
   "cell_type": "code",
   "execution_count": 49,
   "metadata": {},
   "outputs": [
    {
     "data": {
      "text/plain": [
       "<matplotlib.axes._subplots.AxesSubplot at 0x7f3ad8cebc88>"
      ]
     },
     "execution_count": 49,
     "metadata": {},
     "output_type": "execute_result"
    },
    {
     "data": {
      "image/png": "[encoded data removed]",
      "text/plain": [
       "<Figure size 432x288 with 1 Axes>"
      ]
     },
     "metadata": {
      "needs_background": "light"
     },
     "output_type": "display_data"
    }
   ],
   "source": [
    "err0.plot()"
   ]
  },
  {
   "cell_type": "code",
   "execution_count": null,
   "metadata": {},
   "outputs": [],
   "source": []
  },
  {
   "cell_type": "code",
   "execution_count": 23,
   "metadata": {},
   "outputs": [
    {
     "name": "stdout",
     "output_type": "stream",
     "text": [
      "------------------------------reset binary gate------------------------------\n"
     ]
    },
    {
     "name": "stderr",
     "output_type": "stream",
     "text": [
      "2020-05-02 12:06:12:pid_34414:latency_estimator:<INFO> 10 times estimation\n",
      "2020-05-02 12:06:13:pid_34414:latency_estimator:<INFO> 20 times estimation\n",
      "2020-05-02 12:06:15:pid_34414:latency_estimator:<INFO> 30 times estimation\n",
      "2020-05-02 12:06:17:pid_34414:latency_estimator:<INFO> 40 times estimation\n",
      "2020-05-02 12:06:18:pid_34414:latency_estimator:<INFO> 50 times estimation\n"
     ]
    },
    {
     "name": "stdout",
     "output_type": "stream",
     "text": [
      "count        50.000000\n",
      "mean     154780.278206\n",
      "std       21015.319775\n",
      "min        9753.942490\n",
      "25%      157191.336155\n",
      "50%      157734.513283\n",
      "75%      158011.734486\n",
      "max      169167.041779\n",
      "Name: latency, dtype: float64\n",
      "cumulative_avg, pre_avg: 157581.42471313477, 157581.42471313477\n",
      "convergence ratio: 0.0\n",
      "------------------------------reset binary gate------------------------------\n"
     ]
    },
    {
     "name": "stderr",
     "output_type": "stream",
     "text": [
      "2020-05-02 12:06:20:pid_34414:latency_estimator:<INFO> 10 times estimation\n",
      "2020-05-02 12:06:23:pid_34414:latency_estimator:<INFO> 20 times estimation\n",
      "2020-05-02 12:06:25:pid_34414:latency_estimator:<INFO> 30 times estimation\n",
      "2020-05-02 12:06:27:pid_34414:latency_estimator:<INFO> 40 times estimation\n",
      "2020-05-02 12:06:29:pid_34414:latency_estimator:<INFO> 50 times estimation\n"
     ]
    },
    {
     "name": "stdout",
     "output_type": "stream",
     "text": [
      "count        50.000000\n",
      "mean     215567.727089\n",
      "std       29473.949231\n",
      "min       11705.636978\n",
      "25%      219306.766987\n",
      "50%      220140.695572\n",
      "75%      220884.263515\n",
      "max      221329.689026\n",
      "Name: latency, dtype: float64\n",
      "cumulative_avg, pre_avg: 188733.10089111328, 157581.42471313477\n",
      "convergence ratio: 16.505677080964727\n",
      "------------------------------reset binary gate------------------------------\n"
     ]
    },
    {
     "name": "stderr",
     "output_type": "stream",
     "text": [
      "2020-05-02 12:06:31:pid_34414:latency_estimator:<INFO> 10 times estimation\n",
      "2020-05-02 12:06:32:pid_34414:latency_estimator:<INFO> 20 times estimation\n",
      "2020-05-02 12:06:33:pid_34414:latency_estimator:<INFO> 30 times estimation\n",
      "2020-05-02 12:06:35:pid_34414:latency_estimator:<INFO> 40 times estimation\n",
      "2020-05-02 12:06:36:pid_34414:latency_estimator:<INFO> 50 times estimation\n"
     ]
    },
    {
     "name": "stdout",
     "output_type": "stream",
     "text": [
      "count        50.000000\n",
      "mean     121905.264854\n",
      "std       15971.424571\n",
      "min       11707.305908\n",
      "25%      123945.951462\n",
      "50%      124440.908432\n",
      "75%      124695.062637\n",
      "max      125506.639481\n",
      "Name: latency, dtype: float64\n",
      "cumulative_avg, pre_avg: 167212.96310424805, 188733.10089111328\n",
      "convergence ratio: 12.86989799555709\n",
      "------------------------------reset binary gate------------------------------\n"
     ]
    },
    {
     "name": "stderr",
     "output_type": "stream",
     "text": [
      "2020-05-02 12:06:37:pid_34414:latency_estimator:<INFO> 10 times estimation\n",
      "2020-05-02 12:06:39:pid_34414:latency_estimator:<INFO> 20 times estimation\n",
      "2020-05-02 12:06:40:pid_34414:latency_estimator:<INFO> 30 times estimation\n",
      "2020-05-02 12:06:42:pid_34414:latency_estimator:<INFO> 40 times estimation\n",
      "2020-05-02 12:06:43:pid_34414:latency_estimator:<INFO> 50 times estimation\n"
     ]
    },
    {
     "name": "stdout",
     "output_type": "stream",
     "text": [
      "count        50.000000\n",
      "mean     144100.437164\n",
      "std       19298.708305\n",
      "min       10824.441910\n",
      "25%      146694.779396\n",
      "50%      147088.170052\n",
      "75%      147476.077080\n",
      "max      148200.988770\n",
      "Name: latency, dtype: float64\n",
      "cumulative_avg, pre_avg: 162170.68433761597, 167212.96310424805\n",
      "convergence ratio: 3.1092418381455325\n",
      "------------------------------reset binary gate------------------------------\n"
     ]
    },
    {
     "name": "stderr",
     "output_type": "stream",
     "text": [
      "2020-05-02 12:06:46:pid_34414:latency_estimator:<INFO> 10 times estimation\n",
      "2020-05-02 12:06:50:pid_34414:latency_estimator:<INFO> 20 times estimation\n",
      "2020-05-02 12:06:53:pid_34414:latency_estimator:<INFO> 30 times estimation\n",
      "2020-05-02 12:06:56:pid_34414:latency_estimator:<INFO> 40 times estimation\n",
      "2020-05-02 12:07:00:pid_34414:latency_estimator:<INFO> 50 times estimation\n"
     ]
    },
    {
     "name": "stdout",
     "output_type": "stream",
     "text": [
      "count        50.000000\n",
      "mean     324228.539467\n",
      "std       45058.894484\n",
      "min       12143.611908\n",
      "25%      329856.157303\n",
      "50%      330676.317215\n",
      "75%      331444.025040\n",
      "max      332584.142685\n",
      "Name: latency, dtype: float64\n",
      "cumulative_avg, pre_avg: 195832.4909210205, 162170.68433761597\n",
      "convergence ratio: 17.1890815589842\n",
      "------------------------------reset binary gate------------------------------\n"
     ]
    },
    {
     "name": "stderr",
     "output_type": "stream",
     "text": [
      "2020-05-02 12:07:02:pid_34414:latency_estimator:<INFO> 10 times estimation\n",
      "2020-05-02 12:07:05:pid_34414:latency_estimator:<INFO> 20 times estimation\n",
      "2020-05-02 12:07:07:pid_34414:latency_estimator:<INFO> 30 times estimation\n",
      "2020-05-02 12:07:09:pid_34414:latency_estimator:<INFO> 40 times estimation\n",
      "2020-05-02 12:07:12:pid_34414:latency_estimator:<INFO> 50 times estimation\n"
     ]
    },
    {
     "name": "stdout",
     "output_type": "stream",
     "text": [
      "count        50.000000\n",
      "mean     224999.980927\n",
      "std       30891.307030\n",
      "min       11261.701584\n",
      "25%      229122.459888\n",
      "50%      229833.126068\n",
      "75%      230082.571507\n",
      "max      231045.484543\n",
      "Name: latency, dtype: float64\n",
      "cumulative_avg, pre_avg: 201483.88544718424, 195832.4909210205\n",
      "convergence ratio: 2.804886610966786\n",
      "------------------------------reset binary gate------------------------------\n"
     ]
    },
    {
     "name": "stderr",
     "output_type": "stream",
     "text": [
      "2020-05-02 12:07:14:pid_34414:latency_estimator:<INFO> 10 times estimation\n",
      "2020-05-02 12:07:17:pid_34414:latency_estimator:<INFO> 20 times estimation\n",
      "2020-05-02 12:07:19:pid_34414:latency_estimator:<INFO> 30 times estimation\n",
      "2020-05-02 12:07:22:pid_34414:latency_estimator:<INFO> 40 times estimation\n",
      "2020-05-02 12:07:24:pid_34414:latency_estimator:<INFO> 50 times estimation\n"
     ]
    },
    {
     "name": "stdout",
     "output_type": "stream",
     "text": [
      "count        50.000000\n",
      "mean     250026.583672\n",
      "std       34433.000210\n",
      "min       11598.348618\n",
      "25%      254925.251007\n",
      "50%      255198.478699\n",
      "75%      255520.224571\n",
      "max      255968.093872\n",
      "Name: latency, dtype: float64\n",
      "cumulative_avg, pre_avg: 209142.1059199742, 201483.88544718424\n",
      "convergence ratio: 3.6617305917921095\n",
      "------------------------------reset binary gate------------------------------\n"
     ]
    },
    {
     "name": "stderr",
     "output_type": "stream",
     "text": [
      "2020-05-02 12:07:26:pid_34414:latency_estimator:<INFO> 10 times estimation\n",
      "2020-05-02 12:07:28:pid_34414:latency_estimator:<INFO> 20 times estimation\n",
      "2020-05-02 12:07:29:pid_34414:latency_estimator:<INFO> 30 times estimation\n",
      "2020-05-02 12:07:30:pid_34414:latency_estimator:<INFO> 40 times estimation\n",
      "2020-05-02 12:07:32:pid_34414:latency_estimator:<INFO> 50 times estimation\n"
     ]
    },
    {
     "name": "stdout",
     "output_type": "stream",
     "text": [
      "count        50.000000\n",
      "mean     135670.266151\n",
      "std       17841.534496\n",
      "min       12784.004211\n",
      "25%      138089.239597\n",
      "50%      138684.749603\n",
      "75%      138893.365860\n",
      "max      141128.540039\n",
      "Name: latency, dtype: float64\n",
      "cumulative_avg, pre_avg: 200328.12356948853, 209142.1059199742\n",
      "convergence ratio: 4.3997728294142\n",
      "------------------------------reset binary gate------------------------------\n"
     ]
    },
    {
     "name": "stderr",
     "output_type": "stream",
     "text": [
      "2020-05-02 12:07:34:pid_34414:latency_estimator:<INFO> 10 times estimation\n",
      "2020-05-02 12:07:35:pid_34414:latency_estimator:<INFO> 20 times estimation\n",
      "2020-05-02 12:07:37:pid_34414:latency_estimator:<INFO> 30 times estimation\n",
      "2020-05-02 12:07:38:pid_34414:latency_estimator:<INFO> 40 times estimation\n",
      "2020-05-02 12:07:40:pid_34414:latency_estimator:<INFO> 50 times estimation\n"
     ]
    },
    {
     "name": "stdout",
     "output_type": "stream",
     "text": [
      "count        50.000000\n",
      "mean     153488.564491\n",
      "std       20541.320913\n",
      "min       11473.178864\n",
      "25%      156496.047974\n",
      "50%      156692.743301\n",
      "75%      156922.042370\n",
      "max      157384.157181\n",
      "Name: latency, dtype: float64\n",
      "cumulative_avg, pre_avg: 195475.8644104004, 200328.12356948853\n",
      "convergence ratio: 2.482280446091721\n",
      "------------------------------reset binary gate------------------------------\n"
     ]
    },
    {
     "name": "stderr",
     "output_type": "stream",
     "text": [
      "2020-05-02 12:07:41:pid_34414:latency_estimator:<INFO> 10 times estimation\n",
      "2020-05-02 12:07:42:pid_34414:latency_estimator:<INFO> 20 times estimation\n",
      "2020-05-02 12:07:42:pid_34414:latency_estimator:<INFO> 30 times estimation\n",
      "2020-05-02 12:07:43:pid_34414:latency_estimator:<INFO> 40 times estimation\n",
      "2020-05-02 12:07:44:pid_34414:latency_estimator:<INFO> 50 times estimation\n"
     ]
    },
    {
     "name": "stdout",
     "output_type": "stream",
     "text": [
      "count       50.000000\n",
      "mean     70347.175598\n",
      "std       9269.820947\n",
      "min       6386.280060\n",
      "25%      71522.593498\n",
      "50%      71804.046631\n",
      "75%      72015.643120\n",
      "max      73207.855225\n",
      "Name: latency, dtype: float64\n",
      "cumulative_avg, pre_avg: 183103.2133102417, 195475.8644104004\n",
      "convergence ratio: 6.757200420723933\n",
      "------------------------------reset binary gate------------------------------\n"
     ]
    },
    {
     "name": "stderr",
     "output_type": "stream",
     "text": [
      "2020-05-02 12:07:45:pid_34414:latency_estimator:<INFO> 10 times estimation\n",
      "2020-05-02 12:07:47:pid_34414:latency_estimator:<INFO> 20 times estimation\n",
      "2020-05-02 12:07:49:pid_34414:latency_estimator:<INFO> 30 times estimation\n",
      "2020-05-02 12:07:50:pid_34414:latency_estimator:<INFO> 40 times estimation\n",
      "2020-05-02 12:07:52:pid_34414:latency_estimator:<INFO> 50 times estimation\n"
     ]
    },
    {
     "name": "stdout",
     "output_type": "stream",
     "text": [
      "count        50.000000\n",
      "mean     158570.938110\n",
      "std       21176.962097\n",
      "min       12145.519257\n",
      "25%      161475.241184\n",
      "50%      161909.461021\n",
      "75%      162053.644657\n",
      "max      162957.191467\n",
      "Name: latency, dtype: float64\n",
      "cumulative_avg, pre_avg: 181167.45081814853, 183103.2133102417\n",
      "convergence ratio: 1.0684935309026573\n",
      "------------------------------reset binary gate------------------------------\n"
     ]
    },
    {
     "name": "stderr",
     "output_type": "stream",
     "text": [
      "2020-05-02 12:07:53:pid_34414:latency_estimator:<INFO> 10 times estimation\n",
      "2020-05-02 12:07:55:pid_34414:latency_estimator:<INFO> 20 times estimation\n",
      "2020-05-02 12:07:56:pid_34414:latency_estimator:<INFO> 30 times estimation\n",
      "2020-05-02 12:07:57:pid_34414:latency_estimator:<INFO> 40 times estimation\n",
      "2020-05-02 12:07:59:pid_34414:latency_estimator:<INFO> 50 times estimation\n"
     ]
    },
    {
     "name": "stdout",
     "output_type": "stream",
     "text": [
      "count        50.000000\n",
      "mean     128056.712151\n",
      "std       17414.028522\n",
      "min        7722.139359\n",
      "25%      130557.775497\n",
      "50%      130871.295929\n",
      "75%      131033.301353\n",
      "max      132416.725159\n",
      "Name: latency, dtype: float64\n",
      "cumulative_avg, pre_avg: 176966.27775828043, 181167.45081814853\n",
      "convergence ratio: 2.373996398119712\n",
      "------------------------------reset binary gate------------------------------\n"
     ]
    },
    {
     "name": "stderr",
     "output_type": "stream",
     "text": [
      "2020-05-02 12:08:00:pid_34414:latency_estimator:<INFO> 10 times estimation\n",
      "2020-05-02 12:08:02:pid_34414:latency_estimator:<INFO> 20 times estimation\n",
      "2020-05-02 12:08:04:pid_34414:latency_estimator:<INFO> 30 times estimation\n",
      "2020-05-02 12:08:05:pid_34414:latency_estimator:<INFO> 40 times estimation\n",
      "2020-05-02 12:08:07:pid_34414:latency_estimator:<INFO> 50 times estimation\n"
     ]
    },
    {
     "name": "stdout",
     "output_type": "stream",
     "text": [
      "count        50.000000\n",
      "mean     157625.336647\n",
      "std       22005.506100\n",
      "min        5323.886871\n",
      "25%      160581.529140\n",
      "50%      160927.772522\n",
      "75%      161189.079285\n",
      "max      162367.582321\n",
      "Name: latency, dtype: float64\n",
      "cumulative_avg, pre_avg: 175727.5471320519, 176966.27775828043\n",
      "convergence ratio: 0.7049154480587344\n",
      "------------------------------reset binary gate------------------------------\n"
     ]
    },
    {
     "name": "stderr",
     "output_type": "stream",
     "text": [
      "2020-05-02 12:08:08:pid_34414:latency_estimator:<INFO> 10 times estimation\n",
      "2020-05-02 12:08:08:pid_34414:latency_estimator:<INFO> 20 times estimation\n",
      "2020-05-02 12:08:09:pid_34414:latency_estimator:<INFO> 30 times estimation\n",
      "2020-05-02 12:08:09:pid_34414:latency_estimator:<INFO> 40 times estimation\n",
      "2020-05-02 12:08:10:pid_34414:latency_estimator:<INFO> 50 times estimation\n"
     ]
    },
    {
     "name": "stdout",
     "output_type": "stream",
     "text": [
      "count       50.000000\n",
      "mean     47974.910736\n",
      "std       5618.971303\n",
      "min      10097.265244\n",
      "25%      48784.255981\n",
      "50%      48977.494240\n",
      "75%      49127.697945\n",
      "max      51029.920578\n",
      "Name: latency, dtype: float64\n",
      "cumulative_avg, pre_avg: 166668.85103498187, 175727.5471320519\n",
      "convergence ratio: 5.435146424072195\n",
      "------------------------------reset binary gate------------------------------\n"
     ]
    },
    {
     "name": "stderr",
     "output_type": "stream",
     "text": [
      "2020-05-02 12:08:11:pid_34414:latency_estimator:<INFO> 10 times estimation\n",
      "2020-05-02 12:08:12:pid_34414:latency_estimator:<INFO> 20 times estimation\n",
      "2020-05-02 12:08:14:pid_34414:latency_estimator:<INFO> 30 times estimation\n",
      "2020-05-02 12:08:15:pid_34414:latency_estimator:<INFO> 40 times estimation\n",
      "2020-05-02 12:08:16:pid_34414:latency_estimator:<INFO> 50 times estimation\n"
     ]
    },
    {
     "name": "stdout",
     "output_type": "stream",
     "text": [
      "count        50.000000\n",
      "mean     130526.762009\n",
      "std       17938.257120\n",
      "min        6330.013275\n",
      "25%      132903.456688\n",
      "50%      133235.335350\n",
      "75%      133453.369141\n",
      "max      134517.192841\n",
      "Name: latency, dtype: float64\n",
      "cumulative_avg, pre_avg: 164432.5065612793, 166668.85103498187\n",
      "convergence ratio: 1.3600379392557331\n",
      "------------------------------reset binary gate------------------------------\n"
     ]
    },
    {
     "name": "stderr",
     "output_type": "stream",
     "text": [
      "2020-05-02 12:08:18:pid_34414:latency_estimator:<INFO> 10 times estimation\n",
      "2020-05-02 12:08:19:pid_34414:latency_estimator:<INFO> 20 times estimation\n",
      "2020-05-02 12:08:21:pid_34414:latency_estimator:<INFO> 30 times estimation\n",
      "2020-05-02 12:08:22:pid_34414:latency_estimator:<INFO> 40 times estimation\n",
      "2020-05-02 12:08:23:pid_34414:latency_estimator:<INFO> 50 times estimation\n"
     ]
    },
    {
     "name": "stdout",
     "output_type": "stream",
     "text": [
      "count        50.000000\n",
      "mean     128372.631073\n",
      "std       17061.873916\n",
      "min       10690.212250\n",
      "25%      130620.360374\n",
      "50%      131079.077721\n",
      "75%      131342.411041\n",
      "max      133348.941803\n",
      "Name: latency, dtype: float64\n",
      "cumulative_avg, pre_avg: 162342.03577041626, 164432.5065612793\n",
      "convergence ratio: 1.287695316214573\n",
      "------------------------------reset binary gate------------------------------\n"
     ]
    },
    {
     "name": "stderr",
     "output_type": "stream",
     "text": [
      "2020-05-02 12:08:26:pid_34414:latency_estimator:<INFO> 10 times estimation\n",
      "2020-05-02 12:08:28:pid_34414:latency_estimator:<INFO> 20 times estimation\n",
      "2020-05-02 12:08:31:pid_34414:latency_estimator:<INFO> 30 times estimation\n",
      "2020-05-02 12:08:33:pid_34414:latency_estimator:<INFO> 40 times estimation\n",
      "2020-05-02 12:08:35:pid_34414:latency_estimator:<INFO> 50 times estimation\n"
     ]
    },
    {
     "name": "stdout",
     "output_type": "stream",
     "text": [
      "count        50.000000\n",
      "mean     242117.309570\n",
      "std       33491.162110\n",
      "min       10312.318802\n",
      "25%      246861.040592\n",
      "50%      247181.892395\n",
      "75%      247472.643852\n",
      "max      249381.303787\n",
      "Name: latency, dtype: float64\n",
      "cumulative_avg, pre_avg: 167328.1753764433, 162342.03577041626\n",
      "convergence ratio: 2.9798565572173237\n",
      "------------------------------reset binary gate------------------------------\n"
     ]
    },
    {
     "name": "stderr",
     "output_type": "stream",
     "text": [
      "2020-05-02 12:08:37:pid_34414:latency_estimator:<INFO> 10 times estimation\n",
      "2020-05-02 12:08:39:pid_34414:latency_estimator:<INFO> 20 times estimation\n",
      "2020-05-02 12:08:41:pid_34414:latency_estimator:<INFO> 30 times estimation\n",
      "2020-05-02 12:08:42:pid_34414:latency_estimator:<INFO> 40 times estimation\n",
      "2020-05-02 12:08:44:pid_34414:latency_estimator:<INFO> 50 times estimation\n"
     ]
    },
    {
     "name": "stdout",
     "output_type": "stream",
     "text": [
      "count        50.000000\n",
      "mean     154454.216957\n",
      "std       20951.295558\n",
      "min        9641.885757\n",
      "25%      157419.919968\n",
      "50%      157674.193382\n",
      "75%      158011.853695\n",
      "max      159332.275391\n",
      "Name: latency, dtype: float64\n",
      "cumulative_avg, pre_avg: 166786.879963345, 167328.1753764433\n",
      "convergence ratio: 0.3245431614388729\n",
      "------------------------------reset binary gate------------------------------\n"
     ]
    },
    {
     "name": "stderr",
     "output_type": "stream",
     "text": [
      "2020-05-02 12:08:45:pid_34414:latency_estimator:<INFO> 10 times estimation\n",
      "2020-05-02 12:08:47:pid_34414:latency_estimator:<INFO> 20 times estimation\n",
      "2020-05-02 12:08:48:pid_34414:latency_estimator:<INFO> 30 times estimation\n",
      "2020-05-02 12:08:50:pid_34414:latency_estimator:<INFO> 40 times estimation\n",
      "2020-05-02 12:08:52:pid_34414:latency_estimator:<INFO> 50 times estimation\n"
     ]
    },
    {
     "name": "stdout",
     "output_type": "stream",
     "text": [
      "count        50.000000\n",
      "mean     149284.911156\n",
      "std       20630.258244\n",
      "min        6501.913071\n",
      "25%      152186.989784\n",
      "50%      152399.420738\n",
      "75%      152677.953243\n",
      "max      153622.388840\n",
      "Name: latency, dtype: float64\n",
      "cumulative_avg, pre_avg: 166025.121588456, 166786.879963345\n",
      "convergence ratio: 0.45882115164309517\n",
      "------------------------------reset binary gate------------------------------\n"
     ]
    },
    {
     "name": "stderr",
     "output_type": "stream",
     "text": [
      "2020-05-02 12:08:54:pid_34414:latency_estimator:<INFO> 10 times estimation\n",
      "2020-05-02 12:08:55:pid_34414:latency_estimator:<INFO> 20 times estimation\n",
      "2020-05-02 12:08:57:pid_34414:latency_estimator:<INFO> 30 times estimation\n",
      "2020-05-02 12:08:59:pid_34414:latency_estimator:<INFO> 40 times estimation\n",
      "2020-05-02 12:09:01:pid_34414:latency_estimator:<INFO> 50 times estimation\n"
     ]
    },
    {
     "name": "stdout",
     "output_type": "stream",
     "text": [
      "count        50.000000\n",
      "mean     186821.665764\n",
      "std       25519.381815\n",
      "min       10333.538055\n",
      "25%      190429.687500\n",
      "50%      190766.334534\n",
      "75%      190999.984741\n",
      "max      191579.341888\n",
      "Name: latency, dtype: float64\n",
      "cumulative_avg, pre_avg: 167260.72311401367, 166025.121588456\n",
      "convergence ratio: 0.7387278391206125\n",
      "------------------------------reset binary gate------------------------------\n"
     ]
    },
    {
     "name": "stderr",
     "output_type": "stream",
     "text": [
      "2020-05-02 12:09:04:pid_34414:latency_estimator:<INFO> 10 times estimation\n",
      "2020-05-02 12:09:06:pid_34414:latency_estimator:<INFO> 20 times estimation\n",
      "2020-05-02 12:09:08:pid_34414:latency_estimator:<INFO> 30 times estimation\n",
      "2020-05-02 12:09:10:pid_34414:latency_estimator:<INFO> 40 times estimation\n",
      "2020-05-02 12:09:13:pid_34414:latency_estimator:<INFO> 50 times estimation\n"
     ]
    },
    {
     "name": "stdout",
     "output_type": "stream",
     "text": [
      "count        50.000000\n",
      "mean     220275.392532\n",
      "std       30447.727811\n",
      "min        9489.774704\n",
      "25%      224581.539631\n",
      "50%      224875.569344\n",
      "75%      225108.861923\n",
      "max      225990.772247\n",
      "Name: latency, dtype: float64\n",
      "cumulative_avg, pre_avg: 170001.11625308084, 167260.72311401367\n",
      "convergence ratio: 1.6119853795474721\n",
      "------------------------------reset binary gate------------------------------\n"
     ]
    },
    {
     "name": "stderr",
     "output_type": "stream",
     "text": [
      "2020-05-02 12:09:15:pid_34414:latency_estimator:<INFO> 10 times estimation\n",
      "2020-05-02 12:09:16:pid_34414:latency_estimator:<INFO> 20 times estimation\n",
      "2020-05-02 12:09:18:pid_34414:latency_estimator:<INFO> 30 times estimation\n",
      "2020-05-02 12:09:20:pid_34414:latency_estimator:<INFO> 40 times estimation\n",
      "2020-05-02 12:09:22:pid_34414:latency_estimator:<INFO> 50 times estimation\n"
     ]
    },
    {
     "name": "stdout",
     "output_type": "stream",
     "text": [
      "count        50.000000\n",
      "mean     177154.469490\n",
      "std       24715.087388\n",
      "min        5999.565125\n",
      "25%      180697.321892\n",
      "50%      180897.712708\n",
      "75%      181023.776531\n",
      "max      182019.472122\n",
      "Name: latency, dtype: float64\n",
      "cumulative_avg, pre_avg: 170493.85200847278, 170001.11625308084\n",
      "convergence ratio: 0.28900499905853266\n",
      "------------------------------reset binary gate------------------------------\n"
     ]
    },
    {
     "name": "stderr",
     "output_type": "stream",
     "text": [
      "2020-05-02 12:09:23:pid_34414:latency_estimator:<INFO> 10 times estimation\n",
      "2020-05-02 12:09:25:pid_34414:latency_estimator:<INFO> 20 times estimation\n",
      "2020-05-02 12:09:26:pid_34414:latency_estimator:<INFO> 30 times estimation\n",
      "2020-05-02 12:09:28:pid_34414:latency_estimator:<INFO> 40 times estimation\n",
      "2020-05-02 12:09:29:pid_34414:latency_estimator:<INFO> 50 times estimation\n"
     ]
    },
    {
     "name": "stdout",
     "output_type": "stream",
     "text": [
      "count        50.000000\n",
      "mean     134749.860764\n",
      "std       18722.938498\n",
      "min        5227.565765\n",
      "25%      137314.081192\n",
      "50%      137601.375580\n",
      "75%      137846.708298\n",
      "max      138548.851013\n",
      "Name: latency, dtype: float64\n",
      "cumulative_avg, pre_avg: 169060.18879102624, 170493.85200847278\n",
      "convergence ratio: 0.8480194111333165\n",
      "------------------------------reset binary gate------------------------------\n"
     ]
    },
    {
     "name": "stderr",
     "output_type": "stream",
     "text": [
      "2020-05-02 12:09:31:pid_34414:latency_estimator:<INFO> 10 times estimation\n",
      "2020-05-02 12:09:33:pid_34414:latency_estimator:<INFO> 20 times estimation\n",
      "2020-05-02 12:09:35:pid_34414:latency_estimator:<INFO> 30 times estimation\n",
      "2020-05-02 12:09:37:pid_34414:latency_estimator:<INFO> 40 times estimation\n",
      "2020-05-02 12:09:39:pid_34414:latency_estimator:<INFO> 50 times estimation\n"
     ]
    },
    {
     "name": "stdout",
     "output_type": "stream",
     "text": [
      "count        50.000000\n",
      "mean     185102.229118\n",
      "std       25443.822223\n",
      "min        9015.083313\n",
      "25%      188551.425934\n",
      "50%      188947.200775\n",
      "75%      189190.149307\n",
      "max      190122.604370\n",
      "Name: latency, dtype: float64\n",
      "cumulative_avg, pre_avg: 169884.98767217, 169060.18879102624\n",
      "convergence ratio: 0.48550427700851156\n",
      "------------------------------reset binary gate------------------------------\n"
     ]
    },
    {
     "name": "stderr",
     "output_type": "stream",
     "text": [
      "2020-05-02 12:09:41:pid_34414:latency_estimator:<INFO> 10 times estimation\n",
      "2020-05-02 12:09:43:pid_34414:latency_estimator:<INFO> 20 times estimation\n",
      "2020-05-02 12:09:45:pid_34414:latency_estimator:<INFO> 30 times estimation\n",
      "2020-05-02 12:09:47:pid_34414:latency_estimator:<INFO> 40 times estimation\n",
      "2020-05-02 12:09:49:pid_34414:latency_estimator:<INFO> 50 times estimation\n"
     ]
    },
    {
     "name": "stdout",
     "output_type": "stream",
     "text": [
      "count        50.000000\n",
      "mean     206336.417198\n",
      "std       28838.059334\n",
      "min        6611.108780\n",
      "25%      210108.101368\n",
      "50%      210546.016693\n",
      "75%      210840.523243\n",
      "max      212237.119675\n",
      "Name: latency, dtype: float64\n",
      "cumulative_avg, pre_avg: 171509.65309143066, 169884.98767217\n",
      "convergence ratio: 0.947273456610954\n",
      "------------------------------reset binary gate------------------------------\n"
     ]
    },
    {
     "name": "stderr",
     "output_type": "stream",
     "text": [
      "2020-05-02 12:09:50:pid_34414:latency_estimator:<INFO> 10 times estimation\n",
      "2020-05-02 12:09:51:pid_34414:latency_estimator:<INFO> 20 times estimation\n",
      "2020-05-02 12:09:52:pid_34414:latency_estimator:<INFO> 30 times estimation\n",
      "2020-05-02 12:09:53:pid_34414:latency_estimator:<INFO> 40 times estimation\n",
      "2020-05-02 12:09:54:pid_34414:latency_estimator:<INFO> 50 times estimation\n"
     ]
    },
    {
     "name": "stdout",
     "output_type": "stream",
     "text": [
      "count       50.000000\n",
      "mean     77887.806892\n",
      "std      10429.080729\n",
      "min       6036.996841\n",
      "25%      79345.941544\n",
      "50%      79540.967941\n",
      "75%      79711.675644\n",
      "max      82616.090775\n",
      "Name: latency, dtype: float64\n",
      "cumulative_avg, pre_avg: 167968.97924863375, 171509.65309143066\n",
      "convergence ratio: 2.107933178278042\n",
      "------------------------------reset binary gate------------------------------\n"
     ]
    },
    {
     "name": "stderr",
     "output_type": "stream",
     "text": [
      "2020-05-02 12:09:55:pid_34414:latency_estimator:<INFO> 10 times estimation\n",
      "2020-05-02 12:09:56:pid_34414:latency_estimator:<INFO> 20 times estimation\n",
      "2020-05-02 12:09:57:pid_34414:latency_estimator:<INFO> 30 times estimation\n",
      "2020-05-02 12:09:58:pid_34414:latency_estimator:<INFO> 40 times estimation\n",
      "2020-05-02 12:09:59:pid_34414:latency_estimator:<INFO> 50 times estimation\n"
     ]
    },
    {
     "name": "stdout",
     "output_type": "stream",
     "text": [
      "count        50.000000\n",
      "mean     102083.687782\n",
      "std       13906.248245\n",
      "min        5961.894989\n",
      "25%      103970.468044\n",
      "50%      104284.405708\n",
      "75%      104451.715946\n",
      "max      105220.556259\n",
      "Name: latency, dtype: float64\n",
      "cumulative_avg, pre_avg: 165607.05856040673, 167968.97924863375\n",
      "convergence ratio: 1.4262198174152645\n",
      "------------------------------reset binary gate------------------------------\n"
     ]
    },
    {
     "name": "stderr",
     "output_type": "stream",
     "text": [
      "2020-05-02 12:10:00:pid_34414:latency_estimator:<INFO> 10 times estimation\n",
      "2020-05-02 12:10:01:pid_34414:latency_estimator:<INFO> 20 times estimation\n",
      "2020-05-02 12:10:02:pid_34414:latency_estimator:<INFO> 30 times estimation\n",
      "2020-05-02 12:10:03:pid_34414:latency_estimator:<INFO> 40 times estimation\n",
      "2020-05-02 12:10:04:pid_34414:latency_estimator:<INFO> 50 times estimation\n"
     ]
    },
    {
     "name": "stdout",
     "output_type": "stream",
     "text": [
      "count        50.000000\n",
      "mean     103363.480568\n",
      "std       13991.589709\n",
      "min        6599.664688\n",
      "25%      105042.695999\n",
      "50%      105548.262596\n",
      "75%      105899.631977\n",
      "max      106383.085251\n",
      "Name: latency, dtype: float64\n",
      "cumulative_avg, pre_avg: 163453.95020076208, 165607.05856040673\n",
      "convergence ratio: 1.3172568524652375\n",
      "------------------------------reset binary gate------------------------------\n"
     ]
    },
    {
     "name": "stderr",
     "output_type": "stream",
     "text": [
      "2020-05-02 12:10:06:pid_34414:latency_estimator:<INFO> 10 times estimation\n",
      "2020-05-02 12:10:07:pid_34414:latency_estimator:<INFO> 20 times estimation\n",
      "2020-05-02 12:10:09:pid_34414:latency_estimator:<INFO> 30 times estimation\n",
      "2020-05-02 12:10:10:pid_34414:latency_estimator:<INFO> 40 times estimation\n",
      "2020-05-02 12:10:12:pid_34414:latency_estimator:<INFO> 50 times estimation\n"
     ]
    },
    {
     "name": "stdout",
     "output_type": "stream",
     "text": [
      "count        50.000000\n",
      "mean     143455.452919\n",
      "std       19502.955948\n",
      "min        8550.643921\n",
      "25%      145782.232285\n",
      "50%      146354.198456\n",
      "75%      147047.281265\n",
      "max      148348.331451\n",
      "Name: latency, dtype: float64\n",
      "cumulative_avg, pre_avg: 162851.358282155, 163453.95020076208\n",
      "convergence ratio: 0.37002572466299094\n",
      "------------------------------reset binary gate------------------------------\n"
     ]
    },
    {
     "name": "stderr",
     "output_type": "stream",
     "text": [
      "2020-05-02 12:10:14:pid_34414:latency_estimator:<INFO> 10 times estimation\n",
      "2020-05-02 12:10:15:pid_34414:latency_estimator:<INFO> 20 times estimation\n",
      "2020-05-02 12:10:17:pid_34414:latency_estimator:<INFO> 30 times estimation\n",
      "2020-05-02 12:10:19:pid_34414:latency_estimator:<INFO> 40 times estimation\n",
      "2020-05-02 12:10:20:pid_34414:latency_estimator:<INFO> 50 times estimation\n"
     ]
    },
    {
     "name": "stdout",
     "output_type": "stream",
     "text": [
      "count        50.000000\n",
      "mean     159733.510017\n",
      "std       21478.396629\n",
      "min       11327.505112\n",
      "25%      162655.413151\n",
      "50%      163064.122200\n",
      "75%      163524.627686\n",
      "max      165307.998657\n",
      "Name: latency, dtype: float64\n",
      "cumulative_avg, pre_avg: 162852.56226857504, 162851.358282155\n",
      "convergence ratio: 0.000739310701202597\n",
      "------------------------------reset binary gate------------------------------\n"
     ]
    },
    {
     "name": "stderr",
     "output_type": "stream",
     "text": [
      "2020-05-02 12:10:21:pid_34414:latency_estimator:<INFO> 10 times estimation\n",
      "2020-05-02 12:10:22:pid_34414:latency_estimator:<INFO> 20 times estimation\n",
      "2020-05-02 12:10:23:pid_34414:latency_estimator:<INFO> 30 times estimation\n",
      "2020-05-02 12:10:24:pid_34414:latency_estimator:<INFO> 40 times estimation\n",
      "2020-05-02 12:10:25:pid_34414:latency_estimator:<INFO> 50 times estimation\n"
     ]
    },
    {
     "name": "stdout",
     "output_type": "stream",
     "text": [
      "count       50.000000\n",
      "mean     95860.915184\n",
      "std      12319.095445\n",
      "min      11521.816254\n",
      "25%      97680.509090\n",
      "50%      97976.207733\n",
      "75%      98226.904869\n",
      "max      99957.942963\n",
      "Name: latency, dtype: float64\n",
      "cumulative_avg, pre_avg: 160754.8559865644, 162852.56226857504\n",
      "convergence ratio: 1.304910056456381\n",
      "------------------------------reset binary gate------------------------------\n"
     ]
    },
    {
     "name": "stderr",
     "output_type": "stream",
     "text": [
      "2020-05-02 12:10:27:pid_34414:latency_estimator:<INFO> 10 times estimation\n",
      "2020-05-02 12:10:28:pid_34414:latency_estimator:<INFO> 20 times estimation\n",
      "2020-05-02 12:10:30:pid_34414:latency_estimator:<INFO> 30 times estimation\n",
      "2020-05-02 12:10:31:pid_34414:latency_estimator:<INFO> 40 times estimation\n",
      "2020-05-02 12:10:33:pid_34414:latency_estimator:<INFO> 50 times estimation\n"
     ]
    },
    {
     "name": "stdout",
     "output_type": "stream",
     "text": [
      "count        50.000000\n",
      "mean     137412.381172\n",
      "std       18930.154210\n",
      "min        6410.598755\n",
      "25%      140190.899372\n",
      "50%      140358.090401\n",
      "75%      140417.039394\n",
      "max      141275.167465\n",
      "Name: latency, dtype: float64\n",
      "cumulative_avg, pre_avg: 160116.48178100586, 160754.8559865644\n",
      "convergence ratio: 0.3986936250770532\n",
      "------------------------------reset binary gate------------------------------\n"
     ]
    },
    {
     "name": "stderr",
     "output_type": "stream",
     "text": [
      "2020-05-02 12:10:35:pid_34414:latency_estimator:<INFO> 10 times estimation\n",
      "2020-05-02 12:10:37:pid_34414:latency_estimator:<INFO> 20 times estimation\n",
      "2020-05-02 12:10:40:pid_34414:latency_estimator:<INFO> 30 times estimation\n",
      "2020-05-02 12:10:42:pid_34414:latency_estimator:<INFO> 40 times estimation\n",
      "2020-05-02 12:10:45:pid_34414:latency_estimator:<INFO> 50 times estimation\n"
     ]
    },
    {
     "name": "stdout",
     "output_type": "stream",
     "text": [
      "count        50.000000\n",
      "mean     244216.017723\n",
      "std       34230.580481\n",
      "min        7129.430771\n",
      "25%      248889.088631\n",
      "50%      249236.822128\n",
      "75%      249592.483044\n",
      "max      250806.808472\n",
      "Name: latency, dtype: float64\n",
      "cumulative_avg, pre_avg: 162812.34856807825, 160116.48178100586\n",
      "convergence ratio: 1.6558122346261344\n",
      "------------------------------reset binary gate------------------------------\n"
     ]
    },
    {
     "name": "stderr",
     "output_type": "stream",
     "text": [
      "2020-05-02 12:10:47:pid_34414:latency_estimator:<INFO> 10 times estimation\n",
      "2020-05-02 12:10:48:pid_34414:latency_estimator:<INFO> 20 times estimation\n",
      "2020-05-02 12:10:50:pid_34414:latency_estimator:<INFO> 30 times estimation\n",
      "2020-05-02 12:10:51:pid_34414:latency_estimator:<INFO> 40 times estimation\n",
      "2020-05-02 12:10:53:pid_34414:latency_estimator:<INFO> 50 times estimation\n"
     ]
    },
    {
     "name": "stdout",
     "output_type": "stream",
     "text": [
      "count        50.000000\n",
      "mean     151261.825562\n",
      "std       20256.053756\n",
      "min       11326.551437\n",
      "25%      154182.195663\n",
      "50%      154492.497444\n",
      "75%      154620.707035\n",
      "max      155784.368515\n",
      "Name: latency, dtype: float64\n",
      "cumulative_avg, pre_avg: 162565.7039530137, 162812.34856807825\n",
      "convergence ratio: 0.151719956341983\n",
      "------------------------------reset binary gate------------------------------\n"
     ]
    },
    {
     "name": "stderr",
     "output_type": "stream",
     "text": [
      "2020-05-02 12:10:55:pid_34414:latency_estimator:<INFO> 10 times estimation\n",
      "2020-05-02 12:10:56:pid_34414:latency_estimator:<INFO> 20 times estimation\n",
      "2020-05-02 12:10:57:pid_34414:latency_estimator:<INFO> 30 times estimation\n",
      "2020-05-02 12:10:59:pid_34414:latency_estimator:<INFO> 40 times estimation\n",
      "2020-05-02 12:11:00:pid_34414:latency_estimator:<INFO> 50 times estimation\n"
     ]
    },
    {
     "name": "stdout",
     "output_type": "stream",
     "text": [
      "count        50.000000\n",
      "mean     128542.780876\n",
      "std       17333.314830\n",
      "min        8795.976639\n",
      "25%      130786.597729\n",
      "50%      131047.725677\n",
      "75%      131479.740143\n",
      "max      132642.507553\n",
      "Name: latency, dtype: float64\n",
      "cumulative_avg, pre_avg: 161661.71755109515, 162565.7039530137\n",
      "convergence ratio: 0.5591839648943677\n",
      "------------------------------reset binary gate------------------------------\n"
     ]
    },
    {
     "name": "stderr",
     "output_type": "stream",
     "text": [
      "2020-05-02 12:11:03:pid_34414:latency_estimator:<INFO> 10 times estimation\n",
      "2020-05-02 12:11:06:pid_34414:latency_estimator:<INFO> 20 times estimation\n",
      "2020-05-02 12:11:09:pid_34414:latency_estimator:<INFO> 30 times estimation\n",
      "2020-05-02 12:11:12:pid_34414:latency_estimator:<INFO> 40 times estimation\n",
      "2020-05-02 12:11:15:pid_34414:latency_estimator:<INFO> 50 times estimation\n"
     ]
    },
    {
     "name": "stdout",
     "output_type": "stream",
     "text": [
      "count        50.000000\n",
      "mean     292290.062904\n",
      "std       40857.773385\n",
      "min        9354.591370\n",
      "25%      297673.583031\n",
      "50%      298341.035843\n",
      "75%      298810.839653\n",
      "max      299856.662750\n",
      "Name: latency, dtype: float64\n",
      "cumulative_avg, pre_avg: 165453.8975821601, 161661.71755109515\n",
      "convergence ratio: 2.291985916609706\n",
      "------------------------------reset binary gate------------------------------\n"
     ]
    },
    {
     "name": "stderr",
     "output_type": "stream",
     "text": [
      "2020-05-02 12:11:17:pid_34414:latency_estimator:<INFO> 10 times estimation\n",
      "2020-05-02 12:11:18:pid_34414:latency_estimator:<INFO> 20 times estimation\n",
      "2020-05-02 12:11:20:pid_34414:latency_estimator:<INFO> 30 times estimation\n",
      "2020-05-02 12:11:22:pid_34414:latency_estimator:<INFO> 40 times estimation\n",
      "2020-05-02 12:11:24:pid_34414:latency_estimator:<INFO> 50 times estimation\n"
     ]
    },
    {
     "name": "stdout",
     "output_type": "stream",
     "text": [
      "count        50.000000\n",
      "mean     166855.554581\n",
      "std       22867.268878\n",
      "min        8563.041687\n",
      "25%      169810.116291\n",
      "50%      170218.229294\n",
      "75%      170741.796494\n",
      "max      171103.000641\n",
      "Name: latency, dtype: float64\n",
      "cumulative_avg, pre_avg: 165580.313914531, 165453.8975821601\n",
      "convergence ratio: 0.07634744093802481\n",
      "------------------------------reset binary gate------------------------------\n"
     ]
    },
    {
     "name": "stderr",
     "output_type": "stream",
     "text": [
      "2020-05-02 12:11:26:pid_34414:latency_estimator:<INFO> 10 times estimation\n",
      "2020-05-02 12:11:28:pid_34414:latency_estimator:<INFO> 20 times estimation\n",
      "2020-05-02 12:11:31:pid_34414:latency_estimator:<INFO> 30 times estimation\n",
      "2020-05-02 12:11:33:pid_34414:latency_estimator:<INFO> 40 times estimation\n",
      "2020-05-02 12:11:35:pid_34414:latency_estimator:<INFO> 50 times estimation\n"
     ]
    },
    {
     "name": "stdout",
     "output_type": "stream",
     "text": [
      "count        50.000000\n",
      "mean     229208.054543\n",
      "std       32222.065808\n",
      "min        6110.429764\n",
      "25%      233423.590660\n",
      "50%      234183.430672\n",
      "75%      234535.694122\n",
      "max      235333.442688\n",
      "Name: latency, dtype: float64\n",
      "cumulative_avg, pre_avg: 167374.70626831055, 165580.313914531\n",
      "convergence ratio: 1.0720809576227384\n",
      "------------------------------reset binary gate------------------------------\n"
     ]
    },
    {
     "name": "stderr",
     "output_type": "stream",
     "text": [
      "2020-05-02 12:11:38:pid_34414:latency_estimator:<INFO> 10 times estimation\n",
      "2020-05-02 12:11:40:pid_34414:latency_estimator:<INFO> 20 times estimation\n",
      "2020-05-02 12:11:42:pid_34414:latency_estimator:<INFO> 30 times estimation\n",
      "2020-05-02 12:11:45:pid_34414:latency_estimator:<INFO> 40 times estimation\n",
      "2020-05-02 12:11:47:pid_34414:latency_estimator:<INFO> 50 times estimation\n"
     ]
    },
    {
     "name": "stdout",
     "output_type": "stream",
     "text": [
      "count        50.000000\n",
      "mean     224740.681648\n",
      "std       30817.375888\n",
      "min       11442.184448\n",
      "25%      228950.440884\n",
      "50%      229319.453239\n",
      "75%      229614.019394\n",
      "max      231544.494629\n",
      "Name: latency, dtype: float64\n",
      "cumulative_avg, pre_avg: 168960.68621904423, 167374.70626831055\n",
      "convergence ratio: 0.938668033507859\n",
      "------------------------------reset binary gate------------------------------\n"
     ]
    },
    {
     "name": "stderr",
     "output_type": "stream",
     "text": [
      "2020-05-02 12:11:48:pid_34414:latency_estimator:<INFO> 10 times estimation\n",
      "2020-05-02 12:11:49:pid_34414:latency_estimator:<INFO> 20 times estimation\n",
      "2020-05-02 12:11:50:pid_34414:latency_estimator:<INFO> 30 times estimation\n",
      "2020-05-02 12:11:51:pid_34414:latency_estimator:<INFO> 40 times estimation\n",
      "2020-05-02 12:11:52:pid_34414:latency_estimator:<INFO> 50 times estimation\n"
     ]
    },
    {
     "name": "stdout",
     "output_type": "stream",
     "text": [
      "count       50.000000\n",
      "mean     96007.723808\n",
      "std      12799.617004\n",
      "min       7628.679276\n",
      "25%      97761.511803\n",
      "50%      97969.055176\n",
      "75%      98303.973675\n",
      "max      99758.148193\n",
      "Name: latency, dtype: float64\n",
      "cumulative_avg, pre_avg: 167184.2885017395, 168960.68621904423\n",
      "convergence ratio: 1.0625386710822702\n",
      "------------------------------reset binary gate------------------------------\n"
     ]
    },
    {
     "name": "stderr",
     "output_type": "stream",
     "text": [
      "2020-05-02 12:11:54:pid_34414:latency_estimator:<INFO> 10 times estimation\n",
      "2020-05-02 12:11:55:pid_34414:latency_estimator:<INFO> 20 times estimation\n",
      "2020-05-02 12:11:56:pid_34414:latency_estimator:<INFO> 30 times estimation\n",
      "2020-05-02 12:11:58:pid_34414:latency_estimator:<INFO> 40 times estimation\n",
      "2020-05-02 12:11:59:pid_34414:latency_estimator:<INFO> 50 times estimation\n"
     ]
    },
    {
     "name": "stdout",
     "output_type": "stream",
     "text": [
      "count        50.000000\n",
      "mean     123101.501465\n",
      "std       16849.945583\n",
      "min        6473.302841\n",
      "25%      125375.688076\n",
      "50%      125666.022301\n",
      "75%      125817.120075\n",
      "max      127175.569534\n",
      "Name: latency, dtype: float64\n",
      "cumulative_avg, pre_avg: 166170.923884322, 167184.2885017395\n",
      "convergence ratio: 0.6098326913816466\n",
      "------------------------------reset binary gate------------------------------\n"
     ]
    },
    {
     "name": "stderr",
     "output_type": "stream",
     "text": [
      "2020-05-02 12:12:00:pid_34414:latency_estimator:<INFO> 10 times estimation\n",
      "2020-05-02 12:12:02:pid_34414:latency_estimator:<INFO> 20 times estimation\n",
      "2020-05-02 12:12:03:pid_34414:latency_estimator:<INFO> 30 times estimation\n",
      "2020-05-02 12:12:05:pid_34414:latency_estimator:<INFO> 40 times estimation\n",
      "2020-05-02 12:12:06:pid_34414:latency_estimator:<INFO> 50 times estimation\n"
     ]
    },
    {
     "name": "stdout",
     "output_type": "stream",
     "text": [
      "count        50.000000\n",
      "mean     145857.896805\n",
      "std       20138.858719\n",
      "min        6399.393082\n",
      "25%      148454.606533\n",
      "50%      148913.264275\n",
      "75%      149082.362652\n",
      "max      150126.695633\n",
      "Name: latency, dtype: float64\n",
      "cumulative_avg, pre_avg: 165758.8833854312, 166170.923884322\n",
      "convergence ratio: 0.24857823030377174\n",
      "------------------------------reset binary gate------------------------------\n"
     ]
    },
    {
     "name": "stderr",
     "output_type": "stream",
     "text": [
      "2020-05-02 12:12:08:pid_34414:latency_estimator:<INFO> 10 times estimation\n",
      "2020-05-02 12:12:09:pid_34414:latency_estimator:<INFO> 20 times estimation\n",
      "2020-05-02 12:12:10:pid_34414:latency_estimator:<INFO> 30 times estimation\n",
      "2020-05-02 12:12:12:pid_34414:latency_estimator:<INFO> 40 times estimation\n",
      "2020-05-02 12:12:13:pid_34414:latency_estimator:<INFO> 50 times estimation\n"
     ]
    },
    {
     "name": "stdout",
     "output_type": "stream",
     "text": [
      "count        50.000000\n",
      "mean     128546.266556\n",
      "std       17838.829858\n",
      "min        5210.876465\n",
      "25%      130796.551704\n",
      "50%      131375.551224\n",
      "75%      131704.330444\n",
      "max      132948.398590\n",
      "Name: latency, dtype: float64\n",
      "cumulative_avg, pre_avg: 164955.8433266573, 165758.8833854312\n",
      "convergence ratio: 0.48682122595902644\n",
      "------------------------------reset binary gate------------------------------\n"
     ]
    },
    {
     "name": "stderr",
     "output_type": "stream",
     "text": [
      "2020-05-02 12:12:15:pid_34414:latency_estimator:<INFO> 10 times estimation\n",
      "2020-05-02 12:12:17:pid_34414:latency_estimator:<INFO> 20 times estimation\n",
      "2020-05-02 12:12:19:pid_34414:latency_estimator:<INFO> 30 times estimation\n",
      "2020-05-02 12:12:20:pid_34414:latency_estimator:<INFO> 40 times estimation\n",
      "2020-05-02 12:12:22:pid_34414:latency_estimator:<INFO> 50 times estimation\n"
     ]
    },
    {
     "name": "stdout",
     "output_type": "stream",
     "text": [
      "count        50.000000\n",
      "mean     175145.592690\n",
      "std       24069.041589\n",
      "min        8549.690247\n",
      "25%      178207.159042\n",
      "50%      178829.431534\n",
      "75%      179041.743279\n",
      "max      180742.979050\n",
      "Name: latency, dtype: float64\n",
      "cumulative_avg, pre_avg: 165268.95653117786, 164955.8433266573\n",
      "convergence ratio: 0.18945675648498236\n",
      "------------------------------reset binary gate------------------------------\n"
     ]
    },
    {
     "name": "stderr",
     "output_type": "stream",
     "text": [
      "2020-05-02 12:12:24:pid_34414:latency_estimator:<INFO> 10 times estimation\n",
      "2020-05-02 12:12:25:pid_34414:latency_estimator:<INFO> 20 times estimation\n",
      "2020-05-02 12:12:26:pid_34414:latency_estimator:<INFO> 30 times estimation\n",
      "2020-05-02 12:12:27:pid_34414:latency_estimator:<INFO> 40 times estimation\n",
      "2020-05-02 12:12:28:pid_34414:latency_estimator:<INFO> 50 times estimation\n"
     ]
    },
    {
     "name": "stdout",
     "output_type": "stream",
     "text": [
      "count        50.000000\n",
      "mean     102803.244591\n",
      "std       13650.706668\n",
      "min        8595.943451\n",
      "25%      104834.318161\n",
      "50%      104980.349541\n",
      "75%      105198.919773\n",
      "max      106311.798096\n",
      "Name: latency, dtype: float64\n",
      "cumulative_avg, pre_avg: 163928.83194817437, 165268.95653117786\n",
      "convergence ratio: 0.8175038930474208\n",
      "------------------------------reset binary gate------------------------------\n"
     ]
    },
    {
     "name": "stderr",
     "output_type": "stream",
     "text": [
      "2020-05-02 12:12:29:pid_34414:latency_estimator:<INFO> 10 times estimation\n",
      "2020-05-02 12:12:30:pid_34414:latency_estimator:<INFO> 20 times estimation\n",
      "2020-05-02 12:12:31:pid_34414:latency_estimator:<INFO> 30 times estimation\n",
      "2020-05-02 12:12:32:pid_34414:latency_estimator:<INFO> 40 times estimation\n",
      "2020-05-02 12:12:33:pid_34414:latency_estimator:<INFO> 50 times estimation\n"
     ]
    },
    {
     "name": "stdout",
     "output_type": "stream",
     "text": [
      "count       50.000000\n",
      "mean     89783.926010\n",
      "std      11316.663703\n",
      "min      12310.504913\n",
      "25%      91494.739056\n",
      "50%      91680.288315\n",
      "75%      92001.557350\n",
      "max      93553.304672\n",
      "Name: latency, dtype: float64\n",
      "cumulative_avg, pre_avg: 162357.48788584833, 163928.83194817437\n",
      "convergence ratio: 0.9678297458204288\n",
      "------------------------------reset binary gate------------------------------\n"
     ]
    },
    {
     "name": "stderr",
     "output_type": "stream",
     "text": [
      "2020-05-02 12:12:35:pid_34414:latency_estimator:<INFO> 10 times estimation\n",
      "2020-05-02 12:12:37:pid_34414:latency_estimator:<INFO> 20 times estimation\n",
      "2020-05-02 12:12:40:pid_34414:latency_estimator:<INFO> 30 times estimation\n",
      "2020-05-02 12:12:42:pid_34414:latency_estimator:<INFO> 40 times estimation\n",
      "2020-05-02 12:12:45:pid_34414:latency_estimator:<INFO> 50 times estimation\n"
     ]
    },
    {
     "name": "stdout",
     "output_type": "stream",
     "text": [
      "count        50.000000\n",
      "mean     244154.343605\n",
      "std       34496.675807\n",
      "min        5201.339722\n",
      "25%      248675.465584\n",
      "50%      249226.689339\n",
      "75%      249565.184116\n",
      "max      251478.672028\n",
      "Name: latency, dtype: float64\n",
      "cumulative_avg, pre_avg: 164203.5443732079, 162357.48788584833\n",
      "convergence ratio: 1.1242488671034936\n",
      "------------------------------reset binary gate------------------------------\n"
     ]
    },
    {
     "name": "stderr",
     "output_type": "stream",
     "text": [
      "2020-05-02 12:12:47:pid_34414:latency_estimator:<INFO> 10 times estimation\n",
      "2020-05-02 12:12:49:pid_34414:latency_estimator:<INFO> 20 times estimation\n",
      "2020-05-02 12:12:50:pid_34414:latency_estimator:<INFO> 30 times estimation\n",
      "2020-05-02 12:12:52:pid_34414:latency_estimator:<INFO> 40 times estimation\n",
      "2020-05-02 12:12:54:pid_34414:latency_estimator:<INFO> 50 times estimation\n"
     ]
    },
    {
     "name": "stdout",
     "output_type": "stream",
     "text": [
      "count        50.000000\n",
      "mean     162618.017197\n",
      "std       22302.373069\n",
      "min        8384.704590\n",
      "25%      165786.921978\n",
      "50%      166083.812714\n",
      "75%      166281.819344\n",
      "max      166969.060898\n",
      "Name: latency, dtype: float64\n",
      "cumulative_avg, pre_avg: 164240.33641815186, 164203.5443732079\n",
      "convergence ratio: 0.022401345337167124\n",
      "------------------------------reset binary gate------------------------------\n"
     ]
    },
    {
     "name": "stderr",
     "output_type": "stream",
     "text": [
      "2020-05-02 12:12:55:pid_34414:latency_estimator:<INFO> 10 times estimation\n",
      "2020-05-02 12:12:55:pid_34414:latency_estimator:<INFO> 20 times estimation\n",
      "2020-05-02 12:12:56:pid_34414:latency_estimator:<INFO> 30 times estimation\n",
      "2020-05-02 12:12:57:pid_34414:latency_estimator:<INFO> 40 times estimation\n",
      "2020-05-02 12:12:57:pid_34414:latency_estimator:<INFO> 50 times estimation\n"
     ]
    },
    {
     "name": "stdout",
     "output_type": "stream",
     "text": [
      "count       50.000000\n",
      "mean     68763.914108\n",
      "std       8620.183631\n",
      "min      10261.535645\n",
      "25%      69809.615612\n",
      "50%      70216.417313\n",
      "75%      70557.534695\n",
      "max      73564.529419\n",
      "Name: latency, dtype: float64\n",
      "cumulative_avg, pre_avg: 162317.36747585997, 164240.33641815186\n",
      "convergence ratio: 1.18469697494193\n",
      "------------------------------reset binary gate------------------------------\n"
     ]
    },
    {
     "name": "stderr",
     "output_type": "stream",
     "text": [
      "2020-05-02 12:12:59:pid_34414:latency_estimator:<INFO> 10 times estimation\n",
      "2020-05-02 12:13:02:pid_34414:latency_estimator:<INFO> 20 times estimation\n",
      "2020-05-02 12:13:04:pid_34414:latency_estimator:<INFO> 30 times estimation\n",
      "2020-05-02 12:13:06:pid_34414:latency_estimator:<INFO> 40 times estimation\n",
      "2020-05-02 12:13:08:pid_34414:latency_estimator:<INFO> 50 times estimation\n"
     ]
    },
    {
     "name": "stdout",
     "output_type": "stream",
     "text": [
      "count        50.000000\n",
      "mean     204756.588936\n",
      "std       27865.651525\n",
      "min       11846.065521\n",
      "25%      208662.390709\n",
      "50%      208909.511566\n",
      "75%      209258.675575\n",
      "max      209928.274155\n",
      "Name: latency, dtype: float64\n",
      "cumulative_avg, pre_avg: 163246.16050720215, 162317.36747585997\n",
      "convergence ratio: 0.5689524509834982\n",
      "------------------------------reset binary gate------------------------------\n"
     ]
    },
    {
     "name": "stderr",
     "output_type": "stream",
     "text": [
      "2020-05-02 12:13:09:pid_34414:latency_estimator:<INFO> 10 times estimation\n",
      "2020-05-02 12:13:09:pid_34414:latency_estimator:<INFO> 20 times estimation\n",
      "2020-05-02 12:13:10:pid_34414:latency_estimator:<INFO> 30 times estimation\n",
      "2020-05-02 12:13:11:pid_34414:latency_estimator:<INFO> 40 times estimation\n",
      "2020-05-02 12:13:11:pid_34414:latency_estimator:<INFO> 50 times estimation\n"
     ]
    },
    {
     "name": "stdout",
     "output_type": "stream",
     "text": [
      "count       50.000000\n",
      "mean     56402.802467\n",
      "std       6786.210749\n",
      "min      10250.329971\n",
      "25%      57469.367981\n",
      "50%      57620.406151\n",
      "75%      57797.253132\n",
      "max      58475.971222\n",
      "Name: latency, dtype: float64\n",
      "cumulative_avg, pre_avg: 161174.4338390874, 163246.16050720215\n",
      "convergence ratio: 1.2853941030021585\n",
      "------------------------------reset binary gate------------------------------\n"
     ]
    },
    {
     "name": "stderr",
     "output_type": "stream",
     "text": [
      "2020-05-02 12:13:13:pid_34414:latency_estimator:<INFO> 10 times estimation\n",
      "2020-05-02 12:13:14:pid_34414:latency_estimator:<INFO> 20 times estimation\n",
      "2020-05-02 12:13:16:pid_34414:latency_estimator:<INFO> 30 times estimation\n",
      "2020-05-02 12:13:18:pid_34414:latency_estimator:<INFO> 40 times estimation\n",
      "2020-05-02 12:13:20:pid_34414:latency_estimator:<INFO> 50 times estimation\n"
     ]
    },
    {
     "name": "stdout",
     "output_type": "stream",
     "text": [
      "count        50.000000\n",
      "mean     163579.368591\n",
      "std       21932.031813\n",
      "min       11916.875839\n",
      "25%      166802.585125\n",
      "50%      167051.076889\n",
      "75%      167161.822319\n",
      "max      167922.496796\n",
      "Name: latency, dtype: float64\n",
      "cumulative_avg, pre_avg: 161286.27703740046, 161174.4338390874\n",
      "convergence ratio: 0.06934452227893045\n",
      "reset times, hit counts: 51, 1\n",
      "------------------------------reset binary gate------------------------------\n"
     ]
    },
    {
     "name": "stderr",
     "output_type": "stream",
     "text": [
      "2020-05-02 12:13:21:pid_34414:latency_estimator:<INFO> 10 times estimation\n",
      "2020-05-02 12:13:21:pid_34414:latency_estimator:<INFO> 20 times estimation\n",
      "2020-05-02 12:13:22:pid_34414:latency_estimator:<INFO> 30 times estimation\n",
      "2020-05-02 12:13:23:pid_34414:latency_estimator:<INFO> 40 times estimation\n",
      "2020-05-02 12:13:24:pid_34414:latency_estimator:<INFO> 50 times estimation\n"
     ]
    },
    {
     "name": "stdout",
     "output_type": "stream",
     "text": [
      "count       50.000000\n",
      "mean     76209.111214\n",
      "std       9638.286223\n",
      "min      10176.658630\n",
      "25%      77275.156975\n",
      "50%      77928.423882\n",
      "75%      78106.403351\n",
      "max      79055.309296\n",
      "Name: latency, dtype: float64\n",
      "cumulative_avg, pre_avg: 159710.01769011875, 161286.27703740046\n",
      "convergence ratio: 0.9869508313123384\n",
      "reset times, hit counts: 52, 2\n",
      "------------------------------reset binary gate------------------------------\n"
     ]
    },
    {
     "name": "stderr",
     "output_type": "stream",
     "text": [
      "2020-05-02 12:13:27:pid_34414:latency_estimator:<INFO> 10 times estimation\n",
      "2020-05-02 12:13:30:pid_34414:latency_estimator:<INFO> 20 times estimation\n",
      "2020-05-02 12:13:34:pid_34414:latency_estimator:<INFO> 30 times estimation\n",
      "2020-05-02 12:13:37:pid_34414:latency_estimator:<INFO> 40 times estimation\n",
      "2020-05-02 12:13:40:pid_34414:latency_estimator:<INFO> 50 times estimation\n"
     ]
    },
    {
     "name": "stdout",
     "output_type": "stream",
     "text": [
      "count        50.000000\n",
      "mean     330569.677353\n",
      "std       46129.757827\n",
      "min       11048.316956\n",
      "25%      337085.306644\n",
      "50%      337318.778038\n",
      "75%      337656.974792\n",
      "max      338871.955872\n",
      "Name: latency, dtype: float64\n",
      "cumulative_avg, pre_avg: 162997.6360886185, 159710.01769011875\n",
      "convergence ratio: 2.016973053960335\n",
      "------------------------------reset binary gate------------------------------\n"
     ]
    },
    {
     "name": "stderr",
     "output_type": "stream",
     "text": [
      "2020-05-02 12:13:44:pid_34414:latency_estimator:<INFO> 10 times estimation\n",
      "2020-05-02 12:13:47:pid_34414:latency_estimator:<INFO> 20 times estimation\n",
      "2020-05-02 12:13:50:pid_34414:latency_estimator:<INFO> 30 times estimation\n",
      "2020-05-02 12:13:53:pid_34414:latency_estimator:<INFO> 40 times estimation\n",
      "2020-05-02 12:13:56:pid_34414:latency_estimator:<INFO> 50 times estimation\n"
     ]
    },
    {
     "name": "stdout",
     "output_type": "stream",
     "text": [
      "count        50.000000\n",
      "mean     302780.199051\n",
      "std       42809.368806\n",
      "min        6210.803986\n",
      "25%      308403.372765\n",
      "50%      308900.475502\n",
      "75%      309447.705746\n",
      "max      310564.756393\n",
      "Name: latency, dtype: float64\n",
      "cumulative_avg, pre_avg: 165646.30248329855, 162997.6360886185\n",
      "convergence ratio: 1.5989891443227922\n",
      "------------------------------reset binary gate------------------------------\n"
     ]
    },
    {
     "name": "stderr",
     "output_type": "stream",
     "text": [
      "2020-05-02 12:13:59:pid_34414:latency_estimator:<INFO> 10 times estimation\n",
      "2020-05-02 12:14:02:pid_34414:latency_estimator:<INFO> 20 times estimation\n",
      "2020-05-02 12:14:04:pid_34414:latency_estimator:<INFO> 30 times estimation\n",
      "2020-05-02 12:14:07:pid_34414:latency_estimator:<INFO> 40 times estimation\n",
      "2020-05-02 12:14:09:pid_34414:latency_estimator:<INFO> 50 times estimation\n"
     ]
    },
    {
     "name": "stdout",
     "output_type": "stream",
     "text": [
      "count        50.000000\n",
      "mean     256430.640221\n",
      "std       35621.557060\n",
      "min        9751.796722\n",
      "25%      261172.354221\n",
      "50%      261623.382568\n",
      "75%      262151.420116\n",
      "max      263626.575470\n",
      "Name: latency, dtype: float64\n",
      "cumulative_avg, pre_avg: 167355.7596547263, 165646.30248329855\n",
      "convergence ratio: 1.0214510543016608\n",
      "------------------------------reset binary gate------------------------------\n"
     ]
    },
    {
     "name": "stderr",
     "output_type": "stream",
     "text": [
      "2020-05-02 12:14:11:pid_34414:latency_estimator:<INFO> 10 times estimation\n",
      "2020-05-02 12:14:12:pid_34414:latency_estimator:<INFO> 20 times estimation\n",
      "2020-05-02 12:14:13:pid_34414:latency_estimator:<INFO> 30 times estimation\n",
      "2020-05-02 12:14:14:pid_34414:latency_estimator:<INFO> 40 times estimation\n",
      "2020-05-02 12:14:15:pid_34414:latency_estimator:<INFO> 50 times estimation\n"
     ]
    },
    {
     "name": "stdout",
     "output_type": "stream",
     "text": [
      "count        50.000000\n",
      "mean      99399.404526\n",
      "std       12406.846728\n",
      "min       14297.962189\n",
      "25%      101160.883904\n",
      "50%      101454.019547\n",
      "75%      101743.280888\n",
      "max      103508.710861\n",
      "Name: latency, dtype: float64\n",
      "cumulative_avg, pre_avg: 166196.758705273, 167355.7596547263\n",
      "convergence ratio: 0.6973667588238761\n",
      "reset times, hit counts: 56, 1\n",
      "------------------------------reset binary gate------------------------------\n"
     ]
    },
    {
     "name": "stderr",
     "output_type": "stream",
     "text": [
      "2020-05-02 12:14:17:pid_34414:latency_estimator:<INFO> 10 times estimation\n",
      "2020-05-02 12:14:19:pid_34414:latency_estimator:<INFO> 20 times estimation\n",
      "2020-05-02 12:14:20:pid_34414:latency_estimator:<INFO> 30 times estimation\n",
      "2020-05-02 12:14:22:pid_34414:latency_estimator:<INFO> 40 times estimation\n",
      "2020-05-02 12:14:24:pid_34414:latency_estimator:<INFO> 50 times estimation\n"
     ]
    },
    {
     "name": "stdout",
     "output_type": "stream",
     "text": [
      "count        50.000000\n",
      "mean     177746.801376\n",
      "std       24710.878850\n",
      "min        6644.487381\n",
      "25%      180845.856667\n",
      "50%      181418.180466\n",
      "75%      181854.069233\n",
      "max      182457.447052\n",
      "Name: latency, dtype: float64\n",
      "cumulative_avg, pre_avg: 166457.29541778564, 166196.758705273\n",
      "convergence ratio: 0.1565186505396014\n",
      "reset times, hit counts: 57, 2\n",
      "------------------------------reset binary gate------------------------------\n"
     ]
    },
    {
     "name": "stderr",
     "output_type": "stream",
     "text": [
      "2020-05-02 12:14:26:pid_34414:latency_estimator:<INFO> 10 times estimation\n",
      "2020-05-02 12:14:28:pid_34414:latency_estimator:<INFO> 20 times estimation\n",
      "2020-05-02 12:14:29:pid_34414:latency_estimator:<INFO> 30 times estimation\n",
      "2020-05-02 12:14:31:pid_34414:latency_estimator:<INFO> 40 times estimation\n",
      "2020-05-02 12:14:33:pid_34414:latency_estimator:<INFO> 50 times estimation\n"
     ]
    },
    {
     "name": "stdout",
     "output_type": "stream",
     "text": [
      "count        50.000000\n",
      "mean     169131.555557\n",
      "std       23507.383488\n",
      "min        6352.663040\n",
      "25%      172411.024570\n",
      "50%      172657.489777\n",
      "75%      172900.557518\n",
      "max      173965.215683\n",
      "Name: latency, dtype: float64\n",
      "cumulative_avg, pre_avg: 166561.88560744462, 166457.29541778564\n",
      "convergence ratio: 0.06279359126942048\n",
      "reset times, hit counts: 58, 3\n",
      "------------------------------reset binary gate------------------------------\n"
     ]
    },
    {
     "name": "stderr",
     "output_type": "stream",
     "text": [
      "2020-05-02 12:14:36:pid_34414:latency_estimator:<INFO> 10 times estimation\n",
      "2020-05-02 12:14:38:pid_34414:latency_estimator:<INFO> 20 times estimation\n",
      "2020-05-02 12:14:41:pid_34414:latency_estimator:<INFO> 30 times estimation\n",
      "2020-05-02 12:14:43:pid_34414:latency_estimator:<INFO> 40 times estimation\n",
      "2020-05-02 12:14:46:pid_34414:latency_estimator:<INFO> 50 times estimation\n"
     ]
    },
    {
     "name": "stdout",
     "output_type": "stream",
     "text": [
      "count        50.000000\n",
      "mean     256441.512108\n",
      "std       35721.444404\n",
      "min        9137.392044\n",
      "25%      261441.111565\n",
      "50%      261900.782585\n",
      "75%      262097.179890\n",
      "max      262710.809708\n",
      "Name: latency, dtype: float64\n",
      "cumulative_avg, pre_avg: 168149.45062001547, 166561.88560744462\n",
      "convergence ratio: 0.9441392800969848\n",
      "reset times, hit counts: 59, 4\n",
      "------------------------------reset binary gate------------------------------\n"
     ]
    },
    {
     "name": "stderr",
     "output_type": "stream",
     "text": [
      "2020-05-02 12:14:49:pid_34414:latency_estimator:<INFO> 10 times estimation\n",
      "2020-05-02 12:14:51:pid_34414:latency_estimator:<INFO> 20 times estimation\n",
      "2020-05-02 12:14:54:pid_34414:latency_estimator:<INFO> 30 times estimation\n",
      "2020-05-02 12:14:56:pid_34414:latency_estimator:<INFO> 40 times estimation\n",
      "2020-05-02 12:14:59:pid_34414:latency_estimator:<INFO> 50 times estimation\n"
     ]
    },
    {
     "name": "stdout",
     "output_type": "stream",
     "text": [
      "count        50.000000\n",
      "mean     243724.918365\n",
      "std       33852.622378\n",
      "min        9346.961975\n",
      "25%      248468.399048\n",
      "50%      248843.431473\n",
      "75%      249015.092850\n",
      "max      249817.848206\n",
      "Name: latency, dtype: float64\n",
      "cumulative_avg, pre_avg: 169471.637538222, 168149.45062001547\n",
      "convergence ratio: 0.7801818271262888\n",
      "reset times, hit counts: 60, 5\n",
      "------------------------------reset binary gate------------------------------\n"
     ]
    },
    {
     "name": "stderr",
     "output_type": "stream",
     "text": [
      "2020-05-02 12:15:00:pid_34414:latency_estimator:<INFO> 10 times estimation\n",
      "2020-05-02 12:15:01:pid_34414:latency_estimator:<INFO> 20 times estimation\n",
      "2020-05-02 12:15:02:pid_34414:latency_estimator:<INFO> 30 times estimation\n",
      "2020-05-02 12:15:03:pid_34414:latency_estimator:<INFO> 40 times estimation\n",
      "2020-05-02 12:15:04:pid_34414:latency_estimator:<INFO> 50 times estimation\n"
     ]
    },
    {
     "name": "stdout",
     "output_type": "stream",
     "text": [
      "count       50.000000\n",
      "mean     94471.249580\n",
      "std      12633.838209\n",
      "min       7300.138474\n",
      "25%      96302.330494\n",
      "50%      96568.584442\n",
      "75%      96726.179123\n",
      "max      97573.518753\n",
      "Name: latency, dtype: float64\n",
      "cumulative_avg, pre_avg: 168294.4897682436, 169471.637538222\n",
      "convergence ratio: 0.6994571073595173\n",
      "reset times, hit counts: 61, 6\n",
      "------------------------------reset binary gate------------------------------\n"
     ]
    },
    {
     "name": "stderr",
     "output_type": "stream",
     "text": [
      "2020-05-02 12:15:05:pid_34414:latency_estimator:<INFO> 10 times estimation\n",
      "2020-05-02 12:15:07:pid_34414:latency_estimator:<INFO> 20 times estimation\n",
      "2020-05-02 12:15:08:pid_34414:latency_estimator:<INFO> 30 times estimation\n",
      "2020-05-02 12:15:09:pid_34414:latency_estimator:<INFO> 40 times estimation\n",
      "2020-05-02 12:15:10:pid_34414:latency_estimator:<INFO> 50 times estimation\n"
     ]
    },
    {
     "name": "stdout",
     "output_type": "stream",
     "text": [
      "count        50.000000\n",
      "mean     123861.188889\n",
      "std       16958.736617\n",
      "min        6519.794464\n",
      "25%      126095.175743\n",
      "50%      126473.307610\n",
      "75%      126731.276512\n",
      "max      127928.256989\n",
      "Name: latency, dtype: float64\n",
      "cumulative_avg, pre_avg: 167628.98006136456, 168294.4897682436\n",
      "convergence ratio: 0.397013515583886\n",
      "reset times, hit counts: 62, 7\n",
      "------------------------------reset binary gate------------------------------\n"
     ]
    },
    {
     "name": "stderr",
     "output_type": "stream",
     "text": [
      "2020-05-02 12:15:13:pid_34414:latency_estimator:<INFO> 10 times estimation\n",
      "2020-05-02 12:15:17:pid_34414:latency_estimator:<INFO> 20 times estimation\n",
      "2020-05-02 12:15:20:pid_34414:latency_estimator:<INFO> 30 times estimation\n",
      "2020-05-02 12:15:23:pid_34414:latency_estimator:<INFO> 40 times estimation\n",
      "2020-05-02 12:15:27:pid_34414:latency_estimator:<INFO> 50 times estimation\n"
     ]
    },
    {
     "name": "stdout",
     "output_type": "stream",
     "text": [
      "count        50.000000\n",
      "mean     321179.594994\n",
      "std       45472.176438\n",
      "min        6145.715714\n",
      "25%      327330.946922\n",
      "50%      327720.284462\n",
      "75%      328126.788139\n",
      "max      329190.254211\n",
      "Name: latency, dtype: float64\n",
      "cumulative_avg, pre_avg: 170129.35057282448, 167628.98006136456\n",
      "convergence ratio: 1.4696879186578813\n",
      "------------------------------reset binary gate------------------------------\n"
     ]
    },
    {
     "name": "stderr",
     "output_type": "stream",
     "text": [
      "2020-05-02 12:15:28:pid_34414:latency_estimator:<INFO> 10 times estimation\n",
      "2020-05-02 12:15:29:pid_34414:latency_estimator:<INFO> 20 times estimation\n",
      "2020-05-02 12:15:30:pid_34414:latency_estimator:<INFO> 30 times estimation\n",
      "2020-05-02 12:15:31:pid_34414:latency_estimator:<INFO> 40 times estimation\n",
      "2020-05-02 12:15:32:pid_34414:latency_estimator:<INFO> 50 times estimation\n"
     ]
    },
    {
     "name": "stdout",
     "output_type": "stream",
     "text": [
      "count       50.000000\n",
      "mean     85191.664696\n",
      "std      11391.763317\n",
      "min       6444.215775\n",
      "25%      86650.729179\n",
      "50%      86963.891983\n",
      "75%      87193.489075\n",
      "max      88020.563126\n",
      "Name: latency, dtype: float64\n",
      "cumulative_avg, pre_avg: 168848.45366844765, 170129.35057282448\n",
      "convergence ratio: 0.7586074237268474\n",
      "reset times, hit counts: 64, 1\n",
      "------------------------------reset binary gate------------------------------\n"
     ]
    },
    {
     "name": "stderr",
     "output_type": "stream",
     "text": [
      "2020-05-02 12:15:34:pid_34414:latency_estimator:<INFO> 10 times estimation\n",
      "2020-05-02 12:15:37:pid_34414:latency_estimator:<INFO> 20 times estimation\n",
      "2020-05-02 12:15:39:pid_34414:latency_estimator:<INFO> 30 times estimation\n",
      "2020-05-02 12:15:42:pid_34414:latency_estimator:<INFO> 40 times estimation\n",
      "2020-05-02 12:15:44:pid_34414:latency_estimator:<INFO> 50 times estimation\n"
     ]
    },
    {
     "name": "stdout",
     "output_type": "stream",
     "text": [
      "count        50.000000\n",
      "mean     251758.046150\n",
      "std       34513.857812\n",
      "min       12790.203094\n",
      "25%      256695.389748\n",
      "50%      256947.755814\n",
      "75%      257243.335247\n",
      "max      258440.494537\n",
      "Name: latency, dtype: float64\n",
      "cumulative_avg, pre_avg: 170181.7815954035, 168848.45366844765\n",
      "convergence ratio: 0.7834727750857365\n",
      "reset times, hit counts: 65, 2\n",
      "------------------------------reset binary gate------------------------------\n"
     ]
    },
    {
     "name": "stderr",
     "output_type": "stream",
     "text": [
      "2020-05-02 12:15:47:pid_34414:latency_estimator:<INFO> 10 times estimation\n",
      "2020-05-02 12:15:48:pid_34414:latency_estimator:<INFO> 20 times estimation\n",
      "2020-05-02 12:15:50:pid_34414:latency_estimator:<INFO> 30 times estimation\n",
      "2020-05-02 12:15:52:pid_34414:latency_estimator:<INFO> 40 times estimation\n",
      "2020-05-02 12:15:54:pid_34414:latency_estimator:<INFO> 50 times estimation\n"
     ]
    },
    {
     "name": "stdout",
     "output_type": "stream",
     "text": [
      "count        50.000000\n",
      "mean     185669.035912\n",
      "std       24967.360418\n",
      "min       13151.884079\n",
      "25%      189045.488834\n",
      "50%      189603.447914\n",
      "75%      189948.022366\n",
      "max      190596.342087\n",
      "Name: latency, dtype: float64\n",
      "cumulative_avg, pre_avg: 170469.1936720663, 170181.7815954035\n",
      "convergence ratio: 0.16860059607936406\n",
      "reset times, hit counts: 66, 3\n",
      "------------------------------reset binary gate------------------------------\n"
     ]
    },
    {
     "name": "stderr",
     "output_type": "stream",
     "text": [
      "2020-05-02 12:15:56:pid_34414:latency_estimator:<INFO> 10 times estimation\n",
      "2020-05-02 12:15:57:pid_34414:latency_estimator:<INFO> 20 times estimation\n",
      "2020-05-02 12:15:58:pid_34414:latency_estimator:<INFO> 30 times estimation\n",
      "2020-05-02 12:16:00:pid_34414:latency_estimator:<INFO> 40 times estimation\n",
      "2020-05-02 12:16:01:pid_34414:latency_estimator:<INFO> 50 times estimation\n"
     ]
    },
    {
     "name": "stdout",
     "output_type": "stream",
     "text": [
      "count        50.000000\n",
      "mean     128152.213097\n",
      "std       16981.843814\n",
      "min       11059.522629\n",
      "25%      130540.728569\n",
      "50%      130848.646164\n",
      "75%      130998.849869\n",
      "max      132948.160172\n",
      "Name: latency, dtype: float64\n",
      "cumulative_avg, pre_avg: 169885.89062410244, 170469.1936720663\n",
      "convergence ratio: 0.3433499072942429\n",
      "reset times, hit counts: 67, 4\n",
      "------------------------------reset binary gate------------------------------\n"
     ]
    },
    {
     "name": "stderr",
     "output_type": "stream",
     "text": [
      "2020-05-02 12:16:03:pid_34414:latency_estimator:<INFO> 10 times estimation\n",
      "2020-05-02 12:16:04:pid_34414:latency_estimator:<INFO> 20 times estimation\n",
      "2020-05-02 12:16:06:pid_34414:latency_estimator:<INFO> 30 times estimation\n",
      "2020-05-02 12:16:07:pid_34414:latency_estimator:<INFO> 40 times estimation\n",
      "2020-05-02 12:16:09:pid_34414:latency_estimator:<INFO> 50 times estimation\n"
     ]
    },
    {
     "name": "stdout",
     "output_type": "stream",
     "text": [
      "count        50.000000\n",
      "mean     156937.518120\n",
      "std       21904.184449\n",
      "min        5421.161652\n",
      "25%      159767.568111\n",
      "50%      160126.328468\n",
      "75%      160838.425159\n",
      "max      162522.077560\n",
      "Name: latency, dtype: float64\n",
      "cumulative_avg, pre_avg: 169743.01683729974, 169885.89062410244\n",
      "convergence ratio: 0.08417064187072892\n",
      "reset times, hit counts: 68, 5\n",
      "------------------------------reset binary gate------------------------------\n"
     ]
    },
    {
     "name": "stderr",
     "output_type": "stream",
     "text": [
      "2020-05-02 12:16:11:pid_34414:latency_estimator:<INFO> 10 times estimation\n",
      "2020-05-02 12:16:13:pid_34414:latency_estimator:<INFO> 20 times estimation\n",
      "2020-05-02 12:16:15:pid_34414:latency_estimator:<INFO> 30 times estimation\n",
      "2020-05-02 12:16:17:pid_34414:latency_estimator:<INFO> 40 times estimation\n",
      "2020-05-02 12:16:19:pid_34414:latency_estimator:<INFO> 50 times estimation\n"
     ]
    },
    {
     "name": "stdout",
     "output_type": "stream",
     "text": [
      "count        50.000000\n",
      "mean     197318.730354\n",
      "std       27376.948804\n",
      "min        7752.180099\n",
      "25%      201201.498508\n",
      "50%      201388.239861\n",
      "75%      201628.029346\n",
      "max      203657.865524\n",
      "Name: latency, dtype: float64\n",
      "cumulative_avg, pre_avg: 170194.46100507464, 169743.01683729974\n",
      "convergence ratio: 0.26525197418818325\n",
      "reset times, hit counts: 69, 6\n",
      "------------------------------reset binary gate------------------------------\n"
     ]
    },
    {
     "name": "stderr",
     "output_type": "stream",
     "text": [
      "2020-05-02 12:16:21:pid_34414:latency_estimator:<INFO> 10 times estimation\n",
      "2020-05-02 12:16:21:pid_34414:latency_estimator:<INFO> 20 times estimation\n",
      "2020-05-02 12:16:22:pid_34414:latency_estimator:<INFO> 30 times estimation\n",
      "2020-05-02 12:16:23:pid_34414:latency_estimator:<INFO> 40 times estimation\n",
      "2020-05-02 12:16:24:pid_34414:latency_estimator:<INFO> 50 times estimation\n"
     ]
    },
    {
     "name": "stdout",
     "output_type": "stream",
     "text": [
      "count       50.000000\n",
      "mean     89277.305603\n",
      "std      11381.295625\n",
      "min      11022.806168\n",
      "25%      90834.021568\n",
      "50%      91173.410416\n",
      "75%      91426.074505\n",
      "max      92134.952545\n",
      "Name: latency, dtype: float64\n",
      "cumulative_avg, pre_avg: 169080.44613582987, 170194.46100507464\n",
      "convergence ratio: 0.658866767094896\n",
      "reset times, hit counts: 70, 7\n",
      "------------------------------reset binary gate------------------------------\n"
     ]
    },
    {
     "name": "stderr",
     "output_type": "stream",
     "text": [
      "2020-05-02 12:16:25:pid_34414:latency_estimator:<INFO> 10 times estimation\n",
      "2020-05-02 12:16:26:pid_34414:latency_estimator:<INFO> 20 times estimation\n",
      "2020-05-02 12:16:27:pid_34414:latency_estimator:<INFO> 30 times estimation\n",
      "2020-05-02 12:16:27:pid_34414:latency_estimator:<INFO> 40 times estimation\n",
      "2020-05-02 12:16:28:pid_34414:latency_estimator:<INFO> 50 times estimation\n"
     ]
    },
    {
     "name": "stdout",
     "output_type": "stream",
     "text": [
      "count       50.000000\n",
      "mean     69417.791367\n",
      "std       8984.704164\n",
      "min       7806.301117\n",
      "25%      70726.335049\n",
      "50%      70943.593979\n",
      "75%      71119.964123\n",
      "max      72969.913483\n",
      "Name: latency, dtype: float64\n",
      "cumulative_avg, pre_avg: 167716.37598673502, 169080.44613582987\n",
      "convergence ratio: 0.813319594505633\n",
      "reset times, hit counts: 71, 8\n",
      "------------------------------reset binary gate------------------------------\n"
     ]
    },
    {
     "name": "stderr",
     "output_type": "stream",
     "text": [
      "2020-05-02 12:16:30:pid_34414:latency_estimator:<INFO> 10 times estimation\n",
      "2020-05-02 12:16:32:pid_34414:latency_estimator:<INFO> 20 times estimation\n",
      "2020-05-02 12:16:35:pid_34414:latency_estimator:<INFO> 30 times estimation\n",
      "2020-05-02 12:16:37:pid_34414:latency_estimator:<INFO> 40 times estimation\n",
      "2020-05-02 12:16:39:pid_34414:latency_estimator:<INFO> 50 times estimation\n"
     ]
    },
    {
     "name": "stdout",
     "output_type": "stream",
     "text": [
      "count        50.000000\n",
      "mean     221754.097939\n",
      "std       31180.869737\n",
      "min        5899.190903\n",
      "25%      225512.087345\n",
      "50%      226503.968239\n",
      "75%      226809.024811\n",
      "max      230246.782303\n",
      "Name: latency, dtype: float64\n",
      "cumulative_avg, pre_avg: 168514.56589894753, 167716.37598673502\n",
      "convergence ratio: 0.4736622664958026\n",
      "reset times, hit counts: 72, 9\n",
      "------------------------------reset binary gate------------------------------\n"
     ]
    },
    {
     "name": "stderr",
     "output_type": "stream",
     "text": [
      "2020-05-02 12:16:42:pid_34414:latency_estimator:<INFO> 10 times estimation\n",
      "2020-05-02 12:16:46:pid_34414:latency_estimator:<INFO> 20 times estimation\n",
      "2020-05-02 12:16:49:pid_34414:latency_estimator:<INFO> 30 times estimation\n",
      "2020-05-02 12:16:52:pid_34414:latency_estimator:<INFO> 40 times estimation\n",
      "2020-05-02 12:16:55:pid_34414:latency_estimator:<INFO> 50 times estimation\n"
     ]
    },
    {
     "name": "stdout",
     "output_type": "stream",
     "text": [
      "count        50.000000\n",
      "mean     312203.707695\n",
      "std       44313.511616\n",
      "min        5231.142044\n",
      "25%      318438.529968\n",
      "50%      318694.710732\n",
      "75%      318911.135197\n",
      "max      319948.196411\n",
      "Name: latency, dtype: float64\n",
      "cumulative_avg, pre_avg: 170543.02950163145, 168514.56589894753\n",
      "convergence ratio: 1.1894145475259719\n",
      "------------------------------reset binary gate------------------------------\n"
     ]
    },
    {
     "name": "stderr",
     "output_type": "stream",
     "text": [
      "2020-05-02 12:16:58:pid_34414:latency_estimator:<INFO> 10 times estimation\n",
      "2020-05-02 12:17:00:pid_34414:latency_estimator:<INFO> 20 times estimation\n",
      "2020-05-02 12:17:02:pid_34414:latency_estimator:<INFO> 30 times estimation\n",
      "2020-05-02 12:17:04:pid_34414:latency_estimator:<INFO> 40 times estimation\n",
      "2020-05-02 12:17:06:pid_34414:latency_estimator:<INFO> 50 times estimation\n"
     ]
    },
    {
     "name": "stdout",
     "output_type": "stream",
     "text": [
      "count        50.000000\n",
      "mean     211987.133026\n",
      "std       28807.431321\n",
      "min       12638.807297\n",
      "25%      216001.212597\n",
      "50%      216413.736343\n",
      "75%      216694.593430\n",
      "max      217616.319656\n",
      "Name: latency, dtype: float64\n",
      "cumulative_avg, pre_avg: 171152.08053588867, 170543.02950163145\n",
      "convergence ratio: 0.3558537134636305\n",
      "reset times, hit counts: 74, 1\n",
      "------------------------------reset binary gate------------------------------\n"
     ]
    },
    {
     "name": "stderr",
     "output_type": "stream",
     "text": [
      "2020-05-02 12:17:09:pid_34414:latency_estimator:<INFO> 10 times estimation\n",
      "2020-05-02 12:17:11:pid_34414:latency_estimator:<INFO> 20 times estimation\n",
      "2020-05-02 12:17:13:pid_34414:latency_estimator:<INFO> 30 times estimation\n",
      "2020-05-02 12:17:15:pid_34414:latency_estimator:<INFO> 40 times estimation\n",
      "2020-05-02 12:17:17:pid_34414:latency_estimator:<INFO> 50 times estimation\n"
     ]
    },
    {
     "name": "stdout",
     "output_type": "stream",
     "text": [
      "count        50.000000\n",
      "mean     208936.624527\n",
      "std       28962.962104\n",
      "min        8486.986160\n",
      "25%      212893.664837\n",
      "50%      213338.017464\n",
      "75%      213589.429855\n",
      "max      216054.677963\n",
      "Name: latency, dtype: float64\n",
      "cumulative_avg, pre_avg: 171703.76526682, 171152.08053588867\n",
      "convergence ratio: 0.32130031049350444\n",
      "reset times, hit counts: 75, 2\n",
      "------------------------------reset binary gate------------------------------\n"
     ]
    },
    {
     "name": "stderr",
     "output_type": "stream",
     "text": [
      "2020-05-02 12:17:20:pid_34414:latency_estimator:<INFO> 10 times estimation\n",
      "2020-05-02 12:17:22:pid_34414:latency_estimator:<INFO> 20 times estimation\n",
      "2020-05-02 12:17:25:pid_34414:latency_estimator:<INFO> 30 times estimation\n",
      "2020-05-02 12:17:27:pid_34414:latency_estimator:<INFO> 40 times estimation\n",
      "2020-05-02 12:17:30:pid_34414:latency_estimator:<INFO> 50 times estimation\n"
     ]
    },
    {
     "name": "stdout",
     "output_type": "stream",
     "text": [
      "count        50.000000\n",
      "mean     244103.474617\n",
      "std       33391.917414\n",
      "min       13028.144836\n",
      "25%      248778.343201\n",
      "50%      249169.588089\n",
      "75%      249416.470528\n",
      "max      250617.265701\n",
      "Name: latency, dtype: float64\n",
      "cumulative_avg, pre_avg: 172707.8865100811, 171703.76526682\n",
      "convergence ratio: 0.5813986052122064\n",
      "reset times, hit counts: 76, 3\n",
      "------------------------------reset binary gate------------------------------\n"
     ]
    },
    {
     "name": "stderr",
     "output_type": "stream",
     "text": [
      "2020-05-02 12:17:31:pid_34414:latency_estimator:<INFO> 10 times estimation\n",
      "2020-05-02 12:17:33:pid_34414:latency_estimator:<INFO> 20 times estimation\n",
      "2020-05-02 12:17:34:pid_34414:latency_estimator:<INFO> 30 times estimation\n",
      "2020-05-02 12:17:35:pid_34414:latency_estimator:<INFO> 40 times estimation\n",
      "2020-05-02 12:17:37:pid_34414:latency_estimator:<INFO> 50 times estimation\n"
     ]
    },
    {
     "name": "stdout",
     "output_type": "stream",
     "text": [
      "count        50.000000\n",
      "mean     122879.405022\n",
      "std       16967.080147\n",
      "min        5476.474762\n",
      "25%      124905.824661\n",
      "50%      125444.293022\n",
      "75%      125747.859478\n",
      "max      127128.362656\n",
      "Name: latency, dtype: float64\n",
      "cumulative_avg, pre_avg: 172099.67221969212, 172707.8865100811\n",
      "convergence ratio: 0.3534081631559219\n",
      "reset times, hit counts: 77, 4\n",
      "------------------------------reset binary gate------------------------------\n"
     ]
    },
    {
     "name": "stderr",
     "output_type": "stream",
     "text": [
      "2020-05-02 12:17:38:pid_34414:latency_estimator:<INFO> 10 times estimation\n",
      "2020-05-02 12:17:40:pid_34414:latency_estimator:<INFO> 20 times estimation\n",
      "2020-05-02 12:17:42:pid_34414:latency_estimator:<INFO> 30 times estimation\n",
      "2020-05-02 12:17:44:pid_34414:latency_estimator:<INFO> 40 times estimation\n",
      "2020-05-02 12:17:46:pid_34414:latency_estimator:<INFO> 50 times estimation\n"
     ]
    },
    {
     "name": "stdout",
     "output_type": "stream",
     "text": [
      "count        50.000000\n",
      "mean     182871.460915\n",
      "std       25518.696659\n",
      "min        6177.425385\n",
      "25%      186224.639416\n",
      "50%      186568.379402\n",
      "75%      186972.141266\n",
      "max      187624.931335\n",
      "Name: latency, dtype: float64\n",
      "cumulative_avg, pre_avg: 172282.0650173139, 172099.67221969212\n",
      "convergence ratio: 0.1058687087384586\n",
      "reset times, hit counts: 78, 5\n",
      "------------------------------reset binary gate------------------------------\n"
     ]
    },
    {
     "name": "stderr",
     "output_type": "stream",
     "text": [
      "2020-05-02 12:17:47:pid_34414:latency_estimator:<INFO> 10 times estimation\n",
      "2020-05-02 12:17:49:pid_34414:latency_estimator:<INFO> 20 times estimation\n",
      "2020-05-02 12:17:50:pid_34414:latency_estimator:<INFO> 30 times estimation\n",
      "2020-05-02 12:17:51:pid_34414:latency_estimator:<INFO> 40 times estimation\n",
      "2020-05-02 12:17:52:pid_34414:latency_estimator:<INFO> 50 times estimation\n"
     ]
    },
    {
     "name": "stdout",
     "output_type": "stream",
     "text": [
      "count        50.000000\n",
      "mean     117664.623260\n",
      "std       16106.142559\n",
      "min        6252.527237\n",
      "25%      119939.327240\n",
      "50%      120257.854462\n",
      "75%      120297.014713\n",
      "max      121273.279190\n",
      "Name: latency, dtype: float64\n",
      "cumulative_avg, pre_avg: 171630.58638572693, 172282.0650173139\n",
      "convergence ratio: 0.3795818946413327\n",
      "reset times, hit counts: 79, 6\n",
      "------------------------------reset binary gate------------------------------\n"
     ]
    },
    {
     "name": "stderr",
     "output_type": "stream",
     "text": [
      "2020-05-02 12:17:55:pid_34414:latency_estimator:<INFO> 10 times estimation\n",
      "2020-05-02 12:17:58:pid_34414:latency_estimator:<INFO> 20 times estimation\n",
      "2020-05-02 12:18:00:pid_34414:latency_estimator:<INFO> 30 times estimation\n",
      "2020-05-02 12:18:03:pid_34414:latency_estimator:<INFO> 40 times estimation\n",
      "2020-05-02 12:18:06:pid_34414:latency_estimator:<INFO> 50 times estimation\n"
     ]
    },
    {
     "name": "stdout",
     "output_type": "stream",
     "text": [
      "count        50.000000\n",
      "mean     271804.971695\n",
      "std       37619.046284\n",
      "min       11257.886887\n",
      "25%      276897.788048\n",
      "50%      277401.566505\n",
      "75%      277741.312981\n",
      "max      278368.234634\n",
      "Name: latency, dtype: float64\n",
      "cumulative_avg, pre_avg: 172934.53922978154, 171630.58638572693\n",
      "convergence ratio: 0.7540152764521059\n",
      "reset times, hit counts: 80, 7\n",
      "------------------------------reset binary gate------------------------------\n"
     ]
    },
    {
     "name": "stderr",
     "output_type": "stream",
     "text": [
      "2020-05-02 12:18:08:pid_34414:latency_estimator:<INFO> 10 times estimation\n",
      "2020-05-02 12:18:09:pid_34414:latency_estimator:<INFO> 20 times estimation\n",
      "2020-05-02 12:18:10:pid_34414:latency_estimator:<INFO> 30 times estimation\n",
      "2020-05-02 12:18:11:pid_34414:latency_estimator:<INFO> 40 times estimation\n",
      "2020-05-02 12:18:13:pid_34414:latency_estimator:<INFO> 50 times estimation\n"
     ]
    },
    {
     "name": "stdout",
     "output_type": "stream",
     "text": [
      "count        50.000000\n",
      "mean     120802.512169\n",
      "std       16703.638890\n",
      "min        5184.173584\n",
      "25%      123063.802719\n",
      "50%      123303.174973\n",
      "75%      123531.818390\n",
      "max      124430.656433\n",
      "Name: latency, dtype: float64\n",
      "cumulative_avg, pre_avg: 172328.7407944842, 172934.53922978154\n",
      "convergence ratio: 0.35153650662357705\n",
      "reset times, hit counts: 81, 8\n",
      "------------------------------reset binary gate------------------------------\n"
     ]
    },
    {
     "name": "stderr",
     "output_type": "stream",
     "text": [
      "2020-05-02 12:18:14:pid_34414:latency_estimator:<INFO> 10 times estimation\n",
      "2020-05-02 12:18:16:pid_34414:latency_estimator:<INFO> 20 times estimation\n",
      "2020-05-02 12:18:18:pid_34414:latency_estimator:<INFO> 30 times estimation\n",
      "2020-05-02 12:18:20:pid_34414:latency_estimator:<INFO> 40 times estimation\n",
      "2020-05-02 12:18:22:pid_34414:latency_estimator:<INFO> 50 times estimation\n"
     ]
    },
    {
     "name": "stdout",
     "output_type": "stream",
     "text": [
      "count        50.000000\n",
      "mean     174855.890274\n",
      "std       24388.003307\n",
      "min        6036.281586\n",
      "25%      177993.655205\n",
      "50%      178409.576416\n",
      "75%      178711.891174\n",
      "max      182233.810425\n",
      "Name: latency, dtype: float64\n",
      "cumulative_avg, pre_avg: 172400.6078329431, 172328.7407944842\n",
      "convergence ratio: 0.04168607023039979\n",
      "reset times, hit counts: 82, 9\n",
      "------------------------------reset binary gate------------------------------\n"
     ]
    },
    {
     "name": "stderr",
     "output_type": "stream",
     "text": [
      "2020-05-02 12:18:24:pid_34414:latency_estimator:<INFO> 10 times estimation\n",
      "2020-05-02 12:18:26:pid_34414:latency_estimator:<INFO> 20 times estimation\n",
      "2020-05-02 12:18:28:pid_34414:latency_estimator:<INFO> 30 times estimation\n",
      "2020-05-02 12:18:30:pid_34414:latency_estimator:<INFO> 40 times estimation\n",
      "2020-05-02 12:18:32:pid_34414:latency_estimator:<INFO> 50 times estimation\n"
     ]
    },
    {
     "name": "stdout",
     "output_type": "stream",
     "text": [
      "count        50.000000\n",
      "mean     199233.484268\n",
      "std       27291.122340\n",
      "min       10426.044464\n",
      "25%      203072.845936\n",
      "50%      203331.828117\n",
      "75%      203597.307205\n",
      "max      205453.157425\n",
      "Name: latency, dtype: float64\n",
      "cumulative_avg, pre_avg: 172767.55628131685, 172400.6078329431\n",
      "convergence ratio: 0.2123943038102944\n",
      "reset times, hit counts: 83, 10\n"
     ]
    }
   ],
   "source": [
    "test1 = cumulative_avg()"
   ]
  },
  {
   "cell_type": "code",
   "execution_count": 28,
   "metadata": {},
   "outputs": [],
   "source": [
    "cum, err, lat= pd.Series(test1[0]), pd.Series(test1[1]), pd.Series(test1[2])"
   ]
  },
  {
   "cell_type": "code",
   "execution_count": 29,
   "metadata": {},
   "outputs": [
    {
     "data": {
      "text/plain": [
       "<matplotlib.axes._subplots.AxesSubplot at 0x7f3ad96ae320>"
      ]
     },
     "execution_count": 29,
     "metadata": {},
     "output_type": "execute_result"
    },
    {
     "data": {
      "image/png": "[encoded data removed]",
      "text/plain": [
       "<Figure size 432x288 with 1 Axes>"
      ]
     },
     "metadata": {
      "needs_background": "light"
     },
     "output_type": "display_data"
    }
   ],
   "source": [
    "cum.plot()"
   ]
  },
  {
   "cell_type": "code",
   "execution_count": 30,
   "metadata": {},
   "outputs": [
    {
     "data": {
      "text/plain": [
       "<matplotlib.axes._subplots.AxesSubplot at 0x7f3b0562f240>"
      ]
     },
     "execution_count": 30,
     "metadata": {},
     "output_type": "execute_result"
    },
    {
     "data": {
      "image/png": "[encoded data removed]",
      "text/plain": [
       "<Figure size 432x288 with 1 Axes>"
      ]
     },
     "metadata": {
      "needs_background": "light"
     },
     "output_type": "display_data"
    }
   ],
   "source": [
    "err.plot()"
   ]
  },
  {
   "cell_type": "code",
   "execution_count": 32,
   "metadata": {},
   "outputs": [
    {
     "data": {
      "text/plain": [
       "<matplotlib.axes._subplots.AxesSubplot at 0x7f3ad93a7898>"
      ]
     },
     "execution_count": 32,
     "metadata": {},
     "output_type": "execute_result"
    },
    {
     "data": {
      "image/png": "[encoded data removed]",
      "text/plain": [
       "<Figure size 432x288 with 1 Axes>"
      ]
     },
     "metadata": {
      "needs_background": "light"
     },
     "output_type": "display_data"
    }
   ],
   "source": [
    "lat.plot()"
   ]
  },
  {
   "cell_type": "code",
   "execution_count": 34,
   "metadata": {},
   "outputs": [
    {
     "name": "stdout",
     "output_type": "stream",
     "text": [
      "------------------------------reset binary gate------------------------------\n"
     ]
    },
    {
     "name": "stderr",
     "output_type": "stream",
     "text": [
      "2020-05-02 12:23:41:pid_34414:latency_estimator:<INFO> 10 times estimation\n",
      "2020-05-02 12:23:43:pid_34414:latency_estimator:<INFO> 20 times estimation\n",
      "2020-05-02 12:23:45:pid_34414:latency_estimator:<INFO> 30 times estimation\n",
      "2020-05-02 12:23:48:pid_34414:latency_estimator:<INFO> 40 times estimation\n",
      "2020-05-02 12:23:50:pid_34414:latency_estimator:<INFO> 50 times estimation\n"
     ]
    },
    {
     "name": "stdout",
     "output_type": "stream",
     "text": [
      "count        50.000000\n",
      "mean     231506.400108\n",
      "std       32085.589462\n",
      "min       11799.335480\n",
      "25%      234395.980835\n",
      "50%      235563.993454\n",
      "75%      236430.168152\n",
      "max      268636.941910\n",
      "Name: latency, dtype: float64\n",
      "cumulative_avg, pre_avg: 234963.22631835938, 234963.22631835938\n",
      "convergence ratio: 0.0\n",
      "------------------------------reset binary gate------------------------------\n"
     ]
    },
    {
     "name": "stderr",
     "output_type": "stream",
     "text": [
      "2020-05-02 12:23:52:pid_34414:latency_estimator:<INFO> 10 times estimation\n",
      "2020-05-02 12:23:54:pid_34414:latency_estimator:<INFO> 20 times estimation\n",
      "2020-05-02 12:23:56:pid_34414:latency_estimator:<INFO> 30 times estimation\n",
      "2020-05-02 12:23:58:pid_34414:latency_estimator:<INFO> 40 times estimation\n",
      "2020-05-02 12:24:00:pid_34414:latency_estimator:<INFO> 50 times estimation\n"
     ]
    },
    {
     "name": "stdout",
     "output_type": "stream",
     "text": [
      "count        50.000000\n",
      "mean     188944.635391\n",
      "std       25579.908580\n",
      "min       12421.369553\n",
      "25%      192541.658878\n",
      "50%      193121.790886\n",
      "75%      193554.520607\n",
      "max      194943.666458\n",
      "Name: latency, dtype: float64\n",
      "cumulative_avg, pre_avg: 213941.88404083252, 234963.22631835938\n",
      "convergence ratio: 9.82572551035157\n",
      "------------------------------reset binary gate------------------------------\n"
     ]
    },
    {
     "name": "stderr",
     "output_type": "stream",
     "text": [
      "2020-05-02 12:24:02:pid_34414:latency_estimator:<INFO> 10 times estimation\n",
      "2020-05-02 12:24:04:pid_34414:latency_estimator:<INFO> 20 times estimation\n",
      "2020-05-02 12:24:05:pid_34414:latency_estimator:<INFO> 30 times estimation\n",
      "2020-05-02 12:24:07:pid_34414:latency_estimator:<INFO> 40 times estimation\n",
      "2020-05-02 12:24:09:pid_34414:latency_estimator:<INFO> 50 times estimation\n"
     ]
    },
    {
     "name": "stdout",
     "output_type": "stream",
     "text": [
      "count        50.000000\n",
      "mean     175304.222107\n",
      "std       23757.884699\n",
      "min       11291.265488\n",
      "25%      178531.408310\n",
      "50%      179051.876068\n",
      "75%      179466.009140\n",
      "max      181105.375290\n",
      "Name: latency, dtype: float64\n",
      "cumulative_avg, pre_avg: 202244.1864013672, 213941.88404083252\n",
      "convergence ratio: 5.783947537681239\n",
      "------------------------------reset binary gate------------------------------\n"
     ]
    },
    {
     "name": "stderr",
     "output_type": "stream",
     "text": [
      "2020-05-02 12:24:10:pid_34414:latency_estimator:<INFO> 10 times estimation\n",
      "2020-05-02 12:24:11:pid_34414:latency_estimator:<INFO> 20 times estimation\n",
      "2020-05-02 12:24:12:pid_34414:latency_estimator:<INFO> 30 times estimation\n",
      "2020-05-02 12:24:13:pid_34414:latency_estimator:<INFO> 40 times estimation\n",
      "2020-05-02 12:24:14:pid_34414:latency_estimator:<INFO> 50 times estimation\n"
     ]
    },
    {
     "name": "stdout",
     "output_type": "stream",
     "text": [
      "count       50.000000\n",
      "mean     79425.172806\n",
      "std      10754.798117\n",
      "min       5214.214325\n",
      "25%      80963.730812\n",
      "50%      81123.113632\n",
      "75%      81322.550774\n",
      "max      81914.424896\n",
      "Name: latency, dtype: float64\n",
      "cumulative_avg, pre_avg: 171951.425075531, 202244.1864013672\n",
      "convergence ratio: 17.61704580961155\n",
      "------------------------------reset binary gate------------------------------\n"
     ]
    },
    {
     "name": "stderr",
     "output_type": "stream",
     "text": [
      "2020-05-02 12:24:15:pid_34414:latency_estimator:<INFO> 10 times estimation\n",
      "2020-05-02 12:24:16:pid_34414:latency_estimator:<INFO> 20 times estimation\n",
      "2020-05-02 12:24:18:pid_34414:latency_estimator:<INFO> 30 times estimation\n",
      "2020-05-02 12:24:19:pid_34414:latency_estimator:<INFO> 40 times estimation\n",
      "2020-05-02 12:24:21:pid_34414:latency_estimator:<INFO> 50 times estimation\n"
     ]
    },
    {
     "name": "stdout",
     "output_type": "stream",
     "text": [
      "count        50.000000\n",
      "mean     139880.628586\n",
      "std       18855.005930\n",
      "min        9573.936462\n",
      "25%      142489.492893\n",
      "50%      142824.649811\n",
      "75%      143155.813217\n",
      "max      143882.989883\n",
      "Name: latency, dtype: float64\n",
      "cumulative_avg, pre_avg: 166111.421585083, 171951.425075531\n",
      "convergence ratio: 3.515714593687179\n",
      "------------------------------reset binary gate------------------------------\n"
     ]
    },
    {
     "name": "stderr",
     "output_type": "stream",
     "text": [
      "2020-05-02 12:24:22:pid_34414:latency_estimator:<INFO> 10 times estimation\n",
      "2020-05-02 12:24:23:pid_34414:latency_estimator:<INFO> 20 times estimation\n",
      "2020-05-02 12:24:25:pid_34414:latency_estimator:<INFO> 30 times estimation\n",
      "2020-05-02 12:24:26:pid_34414:latency_estimator:<INFO> 40 times estimation\n",
      "2020-05-02 12:24:27:pid_34414:latency_estimator:<INFO> 50 times estimation\n"
     ]
    },
    {
     "name": "stdout",
     "output_type": "stream",
     "text": [
      "count        50.000000\n",
      "mean     118305.940628\n",
      "std       16205.214501\n",
      "min        6189.107895\n",
      "25%      120352.327824\n",
      "50%      120806.932449\n",
      "75%      121047.675610\n",
      "max      122026.681900\n",
      "Name: latency, dtype: float64\n",
      "cumulative_avg, pre_avg: 158547.314008077, 166111.421585083\n",
      "convergence ratio: 4.770883457931472\n",
      "------------------------------reset binary gate------------------------------\n"
     ]
    },
    {
     "name": "stderr",
     "output_type": "stream",
     "text": [
      "2020-05-02 12:24:29:pid_34414:latency_estimator:<INFO> 10 times estimation\n",
      "2020-05-02 12:24:31:pid_34414:latency_estimator:<INFO> 20 times estimation\n",
      "2020-05-02 12:24:33:pid_34414:latency_estimator:<INFO> 30 times estimation\n",
      "2020-05-02 12:24:36:pid_34414:latency_estimator:<INFO> 40 times estimation\n",
      "2020-05-02 12:24:38:pid_34414:latency_estimator:<INFO> 50 times estimation\n"
     ]
    },
    {
     "name": "stdout",
     "output_type": "stream",
     "text": [
      "count        50.000000\n",
      "mean     210824.208260\n",
      "std       29564.100047\n",
      "min        6113.767624\n",
      "25%      214692.234993\n",
      "50%      215031.623840\n",
      "75%      215690.195560\n",
      "max      217274.904251\n",
      "Name: latency, dtype: float64\n",
      "cumulative_avg, pre_avg: 166602.441242763, 158547.314008077\n",
      "convergence ratio: 4.834939497044073\n",
      "------------------------------reset binary gate------------------------------\n"
     ]
    },
    {
     "name": "stderr",
     "output_type": "stream",
     "text": [
      "2020-05-02 12:24:42:pid_34414:latency_estimator:<INFO> 10 times estimation\n",
      "2020-05-02 12:24:46:pid_34414:latency_estimator:<INFO> 20 times estimation\n",
      "2020-05-02 12:24:51:pid_34414:latency_estimator:<INFO> 30 times estimation\n",
      "2020-05-02 12:24:55:pid_34414:latency_estimator:<INFO> 40 times estimation\n",
      "2020-05-02 12:24:59:pid_34414:latency_estimator:<INFO> 50 times estimation\n"
     ]
    },
    {
     "name": "stdout",
     "output_type": "stream",
     "text": [
      "count        50.000000\n",
      "mean     430420.379639\n",
      "std       60831.647485\n",
      "min        9016.752243\n",
      "25%      438770.174980\n",
      "50%      439319.133759\n",
      "75%      439771.592617\n",
      "max      441080.808640\n",
      "Name: latency, dtype: float64\n",
      "cumulative_avg, pre_avg: 200667.2501564026, 166602.441242763\n",
      "convergence ratio: 16.9757690341045\n",
      "------------------------------reset binary gate------------------------------\n"
     ]
    },
    {
     "name": "stderr",
     "output_type": "stream",
     "text": [
      "2020-05-02 12:25:01:pid_34414:latency_estimator:<INFO> 10 times estimation\n",
      "2020-05-02 12:25:02:pid_34414:latency_estimator:<INFO> 20 times estimation\n",
      "2020-05-02 12:25:03:pid_34414:latency_estimator:<INFO> 30 times estimation\n",
      "2020-05-02 12:25:04:pid_34414:latency_estimator:<INFO> 40 times estimation\n",
      "2020-05-02 12:25:05:pid_34414:latency_estimator:<INFO> 50 times estimation\n"
     ]
    },
    {
     "name": "stdout",
     "output_type": "stream",
     "text": [
      "count       50.000000\n",
      "mean     89768.328667\n",
      "std      11469.970032\n",
      "min      11236.190796\n",
      "25%      91417.789459\n",
      "50%      91673.851013\n",
      "75%      91762.423515\n",
      "max      95642.089844\n",
      "Name: latency, dtype: float64\n",
      "cumulative_avg, pre_avg: 188538.3341047499, 200667.2501564026\n",
      "convergence ratio: 6.43312995696355\n",
      "------------------------------reset binary gate------------------------------\n"
     ]
    },
    {
     "name": "stderr",
     "output_type": "stream",
     "text": [
      "2020-05-02 12:25:06:pid_34414:latency_estimator:<INFO> 10 times estimation\n",
      "2020-05-02 12:25:07:pid_34414:latency_estimator:<INFO> 20 times estimation\n",
      "2020-05-02 12:25:08:pid_34414:latency_estimator:<INFO> 30 times estimation\n",
      "2020-05-02 12:25:09:pid_34414:latency_estimator:<INFO> 40 times estimation\n",
      "2020-05-02 12:25:10:pid_34414:latency_estimator:<INFO> 50 times estimation\n"
     ]
    },
    {
     "name": "stdout",
     "output_type": "stream",
     "text": [
      "count        50.000000\n",
      "mean     103521.876335\n",
      "std       14181.247508\n",
      "min        5516.290665\n",
      "25%      105548.381805\n",
      "50%      105838.894844\n",
      "75%      105964.183807\n",
      "max      106316.089630\n",
      "Name: latency, dtype: float64\n",
      "cumulative_avg, pre_avg: 180255.45120239258, 188538.3341047499\n",
      "convergence ratio: 4.595080396796\n",
      "------------------------------reset binary gate------------------------------\n"
     ]
    },
    {
     "name": "stderr",
     "output_type": "stream",
     "text": [
      "2020-05-02 12:25:12:pid_34414:latency_estimator:<INFO> 10 times estimation\n",
      "2020-05-02 12:25:14:pid_34414:latency_estimator:<INFO> 20 times estimation\n",
      "2020-05-02 12:25:16:pid_34414:latency_estimator:<INFO> 30 times estimation\n",
      "2020-05-02 12:25:18:pid_34414:latency_estimator:<INFO> 40 times estimation\n",
      "2020-05-02 12:25:20:pid_34414:latency_estimator:<INFO> 50 times estimation\n"
     ]
    },
    {
     "name": "stdout",
     "output_type": "stream",
     "text": [
      "count        50.000000\n",
      "mean     196583.909988\n",
      "std       27518.036616\n",
      "min        6046.295166\n",
      "25%      200246.274471\n",
      "50%      200794.458389\n",
      "75%      201204.836369\n",
      "max      201711.654663\n",
      "Name: latency, dtype: float64\n",
      "cumulative_avg, pre_avg: 182084.2439478094, 180255.45120239258\n",
      "convergence ratio: 1.0043662789082368\n",
      "------------------------------reset binary gate------------------------------\n"
     ]
    },
    {
     "name": "stderr",
     "output_type": "stream",
     "text": [
      "2020-05-02 12:25:22:pid_34414:latency_estimator:<INFO> 10 times estimation\n",
      "2020-05-02 12:25:23:pid_34414:latency_estimator:<INFO> 20 times estimation\n",
      "2020-05-02 12:25:24:pid_34414:latency_estimator:<INFO> 30 times estimation\n",
      "2020-05-02 12:25:26:pid_34414:latency_estimator:<INFO> 40 times estimation\n",
      "2020-05-02 12:25:27:pid_34414:latency_estimator:<INFO> 50 times estimation\n"
     ]
    },
    {
     "name": "stdout",
     "output_type": "stream",
     "text": [
      "count        50.000000\n",
      "mean     121857.333183\n",
      "std       16483.534603\n",
      "min        7850.170135\n",
      "25%      124117.136002\n",
      "50%      124499.678612\n",
      "75%      124651.372433\n",
      "max      126142.740250\n",
      "Name: latency, dtype: float64\n",
      "cumulative_avg, pre_avg: 177272.16879526773, 182084.2439478094\n",
      "convergence ratio: 2.714512483964214\n",
      "------------------------------reset binary gate------------------------------\n"
     ]
    },
    {
     "name": "stderr",
     "output_type": "stream",
     "text": [
      "2020-05-02 12:25:30:pid_34414:latency_estimator:<INFO> 10 times estimation\n",
      "2020-05-02 12:25:34:pid_34414:latency_estimator:<INFO> 20 times estimation\n",
      "2020-05-02 12:25:38:pid_34414:latency_estimator:<INFO> 30 times estimation\n",
      "2020-05-02 12:25:42:pid_34414:latency_estimator:<INFO> 40 times estimation\n",
      "2020-05-02 12:25:46:pid_34414:latency_estimator:<INFO> 50 times estimation\n"
     ]
    },
    {
     "name": "stdout",
     "output_type": "stream",
     "text": [
      "count        50.000000\n",
      "mean     376977.901459\n",
      "std       52335.400339\n",
      "min       14492.273331\n",
      "25%      384045.183659\n",
      "50%      384663.224220\n",
      "75%      385377.645493\n",
      "max      387135.982513\n",
      "Name: latency, dtype: float64\n",
      "cumulative_avg, pre_avg: 193203.03109975962, 177272.16879526773\n",
      "convergence ratio: 8.245658576788092\n",
      "------------------------------reset binary gate------------------------------\n"
     ]
    },
    {
     "name": "stderr",
     "output_type": "stream",
     "text": [
      "2020-05-02 12:25:49:pid_34414:latency_estimator:<INFO> 10 times estimation\n",
      "2020-05-02 12:25:51:pid_34414:latency_estimator:<INFO> 20 times estimation\n",
      "2020-05-02 12:25:54:pid_34414:latency_estimator:<INFO> 30 times estimation\n",
      "2020-05-02 12:25:56:pid_34414:latency_estimator:<INFO> 40 times estimation\n",
      "2020-05-02 12:25:59:pid_34414:latency_estimator:<INFO> 50 times estimation\n"
     ]
    },
    {
     "name": "stdout",
     "output_type": "stream",
     "text": [
      "count        50.000000\n",
      "mean     247477.874756\n",
      "std       34606.900572\n",
      "min        7793.903351\n",
      "25%      252237.915993\n",
      "50%      252661.824226\n",
      "75%      252883.017063\n",
      "max      254281.997681\n",
      "Name: latency, dtype: float64\n",
      "cumulative_avg, pre_avg: 197439.91579328265, 193203.03109975962\n",
      "convergence ratio: 2.1459109099089138\n",
      "------------------------------reset binary gate------------------------------\n"
     ]
    },
    {
     "name": "stderr",
     "output_type": "stream",
     "text": [
      "2020-05-02 12:26:00:pid_34414:latency_estimator:<INFO> 10 times estimation\n",
      "2020-05-02 12:26:01:pid_34414:latency_estimator:<INFO> 20 times estimation\n",
      "2020-05-02 12:26:01:pid_34414:latency_estimator:<INFO> 30 times estimation\n",
      "2020-05-02 12:26:02:pid_34414:latency_estimator:<INFO> 40 times estimation\n",
      "2020-05-02 12:26:02:pid_34414:latency_estimator:<INFO> 50 times estimation\n"
     ]
    },
    {
     "name": "stdout",
     "output_type": "stream",
     "text": [
      "count       50.000000\n",
      "mean     57053.451538\n",
      "std       7252.938289\n",
      "min       7325.172424\n",
      "25%      58107.018471\n",
      "50%      58372.616768\n",
      "75%      58538.794518\n",
      "max      59285.402298\n",
      "Name: latency, dtype: float64\n",
      "cumulative_avg, pre_avg: 188161.79275512695, 197439.91579328265\n",
      "convergence ratio: 4.930928273111327\n",
      "------------------------------reset binary gate------------------------------\n"
     ]
    },
    {
     "name": "stderr",
     "output_type": "stream",
     "text": [
      "2020-05-02 12:26:04:pid_34414:latency_estimator:<INFO> 10 times estimation\n",
      "2020-05-02 12:26:06:pid_34414:latency_estimator:<INFO> 20 times estimation\n",
      "2020-05-02 12:26:09:pid_34414:latency_estimator:<INFO> 30 times estimation\n",
      "2020-05-02 12:26:11:pid_34414:latency_estimator:<INFO> 40 times estimation\n",
      "2020-05-02 12:26:13:pid_34414:latency_estimator:<INFO> 50 times estimation\n"
     ]
    },
    {
     "name": "stdout",
     "output_type": "stream",
     "text": [
      "count        50.000000\n",
      "mean     201730.961800\n",
      "std       27722.016119\n",
      "min        9932.994843\n",
      "25%      205394.983292\n",
      "50%      205909.729004\n",
      "75%      206395.387650\n",
      "max      207343.578339\n",
      "Name: latency, dtype: float64\n",
      "cumulative_avg, pre_avg: 189250.2725124359, 188161.79275512695\n",
      "convergence ratio: 0.5751536010271449\n",
      "------------------------------reset binary gate------------------------------\n"
     ]
    },
    {
     "name": "stderr",
     "output_type": "stream",
     "text": [
      "2020-05-02 12:26:14:pid_34414:latency_estimator:<INFO> 10 times estimation\n",
      "2020-05-02 12:26:15:pid_34414:latency_estimator:<INFO> 20 times estimation\n",
      "2020-05-02 12:26:15:pid_34414:latency_estimator:<INFO> 30 times estimation\n",
      "2020-05-02 12:26:16:pid_34414:latency_estimator:<INFO> 40 times estimation\n",
      "2020-05-02 12:26:17:pid_34414:latency_estimator:<INFO> 50 times estimation\n"
     ]
    },
    {
     "name": "stdout",
     "output_type": "stream",
     "text": [
      "count       50.000000\n",
      "mean     67195.501328\n",
      "std       8379.991964\n",
      "min      10088.443756\n",
      "25%      68396.091461\n",
      "50%      68604.588509\n",
      "75%      68825.364113\n",
      "max      70706.367493\n",
      "Name: latency, dtype: float64\n",
      "cumulative_avg, pre_avg: 182148.46779318416, 189250.2725124359\n",
      "convergence ratio: 3.898909941595182\n",
      "------------------------------reset binary gate------------------------------\n"
     ]
    },
    {
     "name": "stderr",
     "output_type": "stream",
     "text": [
      "2020-05-02 12:26:19:pid_34414:latency_estimator:<INFO> 10 times estimation\n",
      "2020-05-02 12:26:21:pid_34414:latency_estimator:<INFO> 20 times estimation\n",
      "2020-05-02 12:26:24:pid_34414:latency_estimator:<INFO> 30 times estimation\n",
      "2020-05-02 12:26:26:pid_34414:latency_estimator:<INFO> 40 times estimation\n",
      "2020-05-02 12:26:28:pid_34414:latency_estimator:<INFO> 50 times estimation\n"
     ]
    },
    {
     "name": "stdout",
     "output_type": "stream",
     "text": [
      "count        50.000000\n",
      "mean     230288.939476\n",
      "std       32072.452612\n",
      "min        8170.366287\n",
      "25%      234806.001186\n",
      "50%      235105.037689\n",
      "75%      235357.701778\n",
      "max      236281.633377\n",
      "Name: latency, dtype: float64\n",
      "cumulative_avg, pre_avg: 185086.61323123507, 182148.46779318416\n",
      "convergence ratio: 1.5874435145561736\n",
      "------------------------------reset binary gate------------------------------\n"
     ]
    },
    {
     "name": "stderr",
     "output_type": "stream",
     "text": [
      "2020-05-02 12:26:31:pid_34414:latency_estimator:<INFO> 10 times estimation\n",
      "2020-05-02 12:26:33:pid_34414:latency_estimator:<INFO> 20 times estimation\n",
      "2020-05-02 12:26:35:pid_34414:latency_estimator:<INFO> 30 times estimation\n",
      "2020-05-02 12:26:37:pid_34414:latency_estimator:<INFO> 40 times estimation\n",
      "2020-05-02 12:26:39:pid_34414:latency_estimator:<INFO> 50 times estimation\n"
     ]
    },
    {
     "name": "stdout",
     "output_type": "stream",
     "text": [
      "count        50.000000\n",
      "mean     205344.099998\n",
      "std       28718.262686\n",
      "min        6440.877914\n",
      "25%      209387.362003\n",
      "50%      209614.992142\n",
      "75%      209794.282913\n",
      "max      210655.927658\n",
      "Name: latency, dtype: float64\n",
      "cumulative_avg, pre_avg: 186373.7432580245, 185086.61323123507\n",
      "convergence ratio: 0.6906176826676049\n",
      "------------------------------reset binary gate------------------------------\n"
     ]
    },
    {
     "name": "stderr",
     "output_type": "stream",
     "text": [
      "2020-05-02 12:26:41:pid_34414:latency_estimator:<INFO> 10 times estimation\n",
      "2020-05-02 12:26:44:pid_34414:latency_estimator:<INFO> 20 times estimation\n",
      "2020-05-02 12:26:46:pid_34414:latency_estimator:<INFO> 30 times estimation\n",
      "2020-05-02 12:26:48:pid_34414:latency_estimator:<INFO> 40 times estimation\n",
      "2020-05-02 12:26:51:pid_34414:latency_estimator:<INFO> 50 times estimation\n"
     ]
    },
    {
     "name": "stdout",
     "output_type": "stream",
     "text": [
      "count        50.000000\n",
      "mean     223941.445351\n",
      "std       31409.155445\n",
      "min        6411.552429\n",
      "25%      227990.090847\n",
      "50%      228564.500809\n",
      "75%      228916.525841\n",
      "max      231286.764145\n",
      "Name: latency, dtype: float64\n",
      "cumulative_avg, pre_avg: 188479.49743270874, 186373.7432580245\n",
      "convergence ratio: 1.1172324859556846\n",
      "------------------------------reset binary gate------------------------------\n"
     ]
    },
    {
     "name": "stderr",
     "output_type": "stream",
     "text": [
      "2020-05-02 12:26:52:pid_34414:latency_estimator:<INFO> 10 times estimation\n",
      "2020-05-02 12:26:52:pid_34414:latency_estimator:<INFO> 20 times estimation\n",
      "2020-05-02 12:26:53:pid_34414:latency_estimator:<INFO> 30 times estimation\n",
      "2020-05-02 12:26:54:pid_34414:latency_estimator:<INFO> 40 times estimation\n",
      "2020-05-02 12:26:55:pid_34414:latency_estimator:<INFO> 50 times estimation\n"
     ]
    },
    {
     "name": "stdout",
     "output_type": "stream",
     "text": [
      "count       50.000000\n",
      "mean     73644.819260\n",
      "std       9972.462012\n",
      "min       4986.763000\n",
      "25%      74892.520905\n",
      "50%      75241.804123\n",
      "75%      75412.809849\n",
      "max      76107.978821\n",
      "Name: latency, dtype: float64\n",
      "cumulative_avg, pre_avg: 183077.88485572452, 188479.49743270874\n",
      "convergence ratio: 2.9504451513851535\n",
      "------------------------------reset binary gate------------------------------\n"
     ]
    },
    {
     "name": "stderr",
     "output_type": "stream",
     "text": [
      "2020-05-02 12:26:57:pid_34414:latency_estimator:<INFO> 10 times estimation\n",
      "2020-05-02 12:26:59:pid_34414:latency_estimator:<INFO> 20 times estimation\n",
      "2020-05-02 12:27:01:pid_34414:latency_estimator:<INFO> 30 times estimation\n",
      "2020-05-02 12:27:04:pid_34414:latency_estimator:<INFO> 40 times estimation\n",
      "2020-05-02 12:27:06:pid_34414:latency_estimator:<INFO> 50 times estimation\n"
     ]
    },
    {
     "name": "stdout",
     "output_type": "stream",
     "text": [
      "count        50.000000\n",
      "mean     221533.031464\n",
      "std       30627.514104\n",
      "min        9540.319443\n",
      "25%      225549.399853\n",
      "50%      226020.097733\n",
      "75%      226451.814175\n",
      "max      227643.489838\n",
      "Name: latency, dtype: float64\n",
      "cumulative_avg, pre_avg: 185027.06831151788, 183077.88485572452\n",
      "convergence ratio: 1.0534585418127307\n",
      "------------------------------reset binary gate------------------------------\n"
     ]
    },
    {
     "name": "stderr",
     "output_type": "stream",
     "text": [
      "2020-05-02 12:27:07:pid_34414:latency_estimator:<INFO> 10 times estimation\n",
      "2020-05-02 12:27:08:pid_34414:latency_estimator:<INFO> 20 times estimation\n",
      "2020-05-02 12:27:09:pid_34414:latency_estimator:<INFO> 30 times estimation\n",
      "2020-05-02 12:27:10:pid_34414:latency_estimator:<INFO> 40 times estimation\n",
      "2020-05-02 12:27:11:pid_34414:latency_estimator:<INFO> 50 times estimation\n"
     ]
    },
    {
     "name": "stdout",
     "output_type": "stream",
     "text": [
      "count       50.000000\n",
      "mean     91923.918724\n",
      "std      12392.983801\n",
      "min       6279.945374\n",
      "25%      93528.151512\n",
      "50%      93935.370445\n",
      "75%      94154.953957\n",
      "max      94824.790955\n",
      "Name: latency, dtype: float64\n",
      "cumulative_avg, pre_avg: 181060.01356373663, 185027.06831151788\n",
      "convergence ratio: 2.1910164865776784\n",
      "------------------------------reset binary gate------------------------------\n"
     ]
    },
    {
     "name": "stderr",
     "output_type": "stream",
     "text": [
      "2020-05-02 12:27:13:pid_34414:latency_estimator:<INFO> 10 times estimation\n",
      "2020-05-02 12:27:16:pid_34414:latency_estimator:<INFO> 20 times estimation\n",
      "2020-05-02 12:27:18:pid_34414:latency_estimator:<INFO> 30 times estimation\n",
      "2020-05-02 12:27:20:pid_34414:latency_estimator:<INFO> 40 times estimation\n",
      "2020-05-02 12:27:23:pid_34414:latency_estimator:<INFO> 50 times estimation\n"
     ]
    },
    {
     "name": "stdout",
     "output_type": "stream",
     "text": [
      "count        50.000000\n",
      "mean     226192.131042\n",
      "std       31239.374808\n",
      "min        9870.052338\n",
      "25%      230322.122574\n",
      "50%      230808.258057\n",
      "75%      231176.316738\n",
      "max      232820.510864\n",
      "Name: latency, dtype: float64\n",
      "cumulative_avg, pre_avg: 183127.31583913168, 181060.01356373663\n",
      "convergence ratio: 1.1288879902608704\n",
      "------------------------------reset binary gate------------------------------\n"
     ]
    },
    {
     "name": "stderr",
     "output_type": "stream",
     "text": [
      "2020-05-02 12:27:26:pid_34414:latency_estimator:<INFO> 10 times estimation\n",
      "2020-05-02 12:27:29:pid_34414:latency_estimator:<INFO> 20 times estimation\n",
      "2020-05-02 12:27:32:pid_34414:latency_estimator:<INFO> 30 times estimation\n",
      "2020-05-02 12:27:35:pid_34414:latency_estimator:<INFO> 40 times estimation\n",
      "2020-05-02 12:27:39:pid_34414:latency_estimator:<INFO> 50 times estimation\n"
     ]
    },
    {
     "name": "stdout",
     "output_type": "stream",
     "text": [
      "count        50.000000\n",
      "mean     311775.560379\n",
      "std       43702.091367\n",
      "min        9091.615677\n",
      "25%      317692.279816\n",
      "50%      318076.252937\n",
      "75%      318726.062775\n",
      "max      319313.764572\n",
      "Name: latency, dtype: float64\n",
      "cumulative_avg, pre_avg: 188515.15769958496, 183127.31583913168\n",
      "convergence ratio: 2.8580417225861834\n",
      "------------------------------reset binary gate------------------------------\n"
     ]
    },
    {
     "name": "stderr",
     "output_type": "stream",
     "text": [
      "2020-05-02 12:27:40:pid_34414:latency_estimator:<INFO> 10 times estimation\n",
      "2020-05-02 12:27:40:pid_34414:latency_estimator:<INFO> 20 times estimation\n",
      "2020-05-02 12:27:41:pid_34414:latency_estimator:<INFO> 30 times estimation\n",
      "2020-05-02 12:27:42:pid_34414:latency_estimator:<INFO> 40 times estimation\n",
      "2020-05-02 12:27:42:pid_34414:latency_estimator:<INFO> 50 times estimation\n"
     ]
    },
    {
     "name": "stdout",
     "output_type": "stream",
     "text": [
      "count       50.000000\n",
      "mean     63065.686226\n",
      "std       7939.746049\n",
      "min       8964.300156\n",
      "25%      64263.641834\n",
      "50%      64468.026161\n",
      "75%      64591.944218\n",
      "max      65673.589706\n",
      "Name: latency, dtype: float64\n",
      "cumulative_avg, pre_avg: 183741.46131368785, 188515.15769958496\n",
      "convergence ratio: 2.5980507348569217\n",
      "------------------------------reset binary gate------------------------------\n"
     ]
    },
    {
     "name": "stderr",
     "output_type": "stream",
     "text": [
      "2020-05-02 12:27:44:pid_34414:latency_estimator:<INFO> 10 times estimation\n",
      "2020-05-02 12:27:46:pid_34414:latency_estimator:<INFO> 20 times estimation\n",
      "2020-05-02 12:27:47:pid_34414:latency_estimator:<INFO> 30 times estimation\n",
      "2020-05-02 12:27:49:pid_34414:latency_estimator:<INFO> 40 times estimation\n",
      "2020-05-02 12:27:50:pid_34414:latency_estimator:<INFO> 50 times estimation\n"
     ]
    },
    {
     "name": "stdout",
     "output_type": "stream",
     "text": [
      "count        50.000000\n",
      "mean     155113.754272\n",
      "std       20975.806741\n",
      "min       10015.249252\n",
      "25%      157993.018627\n",
      "50%      158296.585083\n",
      "75%      158699.095249\n",
      "max      159280.776978\n",
      "Name: latency, dtype: float64\n",
      "cumulative_avg, pre_avg: 182796.53831764503, 183741.46131368785\n",
      "convergence ratio: 0.5169260888304297\n",
      "------------------------------reset binary gate------------------------------\n"
     ]
    },
    {
     "name": "stderr",
     "output_type": "stream",
     "text": [
      "2020-05-02 12:27:53:pid_34414:latency_estimator:<INFO> 10 times estimation\n",
      "2020-05-02 12:27:55:pid_34414:latency_estimator:<INFO> 20 times estimation\n",
      "2020-05-02 12:27:57:pid_34414:latency_estimator:<INFO> 30 times estimation\n",
      "2020-05-02 12:27:59:pid_34414:latency_estimator:<INFO> 40 times estimation\n",
      "2020-05-02 12:28:02:pid_34414:latency_estimator:<INFO> 50 times estimation\n"
     ]
    },
    {
     "name": "stdout",
     "output_type": "stream",
     "text": [
      "count        50.000000\n",
      "mean     222020.392418\n",
      "std       31281.661201\n",
      "min        5361.080170\n",
      "25%      226166.009903\n",
      "50%      226728.200912\n",
      "75%      226989.269257\n",
      "max      227992.773056\n",
      "Name: latency, dtype: float64\n",
      "cumulative_avg, pre_avg: 184360.2418899536, 182796.53831764503\n",
      "convergence ratio: 0.8481783036724242\n",
      "------------------------------reset binary gate------------------------------\n"
     ]
    },
    {
     "name": "stderr",
     "output_type": "stream",
     "text": [
      "2020-05-02 12:28:04:pid_34414:latency_estimator:<INFO> 10 times estimation\n",
      "2020-05-02 12:28:06:pid_34414:latency_estimator:<INFO> 20 times estimation\n",
      "2020-05-02 12:28:08:pid_34414:latency_estimator:<INFO> 30 times estimation\n",
      "2020-05-02 12:28:09:pid_34414:latency_estimator:<INFO> 40 times estimation\n",
      "2020-05-02 12:28:11:pid_34414:latency_estimator:<INFO> 50 times estimation\n"
     ]
    },
    {
     "name": "stdout",
     "output_type": "stream",
     "text": [
      "count        50.000000\n",
      "mean     179420.480728\n",
      "std       25167.712159\n",
      "min        5204.439163\n",
      "25%      182875.096798\n",
      "50%      183193.445206\n",
      "75%      183394.193649\n",
      "max      184649.705887\n",
      "Name: latency, dtype: float64\n",
      "cumulative_avg, pre_avg: 184315.94947288776, 184360.2418899536\n",
      "convergence ratio: 0.024030702276455398\n",
      "------------------------------reset binary gate------------------------------\n"
     ]
    },
    {
     "name": "stderr",
     "output_type": "stream",
     "text": [
      "2020-05-02 12:28:13:pid_34414:latency_estimator:<INFO> 10 times estimation\n",
      "2020-05-02 12:28:15:pid_34414:latency_estimator:<INFO> 20 times estimation\n",
      "2020-05-02 12:28:16:pid_34414:latency_estimator:<INFO> 30 times estimation\n",
      "2020-05-02 12:28:18:pid_34414:latency_estimator:<INFO> 40 times estimation\n",
      "2020-05-02 12:28:20:pid_34414:latency_estimator:<INFO> 50 times estimation\n"
     ]
    },
    {
     "name": "stdout",
     "output_type": "stream",
     "text": [
      "count        50.000000\n",
      "mean     160906.686783\n",
      "std       22366.643649\n",
      "min        6082.773209\n",
      "25%      163766.920567\n",
      "50%      164020.419121\n",
      "75%      164700.806141\n",
      "max      165676.593781\n",
      "Name: latency, dtype: float64\n",
      "cumulative_avg, pre_avg: 183637.79385884604, 184315.94947288776\n",
      "convergence ratio: 0.36928978495733317\n",
      "------------------------------reset binary gate------------------------------\n"
     ]
    },
    {
     "name": "stderr",
     "output_type": "stream",
     "text": [
      "2020-05-02 12:28:21:pid_34414:latency_estimator:<INFO> 10 times estimation\n",
      "2020-05-02 12:28:22:pid_34414:latency_estimator:<INFO> 20 times estimation\n",
      "2020-05-02 12:28:24:pid_34414:latency_estimator:<INFO> 30 times estimation\n",
      "2020-05-02 12:28:25:pid_34414:latency_estimator:<INFO> 40 times estimation\n",
      "2020-05-02 12:28:26:pid_34414:latency_estimator:<INFO> 50 times estimation\n"
     ]
    },
    {
     "name": "stdout",
     "output_type": "stream",
     "text": [
      "count        50.000000\n",
      "mean     123731.522560\n",
      "std       17056.927797\n",
      "min        5829.572678\n",
      "25%      125890.552998\n",
      "50%      126208.901405\n",
      "75%      126738.727093\n",
      "max      129103.183746\n",
      "Name: latency, dtype: float64\n",
      "cumulative_avg, pre_avg: 181781.1627541819, 183637.79385884604\n",
      "convergence ratio: 1.0213550604111963\n",
      "------------------------------reset binary gate------------------------------\n"
     ]
    },
    {
     "name": "stderr",
     "output_type": "stream",
     "text": [
      "2020-05-02 12:28:29:pid_34414:latency_estimator:<INFO> 10 times estimation\n",
      "2020-05-02 12:28:32:pid_34414:latency_estimator:<INFO> 20 times estimation\n",
      "2020-05-02 12:28:35:pid_34414:latency_estimator:<INFO> 30 times estimation\n",
      "2020-05-02 12:28:37:pid_34414:latency_estimator:<INFO> 40 times estimation\n",
      "2020-05-02 12:28:40:pid_34414:latency_estimator:<INFO> 50 times estimation\n"
     ]
    },
    {
     "name": "stdout",
     "output_type": "stream",
     "text": [
      "count        50.000000\n",
      "mean     278715.076447\n",
      "std       38891.114447\n",
      "min        9349.346161\n",
      "25%      284184.575081\n",
      "50%      284495.234489\n",
      "75%      284766.614437\n",
      "max      285620.450974\n",
      "Name: latency, dtype: float64\n",
      "cumulative_avg, pre_avg: 184987.40941286087, 181781.1627541819\n",
      "convergence ratio: 1.7332242604269226\n",
      "------------------------------reset binary gate------------------------------\n"
     ]
    },
    {
     "name": "stderr",
     "output_type": "stream",
     "text": [
      "2020-05-02 12:28:42:pid_34414:latency_estimator:<INFO> 10 times estimation\n",
      "2020-05-02 12:28:43:pid_34414:latency_estimator:<INFO> 20 times estimation\n",
      "2020-05-02 12:28:44:pid_34414:latency_estimator:<INFO> 30 times estimation\n",
      "2020-05-02 12:28:45:pid_34414:latency_estimator:<INFO> 40 times estimation\n",
      "2020-05-02 12:28:46:pid_34414:latency_estimator:<INFO> 50 times estimation\n"
     ]
    },
    {
     "name": "stdout",
     "output_type": "stream",
     "text": [
      "count        50.000000\n",
      "mean     103874.053955\n",
      "std       14201.943861\n",
      "min        5797.624588\n",
      "25%      105858.922005\n",
      "50%      106115.579605\n",
      "75%      106425.344944\n",
      "max      107651.233673\n",
      "Name: latency, dtype: float64\n",
      "cumulative_avg, pre_avg: 182594.02043891675, 184987.40941286087\n",
      "convergence ratio: 1.3107707296169555\n",
      "------------------------------reset binary gate------------------------------\n"
     ]
    },
    {
     "name": "stderr",
     "output_type": "stream",
     "text": [
      "2020-05-02 12:28:48:pid_34414:latency_estimator:<INFO> 10 times estimation\n",
      "2020-05-02 12:28:51:pid_34414:latency_estimator:<INFO> 20 times estimation\n",
      "2020-05-02 12:28:53:pid_34414:latency_estimator:<INFO> 30 times estimation\n",
      "2020-05-02 12:28:55:pid_34414:latency_estimator:<INFO> 40 times estimation\n",
      "2020-05-02 12:28:58:pid_34414:latency_estimator:<INFO> 50 times estimation\n"
     ]
    },
    {
     "name": "stdout",
     "output_type": "stream",
     "text": [
      "count        50.000000\n",
      "mean     230972.361565\n",
      "std       32463.547342\n",
      "min        6102.800369\n",
      "25%      235374.033451\n",
      "50%      235738.635063\n",
      "75%      236066.043377\n",
      "max      236908.197403\n",
      "Name: latency, dtype: float64\n",
      "cumulative_avg, pre_avg: 184154.24403022317, 182594.02043891675\n",
      "convergence ratio: 0.8472373794710697\n",
      "------------------------------reset binary gate------------------------------\n"
     ]
    },
    {
     "name": "stderr",
     "output_type": "stream",
     "text": [
      "2020-05-02 12:29:00:pid_34414:latency_estimator:<INFO> 10 times estimation\n",
      "2020-05-02 12:29:02:pid_34414:latency_estimator:<INFO> 20 times estimation\n",
      "2020-05-02 12:29:04:pid_34414:latency_estimator:<INFO> 30 times estimation\n",
      "2020-05-02 12:29:06:pid_34414:latency_estimator:<INFO> 40 times estimation\n",
      "2020-05-02 12:29:08:pid_34414:latency_estimator:<INFO> 50 times estimation\n"
     ]
    },
    {
     "name": "stdout",
     "output_type": "stream",
     "text": [
      "count        50.000000\n",
      "mean     189082.422256\n",
      "std       26469.438744\n",
      "min        5766.153336\n",
      "25%      192379.355431\n",
      "50%      192860.245705\n",
      "75%      193475.663662\n",
      "max      194686.412811\n",
      "Name: latency, dtype: float64\n",
      "cumulative_avg, pre_avg: 184395.7928248814, 184154.24403022317\n",
      "convergence ratio: 0.1309947428614272\n",
      "------------------------------reset binary gate------------------------------\n"
     ]
    },
    {
     "name": "stderr",
     "output_type": "stream",
     "text": [
      "2020-05-02 12:29:11:pid_34414:latency_estimator:<INFO> 10 times estimation\n",
      "2020-05-02 12:29:13:pid_34414:latency_estimator:<INFO> 20 times estimation\n",
      "2020-05-02 12:29:16:pid_34414:latency_estimator:<INFO> 30 times estimation\n",
      "2020-05-02 12:29:19:pid_34414:latency_estimator:<INFO> 40 times estimation\n",
      "2020-05-02 12:29:22:pid_34414:latency_estimator:<INFO> 50 times estimation\n"
     ]
    },
    {
     "name": "stdout",
     "output_type": "stream",
     "text": [
      "count        50.000000\n",
      "mean     278303.704262\n",
      "std       39264.613786\n",
      "min        6305.456161\n",
      "25%      283446.788788\n",
      "50%      284054.875374\n",
      "75%      284395.933151\n",
      "max      285834.074020\n",
      "Name: latency, dtype: float64\n",
      "cumulative_avg, pre_avg: 187160.80056296455, 184395.7928248814\n",
      "convergence ratio: 1.4773434019122678\n",
      "------------------------------reset binary gate------------------------------\n"
     ]
    },
    {
     "name": "stderr",
     "output_type": "stream",
     "text": [
      "2020-05-02 12:29:24:pid_34414:latency_estimator:<INFO> 10 times estimation\n",
      "2020-05-02 12:29:26:pid_34414:latency_estimator:<INFO> 20 times estimation\n",
      "2020-05-02 12:29:28:pid_34414:latency_estimator:<INFO> 30 times estimation\n",
      "2020-05-02 12:29:30:pid_34414:latency_estimator:<INFO> 40 times estimation\n",
      "2020-05-02 12:29:31:pid_34414:latency_estimator:<INFO> 50 times estimation\n"
     ]
    },
    {
     "name": "stdout",
     "output_type": "stream",
     "text": [
      "count        50.000000\n",
      "mean     176286.172867\n",
      "std       24755.186749\n",
      "min        4906.892776\n",
      "25%      179735.064507\n",
      "50%      179968.953133\n",
      "75%      180290.877819\n",
      "max      180776.119232\n",
      "Name: latency, dtype: float64\n",
      "cumulative_avg, pre_avg: 186964.89720731167, 187160.80056296455\n",
      "convergence ratio: 0.10478082173663379\n",
      "------------------------------reset binary gate------------------------------\n"
     ]
    },
    {
     "name": "stderr",
     "output_type": "stream",
     "text": [
      "2020-05-02 12:29:33:pid_34414:latency_estimator:<INFO> 10 times estimation\n",
      "2020-05-02 12:29:33:pid_34414:latency_estimator:<INFO> 20 times estimation\n",
      "2020-05-02 12:29:34:pid_34414:latency_estimator:<INFO> 30 times estimation\n",
      "2020-05-02 12:29:35:pid_34414:latency_estimator:<INFO> 40 times estimation\n",
      "2020-05-02 12:29:36:pid_34414:latency_estimator:<INFO> 50 times estimation\n"
     ]
    },
    {
     "name": "stdout",
     "output_type": "stream",
     "text": [
      "count       50.000000\n",
      "mean     75911.564827\n",
      "std      10076.871307\n",
      "min       6318.569183\n",
      "25%      77375.650406\n",
      "50%      77563.762665\n",
      "75%      77746.093273\n",
      "max      78339.576721\n",
      "Name: latency, dtype: float64\n",
      "cumulative_avg, pre_avg: 184083.51571936355, 186964.89720731167\n",
      "convergence ratio: 1.565257745479397\n",
      "------------------------------reset binary gate------------------------------\n"
     ]
    },
    {
     "name": "stderr",
     "output_type": "stream",
     "text": [
      "2020-05-02 12:29:37:pid_34414:latency_estimator:<INFO> 10 times estimation\n",
      "2020-05-02 12:29:38:pid_34414:latency_estimator:<INFO> 20 times estimation\n",
      "2020-05-02 12:29:39:pid_34414:latency_estimator:<INFO> 30 times estimation\n",
      "2020-05-02 12:29:40:pid_34414:latency_estimator:<INFO> 40 times estimation\n",
      "2020-05-02 12:29:41:pid_34414:latency_estimator:<INFO> 50 times estimation\n"
     ]
    },
    {
     "name": "stdout",
     "output_type": "stream",
     "text": [
      "count        50.000000\n",
      "mean     102621.574402\n",
      "std       13331.089142\n",
      "min       10798.215866\n",
      "25%      104505.717754\n",
      "50%      104705.452919\n",
      "75%      105027.973652\n",
      "max      105777.263641\n",
      "Name: latency, dtype: float64\n",
      "cumulative_avg, pre_avg: 182047.13723598383, 184083.51571936355\n",
      "convergence ratio: 1.1185995639909523\n",
      "------------------------------reset binary gate------------------------------\n"
     ]
    },
    {
     "name": "stderr",
     "output_type": "stream",
     "text": [
      "2020-05-02 12:29:43:pid_34414:latency_estimator:<INFO> 10 times estimation\n",
      "2020-05-02 12:29:44:pid_34414:latency_estimator:<INFO> 20 times estimation\n",
      "2020-05-02 12:29:46:pid_34414:latency_estimator:<INFO> 30 times estimation\n",
      "2020-05-02 12:29:47:pid_34414:latency_estimator:<INFO> 40 times estimation\n",
      "2020-05-02 12:29:49:pid_34414:latency_estimator:<INFO> 50 times estimation\n"
     ]
    },
    {
     "name": "stdout",
     "output_type": "stream",
     "text": [
      "count        50.000000\n",
      "mean     149666.323662\n",
      "std       20745.223558\n",
      "min        6026.983261\n",
      "25%      152351.856232\n",
      "50%      152790.069580\n",
      "75%      153044.223785\n",
      "max      153811.454773\n",
      "Name: latency, dtype: float64\n",
      "cumulative_avg, pre_avg: 181312.04962730408, 182047.13723598383\n",
      "convergence ratio: 0.40542678227440465\n",
      "------------------------------reset binary gate------------------------------\n"
     ]
    },
    {
     "name": "stderr",
     "output_type": "stream",
     "text": [
      "2020-05-02 12:29:50:pid_34414:latency_estimator:<INFO> 10 times estimation\n",
      "2020-05-02 12:29:52:pid_34414:latency_estimator:<INFO> 20 times estimation\n",
      "2020-05-02 12:29:53:pid_34414:latency_estimator:<INFO> 30 times estimation\n",
      "2020-05-02 12:29:55:pid_34414:latency_estimator:<INFO> 40 times estimation\n",
      "2020-05-02 12:29:56:pid_34414:latency_estimator:<INFO> 50 times estimation\n"
     ]
    },
    {
     "name": "stdout",
     "output_type": "stream",
     "text": [
      "count        50.000000\n",
      "mean     139150.099754\n",
      "std       19362.567695\n",
      "min        5103.349686\n",
      "25%      141755.402088\n",
      "50%      142066.597939\n",
      "75%      142281.949520\n",
      "max      143635.511398\n",
      "Name: latency, dtype: float64\n",
      "cumulative_avg, pre_avg: 180351.89582080377, 181312.04962730408\n",
      "convergence ratio: 0.5323779947699097\n",
      "------------------------------reset binary gate------------------------------\n"
     ]
    },
    {
     "name": "stderr",
     "output_type": "stream",
     "text": [
      "2020-05-02 12:29:58:pid_34414:latency_estimator:<INFO> 10 times estimation\n",
      "2020-05-02 12:30:01:pid_34414:latency_estimator:<INFO> 20 times estimation\n",
      "2020-05-02 12:30:03:pid_34414:latency_estimator:<INFO> 30 times estimation\n",
      "2020-05-02 12:30:05:pid_34414:latency_estimator:<INFO> 40 times estimation\n",
      "2020-05-02 12:30:08:pid_34414:latency_estimator:<INFO> 50 times estimation\n"
     ]
    },
    {
     "name": "stdout",
     "output_type": "stream",
     "text": [
      "count        50.000000\n",
      "mean     229929.232597\n",
      "std       32329.274599\n",
      "min        6073.951721\n",
      "25%      234329.760075\n",
      "50%      234751.105309\n",
      "75%      234963.417053\n",
      "max      236653.327942\n",
      "Name: latency, dtype: float64\n",
      "cumulative_avg, pre_avg: 181645.02325512114, 180351.89582080377\n",
      "convergence ratio: 0.7118980807424431\n",
      "------------------------------reset binary gate------------------------------\n"
     ]
    },
    {
     "name": "stderr",
     "output_type": "stream",
     "text": [
      "2020-05-02 12:30:09:pid_34414:latency_estimator:<INFO> 10 times estimation\n",
      "2020-05-02 12:30:11:pid_34414:latency_estimator:<INFO> 20 times estimation\n",
      "2020-05-02 12:30:12:pid_34414:latency_estimator:<INFO> 30 times estimation\n",
      "2020-05-02 12:30:13:pid_34414:latency_estimator:<INFO> 40 times estimation\n",
      "2020-05-02 12:30:14:pid_34414:latency_estimator:<INFO> 50 times estimation\n"
     ]
    },
    {
     "name": "stdout",
     "output_type": "stream",
     "text": [
      "count        50.000000\n",
      "mean     114600.009918\n",
      "std       15736.288173\n",
      "min        5787.134171\n",
      "25%      116734.921932\n",
      "50%      117108.106613\n",
      "75%      117267.429829\n",
      "max      118148.326874\n",
      "Name: latency, dtype: float64\n",
      "cumulative_avg, pre_avg: 180141.47891554722, 181645.02325512114\n",
      "convergence ratio: 0.8346463838452193\n",
      "------------------------------reset binary gate------------------------------\n"
     ]
    },
    {
     "name": "stderr",
     "output_type": "stream",
     "text": [
      "2020-05-02 12:30:16:pid_34414:latency_estimator:<INFO> 10 times estimation\n",
      "2020-05-02 12:30:17:pid_34414:latency_estimator:<INFO> 20 times estimation\n",
      "2020-05-02 12:30:19:pid_34414:latency_estimator:<INFO> 30 times estimation\n",
      "2020-05-02 12:30:20:pid_34414:latency_estimator:<INFO> 40 times estimation\n",
      "2020-05-02 12:30:22:pid_34414:latency_estimator:<INFO> 50 times estimation\n"
     ]
    },
    {
     "name": "stdout",
     "output_type": "stream",
     "text": [
      "count        50.000000\n",
      "mean     147212.157249\n",
      "std       19725.621656\n",
      "min       10919.809341\n",
      "25%      149987.578392\n",
      "50%      150236.368179\n",
      "75%      150599.002838\n",
      "max      151569.128036\n",
      "Name: latency, dtype: float64\n",
      "cumulative_avg, pre_avg: 179460.42689410123, 180141.47891554722\n",
      "convergence ratio: 0.3794998336028049\n",
      "------------------------------reset binary gate------------------------------\n"
     ]
    },
    {
     "name": "stderr",
     "output_type": "stream",
     "text": [
      "2020-05-02 12:30:24:pid_34414:latency_estimator:<INFO> 10 times estimation\n",
      "2020-05-02 12:30:25:pid_34414:latency_estimator:<INFO> 20 times estimation\n",
      "2020-05-02 12:30:27:pid_34414:latency_estimator:<INFO> 30 times estimation\n",
      "2020-05-02 12:30:29:pid_34414:latency_estimator:<INFO> 40 times estimation\n",
      "2020-05-02 12:30:31:pid_34414:latency_estimator:<INFO> 50 times estimation\n"
     ]
    },
    {
     "name": "stdout",
     "output_type": "stream",
     "text": [
      "count        50.000000\n",
      "mean     177801.146507\n",
      "std       24753.356768\n",
      "min        6446.361542\n",
      "25%      181144.297123\n",
      "50%      181502.342224\n",
      "75%      181773.304939\n",
      "max      183755.636215\n",
      "Name: latency, dtype: float64\n",
      "cumulative_avg, pre_avg: 179503.29568650987, 179460.42689410123\n",
      "convergence ratio: 0.023881897123219465\n",
      "------------------------------reset binary gate------------------------------\n"
     ]
    },
    {
     "name": "stderr",
     "output_type": "stream",
     "text": [
      "2020-05-02 12:30:33:pid_34414:latency_estimator:<INFO> 10 times estimation\n",
      "2020-05-02 12:30:35:pid_34414:latency_estimator:<INFO> 20 times estimation\n",
      "2020-05-02 12:30:38:pid_34414:latency_estimator:<INFO> 30 times estimation\n",
      "2020-05-02 12:30:40:pid_34414:latency_estimator:<INFO> 40 times estimation\n",
      "2020-05-02 12:30:42:pid_34414:latency_estimator:<INFO> 50 times estimation\n"
     ]
    },
    {
     "name": "stdout",
     "output_type": "stream",
     "text": [
      "count        50.000000\n",
      "mean     215619.053841\n",
      "std       30383.464645\n",
      "min        5167.245865\n",
      "25%      219730.556011\n",
      "50%      220043.659210\n",
      "75%      220307.588577\n",
      "max      221699.953079\n",
      "Name: latency, dtype: float64\n",
      "cumulative_avg, pre_avg: 180381.70855978262, 179503.29568650987\n",
      "convergence ratio: 0.48697447223792584\n",
      "------------------------------reset binary gate------------------------------\n"
     ]
    },
    {
     "name": "stderr",
     "output_type": "stream",
     "text": [
      "2020-05-02 12:30:44:pid_34414:latency_estimator:<INFO> 10 times estimation\n",
      "2020-05-02 12:30:46:pid_34414:latency_estimator:<INFO> 20 times estimation\n",
      "2020-05-02 12:30:48:pid_34414:latency_estimator:<INFO> 30 times estimation\n",
      "2020-05-02 12:30:50:pid_34414:latency_estimator:<INFO> 40 times estimation\n",
      "2020-05-02 12:30:52:pid_34414:latency_estimator:<INFO> 50 times estimation\n"
     ]
    },
    {
     "name": "stdout",
     "output_type": "stream",
     "text": [
      "count        50.000000\n",
      "mean     181662.688255\n",
      "std       24481.869687\n",
      "min       12541.532516\n",
      "25%      185074.627399\n",
      "50%      185475.349426\n",
      "75%      185907.602310\n",
      "max      187657.117844\n",
      "Name: latency, dtype: float64\n",
      "cumulative_avg, pre_avg: 180488.30742531634, 180381.70855978262\n",
      "convergence ratio: 0.05906136915701447\n",
      "------------------------------reset binary gate------------------------------\n"
     ]
    },
    {
     "name": "stderr",
     "output_type": "stream",
     "text": [
      "2020-05-02 12:30:53:pid_34414:latency_estimator:<INFO> 10 times estimation\n",
      "2020-05-02 12:30:53:pid_34414:latency_estimator:<INFO> 20 times estimation\n",
      "2020-05-02 12:30:54:pid_34414:latency_estimator:<INFO> 30 times estimation\n",
      "2020-05-02 12:30:55:pid_34414:latency_estimator:<INFO> 40 times estimation\n",
      "2020-05-02 12:30:56:pid_34414:latency_estimator:<INFO> 50 times estimation\n"
     ]
    },
    {
     "name": "stdout",
     "output_type": "stream",
     "text": [
      "count       50.000000\n",
      "mean     74586.915970\n",
      "std       9406.023725\n",
      "min      10360.717773\n",
      "25%      75940.310955\n",
      "50%      76202.630997\n",
      "75%      76515.436172\n",
      "max      77316.761017\n",
      "Name: latency, dtype: float64\n",
      "cumulative_avg, pre_avg: 178313.90897432962, 180488.30742531634\n",
      "convergence ratio: 1.219421672428114\n",
      "------------------------------reset binary gate------------------------------\n"
     ]
    },
    {
     "name": "stderr",
     "output_type": "stream",
     "text": [
      "2020-05-02 12:30:57:pid_34414:latency_estimator:<INFO> 10 times estimation\n",
      "2020-05-02 12:30:58:pid_34414:latency_estimator:<INFO> 20 times estimation\n",
      "2020-05-02 12:30:59:pid_34414:latency_estimator:<INFO> 30 times estimation\n",
      "2020-05-02 12:31:00:pid_34414:latency_estimator:<INFO> 40 times estimation\n",
      "2020-05-02 12:31:01:pid_34414:latency_estimator:<INFO> 50 times estimation\n"
     ]
    },
    {
     "name": "stdout",
     "output_type": "stream",
     "text": [
      "count       50.000000\n",
      "mean     96183.505058\n",
      "std      12614.146833\n",
      "min       9099.960327\n",
      "25%      97873.628139\n",
      "50%      98187.565804\n",
      "75%      98460.197449\n",
      "max      99199.295044\n",
      "Name: latency, dtype: float64\n",
      "cumulative_avg, pre_avg: 176677.12289459852, 178313.90897432962\n",
      "convergence ratio: 0.9264278548997931\n",
      "------------------------------reset binary gate------------------------------\n"
     ]
    },
    {
     "name": "stderr",
     "output_type": "stream",
     "text": [
      "2020-05-02 12:31:02:pid_34414:latency_estimator:<INFO> 10 times estimation\n",
      "2020-05-02 12:31:04:pid_34414:latency_estimator:<INFO> 20 times estimation\n",
      "2020-05-02 12:31:05:pid_34414:latency_estimator:<INFO> 30 times estimation\n",
      "2020-05-02 12:31:07:pid_34414:latency_estimator:<INFO> 40 times estimation\n",
      "2020-05-02 12:31:08:pid_34414:latency_estimator:<INFO> 50 times estimation\n"
     ]
    },
    {
     "name": "stdout",
     "output_type": "stream",
     "text": [
      "count        50.000000\n",
      "mean     145731.964111\n",
      "std       19813.509163\n",
      "min        8831.739426\n",
      "25%      148535.132408\n",
      "50%      148911.476135\n",
      "75%      149045.944214\n",
      "max      150784.254074\n",
      "Name: latency, dtype: float64\n",
      "cumulative_avg, pre_avg: 176120.099067688, 176677.12289459852\n",
      "convergence ratio: 0.31627499067920234\n",
      "------------------------------reset binary gate------------------------------\n"
     ]
    },
    {
     "name": "stderr",
     "output_type": "stream",
     "text": [
      "2020-05-02 12:31:12:pid_34414:latency_estimator:<INFO> 10 times estimation\n",
      "2020-05-02 12:31:15:pid_34414:latency_estimator:<INFO> 20 times estimation\n",
      "2020-05-02 12:31:19:pid_34414:latency_estimator:<INFO> 30 times estimation\n",
      "2020-05-02 12:31:22:pid_34414:latency_estimator:<INFO> 40 times estimation\n",
      "2020-05-02 12:31:26:pid_34414:latency_estimator:<INFO> 50 times estimation\n"
     ]
    },
    {
     "name": "stdout",
     "output_type": "stream",
     "text": [
      "count        50.000000\n",
      "mean     344123.001099\n",
      "std       47944.902386\n",
      "min       12012.720108\n",
      "25%      350809.931755\n",
      "50%      351146.697998\n",
      "75%      351581.692696\n",
      "max      352391.242981\n",
      "Name: latency, dtype: float64\n",
      "cumulative_avg, pre_avg: 179550.1381743188, 176120.099067688\n",
      "convergence ratio: 1.9103516942441476\n",
      "------------------------------reset binary gate------------------------------\n"
     ]
    },
    {
     "name": "stderr",
     "output_type": "stream",
     "text": [
      "2020-05-02 12:31:28:pid_34414:latency_estimator:<INFO> 10 times estimation\n",
      "2020-05-02 12:31:29:pid_34414:latency_estimator:<INFO> 20 times estimation\n",
      "2020-05-02 12:31:30:pid_34414:latency_estimator:<INFO> 30 times estimation\n",
      "2020-05-02 12:31:32:pid_34414:latency_estimator:<INFO> 40 times estimation\n",
      "2020-05-02 12:31:33:pid_34414:latency_estimator:<INFO> 50 times estimation\n"
     ]
    },
    {
     "name": "stdout",
     "output_type": "stream",
     "text": [
      "count        50.000000\n",
      "mean     131570.558548\n",
      "std       17499.424219\n",
      "min       10862.350464\n",
      "25%      133911.430836\n",
      "50%      134274.482727\n",
      "75%      134523.093700\n",
      "max      140575.408936\n",
      "Name: latency, dtype: float64\n",
      "cumulative_avg, pre_avg: 178677.7982344994, 179550.1381743188\n",
      "convergence ratio: 0.4882195485051338\n",
      "reset times, hit counts: 51, 1\n",
      "------------------------------reset binary gate------------------------------\n"
     ]
    },
    {
     "name": "stderr",
     "output_type": "stream",
     "text": [
      "2020-05-02 12:31:34:pid_34414:latency_estimator:<INFO> 10 times estimation\n",
      "2020-05-02 12:31:34:pid_34414:latency_estimator:<INFO> 20 times estimation\n",
      "2020-05-02 12:31:35:pid_34414:latency_estimator:<INFO> 30 times estimation\n",
      "2020-05-02 12:31:36:pid_34414:latency_estimator:<INFO> 40 times estimation\n",
      "2020-05-02 12:31:36:pid_34414:latency_estimator:<INFO> 50 times estimation\n"
     ]
    },
    {
     "name": "stdout",
     "output_type": "stream",
     "text": [
      "count       50.000000\n",
      "mean     53639.130592\n",
      "std       6053.436122\n",
      "min      13221.740723\n",
      "25%      54551.422596\n",
      "50%      54803.967476\n",
      "75%      54944.157600\n",
      "max      57668.924332\n",
      "Name: latency, dtype: float64\n",
      "cumulative_avg, pre_avg: 176339.23134713803, 178677.7982344994\n",
      "convergence ratio: 1.3261750487942856\n",
      "------------------------------reset binary gate------------------------------\n"
     ]
    },
    {
     "name": "stderr",
     "output_type": "stream",
     "text": [
      "2020-05-02 12:31:38:pid_34414:latency_estimator:<INFO> 10 times estimation\n",
      "2020-05-02 12:31:40:pid_34414:latency_estimator:<INFO> 20 times estimation\n",
      "2020-05-02 12:31:42:pid_34414:latency_estimator:<INFO> 30 times estimation\n",
      "2020-05-02 12:31:44:pid_34414:latency_estimator:<INFO> 40 times estimation\n",
      "2020-05-02 12:31:45:pid_34414:latency_estimator:<INFO> 50 times estimation\n"
     ]
    },
    {
     "name": "stdout",
     "output_type": "stream",
     "text": [
      "count        50.000000\n",
      "mean     183809.533119\n",
      "std       24234.415361\n",
      "min       17067.909241\n",
      "25%      187330.186367\n",
      "50%      187865.853310\n",
      "75%      188118.994236\n",
      "max      189312.934875\n",
      "Name: latency, dtype: float64\n",
      "cumulative_avg, pre_avg: 176550.66914028593, 176339.23134713803\n",
      "convergence ratio: 0.11976040316215891\n",
      "reset times, hit counts: 53, 1\n",
      "------------------------------reset binary gate------------------------------\n"
     ]
    },
    {
     "name": "stderr",
     "output_type": "stream",
     "text": [
      "2020-05-02 12:31:47:pid_34414:latency_estimator:<INFO> 10 times estimation\n",
      "2020-05-02 12:31:49:pid_34414:latency_estimator:<INFO> 20 times estimation\n",
      "2020-05-02 12:31:51:pid_34414:latency_estimator:<INFO> 30 times estimation\n",
      "2020-05-02 12:31:52:pid_34414:latency_estimator:<INFO> 40 times estimation\n",
      "2020-05-02 12:31:54:pid_34414:latency_estimator:<INFO> 50 times estimation\n"
     ]
    },
    {
     "name": "stdout",
     "output_type": "stream",
     "text": [
      "count        50.000000\n",
      "mean     159924.621582\n",
      "std       21301.529488\n",
      "min       12907.505035\n",
      "25%      162923.753262\n",
      "50%      163272.976875\n",
      "75%      163554.668427\n",
      "max      165267.944336\n",
      "Name: latency, dtype: float64\n",
      "cumulative_avg, pre_avg: 176307.3444366455, 176550.66914028593\n",
      "convergence ratio: 0.1380116661718863\n",
      "reset times, hit counts: 54, 2\n",
      "------------------------------reset binary gate------------------------------\n"
     ]
    },
    {
     "name": "stderr",
     "output_type": "stream",
     "text": [
      "2020-05-02 12:31:56:pid_34414:latency_estimator:<INFO> 10 times estimation\n",
      "2020-05-02 12:31:58:pid_34414:latency_estimator:<INFO> 20 times estimation\n",
      "2020-05-02 12:32:01:pid_34414:latency_estimator:<INFO> 30 times estimation\n",
      "2020-05-02 12:32:03:pid_34414:latency_estimator:<INFO> 40 times estimation\n",
      "2020-05-02 12:32:05:pid_34414:latency_estimator:<INFO> 50 times estimation\n"
     ]
    },
    {
     "name": "stdout",
     "output_type": "stream",
     "text": [
      "count        50.000000\n",
      "mean     225383.214951\n",
      "std       30899.181829\n",
      "min       11545.181274\n",
      "25%      229670.107365\n",
      "50%      229988.455772\n",
      "75%      230411.946774\n",
      "max      233375.072479\n",
      "Name: latency, dtype: float64\n",
      "cumulative_avg, pre_avg: 177263.99387632098, 176307.3444366455\n",
      "convergence ratio: 0.5396749891255053\n",
      "reset times, hit counts: 55, 3\n",
      "------------------------------reset binary gate------------------------------\n"
     ]
    },
    {
     "name": "stderr",
     "output_type": "stream",
     "text": [
      "2020-05-02 12:32:07:pid_34414:latency_estimator:<INFO> 10 times estimation\n",
      "2020-05-02 12:32:09:pid_34414:latency_estimator:<INFO> 20 times estimation\n",
      "2020-05-02 12:32:10:pid_34414:latency_estimator:<INFO> 30 times estimation\n",
      "2020-05-02 12:32:11:pid_34414:latency_estimator:<INFO> 40 times estimation\n",
      "2020-05-02 12:32:13:pid_34414:latency_estimator:<INFO> 50 times estimation\n"
     ]
    },
    {
     "name": "stdout",
     "output_type": "stream",
     "text": [
      "count        50.000000\n",
      "mean     135236.511230\n",
      "std       17980.000095\n",
      "min       11229.276657\n",
      "25%      137795.150280\n",
      "50%      137995.600700\n",
      "75%      138360.619545\n",
      "max      139591.932297\n",
      "Name: latency, dtype: float64\n",
      "cumulative_avg, pre_avg: 176574.48450724283, 177263.99387632098\n",
      "convergence ratio: 0.39049207534278135\n",
      "reset times, hit counts: 56, 4\n",
      "------------------------------reset binary gate------------------------------\n"
     ]
    },
    {
     "name": "stderr",
     "output_type": "stream",
     "text": [
      "2020-05-02 12:32:15:pid_34414:latency_estimator:<INFO> 10 times estimation\n",
      "2020-05-02 12:32:17:pid_34414:latency_estimator:<INFO> 20 times estimation\n",
      "2020-05-02 12:32:19:pid_34414:latency_estimator:<INFO> 30 times estimation\n",
      "2020-05-02 12:32:21:pid_34414:latency_estimator:<INFO> 40 times estimation\n",
      "2020-05-02 12:32:23:pid_34414:latency_estimator:<INFO> 50 times estimation\n"
     ]
    },
    {
     "name": "stdout",
     "output_type": "stream",
     "text": [
      "count        50.000000\n",
      "mean     203428.821564\n",
      "std       27835.223463\n",
      "min       10791.063309\n",
      "25%      207053.482533\n",
      "50%      207498.788834\n",
      "75%      207922.399044\n",
      "max      209537.506104\n",
      "Name: latency, dtype: float64\n",
      "cumulative_avg, pre_avg: 177105.03627514018, 176574.48450724283\n",
      "convergence ratio: 0.299568989711349\n",
      "reset times, hit counts: 57, 5\n",
      "------------------------------reset binary gate------------------------------\n"
     ]
    },
    {
     "name": "stderr",
     "output_type": "stream",
     "text": [
      "2020-05-02 12:32:24:pid_34414:latency_estimator:<INFO> 10 times estimation\n",
      "2020-05-02 12:32:26:pid_34414:latency_estimator:<INFO> 20 times estimation\n",
      "2020-05-02 12:32:27:pid_34414:latency_estimator:<INFO> 30 times estimation\n",
      "2020-05-02 12:32:28:pid_34414:latency_estimator:<INFO> 40 times estimation\n",
      "2020-05-02 12:32:29:pid_34414:latency_estimator:<INFO> 50 times estimation\n"
     ]
    },
    {
     "name": "stdout",
     "output_type": "stream",
     "text": [
      "count        50.000000\n",
      "mean     100459.971428\n",
      "std       13658.001101\n",
      "min        5966.424942\n",
      "25%      102315.008640\n",
      "50%      102548.718452\n",
      "75%      102733.850479\n",
      "max      103351.593018\n",
      "Name: latency, dtype: float64\n",
      "cumulative_avg, pre_avg: 175839.18975571456, 177105.03627514018\n",
      "convergence ratio: 0.7198887353747542\n",
      "reset times, hit counts: 58, 6\n",
      "------------------------------reset binary gate------------------------------\n"
     ]
    },
    {
     "name": "stderr",
     "output_type": "stream",
     "text": [
      "2020-05-02 12:32:30:pid_34414:latency_estimator:<INFO> 10 times estimation\n",
      "2020-05-02 12:32:31:pid_34414:latency_estimator:<INFO> 20 times estimation\n",
      "2020-05-02 12:32:32:pid_34414:latency_estimator:<INFO> 30 times estimation\n",
      "2020-05-02 12:32:33:pid_34414:latency_estimator:<INFO> 40 times estimation\n",
      "2020-05-02 12:32:34:pid_34414:latency_estimator:<INFO> 50 times estimation\n"
     ]
    },
    {
     "name": "stdout",
     "output_type": "stream",
     "text": [
      "count        50.000000\n",
      "mean      98424.277306\n",
      "std       12703.689557\n",
      "min       10865.926743\n",
      "25%      100308.418274\n",
      "50%      100472.927094\n",
      "75%      100764.691830\n",
      "max      101303.339005\n",
      "Name: latency, dtype: float64\n",
      "cumulative_avg, pre_avg: 174582.10388819376, 175839.18975571456\n",
      "convergence ratio: 0.7200542550030591\n",
      "reset times, hit counts: 59, 7\n",
      "------------------------------reset binary gate------------------------------\n"
     ]
    },
    {
     "name": "stderr",
     "output_type": "stream",
     "text": [
      "2020-05-02 12:32:35:pid_34414:latency_estimator:<INFO> 10 times estimation\n",
      "2020-05-02 12:32:36:pid_34414:latency_estimator:<INFO> 20 times estimation\n",
      "2020-05-02 12:32:37:pid_34414:latency_estimator:<INFO> 30 times estimation\n",
      "2020-05-02 12:32:38:pid_34414:latency_estimator:<INFO> 40 times estimation\n",
      "2020-05-02 12:32:39:pid_34414:latency_estimator:<INFO> 50 times estimation\n"
     ]
    },
    {
     "name": "stdout",
     "output_type": "stream",
     "text": [
      "count        50.000000\n",
      "mean     100481.581688\n",
      "std       13143.479869\n",
      "min        9755.373001\n",
      "25%      102208.793163\n",
      "50%      102575.302124\n",
      "75%      102831.959724\n",
      "max      104483.366013\n",
      "Name: latency, dtype: float64\n",
      "cumulative_avg, pre_avg: 173400.06593798028, 174582.10388819376\n",
      "convergence ratio: 0.6816825263701182\n",
      "reset times, hit counts: 60, 8\n",
      "------------------------------reset binary gate------------------------------\n"
     ]
    },
    {
     "name": "stderr",
     "output_type": "stream",
     "text": [
      "2020-05-02 12:32:41:pid_34414:latency_estimator:<INFO> 10 times estimation\n",
      "2020-05-02 12:32:43:pid_34414:latency_estimator:<INFO> 20 times estimation\n",
      "2020-05-02 12:32:45:pid_34414:latency_estimator:<INFO> 30 times estimation\n",
      "2020-05-02 12:32:47:pid_34414:latency_estimator:<INFO> 40 times estimation\n",
      "2020-05-02 12:32:49:pid_34414:latency_estimator:<INFO> 50 times estimation\n"
     ]
    },
    {
     "name": "stdout",
     "output_type": "stream",
     "text": [
      "count        50.000000\n",
      "mean     194978.413582\n",
      "std       26907.776316\n",
      "min        8674.383163\n",
      "25%      198543.071747\n",
      "50%      198961.973190\n",
      "75%      199396.073818\n",
      "max      200613.260269\n",
      "Name: latency, dtype: float64\n",
      "cumulative_avg, pre_avg: 173809.53834902856, 173400.06593798028\n",
      "convergence ratio: 0.23558684692321835\n",
      "reset times, hit counts: 61, 9\n",
      "------------------------------reset binary gate------------------------------\n"
     ]
    },
    {
     "name": "stderr",
     "output_type": "stream",
     "text": [
      "2020-05-02 12:32:51:pid_34414:latency_estimator:<INFO> 10 times estimation\n",
      "2020-05-02 12:32:53:pid_34414:latency_estimator:<INFO> 20 times estimation\n",
      "2020-05-02 12:32:54:pid_34414:latency_estimator:<INFO> 30 times estimation\n",
      "2020-05-02 12:32:56:pid_34414:latency_estimator:<INFO> 40 times estimation\n",
      "2020-05-02 12:32:58:pid_34414:latency_estimator:<INFO> 50 times estimation\n"
     ]
    },
    {
     "name": "stdout",
     "output_type": "stream",
     "text": [
      "count        50.000000\n",
      "mean     166475.524902\n",
      "std       22473.398032\n",
      "min       11186.599731\n",
      "25%      169531.643391\n",
      "50%      169944.286346\n",
      "75%      170357.048512\n",
      "max      171760.559082\n",
      "Name: latency, dtype: float64\n",
      "cumulative_avg, pre_avg: 173745.10083879743, 173809.53834902856\n",
      "convergence ratio: 0.037087382562180714\n",
      "reset times, hit counts: 62, 10\n"
     ]
    }
   ],
   "source": [
    "test2 = cumulative_avg()"
   ]
  },
  {
   "cell_type": "code",
   "execution_count": 38,
   "metadata": {},
   "outputs": [],
   "source": [
    "cum2, err2, lat2= pd.Series(test2[0]), pd.Series(test2[1]), pd.Series(test2[2])"
   ]
  },
  {
   "cell_type": "code",
   "execution_count": 39,
   "metadata": {},
   "outputs": [
    {
     "data": {
      "text/plain": [
       "<matplotlib.axes._subplots.AxesSubplot at 0x7f3ad9067b70>"
      ]
     },
     "execution_count": 39,
     "metadata": {},
     "output_type": "execute_result"
    },
    {
     "data": {
      "image/png": "[encoded data removed]",
      "text/plain": [
       "<Figure size 432x288 with 1 Axes>"
      ]
     },
     "metadata": {
      "needs_background": "light"
     },
     "output_type": "display_data"
    }
   ],
   "source": [
    "cum2.plot()"
   ]
  },
  {
   "cell_type": "code",
   "execution_count": 40,
   "metadata": {},
   "outputs": [
    {
     "data": {
      "text/plain": [
       "<matplotlib.axes._subplots.AxesSubplot at 0x7f3ad8f8ec50>"
      ]
     },
     "execution_count": 40,
     "metadata": {},
     "output_type": "execute_result"
    },
    {
     "data": {
      "image/png": "[encoded data removed]",
      "text/plain": [
       "<Figure size 432x288 with 1 Axes>"
      ]
     },
     "metadata": {
      "needs_background": "light"
     },
     "output_type": "display_data"
    }
   ],
   "source": [
    "err2.plot()"
   ]
  },
  {
   "cell_type": "code",
   "execution_count": null,
   "metadata": {},
   "outputs": [],
   "source": [
    "from"
   ]
  }
 ],
 "metadata": {
  "kernelspec": {
   "display_name": "LENNA!",
   "language": "python",
   "name": "lenna"
  },
  "language_info": {
   "codemirror_mode": {
    "name": "ipython",
    "version": 3
   },
   "file_extension": ".py",
   "mimetype": "text/x-python",
   "name": "python",
   "nbconvert_exporter": "python",
   "pygments_lexer": "ipython3",
   "version": "3.6.10"
  }
 },
 "nbformat": 4,
 "nbformat_minor": 4
}
